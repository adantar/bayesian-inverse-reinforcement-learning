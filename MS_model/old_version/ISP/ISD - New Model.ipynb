{
 "cells": [
  {
   "cell_type": "markdown",
   "metadata": {},
   "source": [
    "### Libraries"
   ]
  },
  {
   "cell_type": "code",
   "execution_count": 1,
   "metadata": {
    "ExecuteTime": {
     "end_time": "2020-05-12T20:31:51.819039Z",
     "start_time": "2020-05-12T20:31:49.770465Z"
    }
   },
   "outputs": [],
   "source": [
    "import pickle\n",
    "import pandas as pd\n",
    "from pgmpy.models import BayesianModel\n",
    "from pgmpy.estimators import MaximumLikelihoodEstimator, BayesianEstimator\n",
    "import networkx as nx\n",
    "import pylab as plt\n",
    "from pgmpy.inference import VariableElimination\n",
    "import pdb\n",
    "import seaborn as sns\n",
    "import matplotlib.pyplot as plt   \n",
    "from sklearn.metrics import confusion_matrix\n",
    "from networkx.drawing.nx_agraph import graphviz_layout\n",
    "import numpy as np\n",
    "from sklearn.metrics import precision_score, recall_score, balanced_accuracy_score, accuracy_score"
   ]
  },
  {
   "cell_type": "markdown",
   "metadata": {},
   "source": [
    "### Functions"
   ]
  },
  {
   "cell_type": "code",
   "execution_count": 2,
   "metadata": {
    "ExecuteTime": {
     "end_time": "2020-05-12T20:31:51.853347Z",
     "start_time": "2020-05-12T20:31:51.829548Z"
    }
   },
   "outputs": [],
   "source": [
    "def get_train_set():\n",
    "    #Load the processed and normalized  dataset \n",
    "    with open('../data/training_population_data_IRL.pkl', 'rb') as f:\n",
    "        data_full = pickle.load(f)\n",
    "    initial_state_df = data_full.loc[data_full['Patient_Interval_Number'] == 1.0]\n",
    "    trim_df = initial_state_df[['Gender', 'Age', 'Daytime_Interval',\n",
    "                            'Pain_Score','Fatigue_Score','Last_Activitybout_State',\n",
    "                            'EOD_PAW']]\n",
    "    rename_df = trim_df.rename(columns={'Daytime_Interval': 'Current Daytime Interval', \n",
    "                                    'Pain_Score':'Current Pain',\n",
    "                                    'Fatigue_Score':'Current Fatigue',\n",
    "                                    'Last_Activitybout_State': 'Last Acbouts',\n",
    "                                    'EOD_PAW':'Current EOD PAW'})\n",
    "    return rename_df\n",
    "\n",
    "\n",
    "def get_states():\n",
    "    #State features\n",
    "    GENDER = [\"Male\", \"Female\"] #Dem_02\n",
    "    AGE = [\"Younger than 30\", \"Between 30 to 60\", \"60 and Older\"] #Dem_01\n",
    "    DAYTIME_INTERVAL = [\"Wake\", \"Morning\", \"Afternoon\", \"Evening\", \"Bed\"] #Morning: 11am, Afternoon: 3pm, Evening: 7pm\n",
    "    ## Lower: below 33th percentile; Normal: 33rd to 66th percentile; Higher: Above 66th percentile\n",
    "    PAIN = [\"None\", \"Low\", \"Medium\", \"High\", \"Not Recorded\"] #\"None\" means No_Pain, 1<= Low <=3, 4<= Medium <= 7, 8<= High <= 10\n",
    "    FATIGUE = [\"None\", \"Low\", \"Medium\", \"High\", \"Not Recorded\"] #\"None\" means No_Fatigue,  \n",
    "    LAST_ACTIVITYBOUTS = [\"Lower\", \"Normal\", \"Higher\", \"Not Recorded\"] #used percentile method\n",
    "    ### 10<= Moderate <=19, 20<= Mild <= 25, Normal >= 26 #Not Applicable\n",
    "    EOD_PAW = [\"None\", \"Moderate\", \"Mild\", \"Normal\", \"Not Recorded\"] \n",
    "\n",
    "\n",
    "    states = {}\n",
    "    state_name_index = 1\n",
    "    import itertools\n",
    "    for x in itertools.product(GENDER, AGE, DAYTIME_INTERVAL, PAIN, FATIGUE, LAST_ACTIVITYBOUTS, EOD_PAW):\n",
    "        if(not(x[2] == \"Bed\") and not(x[6] == \"None\")):\n",
    "            continue\n",
    "        if(x[2] == \"Bed\" and x[6] == \"None\"):\n",
    "            continue\n",
    "        #print(x)\n",
    "        state = {}\n",
    "        state[\"Gender\"] = x[0]\n",
    "        state[\"Age\"] = x[1]\n",
    "        state[\"Current Daytime Interval\"] = x[2]\n",
    "        state[\"Current Pain\"] = x[3]\n",
    "        state[\"Current Fatigue\"] = x[4]\n",
    "        state[\"Last Acbouts\"] = x[5]\n",
    "        #state[\"Last Night EOD PAW\"] = x[6]\n",
    "        state[\"Current EOD PAW\"] = x[6]\n",
    "        state_code = 'S' + str(state_name_index)\n",
    "        states[state_code] = state\n",
    "        state_name_index += 1\n",
    "        \n",
    "    return states\n",
    "    \n",
    "\n",
    "def state_to_state_code(state):\n",
    "    #input: state\n",
    "    #output: state_code\n",
    "    return list(states.keys())[list(states.values()).index(state)]\n",
    "\n",
    "def get_joint(patient):\n",
    "    test = infer.query(['Current Pain','Current Fatigue'], evidence = {'Gender':patient['Gender'],'Age':patient['Age']}, joint = True, show_progress=False)\n",
    "    matrix = test.values\n",
    "\n",
    "    r = pain_dict[patient['Current Pain']]\n",
    "    c = fatigue_dict[patient['Current Fatigue']]\n",
    "\n",
    "    p_pf = matrix[r][c]\n",
    "    return p_pf\n",
    "\n",
    "def get_probability(patient):\n",
    "    p_a = age_prob[age_dict[patient['Age']]]\n",
    "    p_g = gender_prob[gender_dict[patient['Gender']]]\n",
    "    p_pf = get_joint(patient)\n",
    "    prob = p_a * p_g * p_pf\n",
    "    return prob\n",
    "\n",
    "def get_patient_IDs():\n",
    "    PATIENT_ID = []   #total 20 patients , missing patient_id: 1017, 1021; last patient id:1008\n",
    "    for i in range(1001, 1111, 1): #original 1111\n",
    "        if(i== 1017 or i == 1021 or i == 1051):\n",
    "            pass\n",
    "        else:\n",
    "            PATIENT_ID.append(str(i))\n",
    "    return PATIENT_ID\n",
    "\n",
    "def get_complete_dataset(patient_list,state_codes,probability_list):\n",
    "    data = list(zip(patient_list, state_codes, probability_list))\n",
    "    df = pd.DataFrame(data=data,columns =['PATIENT_ID','STATE_CODE','PROBABILITY'])\n",
    "    return df\n"
   ]
  },
  {
   "cell_type": "markdown",
   "metadata": {},
   "source": [
    "### Get Training Dataset - Wake State Only"
   ]
  },
  {
   "cell_type": "code",
   "execution_count": 3,
   "metadata": {
    "ExecuteTime": {
     "end_time": "2020-05-12T20:31:52.618170Z",
     "start_time": "2020-05-12T20:31:52.592888Z"
    },
    "scrolled": false
   },
   "outputs": [
    {
     "data": {
      "text/html": [
       "<div>\n",
       "<style scoped>\n",
       "    .dataframe tbody tr th:only-of-type {\n",
       "        vertical-align: middle;\n",
       "    }\n",
       "\n",
       "    .dataframe tbody tr th {\n",
       "        vertical-align: top;\n",
       "    }\n",
       "\n",
       "    .dataframe thead th {\n",
       "        text-align: right;\n",
       "    }\n",
       "</style>\n",
       "<table border=\"1\" class=\"dataframe\">\n",
       "  <thead>\n",
       "    <tr style=\"text-align: right;\">\n",
       "      <th></th>\n",
       "      <th>Gender</th>\n",
       "      <th>Age</th>\n",
       "      <th>Current Daytime Interval</th>\n",
       "      <th>Current Pain</th>\n",
       "      <th>Current Fatigue</th>\n",
       "      <th>Last Acbouts</th>\n",
       "      <th>Current EOD PAW</th>\n",
       "    </tr>\n",
       "  </thead>\n",
       "  <tbody>\n",
       "    <tr>\n",
       "      <th>0</th>\n",
       "      <td>Female</td>\n",
       "      <td>Between 30 to 60</td>\n",
       "      <td>Wake</td>\n",
       "      <td>Low</td>\n",
       "      <td>Low</td>\n",
       "      <td>Not Recorded</td>\n",
       "      <td>None</td>\n",
       "    </tr>\n",
       "    <tr>\n",
       "      <th>30</th>\n",
       "      <td>Female</td>\n",
       "      <td>Between 30 to 60</td>\n",
       "      <td>Wake</td>\n",
       "      <td>Low</td>\n",
       "      <td>Low</td>\n",
       "      <td>Not Recorded</td>\n",
       "      <td>None</td>\n",
       "    </tr>\n",
       "    <tr>\n",
       "      <th>60</th>\n",
       "      <td>Male</td>\n",
       "      <td>Between 30 to 60</td>\n",
       "      <td>Wake</td>\n",
       "      <td>Low</td>\n",
       "      <td>Low</td>\n",
       "      <td>Not Recorded</td>\n",
       "      <td>None</td>\n",
       "    </tr>\n",
       "    <tr>\n",
       "      <th>90</th>\n",
       "      <td>Female</td>\n",
       "      <td>Between 30 to 60</td>\n",
       "      <td>Wake</td>\n",
       "      <td>None</td>\n",
       "      <td>Medium</td>\n",
       "      <td>Not Recorded</td>\n",
       "      <td>None</td>\n",
       "    </tr>\n",
       "    <tr>\n",
       "      <th>120</th>\n",
       "      <td>Female</td>\n",
       "      <td>Between 30 to 60</td>\n",
       "      <td>Wake</td>\n",
       "      <td>Medium</td>\n",
       "      <td>Medium</td>\n",
       "      <td>Not Recorded</td>\n",
       "      <td>None</td>\n",
       "    </tr>\n",
       "    <tr>\n",
       "      <th>...</th>\n",
       "      <td>...</td>\n",
       "      <td>...</td>\n",
       "      <td>...</td>\n",
       "      <td>...</td>\n",
       "      <td>...</td>\n",
       "      <td>...</td>\n",
       "      <td>...</td>\n",
       "    </tr>\n",
       "    <tr>\n",
       "      <th>3060</th>\n",
       "      <td>Female</td>\n",
       "      <td>Between 30 to 60</td>\n",
       "      <td>Wake</td>\n",
       "      <td>Low</td>\n",
       "      <td>Low</td>\n",
       "      <td>Not Recorded</td>\n",
       "      <td>None</td>\n",
       "    </tr>\n",
       "    <tr>\n",
       "      <th>3090</th>\n",
       "      <td>Female</td>\n",
       "      <td>Between 30 to 60</td>\n",
       "      <td>Wake</td>\n",
       "      <td>Low</td>\n",
       "      <td>Low</td>\n",
       "      <td>Not Recorded</td>\n",
       "      <td>None</td>\n",
       "    </tr>\n",
       "    <tr>\n",
       "      <th>3120</th>\n",
       "      <td>Male</td>\n",
       "      <td>Between 30 to 60</td>\n",
       "      <td>Wake</td>\n",
       "      <td>Medium</td>\n",
       "      <td>None</td>\n",
       "      <td>Not Recorded</td>\n",
       "      <td>None</td>\n",
       "    </tr>\n",
       "    <tr>\n",
       "      <th>3150</th>\n",
       "      <td>Female</td>\n",
       "      <td>Between 30 to 60</td>\n",
       "      <td>Wake</td>\n",
       "      <td>Medium</td>\n",
       "      <td>Medium</td>\n",
       "      <td>Not Recorded</td>\n",
       "      <td>None</td>\n",
       "    </tr>\n",
       "    <tr>\n",
       "      <th>3180</th>\n",
       "      <td>Female</td>\n",
       "      <td>Between 30 to 60</td>\n",
       "      <td>Wake</td>\n",
       "      <td>Not Recorded</td>\n",
       "      <td>Not Recorded</td>\n",
       "      <td>Not Recorded</td>\n",
       "      <td>None</td>\n",
       "    </tr>\n",
       "  </tbody>\n",
       "</table>\n",
       "<p>107 rows × 7 columns</p>\n",
       "</div>"
      ],
      "text/plain": [
       "      Gender               Age Current Daytime Interval  Current Pain  \\\n",
       "0     Female  Between 30 to 60                     Wake           Low   \n",
       "30    Female  Between 30 to 60                     Wake           Low   \n",
       "60      Male  Between 30 to 60                     Wake           Low   \n",
       "90    Female  Between 30 to 60                     Wake          None   \n",
       "120   Female  Between 30 to 60                     Wake        Medium   \n",
       "...      ...               ...                      ...           ...   \n",
       "3060  Female  Between 30 to 60                     Wake           Low   \n",
       "3090  Female  Between 30 to 60                     Wake           Low   \n",
       "3120    Male  Between 30 to 60                     Wake        Medium   \n",
       "3150  Female  Between 30 to 60                     Wake        Medium   \n",
       "3180  Female  Between 30 to 60                     Wake  Not Recorded   \n",
       "\n",
       "     Current Fatigue  Last Acbouts Current EOD PAW  \n",
       "0                Low  Not Recorded            None  \n",
       "30               Low  Not Recorded            None  \n",
       "60               Low  Not Recorded            None  \n",
       "90            Medium  Not Recorded            None  \n",
       "120           Medium  Not Recorded            None  \n",
       "...              ...           ...             ...  \n",
       "3060             Low  Not Recorded            None  \n",
       "3090             Low  Not Recorded            None  \n",
       "3120            None  Not Recorded            None  \n",
       "3150          Medium  Not Recorded            None  \n",
       "3180    Not Recorded  Not Recorded            None  \n",
       "\n",
       "[107 rows x 7 columns]"
      ]
     },
     "execution_count": 3,
     "metadata": {},
     "output_type": "execute_result"
    }
   ],
   "source": [
    "wake_df = get_train_set()\n",
    "wake_df"
   ]
  },
  {
   "cell_type": "markdown",
   "metadata": {},
   "source": [
    "### Contruct Bayesian Network"
   ]
  },
  {
   "cell_type": "code",
   "execution_count": 4,
   "metadata": {
    "ExecuteTime": {
     "end_time": "2020-05-12T20:31:53.704262Z",
     "start_time": "2020-05-12T20:31:53.536167Z"
    }
   },
   "outputs": [
    {
     "ename": "ImportError",
     "evalue": "('requires pygraphviz ', 'http://pygraphviz.github.io/')",
     "output_type": "error",
     "traceback": [
      "\u001b[0;31m---------------------------------------------------------------------------\u001b[0m",
      "\u001b[0;31mModuleNotFoundError\u001b[0m                       Traceback (most recent call last)",
      "\u001b[0;32m/anaconda3/lib/python3.7/site-packages/networkx/drawing/nx_agraph.py\u001b[0m in \u001b[0;36mpygraphviz_layout\u001b[0;34m(G, prog, root, args)\u001b[0m\n\u001b[1;32m    282\u001b[0m     \u001b[0;32mtry\u001b[0m\u001b[0;34m:\u001b[0m\u001b[0;34m\u001b[0m\u001b[0;34m\u001b[0m\u001b[0m\n\u001b[0;32m--> 283\u001b[0;31m         \u001b[0;32mimport\u001b[0m \u001b[0mpygraphviz\u001b[0m\u001b[0;34m\u001b[0m\u001b[0;34m\u001b[0m\u001b[0m\n\u001b[0m\u001b[1;32m    284\u001b[0m     \u001b[0;32mexcept\u001b[0m \u001b[0mImportError\u001b[0m\u001b[0;34m:\u001b[0m\u001b[0;34m\u001b[0m\u001b[0;34m\u001b[0m\u001b[0m\n",
      "\u001b[0;31mModuleNotFoundError\u001b[0m: No module named 'pygraphviz'",
      "\nDuring handling of the above exception, another exception occurred:\n",
      "\u001b[0;31mImportError\u001b[0m                               Traceback (most recent call last)",
      "\u001b[0;32m<ipython-input-4-136248adb687>\u001b[0m in \u001b[0;36m<module>\u001b[0;34m\u001b[0m\n\u001b[1;32m      8\u001b[0m \u001b[0;31m# nx.draw(model, with_labels=True)\u001b[0m\u001b[0;34m\u001b[0m\u001b[0;34m\u001b[0m\u001b[0;34m\u001b[0m\u001b[0m\n\u001b[1;32m      9\u001b[0m \u001b[0;31m# plt.show()\u001b[0m\u001b[0;34m\u001b[0m\u001b[0;34m\u001b[0m\u001b[0;34m\u001b[0m\u001b[0m\n\u001b[0;32m---> 10\u001b[0;31m \u001b[0mpos\u001b[0m \u001b[0;34m=\u001b[0m \u001b[0mgraphviz_layout\u001b[0m\u001b[0;34m(\u001b[0m\u001b[0mmodel\u001b[0m\u001b[0;34m,\u001b[0m \u001b[0mprog\u001b[0m \u001b[0;34m=\u001b[0m \u001b[0;34m'dot'\u001b[0m\u001b[0;34m)\u001b[0m\u001b[0;34m\u001b[0m\u001b[0;34m\u001b[0m\u001b[0m\n\u001b[0m\u001b[1;32m     11\u001b[0m \u001b[0mnx\u001b[0m\u001b[0;34m.\u001b[0m\u001b[0mdraw\u001b[0m\u001b[0;34m(\u001b[0m\u001b[0mmodel\u001b[0m\u001b[0;34m,\u001b[0m\u001b[0mwith_labels\u001b[0m\u001b[0;34m=\u001b[0m\u001b[0;32mTrue\u001b[0m\u001b[0;34m,\u001b[0m \u001b[0mpos\u001b[0m \u001b[0;34m=\u001b[0m \u001b[0mpos\u001b[0m\u001b[0;34m)\u001b[0m\u001b[0;34m\u001b[0m\u001b[0;34m\u001b[0m\u001b[0m\n",
      "\u001b[0;32m/anaconda3/lib/python3.7/site-packages/networkx/drawing/nx_agraph.py\u001b[0m in \u001b[0;36mgraphviz_layout\u001b[0;34m(G, prog, root, args)\u001b[0m\n\u001b[1;32m    241\u001b[0m     \u001b[0mThis\u001b[0m \u001b[0;32mis\u001b[0m \u001b[0ma\u001b[0m \u001b[0mwrapper\u001b[0m \u001b[0;32mfor\u001b[0m \u001b[0mpygraphviz_layout\u001b[0m\u001b[0;34m.\u001b[0m\u001b[0;34m\u001b[0m\u001b[0;34m\u001b[0m\u001b[0m\n\u001b[1;32m    242\u001b[0m     \"\"\"\n\u001b[0;32m--> 243\u001b[0;31m     \u001b[0;32mreturn\u001b[0m \u001b[0mpygraphviz_layout\u001b[0m\u001b[0;34m(\u001b[0m\u001b[0mG\u001b[0m\u001b[0;34m,\u001b[0m \u001b[0mprog\u001b[0m\u001b[0;34m=\u001b[0m\u001b[0mprog\u001b[0m\u001b[0;34m,\u001b[0m \u001b[0mroot\u001b[0m\u001b[0;34m=\u001b[0m\u001b[0mroot\u001b[0m\u001b[0;34m,\u001b[0m \u001b[0margs\u001b[0m\u001b[0;34m=\u001b[0m\u001b[0margs\u001b[0m\u001b[0;34m)\u001b[0m\u001b[0;34m\u001b[0m\u001b[0;34m\u001b[0m\u001b[0m\n\u001b[0m\u001b[1;32m    244\u001b[0m \u001b[0;34m\u001b[0m\u001b[0m\n\u001b[1;32m    245\u001b[0m \u001b[0;34m\u001b[0m\u001b[0m\n",
      "\u001b[0;32m/anaconda3/lib/python3.7/site-packages/networkx/drawing/nx_agraph.py\u001b[0m in \u001b[0;36mpygraphviz_layout\u001b[0;34m(G, prog, root, args)\u001b[0m\n\u001b[1;32m    284\u001b[0m     \u001b[0;32mexcept\u001b[0m \u001b[0mImportError\u001b[0m\u001b[0;34m:\u001b[0m\u001b[0;34m\u001b[0m\u001b[0;34m\u001b[0m\u001b[0m\n\u001b[1;32m    285\u001b[0m         raise ImportError('requires pygraphviz ',\n\u001b[0;32m--> 286\u001b[0;31m                           'http://pygraphviz.github.io/')\n\u001b[0m\u001b[1;32m    287\u001b[0m     \u001b[0;32mif\u001b[0m \u001b[0mroot\u001b[0m \u001b[0;32mis\u001b[0m \u001b[0;32mnot\u001b[0m \u001b[0;32mNone\u001b[0m\u001b[0;34m:\u001b[0m\u001b[0;34m\u001b[0m\u001b[0;34m\u001b[0m\u001b[0m\n\u001b[1;32m    288\u001b[0m         \u001b[0margs\u001b[0m \u001b[0;34m+=\u001b[0m \u001b[0;34m\"-Groot=%s\"\u001b[0m \u001b[0;34m%\u001b[0m \u001b[0mroot\u001b[0m\u001b[0;34m\u001b[0m\u001b[0;34m\u001b[0m\u001b[0m\n",
      "\u001b[0;31mImportError\u001b[0m: ('requires pygraphviz ', 'http://pygraphviz.github.io/')"
     ]
    }
   ],
   "source": [
    "list_of_tup = [('Gender', 'Current Pain'),('Gender', 'Current Fatigue'),\n",
    "              ('Age', 'Current Pain'), ('Age', 'Current Fatigue'),\n",
    "              ]\n",
    "               \n",
    "model = BayesianModel(list_of_tup)\n",
    "%matplotlib notebook\n",
    "#Draw\n",
    "# nx.draw(model, with_labels=True)\n",
    "# plt.show()\n",
    "pos = graphviz_layout(model, prog = 'dot')\n",
    "nx.draw(model,with_labels=True, pos = pos)"
   ]
  },
  {
   "cell_type": "markdown",
   "metadata": {},
   "source": [
    "### Train Network"
   ]
  },
  {
   "cell_type": "code",
   "execution_count": 5,
   "metadata": {
    "ExecuteTime": {
     "end_time": "2020-05-12T20:32:09.583203Z",
     "start_time": "2020-05-12T20:32:09.531080Z"
    }
   },
   "outputs": [],
   "source": [
    "model.fit(wake_df, estimator=BayesianEstimator)"
   ]
  },
  {
   "cell_type": "markdown",
   "metadata": {},
   "source": [
    "### Infer"
   ]
  },
  {
   "cell_type": "code",
   "execution_count": 6,
   "metadata": {
    "ExecuteTime": {
     "end_time": "2020-05-12T20:32:10.668117Z",
     "start_time": "2020-05-12T20:32:10.664456Z"
    }
   },
   "outputs": [],
   "source": [
    "infer = VariableElimination(model)"
   ]
  },
  {
   "cell_type": "code",
   "execution_count": 7,
   "metadata": {
    "ExecuteTime": {
     "end_time": "2020-05-12T20:32:11.245353Z",
     "start_time": "2020-05-12T20:32:11.240548Z"
    }
   },
   "outputs": [
    {
     "name": "stdout",
     "output_type": "stream",
     "text": [
      "+-----------------------+----------+\n",
      "| Age(60 and Older)     | 0.113095 |\n",
      "+-----------------------+----------+\n",
      "| Age(Between 30 to 60) | 0.755952 |\n",
      "+-----------------------+----------+\n",
      "| Age(Younger than 30)  | 0.130952 |\n",
      "+-----------------------+----------+\n"
     ]
    }
   ],
   "source": [
    "#Age\n",
    "age_cpds = model.get_cpds(\"Age\")\n",
    "age_prob = age_cpds.values\n",
    "age_dict = age_cpds.name_to_no['Age']\n",
    "\n",
    "print(age_cpds)"
   ]
  },
  {
   "cell_type": "code",
   "execution_count": 8,
   "metadata": {
    "ExecuteTime": {
     "end_time": "2020-05-12T20:32:11.933266Z",
     "start_time": "2020-05-12T20:32:11.929319Z"
    }
   },
   "outputs": [
    {
     "name": "stdout",
     "output_type": "stream",
     "text": [
      "+----------------+----------+\n",
      "| Gender(Female) | 0.683036 |\n",
      "+----------------+----------+\n",
      "| Gender(Male)   | 0.316964 |\n",
      "+----------------+----------+\n"
     ]
    }
   ],
   "source": [
    "#Gender\n",
    "gender_cpds = model.get_cpds(\"Gender\")\n",
    "gender_prob = gender_cpds.values\n",
    "gender_dict = gender_cpds.name_to_no['Gender']\n",
    "\n",
    "print(gender_cpds)"
   ]
  },
  {
   "cell_type": "code",
   "execution_count": 9,
   "metadata": {
    "ExecuteTime": {
     "end_time": "2020-05-12T20:32:13.139828Z",
     "start_time": "2020-05-12T20:32:13.136299Z"
    }
   },
   "outputs": [],
   "source": [
    "#Joint Probability of Pain and Fatigue\n",
    "pain_cpds = model.get_cpds(\"Current Pain\")\n",
    "pain_prob = pain_cpds.values\n",
    "pain_dict = pain_cpds.name_to_no[\"Current Pain\"]\n",
    "\n",
    "fatigue_cpds = model.get_cpds(\"Current Fatigue\")\n",
    "fatigue_prob = fatigue_cpds.values\n",
    "fatigue_dict = fatigue_cpds.name_to_no[\"Current Fatigue\"]"
   ]
  },
  {
   "cell_type": "markdown",
   "metadata": {},
   "source": [
    "### For each row, get state code and probability"
   ]
  },
  {
   "cell_type": "code",
   "execution_count": 10,
   "metadata": {
    "ExecuteTime": {
     "end_time": "2020-05-12T20:32:13.970529Z",
     "start_time": "2020-05-12T20:32:13.959209Z"
    }
   },
   "outputs": [],
   "source": [
    "#Initialize:\n",
    "states = get_states()\n",
    "state_codes = ['0']*len(wake_df.index)\n",
    "prob = np.zeros(len(wake_df.index))"
   ]
  },
  {
   "cell_type": "code",
   "execution_count": 11,
   "metadata": {
    "ExecuteTime": {
     "end_time": "2020-05-12T20:32:15.325005Z",
     "start_time": "2020-05-12T20:32:14.512082Z"
    }
   },
   "outputs": [],
   "source": [
    "for i in range(1, len(wake_df.index)+1):\n",
    "    row = wake_df[i-1:i]\n",
    "    patient = row.to_dict('records')[0]\n",
    "    state_codes[i-1] = state_to_state_code(patient)\n",
    "    p_a = age_prob[age_dict[patient['Age']]]\n",
    "    p_g = gender_prob[gender_dict[patient['Gender']]]\n",
    "    p_pf = get_joint(patient)\n",
    "    proba = p_a * p_g * p_pf\n",
    "    prob[i-1] = proba"
   ]
  },
  {
   "cell_type": "code",
   "execution_count": 14,
   "metadata": {
    "ExecuteTime": {
     "end_time": "2020-05-12T20:32:27.901517Z",
     "start_time": "2020-05-12T20:32:27.897118Z"
    }
   },
   "outputs": [
    {
     "data": {
      "text/plain": [
       "array([8.33919885e-02, 8.33919885e-02, 1.52093697e-02, 3.65764513e-02,\n",
       "       1.84767641e-02, 7.03393295e-02, 6.59884431e-02, 9.22535540e-03,\n",
       "       8.33919885e-02, 7.03393295e-02, 4.62229879e-02, 7.03393295e-02,\n",
       "       3.84471487e-03, 2.98103646e-02, 2.98103646e-02, 1.37778068e-02,\n",
       "       6.59884431e-02, 2.98103646e-02, 6.59884431e-02, 1.84767641e-02,\n",
       "       3.89880855e-02, 7.03393295e-02, 2.70667002e-02, 8.33919885e-02,\n",
       "       3.57780612e-03, 1.92651099e-03, 2.98103646e-02, 6.59884431e-02,\n",
       "       1.84767641e-02, 7.22795623e-03, 8.33919885e-02, 4.62229879e-02,\n",
       "       3.89880855e-02, 2.70667002e-02, 9.22535540e-03, 7.03393295e-02,\n",
       "       2.98103646e-02, 9.22535540e-03, 6.11183554e-03, 4.62229879e-02,\n",
       "       7.03393295e-02, 7.03393295e-02, 3.89880855e-02, 6.59884431e-02,\n",
       "       2.81566991e-03, 2.70667002e-02, 3.89880855e-02, 3.89880855e-02,\n",
       "       1.84767641e-02, 3.98209694e-03, 5.22910126e-03, 1.92651099e-03,\n",
       "       7.03393295e-02, 2.98103646e-02, 1.80816966e-02, 3.98209694e-03,\n",
       "       4.62229879e-02, 3.84471487e-03, 1.92651099e-03, 4.62229879e-02,\n",
       "       3.98209694e-03, 2.25098672e-02, 1.37778068e-02, 3.98209694e-03,\n",
       "       1.80816966e-02, 8.33919885e-02, 3.57780612e-03, 3.89197643e-03,\n",
       "       4.88694502e-04, 8.33919885e-02, 6.59884431e-02, 3.85778590e-03,\n",
       "       8.33919885e-02, 4.94544374e-03, 2.49333930e-04, 9.22535540e-03,\n",
       "       4.88694502e-04, 7.22795623e-03, 1.84767641e-02, 6.88039639e-03,\n",
       "       7.84635688e-05, 3.89880855e-02, 1.22173626e-02, 4.62229879e-02,\n",
       "       3.89880855e-02, 1.80816966e-02, 6.88039639e-03, 1.52093697e-02,\n",
       "       1.84767641e-02, 2.70667002e-02, 4.62229879e-02, 6.59884431e-02,\n",
       "       3.89880855e-02, 2.98103646e-02, 2.98103646e-02, 4.94544374e-03,\n",
       "       8.33919885e-02, 3.57780612e-03, 1.52093697e-02, 1.22173626e-02,\n",
       "       2.70667002e-02, 8.33919885e-02, 8.33919885e-02, 8.33919885e-02,\n",
       "       2.39460306e-02, 1.84767641e-02, 3.98209694e-03])"
      ]
     },
     "execution_count": 14,
     "metadata": {},
     "output_type": "execute_result"
    }
   ],
   "source": [
    "prob"
   ]
  },
  {
   "cell_type": "markdown",
   "metadata": {},
   "source": [
    "### Create Dataframe"
   ]
  },
  {
   "cell_type": "code",
   "execution_count": 24,
   "metadata": {
    "ExecuteTime": {
     "end_time": "2020-05-08T02:20:59.901878Z",
     "start_time": "2020-05-08T02:20:59.889905Z"
    }
   },
   "outputs": [
    {
     "data": {
      "text/html": [
       "<div>\n",
       "<style scoped>\n",
       "    .dataframe tbody tr th:only-of-type {\n",
       "        vertical-align: middle;\n",
       "    }\n",
       "\n",
       "    .dataframe tbody tr th {\n",
       "        vertical-align: top;\n",
       "    }\n",
       "\n",
       "    .dataframe thead th {\n",
       "        text-align: right;\n",
       "    }\n",
       "</style>\n",
       "<table border=\"1\" class=\"dataframe\">\n",
       "  <thead>\n",
       "    <tr style=\"text-align: right;\">\n",
       "      <th></th>\n",
       "      <th>PATIENT_ID</th>\n",
       "      <th>STATE_CODE</th>\n",
       "      <th>PROBABILITY</th>\n",
       "    </tr>\n",
       "  </thead>\n",
       "  <tbody>\n",
       "    <tr>\n",
       "      <th>0</th>\n",
       "      <td>1001</td>\n",
       "      <td>S3228</td>\n",
       "      <td>0.083392</td>\n",
       "    </tr>\n",
       "    <tr>\n",
       "      <th>1</th>\n",
       "      <td>1002</td>\n",
       "      <td>S3228</td>\n",
       "      <td>0.083392</td>\n",
       "    </tr>\n",
       "    <tr>\n",
       "      <th>2</th>\n",
       "      <td>1003</td>\n",
       "      <td>S828</td>\n",
       "      <td>0.015209</td>\n",
       "    </tr>\n",
       "    <tr>\n",
       "      <th>3</th>\n",
       "      <td>1004</td>\n",
       "      <td>S3212</td>\n",
       "      <td>0.036576</td>\n",
       "    </tr>\n",
       "    <tr>\n",
       "      <th>4</th>\n",
       "      <td>1005</td>\n",
       "      <td>S3252</td>\n",
       "      <td>0.018477</td>\n",
       "    </tr>\n",
       "    <tr>\n",
       "      <th>...</th>\n",
       "      <td>...</td>\n",
       "      <td>...</td>\n",
       "      <td>...</td>\n",
       "    </tr>\n",
       "    <tr>\n",
       "      <th>102</th>\n",
       "      <td>1106</td>\n",
       "      <td>S3228</td>\n",
       "      <td>0.083392</td>\n",
       "    </tr>\n",
       "    <tr>\n",
       "      <th>103</th>\n",
       "      <td>1107</td>\n",
       "      <td>S3228</td>\n",
       "      <td>0.083392</td>\n",
       "    </tr>\n",
       "    <tr>\n",
       "      <th>104</th>\n",
       "      <td>1108</td>\n",
       "      <td>S844</td>\n",
       "      <td>0.023946</td>\n",
       "    </tr>\n",
       "    <tr>\n",
       "      <th>105</th>\n",
       "      <td>1109</td>\n",
       "      <td>S3252</td>\n",
       "      <td>0.018477</td>\n",
       "    </tr>\n",
       "    <tr>\n",
       "      <th>106</th>\n",
       "      <td>1110</td>\n",
       "      <td>S3300</td>\n",
       "      <td>0.003982</td>\n",
       "    </tr>\n",
       "  </tbody>\n",
       "</table>\n",
       "<p>107 rows × 3 columns</p>\n",
       "</div>"
      ],
      "text/plain": [
       "    PATIENT_ID STATE_CODE  PROBABILITY\n",
       "0         1001      S3228     0.083392\n",
       "1         1002      S3228     0.083392\n",
       "2         1003       S828     0.015209\n",
       "3         1004      S3212     0.036576\n",
       "4         1005      S3252     0.018477\n",
       "..         ...        ...          ...\n",
       "102       1106      S3228     0.083392\n",
       "103       1107      S3228     0.083392\n",
       "104       1108       S844     0.023946\n",
       "105       1109      S3252     0.018477\n",
       "106       1110      S3300     0.003982\n",
       "\n",
       "[107 rows x 3 columns]"
      ]
     },
     "execution_count": 24,
     "metadata": {},
     "output_type": "execute_result"
    }
   ],
   "source": [
    "patient_ids = get_patient_IDs()\n",
    "\n",
    "df = get_complete_dataset(patient_ids, state_codes, prob)\n",
    "df"
   ]
  },
  {
   "cell_type": "code",
   "execution_count": 25,
   "metadata": {
    "ExecuteTime": {
     "end_time": "2020-05-08T02:22:12.102923Z",
     "start_time": "2020-05-08T02:22:12.096504Z"
    }
   },
   "outputs": [],
   "source": [
    "#Save Dataframe:\n",
    "df.to_csv('../data/patient_statecode_probability.csv')"
   ]
  }
 ],
 "metadata": {
  "hide_input": false,
  "kernelspec": {
   "display_name": "Python 3",
   "language": "python",
   "name": "python3"
  },
  "language_info": {
   "codemirror_mode": {
    "name": "ipython",
    "version": 3
   },
   "file_extension": ".py",
   "mimetype": "text/x-python",
   "name": "python",
   "nbconvert_exporter": "python",
   "pygments_lexer": "ipython3",
   "version": "3.7.6"
  },
  "toc": {
   "base_numbering": 1,
   "nav_menu": {},
   "number_sections": true,
   "sideBar": true,
   "skip_h1_title": false,
   "title_cell": "Table of Contents",
   "title_sidebar": "Contents",
   "toc_cell": false,
   "toc_position": {},
   "toc_section_display": true,
   "toc_window_display": false
  },
  "varInspector": {
   "cols": {
    "lenName": 16,
    "lenType": 16,
    "lenVar": 40
   },
   "kernels_config": {
    "python": {
     "delete_cmd_postfix": "",
     "delete_cmd_prefix": "del ",
     "library": "var_list.py",
     "varRefreshCmd": "print(var_dic_list())"
    },
    "r": {
     "delete_cmd_postfix": ") ",
     "delete_cmd_prefix": "rm(",
     "library": "var_list.r",
     "varRefreshCmd": "cat(var_dic_list()) "
    }
   },
   "types_to_exclude": [
    "module",
    "function",
    "builtin_function_or_method",
    "instance",
    "_Feature"
   ],
   "window_display": false
  }
 },
 "nbformat": 4,
 "nbformat_minor": 4
}
