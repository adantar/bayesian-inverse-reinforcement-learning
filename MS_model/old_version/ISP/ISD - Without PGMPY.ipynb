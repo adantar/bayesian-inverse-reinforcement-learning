{
 "cells": [
  {
   "cell_type": "markdown",
   "metadata": {},
   "source": [
    "### Expert Knowledge / Assumptions for Probabilities"
   ]
  },
  {
   "cell_type": "markdown",
   "metadata": {},
   "source": [
    "1. Female MS patients experience more pain than men.\n",
    "2. For the initial day, the probability that participants will Not Record their symptoms is very low.\n",
    "3. Patients in the younger age group ( < 30) have more severe symptoms than patients in the older age group (> 60). This is because older patients have learnt to manage their symptoms, but younger patients are more active and have higher pain.\n",
    "4. Patients in the middle age group have moderate level of pain"
   ]
  },
  {
   "cell_type": "markdown",
   "metadata": {},
   "source": [
    "### Libraries"
   ]
  },
  {
   "cell_type": "code",
   "execution_count": 1,
   "metadata": {
    "ExecuteTime": {
     "end_time": "2020-05-06T19:20:12.842201Z",
     "start_time": "2020-05-06T19:20:11.492617Z"
    }
   },
   "outputs": [],
   "source": [
    "import pickle\n",
    "import pandas as pd\n",
    "from pgmpy.models import BayesianModel\n",
    "from pgmpy.estimators import MaximumLikelihoodEstimator, BayesianEstimator\n",
    "import networkx as nx\n",
    "import pylab as plt\n",
    "from pgmpy.inference import VariableElimination\n",
    "import pdb\n",
    "import seaborn as sns\n",
    "import matplotlib.pyplot as plt   \n",
    "from sklearn.metrics import confusion_matrix\n",
    "from scipy.stats import truncnorm\n",
    "from networkx.drawing.nx_agraph import graphviz_layout\n",
    "import numpy as np\n",
    "from sklearn.metrics import precision_score, recall_score, balanced_accuracy_score, accuracy_score\n",
    "import os"
   ]
  },
  {
   "cell_type": "markdown",
   "metadata": {},
   "source": [
    "### Functions"
   ]
  },
  {
   "cell_type": "code",
   "execution_count": 2,
   "metadata": {
    "ExecuteTime": {
     "end_time": "2020-05-06T19:20:15.713779Z",
     "start_time": "2020-05-06T19:20:15.702775Z"
    }
   },
   "outputs": [],
   "source": [
    "# def wake_train(data_full):\n",
    "#     wake_df = data_full[['Gender', 'Age','Pain_Score','Fatigue_Score','Daytime_Interval']]\n",
    "#     #Drop Daytime_Intervals != Wake\n",
    "#     indexNames = wake_df[ wake_df['Daytime_Interval'] != 'Wake' ].index\n",
    "#     wake_df.drop(indexNames , inplace=True)\n",
    "#     wake_df = wake_df[['Gender', 'Age','Pain_Score','Fatigue_Score']]\n",
    "#     return wake_df\n",
    "\n",
    "\n",
    "# def sample_truncnorm(seed, low, upp):\n",
    "#     '''\n",
    "#     Picks random value from truncated normal distribution\n",
    "#     '''\n",
    "#     np.random.seed(seed)\n",
    "#     mean = np.mean([low,upp])\n",
    "#     sd = mean/4\n",
    "#     return truncnorm(\n",
    "#         (low - mean) / sd, (upp - mean) / sd, loc=mean, scale=sd).rvs()\n",
    "\n",
    "# def age_probability(seed):\n",
    "#     np.random.seed(seed)\n",
    "#     age_cpds = model.get_cpds(\"Age\")\n",
    "#     age_prob = age_cpds.values\n",
    "#     age_dict = age_cpds.name_to_no\n",
    "#     p_a = np.zeros(3)\n",
    "#     for key,val in  age_dict['Age'].items():\n",
    "#         prob = age_prob[val]\n",
    "#         #Draw samples from uniform distribution defined by probabilities:\n",
    "#         p_a[val] = sample_truncnorm(seed, low=0.0, upp=prob*10)\n",
    "#     #Normalize the array:\n",
    "#     p_a = p_a/np.sum(p_a)\n",
    "#     #Create dictionary\n",
    "#     age_prob_dict = {}\n",
    "#     for key,val in age_dict['Age'].items():\n",
    "#         age_prob_dict[key] = p_a[val]\n",
    "#     return age_prob_dict\n",
    "\n",
    "# def gender_probability(seed):\n",
    "#     np.random.seed(seed)\n",
    "#     gender_cpds = model.get_cpds(\"Gender\")\n",
    "#     gender_prob = gender_cpds.values\n",
    "#     gender_dict = gender_cpds.name_to_no\n",
    "#     p_g = np.zeros(2)\n",
    "#     for key,val in  gender_dict['Gender'].items():\n",
    "#         prob = gender_prob[val]\n",
    "#         #Draw samples from uniform distribution defined by probabilities:\n",
    "# #          np.random.uniform(low=0.0, high=prob)\n",
    "#         p_g[val] = sample_truncnorm(seed, low=0.0, upp=prob*10)\n",
    "#     #Normalize the array:\n",
    "#     p_g = p_g/np.sum(p_g)\n",
    "#     #Create dictionary\n",
    "#     gender_prob_dict = {}\n",
    "#     for key,val in gender_dict['Gender'].items():\n",
    "#         gender_prob_dict[key] = p_g[val]\n",
    "#     return gender_prob_dict\n",
    "\n",
    "# def pain_probability(seed,patient):\n",
    "#     np.random.seed(seed)\n",
    "#     test = infer.query(['Pain_Score'], evidence={'Age': patient['Age'], 'Gender': patient['Gender']},show_progress=False)\n",
    "#     pain_prob = test.values\n",
    "#     pain_dict = model.get_cpds(\"Pain_Score\").name_to_no['Pain_Score']\n",
    "#     p_p = np.zeros(4)\n",
    "#     for key,val in pain_dict.items():\n",
    "#         prob = pain_prob[val]\n",
    "#         #Draw samples from uniform distribution defined by probabilities:\n",
    "# #         p_p[val] = np.random.uniform(low=0.0, high=prob)\n",
    "#         p_p[val] = sample_truncnorm(seed, low=0.0, upp=prob*10)\n",
    "#     #Normalize:\n",
    "#     p_p = p_p/np.sum(p_p)\n",
    "#     #Create dictionary\n",
    "#     pain_prob_dict = {}\n",
    "#     for key,val in pain_dict.items():\n",
    "#         pain_prob_dict[key] = p_p[val]\n",
    "#     return pain_prob_dict\n",
    "\n",
    "# def fatigue_probability(seed,patient):\n",
    "#     np.random.seed(seed)\n",
    "#     test = infer.query(['Fatigue_Score'], evidence={'Age': patient['Age'], 'Gender': patient['Gender']},show_progress=False)\n",
    "#     fatigue_prob = test.values\n",
    "#     fatigue_dict = model.get_cpds(\"Fatigue_Score\").name_to_no['Fatigue_Score']\n",
    "#     p_f = np.zeros(4)\n",
    "#     for key,val in fatigue_dict.items():\n",
    "#         prob = fatigue_prob[val]\n",
    "#         #Draw samples from uniform distribution defined by probabilities:\n",
    "# #         p_f[val] = np.random.uniform(low=0.0, high=prob)\n",
    "#         p_f[val] = sample_truncnorm(seed, low=0.0, upp=prob*10)\n",
    "#     #Normalize:\n",
    "#     p_f = p_f/np.sum(p_f)\n",
    "#     #Create dictionary\n",
    "#     fatigue_prob_dict = {}\n",
    "#     for key,val in fatigue_dict.items():\n",
    "#         fatigue_prob_dict[key] = p_f[val]\n",
    "#     return fatigue_prob_dict\n",
    "\n",
    "\n",
    "# def get_prob_list(seed,valid_states):\n",
    "#     #Initialize:\n",
    "#     total_valid_states = 96\n",
    "#     prob_list = np.zeros((total_valid_states))\n",
    "#     #Compute Independent Probabilities:\n",
    "#     age_prob_dict = age_probability(seed)\n",
    "#     gender_prob_dict = gender_probability(seed)\n",
    "\n",
    "#     valid_state_dict = valid_states.to_dict(orient='records')\n",
    "#     for idx in range (total_valid_states):\n",
    "#         patient = valid_state_dict[idx]\n",
    "        \n",
    "#         #Compute conditional probabilities:\n",
    "#         pain_prob_dict = pain_probability(seed,patient)\n",
    "#         fatigue_prob_dict = fatigue_probability(seed,patient)\n",
    "\n",
    "#         #Get values:\n",
    "#         p_a = age_prob_dict[patient['Age']]\n",
    "#         p_g = gender_prob_dict[patient['Gender']]\n",
    "#         cp_f = fatigue_prob_dict[patient['Fatigue_Score']]\n",
    "#         cp_p = fatigue_prob_dict[patient['Pain_Score']]\n",
    "\n",
    "#         prob_list[idx] = p_a * p_g * cp_p * cp_f\n",
    "#     return prob_list\n",
    "\n",
    "# def sample_ISP(all_states, prob_list, index_list):\n",
    "#     for i in range(96):\n",
    "#         all_states.loc[index_list[i], 'Probability'] = prob_list[i] \n",
    "#     return np.array(all_states['Probability'])\n",
    "#==================================================================#\n",
    "\n",
    "def sample_truncnorm(prob):\n",
    "    '''\n",
    "    Picks random value from truncated normal distribution\n",
    "    '''\n",
    "    low = 0.0\n",
    "    upp = prob*10\n",
    "    mean = np.mean([low,upp])\n",
    "    sd = mean/4\n",
    "    return truncnorm(\n",
    "        (low - mean) / sd, (upp - mean) / sd, loc=mean, scale=sd).rvs()\n",
    "\n",
    "def sample_distribution(arr):\n",
    "    n = len(arr)\n",
    "    dist = np.zeros(n)\n",
    "    for i in range(n):\n",
    "        dist[i] = sample_truncnorm(arr[i])\n",
    "    #Normalize:\n",
    "    dist = dist / np.sum(dist)\n",
    "    return dist\n",
    "     \n",
    "def create_df(gender,age,pain_keys,pain_val,col):\n",
    "    pain_sample = sample_distribution(pain_val)\n",
    "    glist = [gender]*5\n",
    "    alist = [age]*5\n",
    "    data = list(zip(glist, alist, pain_keys, pain_sample))\n",
    "    df = pd.DataFrame(data=data,columns =col)\n",
    "    return df"
   ]
  },
  {
   "cell_type": "markdown",
   "metadata": {},
   "source": [
    "### Create Bayesian Network"
   ]
  },
  {
   "cell_type": "code",
   "execution_count": 7,
   "metadata": {
    "ExecuteTime": {
     "end_time": "2020-05-06T19:20:31.537715Z",
     "start_time": "2020-05-06T19:20:31.535369Z"
    }
   },
   "outputs": [],
   "source": [
    "# import pickle\n",
    "# with open('../data/training_population_data_IRL.pkl', 'rb') as f:\n",
    "#     data_full = pickle.load(f)"
   ]
  },
  {
   "cell_type": "code",
   "execution_count": 8,
   "metadata": {
    "ExecuteTime": {
     "end_time": "2020-05-06T19:20:33.832804Z",
     "start_time": "2020-05-06T19:20:33.830683Z"
    }
   },
   "outputs": [],
   "source": [
    "# data_full"
   ]
  },
  {
   "cell_type": "code",
   "execution_count": 6,
   "metadata": {
    "ExecuteTime": {
     "end_time": "2020-05-06T19:20:27.184612Z",
     "start_time": "2020-05-06T19:20:27.182181Z"
    },
    "scrolled": false
   },
   "outputs": [],
   "source": [
    "# # import pickle\n",
    "# # with open('../MS_normalized_df.pkl', 'rb') as f:\n",
    "# #     data_full = pickle.load(f)\n",
    "\n",
    "# train_df = wake_train(data_full)\n",
    "# list_of_tup = [('Gender', 'Pain_Score'),('Gender', 'Fatigue_Score'),\n",
    "#               ('Age', 'Pain_Score'), ('Age', 'Fatigue_Score'),\n",
    "#               ]\n",
    "               \n",
    "# model = BayesianModel(list_of_tup)\n",
    "# %matplotlib notebook\n",
    "# #Draw\n",
    "# # nx.draw(model, with_labels=True)\n",
    "# # plt.show()\n",
    "# pos = graphviz_layout(model, prog = 'dot')\n",
    "# nx.draw(model,with_labels=True, pos = pos)\n",
    "# model.fit(train_df, estimator=BayesianEstimator)"
   ]
  },
  {
   "cell_type": "code",
   "execution_count": 9,
   "metadata": {
    "ExecuteTime": {
     "end_time": "2020-05-06T19:20:37.229372Z",
     "start_time": "2020-05-06T19:20:37.227216Z"
    }
   },
   "outputs": [],
   "source": [
    "# infer = VariableElimination(model)"
   ]
  },
  {
   "cell_type": "markdown",
   "metadata": {},
   "source": [
    "### Define Age and Gender Probabilities"
   ]
  },
  {
   "cell_type": "code",
   "execution_count": 10,
   "metadata": {
    "ExecuteTime": {
     "end_time": "2020-05-06T19:20:40.456803Z",
     "start_time": "2020-05-06T19:20:40.453023Z"
    }
   },
   "outputs": [],
   "source": [
    "#Define gender dictionary with probabilities:\n",
    "gender_prob = {}\n",
    "gender_prob['Female'] = 0.7\n",
    "gender_prob['Male'] = 0.3\n",
    "\n",
    "#Define age dictionary with probabilities:\n",
    "age_prob = {}\n",
    "age_prob['60 and Older'] = 0.1\n",
    "age_prob['Between 30 to 60'] = 0.8\n",
    "age_prob['Younger than 30'] = 0.1"
   ]
  },
  {
   "cell_type": "code",
   "execution_count": 11,
   "metadata": {
    "ExecuteTime": {
     "end_time": "2020-05-06T19:20:42.394453Z",
     "start_time": "2020-05-06T19:20:42.390789Z"
    }
   },
   "outputs": [
    {
     "data": {
      "text/plain": [
       "{'Female': 0.7, 'Male': 0.3}"
      ]
     },
     "execution_count": 11,
     "metadata": {},
     "output_type": "execute_result"
    }
   ],
   "source": [
    "gender_prob"
   ]
  },
  {
   "cell_type": "code",
   "execution_count": 12,
   "metadata": {
    "ExecuteTime": {
     "end_time": "2020-05-06T19:20:43.307835Z",
     "start_time": "2020-05-06T19:20:43.300274Z"
    }
   },
   "outputs": [
    {
     "data": {
      "text/plain": [
       "{'Female': 0.7011302095461747, 'Male': 0.29886979045382533}"
      ]
     },
     "execution_count": 12,
     "metadata": {},
     "output_type": "execute_result"
    }
   ],
   "source": [
    "#Sample Gender Probabilities:\n",
    "val_list = [x for x in gender_prob.values()]\n",
    "values = sample_distribution(val_list)\n",
    "\n",
    "#Form dictionary after sampling:\n",
    "gender_prob['Female'] = values[0]\n",
    "gender_prob['Male'] = values[1]\n",
    "\n",
    "#Print:\n",
    "gender_prob"
   ]
  },
  {
   "cell_type": "code",
   "execution_count": 13,
   "metadata": {
    "ExecuteTime": {
     "end_time": "2020-05-06T19:20:44.888601Z",
     "start_time": "2020-05-06T19:20:44.884787Z"
    }
   },
   "outputs": [
    {
     "data": {
      "text/plain": [
       "{'60 and Older': 0.1, 'Between 30 to 60': 0.8, 'Younger than 30': 0.1}"
      ]
     },
     "execution_count": 13,
     "metadata": {},
     "output_type": "execute_result"
    }
   ],
   "source": [
    "age_prob"
   ]
  },
  {
   "cell_type": "code",
   "execution_count": 15,
   "metadata": {
    "ExecuteTime": {
     "end_time": "2020-05-06T19:20:48.370437Z",
     "start_time": "2020-05-06T19:20:48.362191Z"
    }
   },
   "outputs": [
    {
     "data": {
      "text/plain": [
       "{'60 and Older': 0.06921706800432045,\n",
       " 'Between 30 to 60': 0.8792232772293221,\n",
       " 'Younger than 30': 0.05155965476635735}"
      ]
     },
     "execution_count": 15,
     "metadata": {},
     "output_type": "execute_result"
    }
   ],
   "source": [
    "#Sample Gender Probabilities:\n",
    "val_list = [x for x in age_prob.values()]\n",
    "values = sample_distribution(val_list)\n",
    "\n",
    "#Form dictionary after sampling:\n",
    "age_prob['60 and Older'] = values[0]\n",
    "age_prob['Between 30 to 60'] = values[1]\n",
    "age_prob['Younger than 30'] = values[2]\n",
    "\n",
    "#Print:\n",
    "age_prob"
   ]
  },
  {
   "cell_type": "markdown",
   "metadata": {
    "ExecuteTime": {
     "end_time": "2020-05-06T15:02:19.517110Z",
     "start_time": "2020-05-06T15:02:19.514929Z"
    }
   },
   "source": [
    "### Inference"
   ]
  },
  {
   "cell_type": "code",
   "execution_count": 25,
   "metadata": {
    "ExecuteTime": {
     "end_time": "2020-05-06T19:43:50.320928Z",
     "start_time": "2020-05-06T19:43:50.318791Z"
    }
   },
   "outputs": [],
   "source": [
    "# test = infer.query(['Pain_Score'], evidence={'Age': '60 and Older', 'Gender': 'Female'},show_progress=False)\n",
    "# pain_prob = test.values\n",
    "# pain_dict = model.get_cpds(\"Fatigue_Score\").name_to_no['Fatigue_Score']\n",
    "# pain_prob"
   ]
  },
  {
   "cell_type": "code",
   "execution_count": 17,
   "metadata": {
    "ExecuteTime": {
     "end_time": "2020-05-06T19:20:53.004176Z",
     "start_time": "2020-05-06T19:20:53.002145Z"
    }
   },
   "outputs": [],
   "source": [
    "# test = infer.query(['Pain_Score'], evidence={'Age': 'Between 30 to 60', 'Gender': 'Female'},show_progress=False)\n",
    "# pain_prob = test.values\n",
    "# pain_dict = model.get_cpds(\"Fatigue_Score\").name_to_no['Fatigue_Score']\n",
    "# pain_prob"
   ]
  },
  {
   "cell_type": "code",
   "execution_count": 18,
   "metadata": {
    "ExecuteTime": {
     "end_time": "2020-05-06T19:20:53.251388Z",
     "start_time": "2020-05-06T19:20:53.249351Z"
    }
   },
   "outputs": [],
   "source": [
    "# test = infer.query(['Pain_Score'], evidence={'Age': 'Younger than 30', 'Gender': 'Female'},show_progress=False)\n",
    "# pain_prob = test.values\n",
    "# pain_dict = model.get_cpds(\"Fatigue_Score\").name_to_no['Fatigue_Score']\n",
    "# pain_prob"
   ]
  },
  {
   "cell_type": "markdown",
   "metadata": {},
   "source": [
    "### Compute and Set Values"
   ]
  },
  {
   "cell_type": "code",
   "execution_count": 19,
   "metadata": {
    "ExecuteTime": {
     "end_time": "2020-05-06T19:20:55.425604Z",
     "start_time": "2020-05-06T19:20:55.422165Z"
    }
   },
   "outputs": [],
   "source": [
    "gender_keys = ['Female','Male']\n",
    "age_keys = ['60 and Older', 'Between 30 to 60', 'Younger than 30']\n",
    "pain_keys = ['High', 'Low', 'Medium', 'None', 'Not Recorded']\n",
    "fatigue_keys = ['High', 'Low', 'Medium', 'None', 'Not Recorded']"
   ]
  },
  {
   "cell_type": "markdown",
   "metadata": {},
   "source": [
    "### Create Dataframe for Pain"
   ]
  },
  {
   "cell_type": "code",
   "execution_count": 20,
   "metadata": {
    "ExecuteTime": {
     "end_time": "2020-05-06T19:20:57.173845Z",
     "start_time": "2020-05-06T19:20:57.126271Z"
    }
   },
   "outputs": [],
   "source": [
    "col = ['Gender','Age','Pain','Conditional_Probability']\n",
    "pain_CP = pd.DataFrame(columns = col)\n",
    "\n",
    "for gender in gender_keys:\n",
    "    for age in age_keys:\n",
    "        \n",
    "        if (gender == 'Female' and age == '60 and Older'):\n",
    "            pain_val = [0.00452489, 0.24886878, 0.00452489, 0.6561086 , 0.08597285]\n",
    "            df = create_df(gender,age,pain_keys,pain_val,col)\n",
    "            pain_CP = df\n",
    "\n",
    "        if (gender == 'Female' and age == 'Between 30 to 60'):\n",
    "            pain_val = [0.00907788, 0.43334926, 0.1610129 , 0.27281414, 0.12374582]\n",
    "            df = create_df(gender,age,pain_keys,pain_val,col)\n",
    "            pain_CP = pain_CP.append(df, ignore_index=True)\n",
    "\n",
    "        if (gender == 'Female' and age == 'Younger than 30'):\n",
    "            pain_val = [0.03561644, 0.24931507, 0.23287671, 0.21643836, 0.26575342]\n",
    "            df = create_df(gender,age,pain_keys,pain_val,col)\n",
    "            pain_CP = pain_CP.append(df,ignore_index=True)\n",
    "            \n",
    "        if (gender == 'Male' and age == '60 and Older'):\n",
    "            pain_val = [0.00540541, 0.65405405, 0.07027027, 0.26486486, 0.00540541]\n",
    "            df = create_df(gender,age,pain_keys,pain_val,col)\n",
    "            pain_CP = pain_CP.append(df, ignore_index=True)\n",
    "\n",
    "        if (gender == 'Male' and age == 'Between 30 to 60'):\n",
    "            pain_val = [0.03425414, 0.32596685, 0.27292818, 0.17348066, 0.19337017]\n",
    "            df = create_df(gender,age,pain_keys,pain_val,col)\n",
    "            pain_CP = pain_CP.append(df, ignore_index=True)\n",
    "\n",
    "        if (gender == 'Male' and age == 'Younger than 30'):\n",
    "            pain_val = [0.00884956, 0.16814159, 0.00884956, 0.38053097, 0.43362832]\n",
    "            df = create_df(gender,age,pain_keys,pain_val,col)\n",
    "            pain_CP = pain_CP.append(df,ignore_index=True)\n",
    "\n",
    "\n",
    "        "
   ]
  },
  {
   "cell_type": "code",
   "execution_count": 21,
   "metadata": {
    "ExecuteTime": {
     "end_time": "2020-05-06T19:20:58.379655Z",
     "start_time": "2020-05-06T19:20:58.365816Z"
    }
   },
   "outputs": [
    {
     "data": {
      "text/html": [
       "<div>\n",
       "<style scoped>\n",
       "    .dataframe tbody tr th:only-of-type {\n",
       "        vertical-align: middle;\n",
       "    }\n",
       "\n",
       "    .dataframe tbody tr th {\n",
       "        vertical-align: top;\n",
       "    }\n",
       "\n",
       "    .dataframe thead th {\n",
       "        text-align: right;\n",
       "    }\n",
       "</style>\n",
       "<table border=\"1\" class=\"dataframe\">\n",
       "  <thead>\n",
       "    <tr style=\"text-align: right;\">\n",
       "      <th></th>\n",
       "      <th>Gender</th>\n",
       "      <th>Age</th>\n",
       "      <th>Pain</th>\n",
       "      <th>Conditional_Probability</th>\n",
       "    </tr>\n",
       "  </thead>\n",
       "  <tbody>\n",
       "    <tr>\n",
       "      <th>0</th>\n",
       "      <td>Female</td>\n",
       "      <td>60 and Older</td>\n",
       "      <td>High</td>\n",
       "      <td>0.004074</td>\n",
       "    </tr>\n",
       "    <tr>\n",
       "      <th>1</th>\n",
       "      <td>Female</td>\n",
       "      <td>60 and Older</td>\n",
       "      <td>Low</td>\n",
       "      <td>0.235871</td>\n",
       "    </tr>\n",
       "    <tr>\n",
       "      <th>2</th>\n",
       "      <td>Female</td>\n",
       "      <td>60 and Older</td>\n",
       "      <td>Medium</td>\n",
       "      <td>0.005157</td>\n",
       "    </tr>\n",
       "    <tr>\n",
       "      <th>3</th>\n",
       "      <td>Female</td>\n",
       "      <td>60 and Older</td>\n",
       "      <td>None</td>\n",
       "      <td>0.688254</td>\n",
       "    </tr>\n",
       "    <tr>\n",
       "      <th>4</th>\n",
       "      <td>Female</td>\n",
       "      <td>60 and Older</td>\n",
       "      <td>Not Recorded</td>\n",
       "      <td>0.066645</td>\n",
       "    </tr>\n",
       "    <tr>\n",
       "      <th>5</th>\n",
       "      <td>Female</td>\n",
       "      <td>Between 30 to 60</td>\n",
       "      <td>High</td>\n",
       "      <td>0.003995</td>\n",
       "    </tr>\n",
       "    <tr>\n",
       "      <th>6</th>\n",
       "      <td>Female</td>\n",
       "      <td>Between 30 to 60</td>\n",
       "      <td>Low</td>\n",
       "      <td>0.455921</td>\n",
       "    </tr>\n",
       "    <tr>\n",
       "      <th>7</th>\n",
       "      <td>Female</td>\n",
       "      <td>Between 30 to 60</td>\n",
       "      <td>Medium</td>\n",
       "      <td>0.154252</td>\n",
       "    </tr>\n",
       "    <tr>\n",
       "      <th>8</th>\n",
       "      <td>Female</td>\n",
       "      <td>Between 30 to 60</td>\n",
       "      <td>None</td>\n",
       "      <td>0.257713</td>\n",
       "    </tr>\n",
       "    <tr>\n",
       "      <th>9</th>\n",
       "      <td>Female</td>\n",
       "      <td>Between 30 to 60</td>\n",
       "      <td>Not Recorded</td>\n",
       "      <td>0.128119</td>\n",
       "    </tr>\n",
       "    <tr>\n",
       "      <th>10</th>\n",
       "      <td>Female</td>\n",
       "      <td>Younger than 30</td>\n",
       "      <td>High</td>\n",
       "      <td>0.033518</td>\n",
       "    </tr>\n",
       "    <tr>\n",
       "      <th>11</th>\n",
       "      <td>Female</td>\n",
       "      <td>Younger than 30</td>\n",
       "      <td>Low</td>\n",
       "      <td>0.372082</td>\n",
       "    </tr>\n",
       "    <tr>\n",
       "      <th>12</th>\n",
       "      <td>Female</td>\n",
       "      <td>Younger than 30</td>\n",
       "      <td>Medium</td>\n",
       "      <td>0.243520</td>\n",
       "    </tr>\n",
       "    <tr>\n",
       "      <th>13</th>\n",
       "      <td>Female</td>\n",
       "      <td>Younger than 30</td>\n",
       "      <td>None</td>\n",
       "      <td>0.166578</td>\n",
       "    </tr>\n",
       "    <tr>\n",
       "      <th>14</th>\n",
       "      <td>Female</td>\n",
       "      <td>Younger than 30</td>\n",
       "      <td>Not Recorded</td>\n",
       "      <td>0.184302</td>\n",
       "    </tr>\n",
       "    <tr>\n",
       "      <th>15</th>\n",
       "      <td>Male</td>\n",
       "      <td>60 and Older</td>\n",
       "      <td>High</td>\n",
       "      <td>0.003989</td>\n",
       "    </tr>\n",
       "    <tr>\n",
       "      <th>16</th>\n",
       "      <td>Male</td>\n",
       "      <td>60 and Older</td>\n",
       "      <td>Low</td>\n",
       "      <td>0.769889</td>\n",
       "    </tr>\n",
       "    <tr>\n",
       "      <th>17</th>\n",
       "      <td>Male</td>\n",
       "      <td>60 and Older</td>\n",
       "      <td>Medium</td>\n",
       "      <td>0.037053</td>\n",
       "    </tr>\n",
       "    <tr>\n",
       "      <th>18</th>\n",
       "      <td>Male</td>\n",
       "      <td>60 and Older</td>\n",
       "      <td>None</td>\n",
       "      <td>0.186260</td>\n",
       "    </tr>\n",
       "    <tr>\n",
       "      <th>19</th>\n",
       "      <td>Male</td>\n",
       "      <td>60 and Older</td>\n",
       "      <td>Not Recorded</td>\n",
       "      <td>0.002808</td>\n",
       "    </tr>\n",
       "    <tr>\n",
       "      <th>20</th>\n",
       "      <td>Male</td>\n",
       "      <td>Between 30 to 60</td>\n",
       "      <td>High</td>\n",
       "      <td>0.045711</td>\n",
       "    </tr>\n",
       "    <tr>\n",
       "      <th>21</th>\n",
       "      <td>Male</td>\n",
       "      <td>Between 30 to 60</td>\n",
       "      <td>Low</td>\n",
       "      <td>0.247264</td>\n",
       "    </tr>\n",
       "    <tr>\n",
       "      <th>22</th>\n",
       "      <td>Male</td>\n",
       "      <td>Between 30 to 60</td>\n",
       "      <td>Medium</td>\n",
       "      <td>0.270471</td>\n",
       "    </tr>\n",
       "    <tr>\n",
       "      <th>23</th>\n",
       "      <td>Male</td>\n",
       "      <td>Between 30 to 60</td>\n",
       "      <td>None</td>\n",
       "      <td>0.197303</td>\n",
       "    </tr>\n",
       "    <tr>\n",
       "      <th>24</th>\n",
       "      <td>Male</td>\n",
       "      <td>Between 30 to 60</td>\n",
       "      <td>Not Recorded</td>\n",
       "      <td>0.239251</td>\n",
       "    </tr>\n",
       "    <tr>\n",
       "      <th>25</th>\n",
       "      <td>Male</td>\n",
       "      <td>Younger than 30</td>\n",
       "      <td>High</td>\n",
       "      <td>0.009587</td>\n",
       "    </tr>\n",
       "    <tr>\n",
       "      <th>26</th>\n",
       "      <td>Male</td>\n",
       "      <td>Younger than 30</td>\n",
       "      <td>Low</td>\n",
       "      <td>0.149106</td>\n",
       "    </tr>\n",
       "    <tr>\n",
       "      <th>27</th>\n",
       "      <td>Male</td>\n",
       "      <td>Younger than 30</td>\n",
       "      <td>Medium</td>\n",
       "      <td>0.012657</td>\n",
       "    </tr>\n",
       "    <tr>\n",
       "      <th>28</th>\n",
       "      <td>Male</td>\n",
       "      <td>Younger than 30</td>\n",
       "      <td>None</td>\n",
       "      <td>0.514952</td>\n",
       "    </tr>\n",
       "    <tr>\n",
       "      <th>29</th>\n",
       "      <td>Male</td>\n",
       "      <td>Younger than 30</td>\n",
       "      <td>Not Recorded</td>\n",
       "      <td>0.313698</td>\n",
       "    </tr>\n",
       "  </tbody>\n",
       "</table>\n",
       "</div>"
      ],
      "text/plain": [
       "    Gender               Age          Pain  Conditional_Probability\n",
       "0   Female      60 and Older          High                 0.004074\n",
       "1   Female      60 and Older           Low                 0.235871\n",
       "2   Female      60 and Older        Medium                 0.005157\n",
       "3   Female      60 and Older          None                 0.688254\n",
       "4   Female      60 and Older  Not Recorded                 0.066645\n",
       "5   Female  Between 30 to 60          High                 0.003995\n",
       "6   Female  Between 30 to 60           Low                 0.455921\n",
       "7   Female  Between 30 to 60        Medium                 0.154252\n",
       "8   Female  Between 30 to 60          None                 0.257713\n",
       "9   Female  Between 30 to 60  Not Recorded                 0.128119\n",
       "10  Female   Younger than 30          High                 0.033518\n",
       "11  Female   Younger than 30           Low                 0.372082\n",
       "12  Female   Younger than 30        Medium                 0.243520\n",
       "13  Female   Younger than 30          None                 0.166578\n",
       "14  Female   Younger than 30  Not Recorded                 0.184302\n",
       "15    Male      60 and Older          High                 0.003989\n",
       "16    Male      60 and Older           Low                 0.769889\n",
       "17    Male      60 and Older        Medium                 0.037053\n",
       "18    Male      60 and Older          None                 0.186260\n",
       "19    Male      60 and Older  Not Recorded                 0.002808\n",
       "20    Male  Between 30 to 60          High                 0.045711\n",
       "21    Male  Between 30 to 60           Low                 0.247264\n",
       "22    Male  Between 30 to 60        Medium                 0.270471\n",
       "23    Male  Between 30 to 60          None                 0.197303\n",
       "24    Male  Between 30 to 60  Not Recorded                 0.239251\n",
       "25    Male   Younger than 30          High                 0.009587\n",
       "26    Male   Younger than 30           Low                 0.149106\n",
       "27    Male   Younger than 30        Medium                 0.012657\n",
       "28    Male   Younger than 30          None                 0.514952\n",
       "29    Male   Younger than 30  Not Recorded                 0.313698"
      ]
     },
     "execution_count": 21,
     "metadata": {},
     "output_type": "execute_result"
    }
   ],
   "source": [
    "pain_CP"
   ]
  },
  {
   "cell_type": "markdown",
   "metadata": {},
   "source": [
    "### Create Dataframe for Fatigue"
   ]
  },
  {
   "cell_type": "code",
   "execution_count": 22,
   "metadata": {
    "ExecuteTime": {
     "end_time": "2020-05-06T19:21:00.515898Z",
     "start_time": "2020-05-06T19:21:00.468535Z"
    }
   },
   "outputs": [],
   "source": [
    "col = ['Gender','Age','Fatigue','Conditional_Probability']\n",
    "fatigue_CP = pd.DataFrame(columns = col)\n",
    "\n",
    "for gender in gender_keys:\n",
    "    for age in age_keys:\n",
    "        \n",
    "        if (gender == 'Female' and age == '60 and Older'):\n",
    "            fatigue_val = [0.00452489, 0.41176471, 0.05882353, 0.43891403, 0.08597285]\n",
    "            df = create_df(gender,age,fatigue_keys,fatigue_val,col)\n",
    "            fatigue_CP = df\n",
    "\n",
    "        if (gender == 'Female' and age == 'Between 30 to 60'):\n",
    "            fatigue_val = [0.04347826, 0.37314859, 0.25274725, 0.20688008, 0.12374582]\n",
    "            df = create_df(gender,age,fatigue_keys,fatigue_val,col)\n",
    "            fatigue_CP = fatigue_CP.append(df, ignore_index=True)\n",
    "\n",
    "        if (gender == 'Female' and age == 'Younger than 30'):\n",
    "            fatigue_val = [0.08493151, 0.31506849, 0.23287671, 0.10136986, 0.26575342]\n",
    "            df = create_df(gender,age,fatigue_keys,fatigue_val,col)\n",
    "            fatigue_CP = fatigue_CP.append(df, ignore_index=True)\n",
    "            \n",
    "        if (gender == 'Male' and age == '60 and Older'):\n",
    "            fatigue_val = [0.00540541, 0.55675676, 0.13513514, 0.2972973 , 0.00540541]\n",
    "            df = create_df(gender,age,fatigue_keys,fatigue_val,col)\n",
    "            fatigue_CP = fatigue_CP.append(df, ignore_index=True)\n",
    "\n",
    "        if (gender == 'Male' and age == 'Between 30 to 60'):\n",
    "            fatigue_val = [0.04751381, 0.30607735, 0.24640884, 0.20662983, 0.19337017]\n",
    "            df = create_df(gender,age,fatigue_keys,fatigue_val,col)\n",
    "            fatigue_CP = fatigue_CP.append(df, ignore_index=True)\n",
    "\n",
    "        if (gender == 'Male' and age == 'Younger than 30'):\n",
    "            fatigue_val = [0.00884956, 0.11504425, 0.0619469 , 0.38053097, 0.43362832]\n",
    "            df = create_df(gender,age,fatigue_keys,fatigue_val,col)\n",
    "            fatigue_CP = fatigue_CP.append(df, ignore_index=True)"
   ]
  },
  {
   "cell_type": "code",
   "execution_count": 23,
   "metadata": {
    "ExecuteTime": {
     "end_time": "2020-05-06T19:21:01.538289Z",
     "start_time": "2020-05-06T19:21:01.524786Z"
    }
   },
   "outputs": [
    {
     "data": {
      "text/html": [
       "<div>\n",
       "<style scoped>\n",
       "    .dataframe tbody tr th:only-of-type {\n",
       "        vertical-align: middle;\n",
       "    }\n",
       "\n",
       "    .dataframe tbody tr th {\n",
       "        vertical-align: top;\n",
       "    }\n",
       "\n",
       "    .dataframe thead th {\n",
       "        text-align: right;\n",
       "    }\n",
       "</style>\n",
       "<table border=\"1\" class=\"dataframe\">\n",
       "  <thead>\n",
       "    <tr style=\"text-align: right;\">\n",
       "      <th></th>\n",
       "      <th>Gender</th>\n",
       "      <th>Age</th>\n",
       "      <th>Fatigue</th>\n",
       "      <th>Conditional_Probability</th>\n",
       "    </tr>\n",
       "  </thead>\n",
       "  <tbody>\n",
       "    <tr>\n",
       "      <th>0</th>\n",
       "      <td>Female</td>\n",
       "      <td>60 and Older</td>\n",
       "      <td>High</td>\n",
       "      <td>0.002407</td>\n",
       "    </tr>\n",
       "    <tr>\n",
       "      <th>1</th>\n",
       "      <td>Female</td>\n",
       "      <td>60 and Older</td>\n",
       "      <td>Low</td>\n",
       "      <td>0.434328</td>\n",
       "    </tr>\n",
       "    <tr>\n",
       "      <th>2</th>\n",
       "      <td>Female</td>\n",
       "      <td>60 and Older</td>\n",
       "      <td>Medium</td>\n",
       "      <td>0.061128</td>\n",
       "    </tr>\n",
       "    <tr>\n",
       "      <th>3</th>\n",
       "      <td>Female</td>\n",
       "      <td>60 and Older</td>\n",
       "      <td>None</td>\n",
       "      <td>0.429058</td>\n",
       "    </tr>\n",
       "    <tr>\n",
       "      <th>4</th>\n",
       "      <td>Female</td>\n",
       "      <td>60 and Older</td>\n",
       "      <td>Not Recorded</td>\n",
       "      <td>0.073078</td>\n",
       "    </tr>\n",
       "    <tr>\n",
       "      <th>5</th>\n",
       "      <td>Female</td>\n",
       "      <td>Between 30 to 60</td>\n",
       "      <td>High</td>\n",
       "      <td>0.044844</td>\n",
       "    </tr>\n",
       "    <tr>\n",
       "      <th>6</th>\n",
       "      <td>Female</td>\n",
       "      <td>Between 30 to 60</td>\n",
       "      <td>Low</td>\n",
       "      <td>0.292030</td>\n",
       "    </tr>\n",
       "    <tr>\n",
       "      <th>7</th>\n",
       "      <td>Female</td>\n",
       "      <td>Between 30 to 60</td>\n",
       "      <td>Medium</td>\n",
       "      <td>0.191442</td>\n",
       "    </tr>\n",
       "    <tr>\n",
       "      <th>8</th>\n",
       "      <td>Female</td>\n",
       "      <td>Between 30 to 60</td>\n",
       "      <td>None</td>\n",
       "      <td>0.333985</td>\n",
       "    </tr>\n",
       "    <tr>\n",
       "      <th>9</th>\n",
       "      <td>Female</td>\n",
       "      <td>Between 30 to 60</td>\n",
       "      <td>Not Recorded</td>\n",
       "      <td>0.137699</td>\n",
       "    </tr>\n",
       "    <tr>\n",
       "      <th>10</th>\n",
       "      <td>Female</td>\n",
       "      <td>Younger than 30</td>\n",
       "      <td>High</td>\n",
       "      <td>0.058392</td>\n",
       "    </tr>\n",
       "    <tr>\n",
       "      <th>11</th>\n",
       "      <td>Female</td>\n",
       "      <td>Younger than 30</td>\n",
       "      <td>Low</td>\n",
       "      <td>0.397126</td>\n",
       "    </tr>\n",
       "    <tr>\n",
       "      <th>12</th>\n",
       "      <td>Female</td>\n",
       "      <td>Younger than 30</td>\n",
       "      <td>Medium</td>\n",
       "      <td>0.264914</td>\n",
       "    </tr>\n",
       "    <tr>\n",
       "      <th>13</th>\n",
       "      <td>Female</td>\n",
       "      <td>Younger than 30</td>\n",
       "      <td>None</td>\n",
       "      <td>0.083067</td>\n",
       "    </tr>\n",
       "    <tr>\n",
       "      <th>14</th>\n",
       "      <td>Female</td>\n",
       "      <td>Younger than 30</td>\n",
       "      <td>Not Recorded</td>\n",
       "      <td>0.196501</td>\n",
       "    </tr>\n",
       "    <tr>\n",
       "      <th>15</th>\n",
       "      <td>Male</td>\n",
       "      <td>60 and Older</td>\n",
       "      <td>High</td>\n",
       "      <td>0.003416</td>\n",
       "    </tr>\n",
       "    <tr>\n",
       "      <th>16</th>\n",
       "      <td>Male</td>\n",
       "      <td>60 and Older</td>\n",
       "      <td>Low</td>\n",
       "      <td>0.476805</td>\n",
       "    </tr>\n",
       "    <tr>\n",
       "      <th>17</th>\n",
       "      <td>Male</td>\n",
       "      <td>60 and Older</td>\n",
       "      <td>Medium</td>\n",
       "      <td>0.166771</td>\n",
       "    </tr>\n",
       "    <tr>\n",
       "      <th>18</th>\n",
       "      <td>Male</td>\n",
       "      <td>60 and Older</td>\n",
       "      <td>None</td>\n",
       "      <td>0.347664</td>\n",
       "    </tr>\n",
       "    <tr>\n",
       "      <th>19</th>\n",
       "      <td>Male</td>\n",
       "      <td>60 and Older</td>\n",
       "      <td>Not Recorded</td>\n",
       "      <td>0.005344</td>\n",
       "    </tr>\n",
       "    <tr>\n",
       "      <th>20</th>\n",
       "      <td>Male</td>\n",
       "      <td>Between 30 to 60</td>\n",
       "      <td>High</td>\n",
       "      <td>0.037854</td>\n",
       "    </tr>\n",
       "    <tr>\n",
       "      <th>21</th>\n",
       "      <td>Male</td>\n",
       "      <td>Between 30 to 60</td>\n",
       "      <td>Low</td>\n",
       "      <td>0.350003</td>\n",
       "    </tr>\n",
       "    <tr>\n",
       "      <th>22</th>\n",
       "      <td>Male</td>\n",
       "      <td>Between 30 to 60</td>\n",
       "      <td>Medium</td>\n",
       "      <td>0.252482</td>\n",
       "    </tr>\n",
       "    <tr>\n",
       "      <th>23</th>\n",
       "      <td>Male</td>\n",
       "      <td>Between 30 to 60</td>\n",
       "      <td>None</td>\n",
       "      <td>0.181267</td>\n",
       "    </tr>\n",
       "    <tr>\n",
       "      <th>24</th>\n",
       "      <td>Male</td>\n",
       "      <td>Between 30 to 60</td>\n",
       "      <td>Not Recorded</td>\n",
       "      <td>0.178395</td>\n",
       "    </tr>\n",
       "    <tr>\n",
       "      <th>25</th>\n",
       "      <td>Male</td>\n",
       "      <td>Younger than 30</td>\n",
       "      <td>High</td>\n",
       "      <td>0.010778</td>\n",
       "    </tr>\n",
       "    <tr>\n",
       "      <th>26</th>\n",
       "      <td>Male</td>\n",
       "      <td>Younger than 30</td>\n",
       "      <td>Low</td>\n",
       "      <td>0.166744</td>\n",
       "    </tr>\n",
       "    <tr>\n",
       "      <th>27</th>\n",
       "      <td>Male</td>\n",
       "      <td>Younger than 30</td>\n",
       "      <td>Medium</td>\n",
       "      <td>0.034781</td>\n",
       "    </tr>\n",
       "    <tr>\n",
       "      <th>28</th>\n",
       "      <td>Male</td>\n",
       "      <td>Younger than 30</td>\n",
       "      <td>None</td>\n",
       "      <td>0.268856</td>\n",
       "    </tr>\n",
       "    <tr>\n",
       "      <th>29</th>\n",
       "      <td>Male</td>\n",
       "      <td>Younger than 30</td>\n",
       "      <td>Not Recorded</td>\n",
       "      <td>0.518840</td>\n",
       "    </tr>\n",
       "  </tbody>\n",
       "</table>\n",
       "</div>"
      ],
      "text/plain": [
       "    Gender               Age       Fatigue  Conditional_Probability\n",
       "0   Female      60 and Older          High                 0.002407\n",
       "1   Female      60 and Older           Low                 0.434328\n",
       "2   Female      60 and Older        Medium                 0.061128\n",
       "3   Female      60 and Older          None                 0.429058\n",
       "4   Female      60 and Older  Not Recorded                 0.073078\n",
       "5   Female  Between 30 to 60          High                 0.044844\n",
       "6   Female  Between 30 to 60           Low                 0.292030\n",
       "7   Female  Between 30 to 60        Medium                 0.191442\n",
       "8   Female  Between 30 to 60          None                 0.333985\n",
       "9   Female  Between 30 to 60  Not Recorded                 0.137699\n",
       "10  Female   Younger than 30          High                 0.058392\n",
       "11  Female   Younger than 30           Low                 0.397126\n",
       "12  Female   Younger than 30        Medium                 0.264914\n",
       "13  Female   Younger than 30          None                 0.083067\n",
       "14  Female   Younger than 30  Not Recorded                 0.196501\n",
       "15    Male      60 and Older          High                 0.003416\n",
       "16    Male      60 and Older           Low                 0.476805\n",
       "17    Male      60 and Older        Medium                 0.166771\n",
       "18    Male      60 and Older          None                 0.347664\n",
       "19    Male      60 and Older  Not Recorded                 0.005344\n",
       "20    Male  Between 30 to 60          High                 0.037854\n",
       "21    Male  Between 30 to 60           Low                 0.350003\n",
       "22    Male  Between 30 to 60        Medium                 0.252482\n",
       "23    Male  Between 30 to 60          None                 0.181267\n",
       "24    Male  Between 30 to 60  Not Recorded                 0.178395\n",
       "25    Male   Younger than 30          High                 0.010778\n",
       "26    Male   Younger than 30           Low                 0.166744\n",
       "27    Male   Younger than 30        Medium                 0.034781\n",
       "28    Male   Younger than 30          None                 0.268856\n",
       "29    Male   Younger than 30  Not Recorded                 0.518840"
      ]
     },
     "execution_count": 23,
     "metadata": {},
     "output_type": "execute_result"
    }
   ],
   "source": [
    "fatigue_CP"
   ]
  },
  {
   "cell_type": "code",
   "execution_count": null,
   "metadata": {},
   "outputs": [],
   "source": []
  }
 ],
 "metadata": {
  "kernelspec": {
   "display_name": "Python 3",
   "language": "python",
   "name": "python3"
  },
  "language_info": {
   "codemirror_mode": {
    "name": "ipython",
    "version": 3
   },
   "file_extension": ".py",
   "mimetype": "text/x-python",
   "name": "python",
   "nbconvert_exporter": "python",
   "pygments_lexer": "ipython3",
   "version": "3.7.6"
  }
 },
 "nbformat": 4,
 "nbformat_minor": 4
}
