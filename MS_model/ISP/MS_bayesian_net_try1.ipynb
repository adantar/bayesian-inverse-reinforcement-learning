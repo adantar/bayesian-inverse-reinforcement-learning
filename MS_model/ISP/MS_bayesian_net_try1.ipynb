{
 "cells": [
  {
   "cell_type": "markdown",
   "metadata": {},
   "source": [
    "### This notebook takes 6 day of normalized (percentile 33, 66) MS data and create a bayesian network "
   ]
  },
  {
   "cell_type": "code",
   "execution_count": 4,
   "metadata": {
    "ExecuteTime": {
     "end_time": "2020-05-01T18:59:59.125730Z",
     "start_time": "2020-05-01T18:59:58.682080Z"
    }
   },
   "outputs": [
    {
     "ename": "ModuleNotFoundError",
     "evalue": "No module named 'pgmpy'",
     "output_type": "error",
     "traceback": [
      "\u001b[0;31m---------------------------------------------------------------------------\u001b[0m",
      "\u001b[0;31mModuleNotFoundError\u001b[0m                       Traceback (most recent call last)",
      "\u001b[0;32m<ipython-input-4-9ce67b8f532d>\u001b[0m in \u001b[0;36m<module>\u001b[0;34m\u001b[0m\n\u001b[1;32m      1\u001b[0m \u001b[0;32mimport\u001b[0m \u001b[0mpickle\u001b[0m\u001b[0;34m\u001b[0m\u001b[0;34m\u001b[0m\u001b[0m\n\u001b[1;32m      2\u001b[0m \u001b[0;32mimport\u001b[0m \u001b[0mpandas\u001b[0m \u001b[0;32mas\u001b[0m \u001b[0mpd\u001b[0m\u001b[0;34m\u001b[0m\u001b[0;34m\u001b[0m\u001b[0m\n\u001b[0;32m----> 3\u001b[0;31m \u001b[0;32mfrom\u001b[0m \u001b[0mpgmpy\u001b[0m\u001b[0;34m.\u001b[0m\u001b[0mmodels\u001b[0m \u001b[0;32mimport\u001b[0m \u001b[0mBayesianModel\u001b[0m\u001b[0;34m\u001b[0m\u001b[0;34m\u001b[0m\u001b[0m\n\u001b[0m\u001b[1;32m      4\u001b[0m \u001b[0;32mfrom\u001b[0m \u001b[0mpgmpy\u001b[0m\u001b[0;34m.\u001b[0m\u001b[0mestimators\u001b[0m \u001b[0;32mimport\u001b[0m \u001b[0mMaximumLikelihoodEstimator\u001b[0m\u001b[0;34m,\u001b[0m \u001b[0mBayesianEstimator\u001b[0m\u001b[0;34m\u001b[0m\u001b[0;34m\u001b[0m\u001b[0m\n\u001b[1;32m      5\u001b[0m \u001b[0;32mimport\u001b[0m \u001b[0mnetworkx\u001b[0m \u001b[0;32mas\u001b[0m \u001b[0mnx\u001b[0m\u001b[0;34m\u001b[0m\u001b[0;34m\u001b[0m\u001b[0m\n",
      "\u001b[0;31mModuleNotFoundError\u001b[0m: No module named 'pgmpy'"
     ]
    }
   ],
   "source": [
    "import pickle\n",
    "import pandas as pd\n",
    "from pgmpy.models import BayesianModel\n",
    "from pgmpy.estimators import MaximumLikelihoodEstimator, BayesianEstimator\n",
    "import networkx as nx\n",
    "import pylab as plt\n",
    "from pgmpy.inference import VariableElimination\n",
    "import pdb\n",
    "import seaborn as sns\n",
    "import matplotlib.pyplot as plt   \n",
    "from sklearn.metrics import confusion_matrix\n",
    "from networkx.drawing.nx_agraph import graphviz_layout\n",
    "from sklearn.metrics import precision_score, recall_score, balanced_accuracy_score, accuracy_score"
   ]
  },
  {
   "cell_type": "code",
   "execution_count": 4,
   "metadata": {
    "ExecuteTime": {
     "end_time": "2020-04-29T19:11:58.430534Z",
     "start_time": "2020-04-29T19:11:49.264981Z"
    }
   },
   "outputs": [],
   "source": [
    "## Load Sequences (Normalized using percentiles) (six days)\n",
    "\n",
    "data_features = pd.read_csv('csv_files_MS/final_MS_df_variables.csv')\n",
    "for i in range(len(data_features)):\n",
    "    data_features.loc[i, 'Patient_ID'] = str(data_features.loc[i, 'Patient_ID'])\n",
    "#Load the processed and normalized  dataset \n",
    "with open('MS_normalized_df_six_days.pkl', 'rb') as f:\n",
    "    data = pickle.load(f)\n",
    "\n",
    "for i in range(len(data)):\n",
    "    data.loc[i, 'Patient_ID'] = str(data.loc[i, 'Patient_ID'])\n",
    "\n",
    "#Load the processed and normalized  dataset \n",
    "with open('MS_normalized_df.pkl', 'rb') as f:\n",
    "    data_full = pickle.load(f)\n",
    "\n",
    "for i in range(len(data)):\n",
    "    data_full.loc[i, 'Patient_ID'] = str(data_full.loc[i, 'Patient_ID'])\n"
   ]
  },
  {
   "cell_type": "code",
   "execution_count": 5,
   "metadata": {
    "ExecuteTime": {
     "end_time": "2020-04-29T19:11:58.442087Z",
     "start_time": "2020-04-29T19:11:58.432978Z"
    }
   },
   "outputs": [
    {
     "data": {
      "text/plain": [
       "929    Higher\n",
       "Name: EOD_PAW, dtype: object"
      ]
     },
     "execution_count": 5,
     "metadata": {},
     "output_type": "execute_result"
    }
   ],
   "source": [
    "data[data[\"Patient_ID\"] == \"1033\"].tail(1)[\"EOD_PAW\"]"
   ]
  },
  {
   "cell_type": "code",
   "execution_count": 6,
   "metadata": {
    "ExecuteTime": {
     "end_time": "2020-04-29T19:11:58.480559Z",
     "start_time": "2020-04-29T19:11:58.444257Z"
    }
   },
   "outputs": [
    {
     "data": {
      "text/html": [
       "<div>\n",
       "<style scoped>\n",
       "    .dataframe tbody tr th:only-of-type {\n",
       "        vertical-align: middle;\n",
       "    }\n",
       "\n",
       "    .dataframe tbody tr th {\n",
       "        vertical-align: top;\n",
       "    }\n",
       "\n",
       "    .dataframe thead th {\n",
       "        text-align: right;\n",
       "    }\n",
       "</style>\n",
       "<table border=\"1\" class=\"dataframe\">\n",
       "  <thead>\n",
       "    <tr style=\"text-align: right;\">\n",
       "      <th></th>\n",
       "      <th>Patient_ID</th>\n",
       "      <th>Gender</th>\n",
       "      <th>Age</th>\n",
       "      <th>Daytime_Interval</th>\n",
       "      <th>Patient_Interval_Number</th>\n",
       "      <th>Pain_Score</th>\n",
       "      <th>Action_Pain</th>\n",
       "      <th>Fatigue_Score</th>\n",
       "      <th>Action_Fatigue</th>\n",
       "      <th>Last_Activitybout_State</th>\n",
       "      <th>Current_Activitybout_Action</th>\n",
       "      <th>EOD_PAW</th>\n",
       "      <th>Action_PAW</th>\n",
       "    </tr>\n",
       "  </thead>\n",
       "  <tbody>\n",
       "    <tr>\n",
       "      <th>140</th>\n",
       "      <td>1005</td>\n",
       "      <td>Female</td>\n",
       "      <td>Between 30 to 60</td>\n",
       "      <td>Wake</td>\n",
       "      <td>1</td>\n",
       "      <td>Higher</td>\n",
       "      <td>Recorded</td>\n",
       "      <td>Normal</td>\n",
       "      <td>Recorded</td>\n",
       "      <td>Not Recorded</td>\n",
       "      <td>Normal</td>\n",
       "      <td>None</td>\n",
       "      <td>None</td>\n",
       "    </tr>\n",
       "    <tr>\n",
       "      <th>141</th>\n",
       "      <td>1005</td>\n",
       "      <td>Female</td>\n",
       "      <td>Between 30 to 60</td>\n",
       "      <td>Morning</td>\n",
       "      <td>2</td>\n",
       "      <td>Higher</td>\n",
       "      <td>Recorded</td>\n",
       "      <td>Lower</td>\n",
       "      <td>Recorded</td>\n",
       "      <td>Normal</td>\n",
       "      <td>Higher</td>\n",
       "      <td>None</td>\n",
       "      <td>None</td>\n",
       "    </tr>\n",
       "    <tr>\n",
       "      <th>142</th>\n",
       "      <td>1005</td>\n",
       "      <td>Female</td>\n",
       "      <td>Between 30 to 60</td>\n",
       "      <td>Afternoon</td>\n",
       "      <td>3</td>\n",
       "      <td>Higher</td>\n",
       "      <td>Recorded</td>\n",
       "      <td>Normal</td>\n",
       "      <td>Recorded</td>\n",
       "      <td>Higher</td>\n",
       "      <td>Lower</td>\n",
       "      <td>None</td>\n",
       "      <td>None</td>\n",
       "    </tr>\n",
       "    <tr>\n",
       "      <th>143</th>\n",
       "      <td>1005</td>\n",
       "      <td>Female</td>\n",
       "      <td>Between 30 to 60</td>\n",
       "      <td>Evening</td>\n",
       "      <td>4</td>\n",
       "      <td>Higher</td>\n",
       "      <td>Recorded</td>\n",
       "      <td>Normal</td>\n",
       "      <td>Recorded</td>\n",
       "      <td>Lower</td>\n",
       "      <td>Lower</td>\n",
       "      <td>None</td>\n",
       "      <td>Recorded</td>\n",
       "    </tr>\n",
       "    <tr>\n",
       "      <th>144</th>\n",
       "      <td>1005</td>\n",
       "      <td>Female</td>\n",
       "      <td>Between 30 to 60</td>\n",
       "      <td>Bed</td>\n",
       "      <td>5</td>\n",
       "      <td>Higher</td>\n",
       "      <td>Recorded</td>\n",
       "      <td>Normal</td>\n",
       "      <td>Recorded</td>\n",
       "      <td>Lower</td>\n",
       "      <td>Higher</td>\n",
       "      <td>Normal</td>\n",
       "      <td>None</td>\n",
       "    </tr>\n",
       "    <tr>\n",
       "      <th>145</th>\n",
       "      <td>1005</td>\n",
       "      <td>Female</td>\n",
       "      <td>Between 30 to 60</td>\n",
       "      <td>Wake</td>\n",
       "      <td>6</td>\n",
       "      <td>Normal</td>\n",
       "      <td>Recorded</td>\n",
       "      <td>Lower</td>\n",
       "      <td>Recorded</td>\n",
       "      <td>Higher</td>\n",
       "      <td>Higher</td>\n",
       "      <td>None</td>\n",
       "      <td>None</td>\n",
       "    </tr>\n",
       "    <tr>\n",
       "      <th>146</th>\n",
       "      <td>1005</td>\n",
       "      <td>Female</td>\n",
       "      <td>Between 30 to 60</td>\n",
       "      <td>Morning</td>\n",
       "      <td>7</td>\n",
       "      <td>Normal</td>\n",
       "      <td>Recorded</td>\n",
       "      <td>Lower</td>\n",
       "      <td>Recorded</td>\n",
       "      <td>Higher</td>\n",
       "      <td>Normal</td>\n",
       "      <td>None</td>\n",
       "      <td>None</td>\n",
       "    </tr>\n",
       "    <tr>\n",
       "      <th>147</th>\n",
       "      <td>1005</td>\n",
       "      <td>Female</td>\n",
       "      <td>Between 30 to 60</td>\n",
       "      <td>Afternoon</td>\n",
       "      <td>8</td>\n",
       "      <td>Lower</td>\n",
       "      <td>Recorded</td>\n",
       "      <td>Lower</td>\n",
       "      <td>Recorded</td>\n",
       "      <td>Normal</td>\n",
       "      <td>Lower</td>\n",
       "      <td>None</td>\n",
       "      <td>None</td>\n",
       "    </tr>\n",
       "    <tr>\n",
       "      <th>148</th>\n",
       "      <td>1005</td>\n",
       "      <td>Female</td>\n",
       "      <td>Between 30 to 60</td>\n",
       "      <td>Evening</td>\n",
       "      <td>9</td>\n",
       "      <td>Normal</td>\n",
       "      <td>Recorded</td>\n",
       "      <td>Lower</td>\n",
       "      <td>Recorded</td>\n",
       "      <td>Lower</td>\n",
       "      <td>Lower</td>\n",
       "      <td>None</td>\n",
       "      <td>Recorded</td>\n",
       "    </tr>\n",
       "    <tr>\n",
       "      <th>149</th>\n",
       "      <td>1005</td>\n",
       "      <td>Female</td>\n",
       "      <td>Between 30 to 60</td>\n",
       "      <td>Bed</td>\n",
       "      <td>10</td>\n",
       "      <td>Normal</td>\n",
       "      <td>Recorded</td>\n",
       "      <td>Normal</td>\n",
       "      <td>Recorded</td>\n",
       "      <td>Lower</td>\n",
       "      <td>Normal</td>\n",
       "      <td>Normal</td>\n",
       "      <td>None</td>\n",
       "    </tr>\n",
       "    <tr>\n",
       "      <th>150</th>\n",
       "      <td>1005</td>\n",
       "      <td>Female</td>\n",
       "      <td>Between 30 to 60</td>\n",
       "      <td>Wake</td>\n",
       "      <td>11</td>\n",
       "      <td>Higher</td>\n",
       "      <td>Recorded</td>\n",
       "      <td>Higher</td>\n",
       "      <td>Recorded</td>\n",
       "      <td>Normal</td>\n",
       "      <td>Normal</td>\n",
       "      <td>None</td>\n",
       "      <td>None</td>\n",
       "    </tr>\n",
       "    <tr>\n",
       "      <th>151</th>\n",
       "      <td>1005</td>\n",
       "      <td>Female</td>\n",
       "      <td>Between 30 to 60</td>\n",
       "      <td>Morning</td>\n",
       "      <td>12</td>\n",
       "      <td>Normal</td>\n",
       "      <td>Recorded</td>\n",
       "      <td>Normal</td>\n",
       "      <td>Recorded</td>\n",
       "      <td>Normal</td>\n",
       "      <td>Lower</td>\n",
       "      <td>None</td>\n",
       "      <td>None</td>\n",
       "    </tr>\n",
       "    <tr>\n",
       "      <th>152</th>\n",
       "      <td>1005</td>\n",
       "      <td>Female</td>\n",
       "      <td>Between 30 to 60</td>\n",
       "      <td>Afternoon</td>\n",
       "      <td>13</td>\n",
       "      <td>Higher</td>\n",
       "      <td>Recorded</td>\n",
       "      <td>Normal</td>\n",
       "      <td>Recorded</td>\n",
       "      <td>Lower</td>\n",
       "      <td>Normal</td>\n",
       "      <td>None</td>\n",
       "      <td>None</td>\n",
       "    </tr>\n",
       "    <tr>\n",
       "      <th>153</th>\n",
       "      <td>1005</td>\n",
       "      <td>Female</td>\n",
       "      <td>Between 30 to 60</td>\n",
       "      <td>Evening</td>\n",
       "      <td>14</td>\n",
       "      <td>Higher</td>\n",
       "      <td>Recorded</td>\n",
       "      <td>Lower</td>\n",
       "      <td>Recorded</td>\n",
       "      <td>Normal</td>\n",
       "      <td>Normal</td>\n",
       "      <td>None</td>\n",
       "      <td>Recorded</td>\n",
       "    </tr>\n",
       "    <tr>\n",
       "      <th>154</th>\n",
       "      <td>1005</td>\n",
       "      <td>Female</td>\n",
       "      <td>Between 30 to 60</td>\n",
       "      <td>Bed</td>\n",
       "      <td>15</td>\n",
       "      <td>Normal</td>\n",
       "      <td>Recorded</td>\n",
       "      <td>Normal</td>\n",
       "      <td>Recorded</td>\n",
       "      <td>Normal</td>\n",
       "      <td>Lower</td>\n",
       "      <td>Lower</td>\n",
       "      <td>None</td>\n",
       "    </tr>\n",
       "    <tr>\n",
       "      <th>155</th>\n",
       "      <td>1005</td>\n",
       "      <td>Female</td>\n",
       "      <td>Between 30 to 60</td>\n",
       "      <td>Wake</td>\n",
       "      <td>16</td>\n",
       "      <td>Lower</td>\n",
       "      <td>Recorded</td>\n",
       "      <td>Higher</td>\n",
       "      <td>Recorded</td>\n",
       "      <td>Lower</td>\n",
       "      <td>Normal</td>\n",
       "      <td>None</td>\n",
       "      <td>None</td>\n",
       "    </tr>\n",
       "    <tr>\n",
       "      <th>156</th>\n",
       "      <td>1005</td>\n",
       "      <td>Female</td>\n",
       "      <td>Between 30 to 60</td>\n",
       "      <td>Morning</td>\n",
       "      <td>17</td>\n",
       "      <td>Normal</td>\n",
       "      <td>Recorded</td>\n",
       "      <td>Lower</td>\n",
       "      <td>Recorded</td>\n",
       "      <td>Normal</td>\n",
       "      <td>Lower</td>\n",
       "      <td>None</td>\n",
       "      <td>None</td>\n",
       "    </tr>\n",
       "    <tr>\n",
       "      <th>157</th>\n",
       "      <td>1005</td>\n",
       "      <td>Female</td>\n",
       "      <td>Between 30 to 60</td>\n",
       "      <td>Afternoon</td>\n",
       "      <td>18</td>\n",
       "      <td>Normal</td>\n",
       "      <td>Not Recorded</td>\n",
       "      <td>Lower</td>\n",
       "      <td>Not Recorded</td>\n",
       "      <td>Lower</td>\n",
       "      <td>Higher</td>\n",
       "      <td>None</td>\n",
       "      <td>None</td>\n",
       "    </tr>\n",
       "    <tr>\n",
       "      <th>158</th>\n",
       "      <td>1005</td>\n",
       "      <td>Female</td>\n",
       "      <td>Between 30 to 60</td>\n",
       "      <td>Evening</td>\n",
       "      <td>19</td>\n",
       "      <td>Not Recorded</td>\n",
       "      <td>Recorded</td>\n",
       "      <td>Not Recorded</td>\n",
       "      <td>Recorded</td>\n",
       "      <td>Higher</td>\n",
       "      <td>Normal</td>\n",
       "      <td>None</td>\n",
       "      <td>Recorded</td>\n",
       "    </tr>\n",
       "    <tr>\n",
       "      <th>159</th>\n",
       "      <td>1005</td>\n",
       "      <td>Female</td>\n",
       "      <td>Between 30 to 60</td>\n",
       "      <td>Bed</td>\n",
       "      <td>20</td>\n",
       "      <td>Higher</td>\n",
       "      <td>Recorded</td>\n",
       "      <td>Normal</td>\n",
       "      <td>Recorded</td>\n",
       "      <td>Normal</td>\n",
       "      <td>Lower</td>\n",
       "      <td>Lower</td>\n",
       "      <td>None</td>\n",
       "    </tr>\n",
       "    <tr>\n",
       "      <th>160</th>\n",
       "      <td>1005</td>\n",
       "      <td>Female</td>\n",
       "      <td>Between 30 to 60</td>\n",
       "      <td>Wake</td>\n",
       "      <td>21</td>\n",
       "      <td>Lower</td>\n",
       "      <td>Not Recorded</td>\n",
       "      <td>Normal</td>\n",
       "      <td>Not Recorded</td>\n",
       "      <td>Lower</td>\n",
       "      <td>Normal</td>\n",
       "      <td>None</td>\n",
       "      <td>None</td>\n",
       "    </tr>\n",
       "    <tr>\n",
       "      <th>161</th>\n",
       "      <td>1005</td>\n",
       "      <td>Female</td>\n",
       "      <td>Between 30 to 60</td>\n",
       "      <td>Morning</td>\n",
       "      <td>22</td>\n",
       "      <td>Not Recorded</td>\n",
       "      <td>Recorded</td>\n",
       "      <td>Not Recorded</td>\n",
       "      <td>Recorded</td>\n",
       "      <td>Normal</td>\n",
       "      <td>Higher</td>\n",
       "      <td>None</td>\n",
       "      <td>None</td>\n",
       "    </tr>\n",
       "    <tr>\n",
       "      <th>162</th>\n",
       "      <td>1005</td>\n",
       "      <td>Female</td>\n",
       "      <td>Between 30 to 60</td>\n",
       "      <td>Afternoon</td>\n",
       "      <td>23</td>\n",
       "      <td>Lower</td>\n",
       "      <td>Recorded</td>\n",
       "      <td>Normal</td>\n",
       "      <td>Recorded</td>\n",
       "      <td>Higher</td>\n",
       "      <td>Higher</td>\n",
       "      <td>None</td>\n",
       "      <td>None</td>\n",
       "    </tr>\n",
       "    <tr>\n",
       "      <th>163</th>\n",
       "      <td>1005</td>\n",
       "      <td>Female</td>\n",
       "      <td>Between 30 to 60</td>\n",
       "      <td>Evening</td>\n",
       "      <td>24</td>\n",
       "      <td>Normal</td>\n",
       "      <td>Recorded</td>\n",
       "      <td>Normal</td>\n",
       "      <td>Recorded</td>\n",
       "      <td>Higher</td>\n",
       "      <td>Normal</td>\n",
       "      <td>None</td>\n",
       "      <td>Recorded</td>\n",
       "    </tr>\n",
       "    <tr>\n",
       "      <th>164</th>\n",
       "      <td>1005</td>\n",
       "      <td>Female</td>\n",
       "      <td>Between 30 to 60</td>\n",
       "      <td>Bed</td>\n",
       "      <td>25</td>\n",
       "      <td>Lower</td>\n",
       "      <td>Recorded</td>\n",
       "      <td>Higher</td>\n",
       "      <td>Recorded</td>\n",
       "      <td>Normal</td>\n",
       "      <td>Normal</td>\n",
       "      <td>Normal</td>\n",
       "      <td>None</td>\n",
       "    </tr>\n",
       "    <tr>\n",
       "      <th>165</th>\n",
       "      <td>1005</td>\n",
       "      <td>Female</td>\n",
       "      <td>Between 30 to 60</td>\n",
       "      <td>Wake</td>\n",
       "      <td>26</td>\n",
       "      <td>Lower</td>\n",
       "      <td>Recorded</td>\n",
       "      <td>Normal</td>\n",
       "      <td>Recorded</td>\n",
       "      <td>Normal</td>\n",
       "      <td>Lower</td>\n",
       "      <td>None</td>\n",
       "      <td>None</td>\n",
       "    </tr>\n",
       "    <tr>\n",
       "      <th>166</th>\n",
       "      <td>1005</td>\n",
       "      <td>Female</td>\n",
       "      <td>Between 30 to 60</td>\n",
       "      <td>Morning</td>\n",
       "      <td>27</td>\n",
       "      <td>Normal</td>\n",
       "      <td>Recorded</td>\n",
       "      <td>Normal</td>\n",
       "      <td>Recorded</td>\n",
       "      <td>Lower</td>\n",
       "      <td>Higher</td>\n",
       "      <td>None</td>\n",
       "      <td>None</td>\n",
       "    </tr>\n",
       "    <tr>\n",
       "      <th>167</th>\n",
       "      <td>1005</td>\n",
       "      <td>Female</td>\n",
       "      <td>Between 30 to 60</td>\n",
       "      <td>Afternoon</td>\n",
       "      <td>28</td>\n",
       "      <td>Lower</td>\n",
       "      <td>Recorded</td>\n",
       "      <td>Normal</td>\n",
       "      <td>Recorded</td>\n",
       "      <td>Higher</td>\n",
       "      <td>Higher</td>\n",
       "      <td>None</td>\n",
       "      <td>None</td>\n",
       "    </tr>\n",
       "    <tr>\n",
       "      <th>168</th>\n",
       "      <td>1005</td>\n",
       "      <td>Female</td>\n",
       "      <td>Between 30 to 60</td>\n",
       "      <td>Evening</td>\n",
       "      <td>29</td>\n",
       "      <td>Normal</td>\n",
       "      <td>Recorded</td>\n",
       "      <td>Lower</td>\n",
       "      <td>Recorded</td>\n",
       "      <td>Higher</td>\n",
       "      <td>Lower</td>\n",
       "      <td>None</td>\n",
       "      <td>Recorded</td>\n",
       "    </tr>\n",
       "    <tr>\n",
       "      <th>169</th>\n",
       "      <td>1005</td>\n",
       "      <td>Female</td>\n",
       "      <td>Between 30 to 60</td>\n",
       "      <td>Bed</td>\n",
       "      <td>30</td>\n",
       "      <td>Normal</td>\n",
       "      <td>Recorded</td>\n",
       "      <td>Normal</td>\n",
       "      <td>Recorded</td>\n",
       "      <td>Lower</td>\n",
       "      <td>Lower</td>\n",
       "      <td>Normal</td>\n",
       "      <td>None</td>\n",
       "    </tr>\n",
       "    <tr>\n",
       "      <th>170</th>\n",
       "      <td>1005</td>\n",
       "      <td>Female</td>\n",
       "      <td>Between 30 to 60</td>\n",
       "      <td>Wake</td>\n",
       "      <td>31</td>\n",
       "      <td>Higher</td>\n",
       "      <td>Recorded</td>\n",
       "      <td>Normal</td>\n",
       "      <td>Recorded</td>\n",
       "      <td>Lower</td>\n",
       "      <td>Higher</td>\n",
       "      <td>None</td>\n",
       "      <td>None</td>\n",
       "    </tr>\n",
       "    <tr>\n",
       "      <th>171</th>\n",
       "      <td>1005</td>\n",
       "      <td>Female</td>\n",
       "      <td>Between 30 to 60</td>\n",
       "      <td>Morning</td>\n",
       "      <td>32</td>\n",
       "      <td>Normal</td>\n",
       "      <td>Recorded</td>\n",
       "      <td>Lower</td>\n",
       "      <td>Recorded</td>\n",
       "      <td>Higher</td>\n",
       "      <td>Higher</td>\n",
       "      <td>None</td>\n",
       "      <td>None</td>\n",
       "    </tr>\n",
       "    <tr>\n",
       "      <th>172</th>\n",
       "      <td>1005</td>\n",
       "      <td>Female</td>\n",
       "      <td>Between 30 to 60</td>\n",
       "      <td>Afternoon</td>\n",
       "      <td>33</td>\n",
       "      <td>Normal</td>\n",
       "      <td>Recorded</td>\n",
       "      <td>Normal</td>\n",
       "      <td>Recorded</td>\n",
       "      <td>Higher</td>\n",
       "      <td>Higher</td>\n",
       "      <td>None</td>\n",
       "      <td>None</td>\n",
       "    </tr>\n",
       "    <tr>\n",
       "      <th>173</th>\n",
       "      <td>1005</td>\n",
       "      <td>Female</td>\n",
       "      <td>Between 30 to 60</td>\n",
       "      <td>Evening</td>\n",
       "      <td>34</td>\n",
       "      <td>Higher</td>\n",
       "      <td>Recorded</td>\n",
       "      <td>Normal</td>\n",
       "      <td>Recorded</td>\n",
       "      <td>Higher</td>\n",
       "      <td>Higher</td>\n",
       "      <td>None</td>\n",
       "      <td>Recorded</td>\n",
       "    </tr>\n",
       "    <tr>\n",
       "      <th>174</th>\n",
       "      <td>1005</td>\n",
       "      <td>Female</td>\n",
       "      <td>Between 30 to 60</td>\n",
       "      <td>Bed</td>\n",
       "      <td>35</td>\n",
       "      <td>Lower</td>\n",
       "      <td>Last State</td>\n",
       "      <td>Normal</td>\n",
       "      <td>Last State</td>\n",
       "      <td>Higher</td>\n",
       "      <td>Last State</td>\n",
       "      <td>Normal</td>\n",
       "      <td>Last State</td>\n",
       "    </tr>\n",
       "  </tbody>\n",
       "</table>\n",
       "</div>"
      ],
      "text/plain": [
       "    Patient_ID  Gender               Age Daytime_Interval  \\\n",
       "140       1005  Female  Between 30 to 60             Wake   \n",
       "141       1005  Female  Between 30 to 60          Morning   \n",
       "142       1005  Female  Between 30 to 60        Afternoon   \n",
       "143       1005  Female  Between 30 to 60          Evening   \n",
       "144       1005  Female  Between 30 to 60              Bed   \n",
       "145       1005  Female  Between 30 to 60             Wake   \n",
       "146       1005  Female  Between 30 to 60          Morning   \n",
       "147       1005  Female  Between 30 to 60        Afternoon   \n",
       "148       1005  Female  Between 30 to 60          Evening   \n",
       "149       1005  Female  Between 30 to 60              Bed   \n",
       "150       1005  Female  Between 30 to 60             Wake   \n",
       "151       1005  Female  Between 30 to 60          Morning   \n",
       "152       1005  Female  Between 30 to 60        Afternoon   \n",
       "153       1005  Female  Between 30 to 60          Evening   \n",
       "154       1005  Female  Between 30 to 60              Bed   \n",
       "155       1005  Female  Between 30 to 60             Wake   \n",
       "156       1005  Female  Between 30 to 60          Morning   \n",
       "157       1005  Female  Between 30 to 60        Afternoon   \n",
       "158       1005  Female  Between 30 to 60          Evening   \n",
       "159       1005  Female  Between 30 to 60              Bed   \n",
       "160       1005  Female  Between 30 to 60             Wake   \n",
       "161       1005  Female  Between 30 to 60          Morning   \n",
       "162       1005  Female  Between 30 to 60        Afternoon   \n",
       "163       1005  Female  Between 30 to 60          Evening   \n",
       "164       1005  Female  Between 30 to 60              Bed   \n",
       "165       1005  Female  Between 30 to 60             Wake   \n",
       "166       1005  Female  Between 30 to 60          Morning   \n",
       "167       1005  Female  Between 30 to 60        Afternoon   \n",
       "168       1005  Female  Between 30 to 60          Evening   \n",
       "169       1005  Female  Between 30 to 60              Bed   \n",
       "170       1005  Female  Between 30 to 60             Wake   \n",
       "171       1005  Female  Between 30 to 60          Morning   \n",
       "172       1005  Female  Between 30 to 60        Afternoon   \n",
       "173       1005  Female  Between 30 to 60          Evening   \n",
       "174       1005  Female  Between 30 to 60              Bed   \n",
       "\n",
       "    Patient_Interval_Number    Pain_Score   Action_Pain Fatigue_Score  \\\n",
       "140                       1        Higher      Recorded        Normal   \n",
       "141                       2        Higher      Recorded         Lower   \n",
       "142                       3        Higher      Recorded        Normal   \n",
       "143                       4        Higher      Recorded        Normal   \n",
       "144                       5        Higher      Recorded        Normal   \n",
       "145                       6        Normal      Recorded         Lower   \n",
       "146                       7        Normal      Recorded         Lower   \n",
       "147                       8         Lower      Recorded         Lower   \n",
       "148                       9        Normal      Recorded         Lower   \n",
       "149                      10        Normal      Recorded        Normal   \n",
       "150                      11        Higher      Recorded        Higher   \n",
       "151                      12        Normal      Recorded        Normal   \n",
       "152                      13        Higher      Recorded        Normal   \n",
       "153                      14        Higher      Recorded         Lower   \n",
       "154                      15        Normal      Recorded        Normal   \n",
       "155                      16         Lower      Recorded        Higher   \n",
       "156                      17        Normal      Recorded         Lower   \n",
       "157                      18        Normal  Not Recorded         Lower   \n",
       "158                      19  Not Recorded      Recorded  Not Recorded   \n",
       "159                      20        Higher      Recorded        Normal   \n",
       "160                      21         Lower  Not Recorded        Normal   \n",
       "161                      22  Not Recorded      Recorded  Not Recorded   \n",
       "162                      23         Lower      Recorded        Normal   \n",
       "163                      24        Normal      Recorded        Normal   \n",
       "164                      25         Lower      Recorded        Higher   \n",
       "165                      26         Lower      Recorded        Normal   \n",
       "166                      27        Normal      Recorded        Normal   \n",
       "167                      28         Lower      Recorded        Normal   \n",
       "168                      29        Normal      Recorded         Lower   \n",
       "169                      30        Normal      Recorded        Normal   \n",
       "170                      31        Higher      Recorded        Normal   \n",
       "171                      32        Normal      Recorded         Lower   \n",
       "172                      33        Normal      Recorded        Normal   \n",
       "173                      34        Higher      Recorded        Normal   \n",
       "174                      35         Lower    Last State        Normal   \n",
       "\n",
       "    Action_Fatigue Last_Activitybout_State Current_Activitybout_Action  \\\n",
       "140       Recorded            Not Recorded                      Normal   \n",
       "141       Recorded                  Normal                      Higher   \n",
       "142       Recorded                  Higher                       Lower   \n",
       "143       Recorded                   Lower                       Lower   \n",
       "144       Recorded                   Lower                      Higher   \n",
       "145       Recorded                  Higher                      Higher   \n",
       "146       Recorded                  Higher                      Normal   \n",
       "147       Recorded                  Normal                       Lower   \n",
       "148       Recorded                   Lower                       Lower   \n",
       "149       Recorded                   Lower                      Normal   \n",
       "150       Recorded                  Normal                      Normal   \n",
       "151       Recorded                  Normal                       Lower   \n",
       "152       Recorded                   Lower                      Normal   \n",
       "153       Recorded                  Normal                      Normal   \n",
       "154       Recorded                  Normal                       Lower   \n",
       "155       Recorded                   Lower                      Normal   \n",
       "156       Recorded                  Normal                       Lower   \n",
       "157   Not Recorded                   Lower                      Higher   \n",
       "158       Recorded                  Higher                      Normal   \n",
       "159       Recorded                  Normal                       Lower   \n",
       "160   Not Recorded                   Lower                      Normal   \n",
       "161       Recorded                  Normal                      Higher   \n",
       "162       Recorded                  Higher                      Higher   \n",
       "163       Recorded                  Higher                      Normal   \n",
       "164       Recorded                  Normal                      Normal   \n",
       "165       Recorded                  Normal                       Lower   \n",
       "166       Recorded                   Lower                      Higher   \n",
       "167       Recorded                  Higher                      Higher   \n",
       "168       Recorded                  Higher                       Lower   \n",
       "169       Recorded                   Lower                       Lower   \n",
       "170       Recorded                   Lower                      Higher   \n",
       "171       Recorded                  Higher                      Higher   \n",
       "172       Recorded                  Higher                      Higher   \n",
       "173       Recorded                  Higher                      Higher   \n",
       "174     Last State                  Higher                  Last State   \n",
       "\n",
       "    EOD_PAW  Action_PAW  \n",
       "140    None        None  \n",
       "141    None        None  \n",
       "142    None        None  \n",
       "143    None    Recorded  \n",
       "144  Normal        None  \n",
       "145    None        None  \n",
       "146    None        None  \n",
       "147    None        None  \n",
       "148    None    Recorded  \n",
       "149  Normal        None  \n",
       "150    None        None  \n",
       "151    None        None  \n",
       "152    None        None  \n",
       "153    None    Recorded  \n",
       "154   Lower        None  \n",
       "155    None        None  \n",
       "156    None        None  \n",
       "157    None        None  \n",
       "158    None    Recorded  \n",
       "159   Lower        None  \n",
       "160    None        None  \n",
       "161    None        None  \n",
       "162    None        None  \n",
       "163    None    Recorded  \n",
       "164  Normal        None  \n",
       "165    None        None  \n",
       "166    None        None  \n",
       "167    None        None  \n",
       "168    None    Recorded  \n",
       "169  Normal        None  \n",
       "170    None        None  \n",
       "171    None        None  \n",
       "172    None        None  \n",
       "173    None    Recorded  \n",
       "174  Normal  Last State  "
      ]
     },
     "execution_count": 6,
     "metadata": {},
     "output_type": "execute_result"
    }
   ],
   "source": [
    "data_full[data_full[\"Patient_ID\"] == \"1005\"]"
   ]
  },
  {
   "cell_type": "code",
   "execution_count": 7,
   "metadata": {
    "ExecuteTime": {
     "end_time": "2020-04-29T19:11:58.521497Z",
     "start_time": "2020-04-29T19:11:58.482336Z"
    }
   },
   "outputs": [],
   "source": [
    "data_features_new = data_features.drop(data_features[(data_features['Patient_Interval_Number'] <30) | (data_features['Patient_Interval_Number'] == 35)].index).reset_index(drop=True)\n",
    "data_features_dummy = data_features.drop(data_features[(data_features['Patient_Interval_Number'] <31)].index).reset_index(drop=True)\n",
    "data_features_new[\"Next_Pain\"] = data_features_dummy[\"Pain_Score\"]\n",
    "data_features_new[\"Next_Fatigue\"] = data_features_dummy[\"Fatigue_Score\"]\n",
    "data_features_new[\"Next_PAW\"] = data_features_dummy[\"EOD_PAW\"]\n",
    "data_features_new.rename(columns={\"Daytime_Interval\": \"Current_Daytime_Interval\", \"Pain_Score\": \"Current_Pain\", \"Action_Pain\":\"Record_Next_Pain\", \"Fatigue_Score\":\"Current_Fatigue\", \"Action_Fatigue\":\"Record_Next_Fatigue\", \"Last_Activitybout_State\":\"Last_Acbout\", \"Current_Activitybout_Action\":\"Current_Acbout\", \"Action_PAW\":\"Record_Next_PAW\"}, inplace = True)\n",
    "data_features_true = data_features_new.copy()\n",
    "data_features_true.fillna(value=\"None\", inplace = True)\n",
    "data_features_new.drop(columns = [\"Patient_ID\", \"Patient_Interval_Number\", \"EOD_PAW\"], inplace = True)\n",
    "############### Replace. None-> \"None\" ####\n",
    "data_features_new.fillna(value=\"None\", inplace = True)"
   ]
  },
  {
   "cell_type": "code",
   "execution_count": 8,
   "metadata": {
    "ExecuteTime": {
     "end_time": "2020-04-29T19:11:58.551339Z",
     "start_time": "2020-04-29T19:11:58.523294Z"
    }
   },
   "outputs": [
    {
     "data": {
      "text/html": [
       "<div>\n",
       "<style scoped>\n",
       "    .dataframe tbody tr th:only-of-type {\n",
       "        vertical-align: middle;\n",
       "    }\n",
       "\n",
       "    .dataframe tbody tr th {\n",
       "        vertical-align: top;\n",
       "    }\n",
       "\n",
       "    .dataframe thead th {\n",
       "        text-align: right;\n",
       "    }\n",
       "</style>\n",
       "<table border=\"1\" class=\"dataframe\">\n",
       "  <thead>\n",
       "    <tr style=\"text-align: right;\">\n",
       "      <th></th>\n",
       "      <th>Gender</th>\n",
       "      <th>Age</th>\n",
       "      <th>Start_Day_Anna</th>\n",
       "      <th>Education</th>\n",
       "      <th>Living_Alone</th>\n",
       "      <th>Work</th>\n",
       "      <th>Use_Mobility_Aids</th>\n",
       "      <th>MS_Subtype</th>\n",
       "      <th>How_long</th>\n",
       "      <th>Start_Date</th>\n",
       "      <th>...</th>\n",
       "      <th>Action_fatigue</th>\n",
       "      <th>Action_Cognition</th>\n",
       "      <th>Action_Depression</th>\n",
       "      <th>Record_Next_PAW</th>\n",
       "      <th>Action_SRA</th>\n",
       "      <th>Action_UE</th>\n",
       "      <th>Action_LE</th>\n",
       "      <th>Next_Pain</th>\n",
       "      <th>Next_Fatigue</th>\n",
       "      <th>Next_PAW</th>\n",
       "    </tr>\n",
       "  </thead>\n",
       "  <tbody>\n",
       "    <tr>\n",
       "      <th>0</th>\n",
       "      <td>Female</td>\n",
       "      <td>50 and Older</td>\n",
       "      <td>Mon</td>\n",
       "      <td>College or Technical School</td>\n",
       "      <td>Yes</td>\n",
       "      <td>Unemployed</td>\n",
       "      <td>No</td>\n",
       "      <td>Relapsing Remitting</td>\n",
       "      <td>Less than 5 Years</td>\n",
       "      <td>2014-10-13</td>\n",
       "      <td>...</td>\n",
       "      <td>Not Recorded</td>\n",
       "      <td>Not Recorded</td>\n",
       "      <td>Not Recorded</td>\n",
       "      <td>Not Recorded</td>\n",
       "      <td>Not Recorded</td>\n",
       "      <td>Not Recorded</td>\n",
       "      <td>Not Recorded</td>\n",
       "      <td>Not Recorded</td>\n",
       "      <td>Not Recorded</td>\n",
       "      <td>Not Recorded</td>\n",
       "    </tr>\n",
       "    <tr>\n",
       "      <th>1</th>\n",
       "      <td>Female</td>\n",
       "      <td>50 and Older</td>\n",
       "      <td>Tue</td>\n",
       "      <td>College or Technical School</td>\n",
       "      <td>Yes</td>\n",
       "      <td>Unemployed</td>\n",
       "      <td>No</td>\n",
       "      <td>Relapsing Remitting</td>\n",
       "      <td>Less than 5 Years</td>\n",
       "      <td>2014-10-14</td>\n",
       "      <td>...</td>\n",
       "      <td>Not Recorded</td>\n",
       "      <td>Not Recorded</td>\n",
       "      <td>Not Recorded</td>\n",
       "      <td>Not Recorded</td>\n",
       "      <td>Not Recorded</td>\n",
       "      <td>Not Recorded</td>\n",
       "      <td>Not Recorded</td>\n",
       "      <td>Not Recorded</td>\n",
       "      <td>Not Recorded</td>\n",
       "      <td>Not Recorded</td>\n",
       "    </tr>\n",
       "    <tr>\n",
       "      <th>2</th>\n",
       "      <td>Female</td>\n",
       "      <td>50 and Older</td>\n",
       "      <td>Tue</td>\n",
       "      <td>College or Technical School</td>\n",
       "      <td>Yes</td>\n",
       "      <td>Unemployed</td>\n",
       "      <td>No</td>\n",
       "      <td>Relapsing Remitting</td>\n",
       "      <td>Less than 5 Years</td>\n",
       "      <td>2014-10-14</td>\n",
       "      <td>...</td>\n",
       "      <td>Recorded</td>\n",
       "      <td>Recorded</td>\n",
       "      <td>Recorded</td>\n",
       "      <td>Not Recorded</td>\n",
       "      <td>Not Recorded</td>\n",
       "      <td>Not Recorded</td>\n",
       "      <td>Not Recorded</td>\n",
       "      <td>Low</td>\n",
       "      <td>Low</td>\n",
       "      <td>Not Recorded</td>\n",
       "    </tr>\n",
       "    <tr>\n",
       "      <th>3</th>\n",
       "      <td>Female</td>\n",
       "      <td>50 and Older</td>\n",
       "      <td>Tue</td>\n",
       "      <td>College or Technical School</td>\n",
       "      <td>Yes</td>\n",
       "      <td>Unemployed</td>\n",
       "      <td>No</td>\n",
       "      <td>Relapsing Remitting</td>\n",
       "      <td>Less than 5 Years</td>\n",
       "      <td>2014-10-14</td>\n",
       "      <td>...</td>\n",
       "      <td>Recorded</td>\n",
       "      <td>Recorded</td>\n",
       "      <td>Recorded</td>\n",
       "      <td>Not Recorded</td>\n",
       "      <td>Not Recorded</td>\n",
       "      <td>Not Recorded</td>\n",
       "      <td>Not Recorded</td>\n",
       "      <td>Low</td>\n",
       "      <td>Low</td>\n",
       "      <td>Not Recorded</td>\n",
       "    </tr>\n",
       "    <tr>\n",
       "      <th>4</th>\n",
       "      <td>Female</td>\n",
       "      <td>50 and Older</td>\n",
       "      <td>Tue</td>\n",
       "      <td>College or Technical School</td>\n",
       "      <td>Yes</td>\n",
       "      <td>Unemployed</td>\n",
       "      <td>No</td>\n",
       "      <td>Relapsing Remitting</td>\n",
       "      <td>Less than 5 Years</td>\n",
       "      <td>2014-10-14</td>\n",
       "      <td>...</td>\n",
       "      <td>Recorded</td>\n",
       "      <td>Recorded</td>\n",
       "      <td>Recorded</td>\n",
       "      <td>Recorded</td>\n",
       "      <td>Recorded</td>\n",
       "      <td>Recorded</td>\n",
       "      <td>Recorded</td>\n",
       "      <td>Low</td>\n",
       "      <td>Low</td>\n",
       "      <td>Moderate</td>\n",
       "    </tr>\n",
       "    <tr>\n",
       "      <th>...</th>\n",
       "      <td>...</td>\n",
       "      <td>...</td>\n",
       "      <td>...</td>\n",
       "      <td>...</td>\n",
       "      <td>...</td>\n",
       "      <td>...</td>\n",
       "      <td>...</td>\n",
       "      <td>...</td>\n",
       "      <td>...</td>\n",
       "      <td>...</td>\n",
       "      <td>...</td>\n",
       "      <td>...</td>\n",
       "      <td>...</td>\n",
       "      <td>...</td>\n",
       "      <td>...</td>\n",
       "      <td>...</td>\n",
       "      <td>...</td>\n",
       "      <td>...</td>\n",
       "      <td>...</td>\n",
       "      <td>...</td>\n",
       "      <td>...</td>\n",
       "    </tr>\n",
       "    <tr>\n",
       "      <th>530</th>\n",
       "      <td>Female</td>\n",
       "      <td>Between 20 to 50</td>\n",
       "      <td>Wed</td>\n",
       "      <td>High School or Less</td>\n",
       "      <td>No</td>\n",
       "      <td>Unemployed</td>\n",
       "      <td>No</td>\n",
       "      <td>Relapsing Remitting</td>\n",
       "      <td>More than 9 Years</td>\n",
       "      <td>2016-04-06</td>\n",
       "      <td>...</td>\n",
       "      <td>Not Recorded</td>\n",
       "      <td>Not Recorded</td>\n",
       "      <td>Not Recorded</td>\n",
       "      <td>Not Recorded</td>\n",
       "      <td>Not Recorded</td>\n",
       "      <td>Not Recorded</td>\n",
       "      <td>Not Recorded</td>\n",
       "      <td>Not Recorded</td>\n",
       "      <td>Not Recorded</td>\n",
       "      <td>Not Recorded</td>\n",
       "    </tr>\n",
       "    <tr>\n",
       "      <th>531</th>\n",
       "      <td>Female</td>\n",
       "      <td>Between 20 to 50</td>\n",
       "      <td>Thu</td>\n",
       "      <td>High School or Less</td>\n",
       "      <td>No</td>\n",
       "      <td>Unemployed</td>\n",
       "      <td>No</td>\n",
       "      <td>Relapsing Remitting</td>\n",
       "      <td>More than 9 Years</td>\n",
       "      <td>2016-04-07</td>\n",
       "      <td>...</td>\n",
       "      <td>Recorded</td>\n",
       "      <td>Recorded</td>\n",
       "      <td>Recorded</td>\n",
       "      <td>Not Recorded</td>\n",
       "      <td>Not Recorded</td>\n",
       "      <td>Not Recorded</td>\n",
       "      <td>Not Recorded</td>\n",
       "      <td>Low</td>\n",
       "      <td>High</td>\n",
       "      <td>Not Recorded</td>\n",
       "    </tr>\n",
       "    <tr>\n",
       "      <th>532</th>\n",
       "      <td>Female</td>\n",
       "      <td>Between 20 to 50</td>\n",
       "      <td>Thu</td>\n",
       "      <td>High School or Less</td>\n",
       "      <td>No</td>\n",
       "      <td>Unemployed</td>\n",
       "      <td>No</td>\n",
       "      <td>Relapsing Remitting</td>\n",
       "      <td>More than 9 Years</td>\n",
       "      <td>2016-04-07</td>\n",
       "      <td>...</td>\n",
       "      <td>Recorded</td>\n",
       "      <td>Recorded</td>\n",
       "      <td>Recorded</td>\n",
       "      <td>Not Recorded</td>\n",
       "      <td>Not Recorded</td>\n",
       "      <td>Not Recorded</td>\n",
       "      <td>Not Recorded</td>\n",
       "      <td>Moderate</td>\n",
       "      <td>Moderate</td>\n",
       "      <td>Not Recorded</td>\n",
       "    </tr>\n",
       "    <tr>\n",
       "      <th>533</th>\n",
       "      <td>Female</td>\n",
       "      <td>Between 20 to 50</td>\n",
       "      <td>Thu</td>\n",
       "      <td>High School or Less</td>\n",
       "      <td>No</td>\n",
       "      <td>Unemployed</td>\n",
       "      <td>No</td>\n",
       "      <td>Relapsing Remitting</td>\n",
       "      <td>More than 9 Years</td>\n",
       "      <td>2016-04-07</td>\n",
       "      <td>...</td>\n",
       "      <td>Not Recorded</td>\n",
       "      <td>Not Recorded</td>\n",
       "      <td>Not Recorded</td>\n",
       "      <td>Not Recorded</td>\n",
       "      <td>Not Recorded</td>\n",
       "      <td>Not Recorded</td>\n",
       "      <td>Not Recorded</td>\n",
       "      <td>Not Recorded</td>\n",
       "      <td>Not Recorded</td>\n",
       "      <td>Not Recorded</td>\n",
       "    </tr>\n",
       "    <tr>\n",
       "      <th>534</th>\n",
       "      <td>Female</td>\n",
       "      <td>Between 20 to 50</td>\n",
       "      <td>Thu</td>\n",
       "      <td>High School or Less</td>\n",
       "      <td>No</td>\n",
       "      <td>Unemployed</td>\n",
       "      <td>No</td>\n",
       "      <td>Relapsing Remitting</td>\n",
       "      <td>More than 9 Years</td>\n",
       "      <td>2016-04-07</td>\n",
       "      <td>...</td>\n",
       "      <td>Not Recorded</td>\n",
       "      <td>Not Recorded</td>\n",
       "      <td>Not Recorded</td>\n",
       "      <td>Not Recorded</td>\n",
       "      <td>Not Recorded</td>\n",
       "      <td>Not Recorded</td>\n",
       "      <td>Not Recorded</td>\n",
       "      <td>Not Recorded</td>\n",
       "      <td>Not Recorded</td>\n",
       "      <td>Not Recorded</td>\n",
       "    </tr>\n",
       "  </tbody>\n",
       "</table>\n",
       "<p>535 rows × 33 columns</p>\n",
       "</div>"
      ],
      "text/plain": [
       "     Gender               Age Start_Day_Anna                    Education  \\\n",
       "0    Female      50 and Older            Mon  College or Technical School   \n",
       "1    Female      50 and Older            Tue  College or Technical School   \n",
       "2    Female      50 and Older            Tue  College or Technical School   \n",
       "3    Female      50 and Older            Tue  College or Technical School   \n",
       "4    Female      50 and Older            Tue  College or Technical School   \n",
       "..      ...               ...            ...                          ...   \n",
       "530  Female  Between 20 to 50            Wed          High School or Less   \n",
       "531  Female  Between 20 to 50            Thu          High School or Less   \n",
       "532  Female  Between 20 to 50            Thu          High School or Less   \n",
       "533  Female  Between 20 to 50            Thu          High School or Less   \n",
       "534  Female  Between 20 to 50            Thu          High School or Less   \n",
       "\n",
       "    Living_Alone        Work Use_Mobility_Aids           MS_Subtype  \\\n",
       "0            Yes  Unemployed                No  Relapsing Remitting   \n",
       "1            Yes  Unemployed                No  Relapsing Remitting   \n",
       "2            Yes  Unemployed                No  Relapsing Remitting   \n",
       "3            Yes  Unemployed                No  Relapsing Remitting   \n",
       "4            Yes  Unemployed                No  Relapsing Remitting   \n",
       "..           ...         ...               ...                  ...   \n",
       "530           No  Unemployed                No  Relapsing Remitting   \n",
       "531           No  Unemployed                No  Relapsing Remitting   \n",
       "532           No  Unemployed                No  Relapsing Remitting   \n",
       "533           No  Unemployed                No  Relapsing Remitting   \n",
       "534           No  Unemployed                No  Relapsing Remitting   \n",
       "\n",
       "              How_long  Start_Date  ... Action_fatigue Action_Cognition  \\\n",
       "0    Less than 5 Years  2014-10-13  ...   Not Recorded     Not Recorded   \n",
       "1    Less than 5 Years  2014-10-14  ...   Not Recorded     Not Recorded   \n",
       "2    Less than 5 Years  2014-10-14  ...       Recorded         Recorded   \n",
       "3    Less than 5 Years  2014-10-14  ...       Recorded         Recorded   \n",
       "4    Less than 5 Years  2014-10-14  ...       Recorded         Recorded   \n",
       "..                 ...         ...  ...            ...              ...   \n",
       "530  More than 9 Years  2016-04-06  ...   Not Recorded     Not Recorded   \n",
       "531  More than 9 Years  2016-04-07  ...       Recorded         Recorded   \n",
       "532  More than 9 Years  2016-04-07  ...       Recorded         Recorded   \n",
       "533  More than 9 Years  2016-04-07  ...   Not Recorded     Not Recorded   \n",
       "534  More than 9 Years  2016-04-07  ...   Not Recorded     Not Recorded   \n",
       "\n",
       "    Action_Depression Record_Next_PAW    Action_SRA     Action_UE  \\\n",
       "0        Not Recorded    Not Recorded  Not Recorded  Not Recorded   \n",
       "1        Not Recorded    Not Recorded  Not Recorded  Not Recorded   \n",
       "2            Recorded    Not Recorded  Not Recorded  Not Recorded   \n",
       "3            Recorded    Not Recorded  Not Recorded  Not Recorded   \n",
       "4            Recorded        Recorded      Recorded      Recorded   \n",
       "..                ...             ...           ...           ...   \n",
       "530      Not Recorded    Not Recorded  Not Recorded  Not Recorded   \n",
       "531          Recorded    Not Recorded  Not Recorded  Not Recorded   \n",
       "532          Recorded    Not Recorded  Not Recorded  Not Recorded   \n",
       "533      Not Recorded    Not Recorded  Not Recorded  Not Recorded   \n",
       "534      Not Recorded    Not Recorded  Not Recorded  Not Recorded   \n",
       "\n",
       "        Action_LE     Next_Pain  Next_Fatigue      Next_PAW  \n",
       "0    Not Recorded  Not Recorded  Not Recorded  Not Recorded  \n",
       "1    Not Recorded  Not Recorded  Not Recorded  Not Recorded  \n",
       "2    Not Recorded           Low           Low  Not Recorded  \n",
       "3    Not Recorded           Low           Low  Not Recorded  \n",
       "4        Recorded           Low           Low      Moderate  \n",
       "..            ...           ...           ...           ...  \n",
       "530  Not Recorded  Not Recorded  Not Recorded  Not Recorded  \n",
       "531  Not Recorded           Low          High  Not Recorded  \n",
       "532  Not Recorded      Moderate      Moderate  Not Recorded  \n",
       "533  Not Recorded  Not Recorded  Not Recorded  Not Recorded  \n",
       "534  Not Recorded  Not Recorded  Not Recorded  Not Recorded  \n",
       "\n",
       "[535 rows x 33 columns]"
      ]
     },
     "execution_count": 8,
     "metadata": {},
     "output_type": "execute_result"
    }
   ],
   "source": [
    "data_features_new"
   ]
  },
  {
   "cell_type": "code",
   "execution_count": 9,
   "metadata": {
    "ExecuteTime": {
     "end_time": "2020-04-29T19:11:58.579397Z",
     "start_time": "2020-04-29T19:11:58.553036Z"
    }
   },
   "outputs": [],
   "source": [
    "# data_full_new = data_full[data_full['Patient_Interval_Number'] >31 and data_full['Patient_Interval_Number'] <35] \n",
    "data_full_new = data_full.drop(data_full[(data_full['Patient_Interval_Number'] <30) | (data_full['Patient_Interval_Number'] == 35)].index).reset_index(drop=True)\n",
    "data_full_dummy = data_full.drop(data_full[(data_full['Patient_Interval_Number'] <31)].index).reset_index(drop=True)\n",
    "data_full_new[\"Next_Pain\"] = data_full_dummy[\"Pain_Score\"]\n",
    "data_full_new[\"Next_Fatigue\"] = data_full_dummy[\"Fatigue_Score\"]\n",
    "data_full_new[\"Next_PAW\"] = data_full_dummy[\"EOD_PAW\"]\n",
    "data_full_new.rename(columns={\"Daytime_Interval\": \"Current_Daytime_Interval\", \"Pain_Score\": \"Current_Pain\", \"Action_Pain\":\"Record_Next_Pain\", \"Fatigue_Score\":\"Current_Fatigue\", \"Action_Fatigue\":\"Record_Next_Fatigue\", \"Last_Activitybout_State\":\"Last_Acbout\", \"Current_Activitybout_Action\":\"Current_Acbout\", \"Action_PAW\":\"Record_Next_PAW\"}, inplace = True)\n",
    "data_full_true = data_full_new.copy()\n",
    "data_full_true.fillna(value=\"None\", inplace = True)\n",
    "data_full_new.drop(columns = [\"Patient_ID\", \"Patient_Interval_Number\", \"EOD_PAW\"], inplace = True)\n",
    "############### Replace. None-> \"None\" ####\n",
    "data_full_new.fillna(value=\"None\", inplace = True)\n",
    "\n",
    "\n",
    "\n",
    "\n"
   ]
  },
  {
   "cell_type": "code",
   "execution_count": 10,
   "metadata": {
    "ExecuteTime": {
     "end_time": "2020-04-29T19:11:58.601628Z",
     "start_time": "2020-04-29T19:11:58.580917Z"
    }
   },
   "outputs": [
    {
     "data": {
      "text/html": [
       "<div>\n",
       "<style scoped>\n",
       "    .dataframe tbody tr th:only-of-type {\n",
       "        vertical-align: middle;\n",
       "    }\n",
       "\n",
       "    .dataframe tbody tr th {\n",
       "        vertical-align: top;\n",
       "    }\n",
       "\n",
       "    .dataframe thead th {\n",
       "        text-align: right;\n",
       "    }\n",
       "</style>\n",
       "<table border=\"1\" class=\"dataframe\">\n",
       "  <thead>\n",
       "    <tr style=\"text-align: right;\">\n",
       "      <th></th>\n",
       "      <th>Gender</th>\n",
       "      <th>Age</th>\n",
       "      <th>Current_Daytime_Interval</th>\n",
       "      <th>Current_Pain</th>\n",
       "      <th>Record_Next_Pain</th>\n",
       "      <th>Current_Fatigue</th>\n",
       "      <th>Record_Next_Fatigue</th>\n",
       "      <th>Last_Acbout</th>\n",
       "      <th>Current_Acbout</th>\n",
       "      <th>Record_Next_PAW</th>\n",
       "      <th>Next_Pain</th>\n",
       "      <th>Next_Fatigue</th>\n",
       "      <th>Next_PAW</th>\n",
       "    </tr>\n",
       "  </thead>\n",
       "  <tbody>\n",
       "    <tr>\n",
       "      <th>0</th>\n",
       "      <td>Female</td>\n",
       "      <td>Between 30 to 60</td>\n",
       "      <td>Bed</td>\n",
       "      <td>Normal</td>\n",
       "      <td>Not Recorded</td>\n",
       "      <td>Higher</td>\n",
       "      <td>Not Recorded</td>\n",
       "      <td>Normal</td>\n",
       "      <td>Lower</td>\n",
       "      <td>None</td>\n",
       "      <td>Not Recorded</td>\n",
       "      <td>Not Recorded</td>\n",
       "      <td>None</td>\n",
       "    </tr>\n",
       "    <tr>\n",
       "      <th>1</th>\n",
       "      <td>Female</td>\n",
       "      <td>Between 30 to 60</td>\n",
       "      <td>Wake</td>\n",
       "      <td>Not Recorded</td>\n",
       "      <td>Not Recorded</td>\n",
       "      <td>Not Recorded</td>\n",
       "      <td>Not Recorded</td>\n",
       "      <td>Lower</td>\n",
       "      <td>Lower</td>\n",
       "      <td>None</td>\n",
       "      <td>Not Recorded</td>\n",
       "      <td>Not Recorded</td>\n",
       "      <td>None</td>\n",
       "    </tr>\n",
       "    <tr>\n",
       "      <th>2</th>\n",
       "      <td>Female</td>\n",
       "      <td>Between 30 to 60</td>\n",
       "      <td>Morning</td>\n",
       "      <td>Not Recorded</td>\n",
       "      <td>Recorded</td>\n",
       "      <td>Not Recorded</td>\n",
       "      <td>Recorded</td>\n",
       "      <td>Lower</td>\n",
       "      <td>Lower</td>\n",
       "      <td>None</td>\n",
       "      <td>Higher</td>\n",
       "      <td>Normal</td>\n",
       "      <td>None</td>\n",
       "    </tr>\n",
       "    <tr>\n",
       "      <th>3</th>\n",
       "      <td>Female</td>\n",
       "      <td>Between 30 to 60</td>\n",
       "      <td>Afternoon</td>\n",
       "      <td>Higher</td>\n",
       "      <td>Recorded</td>\n",
       "      <td>Normal</td>\n",
       "      <td>Recorded</td>\n",
       "      <td>Lower</td>\n",
       "      <td>Lower</td>\n",
       "      <td>None</td>\n",
       "      <td>Normal</td>\n",
       "      <td>Normal</td>\n",
       "      <td>None</td>\n",
       "    </tr>\n",
       "    <tr>\n",
       "      <th>4</th>\n",
       "      <td>Female</td>\n",
       "      <td>Between 30 to 60</td>\n",
       "      <td>Evening</td>\n",
       "      <td>Normal</td>\n",
       "      <td>Recorded</td>\n",
       "      <td>Normal</td>\n",
       "      <td>Recorded</td>\n",
       "      <td>Lower</td>\n",
       "      <td>Normal</td>\n",
       "      <td>Recorded</td>\n",
       "      <td>Normal</td>\n",
       "      <td>Normal</td>\n",
       "      <td>Normal</td>\n",
       "    </tr>\n",
       "    <tr>\n",
       "      <th>...</th>\n",
       "      <td>...</td>\n",
       "      <td>...</td>\n",
       "      <td>...</td>\n",
       "      <td>...</td>\n",
       "      <td>...</td>\n",
       "      <td>...</td>\n",
       "      <td>...</td>\n",
       "      <td>...</td>\n",
       "      <td>...</td>\n",
       "      <td>...</td>\n",
       "      <td>...</td>\n",
       "      <td>...</td>\n",
       "      <td>...</td>\n",
       "    </tr>\n",
       "    <tr>\n",
       "      <th>530</th>\n",
       "      <td>Female</td>\n",
       "      <td>Between 30 to 60</td>\n",
       "      <td>Bed</td>\n",
       "      <td>Not Recorded</td>\n",
       "      <td>Not Recorded</td>\n",
       "      <td>Not Recorded</td>\n",
       "      <td>Not Recorded</td>\n",
       "      <td>Higher</td>\n",
       "      <td>Higher</td>\n",
       "      <td>None</td>\n",
       "      <td>Not Recorded</td>\n",
       "      <td>Not Recorded</td>\n",
       "      <td>None</td>\n",
       "    </tr>\n",
       "    <tr>\n",
       "      <th>531</th>\n",
       "      <td>Female</td>\n",
       "      <td>Between 30 to 60</td>\n",
       "      <td>Wake</td>\n",
       "      <td>Not Recorded</td>\n",
       "      <td>Recorded</td>\n",
       "      <td>Not Recorded</td>\n",
       "      <td>Recorded</td>\n",
       "      <td>Higher</td>\n",
       "      <td>Lower</td>\n",
       "      <td>None</td>\n",
       "      <td>Lower</td>\n",
       "      <td>Higher</td>\n",
       "      <td>None</td>\n",
       "    </tr>\n",
       "    <tr>\n",
       "      <th>532</th>\n",
       "      <td>Female</td>\n",
       "      <td>Between 30 to 60</td>\n",
       "      <td>Morning</td>\n",
       "      <td>Lower</td>\n",
       "      <td>Recorded</td>\n",
       "      <td>Higher</td>\n",
       "      <td>Recorded</td>\n",
       "      <td>Lower</td>\n",
       "      <td>Lower</td>\n",
       "      <td>None</td>\n",
       "      <td>Normal</td>\n",
       "      <td>Normal</td>\n",
       "      <td>None</td>\n",
       "    </tr>\n",
       "    <tr>\n",
       "      <th>533</th>\n",
       "      <td>Female</td>\n",
       "      <td>Between 30 to 60</td>\n",
       "      <td>Afternoon</td>\n",
       "      <td>Normal</td>\n",
       "      <td>Not Recorded</td>\n",
       "      <td>Normal</td>\n",
       "      <td>Not Recorded</td>\n",
       "      <td>Lower</td>\n",
       "      <td>Higher</td>\n",
       "      <td>None</td>\n",
       "      <td>Not Recorded</td>\n",
       "      <td>Not Recorded</td>\n",
       "      <td>None</td>\n",
       "    </tr>\n",
       "    <tr>\n",
       "      <th>534</th>\n",
       "      <td>Female</td>\n",
       "      <td>Between 30 to 60</td>\n",
       "      <td>Evening</td>\n",
       "      <td>Not Recorded</td>\n",
       "      <td>Not Recorded</td>\n",
       "      <td>Not Recorded</td>\n",
       "      <td>Not Recorded</td>\n",
       "      <td>Higher</td>\n",
       "      <td>Lower</td>\n",
       "      <td>Not Recorded</td>\n",
       "      <td>Not Recorded</td>\n",
       "      <td>Not Recorded</td>\n",
       "      <td>Not Recorded</td>\n",
       "    </tr>\n",
       "  </tbody>\n",
       "</table>\n",
       "<p>535 rows × 13 columns</p>\n",
       "</div>"
      ],
      "text/plain": [
       "     Gender               Age Current_Daytime_Interval  Current_Pain  \\\n",
       "0    Female  Between 30 to 60                      Bed        Normal   \n",
       "1    Female  Between 30 to 60                     Wake  Not Recorded   \n",
       "2    Female  Between 30 to 60                  Morning  Not Recorded   \n",
       "3    Female  Between 30 to 60                Afternoon        Higher   \n",
       "4    Female  Between 30 to 60                  Evening        Normal   \n",
       "..      ...               ...                      ...           ...   \n",
       "530  Female  Between 30 to 60                      Bed  Not Recorded   \n",
       "531  Female  Between 30 to 60                     Wake  Not Recorded   \n",
       "532  Female  Between 30 to 60                  Morning         Lower   \n",
       "533  Female  Between 30 to 60                Afternoon        Normal   \n",
       "534  Female  Between 30 to 60                  Evening  Not Recorded   \n",
       "\n",
       "    Record_Next_Pain Current_Fatigue Record_Next_Fatigue Last_Acbout  \\\n",
       "0       Not Recorded          Higher        Not Recorded      Normal   \n",
       "1       Not Recorded    Not Recorded        Not Recorded       Lower   \n",
       "2           Recorded    Not Recorded            Recorded       Lower   \n",
       "3           Recorded          Normal            Recorded       Lower   \n",
       "4           Recorded          Normal            Recorded       Lower   \n",
       "..               ...             ...                 ...         ...   \n",
       "530     Not Recorded    Not Recorded        Not Recorded      Higher   \n",
       "531         Recorded    Not Recorded            Recorded      Higher   \n",
       "532         Recorded          Higher            Recorded       Lower   \n",
       "533     Not Recorded          Normal        Not Recorded       Lower   \n",
       "534     Not Recorded    Not Recorded        Not Recorded      Higher   \n",
       "\n",
       "    Current_Acbout Record_Next_PAW     Next_Pain  Next_Fatigue      Next_PAW  \n",
       "0            Lower            None  Not Recorded  Not Recorded          None  \n",
       "1            Lower            None  Not Recorded  Not Recorded          None  \n",
       "2            Lower            None        Higher        Normal          None  \n",
       "3            Lower            None        Normal        Normal          None  \n",
       "4           Normal        Recorded        Normal        Normal        Normal  \n",
       "..             ...             ...           ...           ...           ...  \n",
       "530         Higher            None  Not Recorded  Not Recorded          None  \n",
       "531          Lower            None         Lower        Higher          None  \n",
       "532          Lower            None        Normal        Normal          None  \n",
       "533         Higher            None  Not Recorded  Not Recorded          None  \n",
       "534          Lower    Not Recorded  Not Recorded  Not Recorded  Not Recorded  \n",
       "\n",
       "[535 rows x 13 columns]"
      ]
     },
     "execution_count": 10,
     "metadata": {},
     "output_type": "execute_result"
    }
   ],
   "source": [
    "data_full_new"
   ]
  },
  {
   "cell_type": "code",
   "execution_count": 11,
   "metadata": {
    "ExecuteTime": {
     "end_time": "2020-04-29T19:11:58.609411Z",
     "start_time": "2020-04-29T19:11:58.603719Z"
    }
   },
   "outputs": [
    {
     "name": "stdout",
     "output_type": "stream",
     "text": [
      "(3210, 13)\n"
     ]
    }
   ],
   "source": [
    "print(data.shape)"
   ]
  },
  {
   "cell_type": "code",
   "execution_count": 12,
   "metadata": {
    "ExecuteTime": {
     "end_time": "2020-04-29T19:11:58.620737Z",
     "start_time": "2020-04-29T19:11:58.611604Z"
    }
   },
   "outputs": [],
   "source": [
    "data_new = pd.DataFrame()"
   ]
  },
  {
   "cell_type": "code",
   "execution_count": 13,
   "metadata": {
    "ExecuteTime": {
     "end_time": "2020-04-29T19:11:58.815386Z",
     "start_time": "2020-04-29T19:11:58.799796Z"
    }
   },
   "outputs": [],
   "source": [
    "data_new = data.drop(data[data['Patient_Interval_Number'] == 30].index).reset_index()\n",
    "data_dummy = data.drop(data[data['Patient_Interval_Number'] == 1].index).reset_index()\n",
    "    "
   ]
  },
  {
   "cell_type": "code",
   "execution_count": 14,
   "metadata": {
    "ExecuteTime": {
     "end_time": "2020-04-29T19:11:59.157271Z",
     "start_time": "2020-04-29T19:11:59.147206Z"
    }
   },
   "outputs": [],
   "source": [
    "data_new[\"Next_Pain\"] = data_dummy[\"Pain_Score\"]\n",
    "data_new[\"Next_Fatigue\"] = data_dummy[\"Fatigue_Score\"]\n",
    "data_new[\"Next_PAW\"] = data_dummy[\"EOD_PAW\"]\n",
    "#data_new.drop(columns[\"\"])"
   ]
  },
  {
   "cell_type": "code",
   "execution_count": 15,
   "metadata": {
    "ExecuteTime": {
     "end_time": "2020-04-29T19:11:59.738512Z",
     "start_time": "2020-04-29T19:11:59.724462Z"
    }
   },
   "outputs": [],
   "source": [
    "data_new.rename(columns={\"Daytime_Interval\": \"Current_Daytime_Interval\", \"Pain_Score\": \"Current_Pain\", \"Action_Pain\":\"Record_Next_Pain\", \"Fatigue_Score\":\"Current_Fatigue\", \"Action_Fatigue\":\"Record_Next_Fatigue\", \"Last_Activitybout_State\":\"Last_Acbout\", \"Current_Activitybout_Action\":\"Current_Acbout\", \"Action_PAW\":\"Record_Next_PAW\"}, inplace = True)\n",
    "data_new.drop(columns = [\"index\", \"Patient_ID\", \"Patient_Interval_Number\", \"EOD_PAW\"], inplace = True)\n"
   ]
  },
  {
   "cell_type": "code",
   "execution_count": 16,
   "metadata": {
    "ExecuteTime": {
     "end_time": "2020-04-29T19:12:00.258482Z",
     "start_time": "2020-04-29T19:12:00.230040Z"
    }
   },
   "outputs": [
    {
     "data": {
      "text/html": [
       "<div>\n",
       "<style scoped>\n",
       "    .dataframe tbody tr th:only-of-type {\n",
       "        vertical-align: middle;\n",
       "    }\n",
       "\n",
       "    .dataframe tbody tr th {\n",
       "        vertical-align: top;\n",
       "    }\n",
       "\n",
       "    .dataframe thead th {\n",
       "        text-align: right;\n",
       "    }\n",
       "</style>\n",
       "<table border=\"1\" class=\"dataframe\">\n",
       "  <thead>\n",
       "    <tr style=\"text-align: right;\">\n",
       "      <th></th>\n",
       "      <th>Gender</th>\n",
       "      <th>Age</th>\n",
       "      <th>Current_Daytime_Interval</th>\n",
       "      <th>Current_Pain</th>\n",
       "      <th>Record_Next_Pain</th>\n",
       "      <th>Current_Fatigue</th>\n",
       "      <th>Record_Next_Fatigue</th>\n",
       "      <th>Last_Acbout</th>\n",
       "      <th>Current_Acbout</th>\n",
       "      <th>Record_Next_PAW</th>\n",
       "      <th>Next_Pain</th>\n",
       "      <th>Next_Fatigue</th>\n",
       "      <th>Next_PAW</th>\n",
       "    </tr>\n",
       "  </thead>\n",
       "  <tbody>\n",
       "    <tr>\n",
       "      <th>0</th>\n",
       "      <td>Female</td>\n",
       "      <td>Between 30 to 60</td>\n",
       "      <td>Wake</td>\n",
       "      <td>Higher</td>\n",
       "      <td>Recorded</td>\n",
       "      <td>Normal</td>\n",
       "      <td>Recorded</td>\n",
       "      <td>Not Recorded</td>\n",
       "      <td>Higher</td>\n",
       "      <td>None</td>\n",
       "      <td>Lower</td>\n",
       "      <td>Lower</td>\n",
       "      <td>None</td>\n",
       "    </tr>\n",
       "    <tr>\n",
       "      <th>1</th>\n",
       "      <td>Female</td>\n",
       "      <td>Between 30 to 60</td>\n",
       "      <td>Morning</td>\n",
       "      <td>Lower</td>\n",
       "      <td>Recorded</td>\n",
       "      <td>Lower</td>\n",
       "      <td>Recorded</td>\n",
       "      <td>Higher</td>\n",
       "      <td>Normal</td>\n",
       "      <td>None</td>\n",
       "      <td>Higher</td>\n",
       "      <td>Normal</td>\n",
       "      <td>None</td>\n",
       "    </tr>\n",
       "    <tr>\n",
       "      <th>2</th>\n",
       "      <td>Female</td>\n",
       "      <td>Between 30 to 60</td>\n",
       "      <td>Afternoon</td>\n",
       "      <td>Higher</td>\n",
       "      <td>Recorded</td>\n",
       "      <td>Normal</td>\n",
       "      <td>Recorded</td>\n",
       "      <td>Normal</td>\n",
       "      <td>Higher</td>\n",
       "      <td>None</td>\n",
       "      <td>Higher</td>\n",
       "      <td>Higher</td>\n",
       "      <td>None</td>\n",
       "    </tr>\n",
       "    <tr>\n",
       "      <th>3</th>\n",
       "      <td>Female</td>\n",
       "      <td>Between 30 to 60</td>\n",
       "      <td>Evening</td>\n",
       "      <td>Higher</td>\n",
       "      <td>Recorded</td>\n",
       "      <td>Higher</td>\n",
       "      <td>Recorded</td>\n",
       "      <td>Higher</td>\n",
       "      <td>Lower</td>\n",
       "      <td>Recorded</td>\n",
       "      <td>Normal</td>\n",
       "      <td>Higher</td>\n",
       "      <td>Normal</td>\n",
       "    </tr>\n",
       "    <tr>\n",
       "      <th>4</th>\n",
       "      <td>Female</td>\n",
       "      <td>Between 30 to 60</td>\n",
       "      <td>Bed</td>\n",
       "      <td>Normal</td>\n",
       "      <td>Recorded</td>\n",
       "      <td>Higher</td>\n",
       "      <td>Recorded</td>\n",
       "      <td>Lower</td>\n",
       "      <td>Lower</td>\n",
       "      <td>None</td>\n",
       "      <td>Normal</td>\n",
       "      <td>Normal</td>\n",
       "      <td>None</td>\n",
       "    </tr>\n",
       "    <tr>\n",
       "      <th>...</th>\n",
       "      <td>...</td>\n",
       "      <td>...</td>\n",
       "      <td>...</td>\n",
       "      <td>...</td>\n",
       "      <td>...</td>\n",
       "      <td>...</td>\n",
       "      <td>...</td>\n",
       "      <td>...</td>\n",
       "      <td>...</td>\n",
       "      <td>...</td>\n",
       "      <td>...</td>\n",
       "      <td>...</td>\n",
       "      <td>...</td>\n",
       "    </tr>\n",
       "    <tr>\n",
       "      <th>3098</th>\n",
       "      <td>Female</td>\n",
       "      <td>Between 30 to 60</td>\n",
       "      <td>Bed</td>\n",
       "      <td>Lower</td>\n",
       "      <td>Not Recorded</td>\n",
       "      <td>Not Recorded</td>\n",
       "      <td>Not Recorded</td>\n",
       "      <td>Higher</td>\n",
       "      <td>Normal</td>\n",
       "      <td>None</td>\n",
       "      <td>Not Recorded</td>\n",
       "      <td>Not Recorded</td>\n",
       "      <td>None</td>\n",
       "    </tr>\n",
       "    <tr>\n",
       "      <th>3099</th>\n",
       "      <td>Female</td>\n",
       "      <td>Between 30 to 60</td>\n",
       "      <td>Wake</td>\n",
       "      <td>Not Recorded</td>\n",
       "      <td>Recorded</td>\n",
       "      <td>Not Recorded</td>\n",
       "      <td>Recorded</td>\n",
       "      <td>Normal</td>\n",
       "      <td>Lower</td>\n",
       "      <td>None</td>\n",
       "      <td>Lower</td>\n",
       "      <td>Normal</td>\n",
       "      <td>None</td>\n",
       "    </tr>\n",
       "    <tr>\n",
       "      <th>3100</th>\n",
       "      <td>Female</td>\n",
       "      <td>Between 30 to 60</td>\n",
       "      <td>Morning</td>\n",
       "      <td>Lower</td>\n",
       "      <td>Recorded</td>\n",
       "      <td>Normal</td>\n",
       "      <td>Recorded</td>\n",
       "      <td>Lower</td>\n",
       "      <td>Lower</td>\n",
       "      <td>None</td>\n",
       "      <td>Higher</td>\n",
       "      <td>Normal</td>\n",
       "      <td>None</td>\n",
       "    </tr>\n",
       "    <tr>\n",
       "      <th>3101</th>\n",
       "      <td>Female</td>\n",
       "      <td>Between 30 to 60</td>\n",
       "      <td>Afternoon</td>\n",
       "      <td>Higher</td>\n",
       "      <td>Recorded</td>\n",
       "      <td>Normal</td>\n",
       "      <td>Recorded</td>\n",
       "      <td>Lower</td>\n",
       "      <td>Normal</td>\n",
       "      <td>None</td>\n",
       "      <td>Normal</td>\n",
       "      <td>Lower</td>\n",
       "      <td>None</td>\n",
       "    </tr>\n",
       "    <tr>\n",
       "      <th>3102</th>\n",
       "      <td>Female</td>\n",
       "      <td>Between 30 to 60</td>\n",
       "      <td>Evening</td>\n",
       "      <td>Normal</td>\n",
       "      <td>Not Recorded</td>\n",
       "      <td>Lower</td>\n",
       "      <td>Not Recorded</td>\n",
       "      <td>Normal</td>\n",
       "      <td>Higher</td>\n",
       "      <td>Not Recorded</td>\n",
       "      <td>Not Recorded</td>\n",
       "      <td>Not Recorded</td>\n",
       "      <td>Not Recorded</td>\n",
       "    </tr>\n",
       "  </tbody>\n",
       "</table>\n",
       "<p>3103 rows × 13 columns</p>\n",
       "</div>"
      ],
      "text/plain": [
       "      Gender               Age Current_Daytime_Interval  Current_Pain  \\\n",
       "0     Female  Between 30 to 60                     Wake        Higher   \n",
       "1     Female  Between 30 to 60                  Morning         Lower   \n",
       "2     Female  Between 30 to 60                Afternoon        Higher   \n",
       "3     Female  Between 30 to 60                  Evening        Higher   \n",
       "4     Female  Between 30 to 60                      Bed        Normal   \n",
       "...      ...               ...                      ...           ...   \n",
       "3098  Female  Between 30 to 60                      Bed         Lower   \n",
       "3099  Female  Between 30 to 60                     Wake  Not Recorded   \n",
       "3100  Female  Between 30 to 60                  Morning         Lower   \n",
       "3101  Female  Between 30 to 60                Afternoon        Higher   \n",
       "3102  Female  Between 30 to 60                  Evening        Normal   \n",
       "\n",
       "     Record_Next_Pain Current_Fatigue Record_Next_Fatigue   Last_Acbout  \\\n",
       "0            Recorded          Normal            Recorded  Not Recorded   \n",
       "1            Recorded           Lower            Recorded        Higher   \n",
       "2            Recorded          Normal            Recorded        Normal   \n",
       "3            Recorded          Higher            Recorded        Higher   \n",
       "4            Recorded          Higher            Recorded         Lower   \n",
       "...               ...             ...                 ...           ...   \n",
       "3098     Not Recorded    Not Recorded        Not Recorded        Higher   \n",
       "3099         Recorded    Not Recorded            Recorded        Normal   \n",
       "3100         Recorded          Normal            Recorded         Lower   \n",
       "3101         Recorded          Normal            Recorded         Lower   \n",
       "3102     Not Recorded           Lower        Not Recorded        Normal   \n",
       "\n",
       "     Current_Acbout Record_Next_PAW     Next_Pain  Next_Fatigue      Next_PAW  \n",
       "0            Higher            None         Lower         Lower          None  \n",
       "1            Normal            None        Higher        Normal          None  \n",
       "2            Higher            None        Higher        Higher          None  \n",
       "3             Lower        Recorded        Normal        Higher        Normal  \n",
       "4             Lower            None        Normal        Normal          None  \n",
       "...             ...             ...           ...           ...           ...  \n",
       "3098         Normal            None  Not Recorded  Not Recorded          None  \n",
       "3099          Lower            None         Lower        Normal          None  \n",
       "3100          Lower            None        Higher        Normal          None  \n",
       "3101         Normal            None        Normal         Lower          None  \n",
       "3102         Higher    Not Recorded  Not Recorded  Not Recorded  Not Recorded  \n",
       "\n",
       "[3103 rows x 13 columns]"
      ]
     },
     "execution_count": 16,
     "metadata": {},
     "output_type": "execute_result"
    }
   ],
   "source": [
    "data_new"
   ]
  },
  {
   "cell_type": "code",
   "execution_count": 17,
   "metadata": {
    "ExecuteTime": {
     "end_time": "2020-04-29T19:12:03.393605Z",
     "start_time": "2020-04-29T19:12:03.379201Z"
    }
   },
   "outputs": [],
   "source": [
    "############### Replace. None-> \"None\" ####\n",
    "data_new.fillna(value=\"None\", inplace = True)\n",
    "#data_new.fillna(value= pd.np.nan, inplace = True)"
   ]
  },
  {
   "cell_type": "code",
   "execution_count": 18,
   "metadata": {
    "ExecuteTime": {
     "end_time": "2020-04-29T19:12:03.838393Z",
     "start_time": "2020-04-29T19:12:03.813742Z"
    }
   },
   "outputs": [],
   "source": [
    "data_new.to_csv(\"csv_files_MS/Bayesian_MS_data_six_days.csv\", index = False)"
   ]
  },
  {
   "cell_type": "code",
   "execution_count": 19,
   "metadata": {
    "ExecuteTime": {
     "end_time": "2020-04-29T19:12:04.253426Z",
     "start_time": "2020-04-29T19:12:04.245984Z"
    }
   },
   "outputs": [
    {
     "data": {
      "text/plain": [
       "13"
      ]
     },
     "execution_count": 19,
     "metadata": {},
     "output_type": "execute_result"
    }
   ],
   "source": [
    "len(data_new.dtypes)"
   ]
  },
  {
   "cell_type": "code",
   "execution_count": 20,
   "metadata": {
    "ExecuteTime": {
     "end_time": "2020-04-29T19:12:05.013337Z",
     "start_time": "2020-04-29T19:12:05.003585Z"
    }
   },
   "outputs": [
    {
     "data": {
      "text/plain": [
       "Gender                      object\n",
       "Age                         object\n",
       "Current_Daytime_Interval    object\n",
       "Current_Pain                object\n",
       "Record_Next_Pain            object\n",
       "Current_Fatigue             object\n",
       "Record_Next_Fatigue         object\n",
       "Last_Acbout                 object\n",
       "Current_Acbout              object\n",
       "Record_Next_PAW             object\n",
       "Next_Pain                   object\n",
       "Next_Fatigue                object\n",
       "Next_PAW                    object\n",
       "dtype: object"
      ]
     },
     "execution_count": 20,
     "metadata": {},
     "output_type": "execute_result"
    }
   ],
   "source": [
    "data_new.dtypes"
   ]
  },
  {
   "cell_type": "markdown",
   "metadata": {},
   "source": [
    "### Lets start Bayesian"
   ]
  },
  {
   "cell_type": "code",
   "execution_count": 2,
   "metadata": {
    "ExecuteTime": {
     "end_time": "2020-05-01T18:59:52.239427Z",
     "start_time": "2020-05-01T18:59:52.233586Z"
    }
   },
   "outputs": [],
   "source": [
    "#create list of tuples for 13 node connections\n",
    "list_of_tup = [(\"Gender\", \"Current_Pain\"), (\"Gender\", \"Next_Pain\"), (\"Gender\", \"Next_PAW\"), (\"Gender\", \"Next_Fatigue\"), (\"Gender\", \"Current_Fatigue\"),\n",
    "              (\"Age\", \"Current_Pain\"), (\"Age\", \"Next_Pain\"), (\"Age\", \"Next_PAW\"), (\"Age\", \"Next_Fatigue\"), (\"Age\", \"Current_Fatigue\"),\n",
    "              (\"Current_Daytime_Interval\", \"Current_Pain\"), (\"Current_Daytime_Interval\", \"Next_Pain\"), (\"Current_Daytime_Interval\", \"Next_PAW\"), (\"Current_Daytime_Interval\", \"Next_Fatigue\"), (\"Current_Daytime_Interval\", \"Current_Fatigue\"),\n",
    "              (\"Last_Acbout\", \"Current_Fatigue\"), \n",
    "              (\"Current_Pain\", \"Next_Pain\"), (\"Current_Pain\", \"Current_Fatigue\"),\n",
    "              (\"Current_Fatigue\", \"Next_Fatigue\"),\n",
    "              (\"Current_Acbout\", \"Next_PAW\"), (\"Current_Acbout\", \"Next_Fatigue\"), \n",
    "              (\"Record_Next_Pain\", \"Next_Pain\"), \n",
    "              (\"Record_Next_Fatigue\", \"Next_Fatigue\"), \n",
    "              (\"Record_Next_PAW\", \"Next_PAW\"), \n",
    "              (\"Next_Pain\", \"Next_PAW\"), (\"Next_Pain\", \"Next_Fatigue\"), \n",
    "              (\"Next_Fatigue\", \"Next_PAW\")]\n",
    "\n",
    "\n",
    "# list_of_tup = [(\"Gender\", \"Current_Pain\"), (\"Gender\", \"Next_Pain\"), (\"Gender\", \"Next_PAW\"), (\"Gender\", \"Next_Fatigue\"), (\"Gender\", \"Current_Fatigue\"),\n",
    "#               (\"Age\", \"Current_Pain\"), (\"Age\", \"Next_Pain\"), (\"Age\", \"Next_PAW\"), (\"Age\", \"Next_Fatigue\"), (\"Age\", \"Current_Fatigue\"),\n",
    "#               (\"Current_Daytime_Interval\", \"Current_Pain\"), (\"Current_Daytime_Interval\", \"Next_Pain\"), (\"Current_Daytime_Interval\", \"Next_PAW\"), (\"Current_Daytime_Interval\", \"Next_Fatigue\"), (\"Current_Daytime_Interval\", \"Current_Fatigue\"),\n",
    "#               (\"Last_Acbout\", \"Current_Fatigue\"), \n",
    "#               (\"Current_Pain\", \"Next_Pain\"), (\"Current_Pain\", \"Current_Fatigue\"),\n",
    "#               (\"Current_Fatigue\", \"Next_Fatigue\"),\n",
    "#               (\"Current_Acbout\", \"Next_PAW\"), (\"Current_Acbout\", \"Next_Fatigue\"), \n",
    "#               (\"Record_Next_Pain\", \"Next_Pain\"), \n",
    "#               (\"Record_Next_Fatigue\", \"Next_Fatigue\"),\n",
    "#               (\"Next_Pain\", \"Next_PAW\"), (\"Next_Pain\", \"Next_Fatigue\"), \n",
    "#               (\"Next_Fatigue\", \"Next_PAW\")]\n",
    "\n"
   ]
  },
  {
   "cell_type": "code",
   "execution_count": 3,
   "metadata": {
    "ExecuteTime": {
     "end_time": "2020-05-01T18:59:52.511253Z",
     "start_time": "2020-05-01T18:59:52.504014Z"
    }
   },
   "outputs": [
    {
     "ename": "NameError",
     "evalue": "name 'BayesianModel' is not defined",
     "output_type": "error",
     "traceback": [
      "\u001b[0;31m---------------------------------------------------------------------------\u001b[0m",
      "\u001b[0;31mNameError\u001b[0m                                 Traceback (most recent call last)",
      "\u001b[0;32m<ipython-input-3-8bb92b387899>\u001b[0m in \u001b[0;36m<module>\u001b[0;34m\u001b[0m\n\u001b[0;32m----> 1\u001b[0;31m \u001b[0mmodel\u001b[0m \u001b[0;34m=\u001b[0m \u001b[0mBayesianModel\u001b[0m\u001b[0;34m(\u001b[0m\u001b[0mlist_of_tup\u001b[0m\u001b[0;34m)\u001b[0m\u001b[0;34m\u001b[0m\u001b[0;34m\u001b[0m\u001b[0m\n\u001b[0m",
      "\u001b[0;31mNameError\u001b[0m: name 'BayesianModel' is not defined"
     ]
    }
   ],
   "source": [
    "model = BayesianModel(list_of_tup)"
   ]
  },
  {
   "cell_type": "code",
   "execution_count": 23,
   "metadata": {
    "ExecuteTime": {
     "end_time": "2020-04-29T19:12:09.304347Z",
     "start_time": "2020-04-29T19:12:09.097507Z"
    }
   },
   "outputs": [
    {
     "data": {
      "application/javascript": [
       "/* Put everything inside the global mpl namespace */\n",
       "window.mpl = {};\n",
       "\n",
       "\n",
       "mpl.get_websocket_type = function() {\n",
       "    if (typeof(WebSocket) !== 'undefined') {\n",
       "        return WebSocket;\n",
       "    } else if (typeof(MozWebSocket) !== 'undefined') {\n",
       "        return MozWebSocket;\n",
       "    } else {\n",
       "        alert('Your browser does not have WebSocket support. ' +\n",
       "              'Please try Chrome, Safari or Firefox ≥ 6. ' +\n",
       "              'Firefox 4 and 5 are also supported but you ' +\n",
       "              'have to enable WebSockets in about:config.');\n",
       "    };\n",
       "}\n",
       "\n",
       "mpl.figure = function(figure_id, websocket, ondownload, parent_element) {\n",
       "    this.id = figure_id;\n",
       "\n",
       "    this.ws = websocket;\n",
       "\n",
       "    this.supports_binary = (this.ws.binaryType != undefined);\n",
       "\n",
       "    if (!this.supports_binary) {\n",
       "        var warnings = document.getElementById(\"mpl-warnings\");\n",
       "        if (warnings) {\n",
       "            warnings.style.display = 'block';\n",
       "            warnings.textContent = (\n",
       "                \"This browser does not support binary websocket messages. \" +\n",
       "                    \"Performance may be slow.\");\n",
       "        }\n",
       "    }\n",
       "\n",
       "    this.imageObj = new Image();\n",
       "\n",
       "    this.context = undefined;\n",
       "    this.message = undefined;\n",
       "    this.canvas = undefined;\n",
       "    this.rubberband_canvas = undefined;\n",
       "    this.rubberband_context = undefined;\n",
       "    this.format_dropdown = undefined;\n",
       "\n",
       "    this.image_mode = 'full';\n",
       "\n",
       "    this.root = $('<div/>');\n",
       "    this._root_extra_style(this.root)\n",
       "    this.root.attr('style', 'display: inline-block');\n",
       "\n",
       "    $(parent_element).append(this.root);\n",
       "\n",
       "    this._init_header(this);\n",
       "    this._init_canvas(this);\n",
       "    this._init_toolbar(this);\n",
       "\n",
       "    var fig = this;\n",
       "\n",
       "    this.waiting = false;\n",
       "\n",
       "    this.ws.onopen =  function () {\n",
       "            fig.send_message(\"supports_binary\", {value: fig.supports_binary});\n",
       "            fig.send_message(\"send_image_mode\", {});\n",
       "            if (mpl.ratio != 1) {\n",
       "                fig.send_message(\"set_dpi_ratio\", {'dpi_ratio': mpl.ratio});\n",
       "            }\n",
       "            fig.send_message(\"refresh\", {});\n",
       "        }\n",
       "\n",
       "    this.imageObj.onload = function() {\n",
       "            if (fig.image_mode == 'full') {\n",
       "                // Full images could contain transparency (where diff images\n",
       "                // almost always do), so we need to clear the canvas so that\n",
       "                // there is no ghosting.\n",
       "                fig.context.clearRect(0, 0, fig.canvas.width, fig.canvas.height);\n",
       "            }\n",
       "            fig.context.drawImage(fig.imageObj, 0, 0);\n",
       "        };\n",
       "\n",
       "    this.imageObj.onunload = function() {\n",
       "        fig.ws.close();\n",
       "    }\n",
       "\n",
       "    this.ws.onmessage = this._make_on_message_function(this);\n",
       "\n",
       "    this.ondownload = ondownload;\n",
       "}\n",
       "\n",
       "mpl.figure.prototype._init_header = function() {\n",
       "    var titlebar = $(\n",
       "        '<div class=\"ui-dialog-titlebar ui-widget-header ui-corner-all ' +\n",
       "        'ui-helper-clearfix\"/>');\n",
       "    var titletext = $(\n",
       "        '<div class=\"ui-dialog-title\" style=\"width: 100%; ' +\n",
       "        'text-align: center; padding: 3px;\"/>');\n",
       "    titlebar.append(titletext)\n",
       "    this.root.append(titlebar);\n",
       "    this.header = titletext[0];\n",
       "}\n",
       "\n",
       "\n",
       "\n",
       "mpl.figure.prototype._canvas_extra_style = function(canvas_div) {\n",
       "\n",
       "}\n",
       "\n",
       "\n",
       "mpl.figure.prototype._root_extra_style = function(canvas_div) {\n",
       "\n",
       "}\n",
       "\n",
       "mpl.figure.prototype._init_canvas = function() {\n",
       "    var fig = this;\n",
       "\n",
       "    var canvas_div = $('<div/>');\n",
       "\n",
       "    canvas_div.attr('style', 'position: relative; clear: both; outline: 0');\n",
       "\n",
       "    function canvas_keyboard_event(event) {\n",
       "        return fig.key_event(event, event['data']);\n",
       "    }\n",
       "\n",
       "    canvas_div.keydown('key_press', canvas_keyboard_event);\n",
       "    canvas_div.keyup('key_release', canvas_keyboard_event);\n",
       "    this.canvas_div = canvas_div\n",
       "    this._canvas_extra_style(canvas_div)\n",
       "    this.root.append(canvas_div);\n",
       "\n",
       "    var canvas = $('<canvas/>');\n",
       "    canvas.addClass('mpl-canvas');\n",
       "    canvas.attr('style', \"left: 0; top: 0; z-index: 0; outline: 0\")\n",
       "\n",
       "    this.canvas = canvas[0];\n",
       "    this.context = canvas[0].getContext(\"2d\");\n",
       "\n",
       "    var backingStore = this.context.backingStorePixelRatio ||\n",
       "\tthis.context.webkitBackingStorePixelRatio ||\n",
       "\tthis.context.mozBackingStorePixelRatio ||\n",
       "\tthis.context.msBackingStorePixelRatio ||\n",
       "\tthis.context.oBackingStorePixelRatio ||\n",
       "\tthis.context.backingStorePixelRatio || 1;\n",
       "\n",
       "    mpl.ratio = (window.devicePixelRatio || 1) / backingStore;\n",
       "\n",
       "    var rubberband = $('<canvas/>');\n",
       "    rubberband.attr('style', \"position: absolute; left: 0; top: 0; z-index: 1;\")\n",
       "\n",
       "    var pass_mouse_events = true;\n",
       "\n",
       "    canvas_div.resizable({\n",
       "        start: function(event, ui) {\n",
       "            pass_mouse_events = false;\n",
       "        },\n",
       "        resize: function(event, ui) {\n",
       "            fig.request_resize(ui.size.width, ui.size.height);\n",
       "        },\n",
       "        stop: function(event, ui) {\n",
       "            pass_mouse_events = true;\n",
       "            fig.request_resize(ui.size.width, ui.size.height);\n",
       "        },\n",
       "    });\n",
       "\n",
       "    function mouse_event_fn(event) {\n",
       "        if (pass_mouse_events)\n",
       "            return fig.mouse_event(event, event['data']);\n",
       "    }\n",
       "\n",
       "    rubberband.mousedown('button_press', mouse_event_fn);\n",
       "    rubberband.mouseup('button_release', mouse_event_fn);\n",
       "    // Throttle sequential mouse events to 1 every 20ms.\n",
       "    rubberband.mousemove('motion_notify', mouse_event_fn);\n",
       "\n",
       "    rubberband.mouseenter('figure_enter', mouse_event_fn);\n",
       "    rubberband.mouseleave('figure_leave', mouse_event_fn);\n",
       "\n",
       "    canvas_div.on(\"wheel\", function (event) {\n",
       "        event = event.originalEvent;\n",
       "        event['data'] = 'scroll'\n",
       "        if (event.deltaY < 0) {\n",
       "            event.step = 1;\n",
       "        } else {\n",
       "            event.step = -1;\n",
       "        }\n",
       "        mouse_event_fn(event);\n",
       "    });\n",
       "\n",
       "    canvas_div.append(canvas);\n",
       "    canvas_div.append(rubberband);\n",
       "\n",
       "    this.rubberband = rubberband;\n",
       "    this.rubberband_canvas = rubberband[0];\n",
       "    this.rubberband_context = rubberband[0].getContext(\"2d\");\n",
       "    this.rubberband_context.strokeStyle = \"#000000\";\n",
       "\n",
       "    this._resize_canvas = function(width, height) {\n",
       "        // Keep the size of the canvas, canvas container, and rubber band\n",
       "        // canvas in synch.\n",
       "        canvas_div.css('width', width)\n",
       "        canvas_div.css('height', height)\n",
       "\n",
       "        canvas.attr('width', width * mpl.ratio);\n",
       "        canvas.attr('height', height * mpl.ratio);\n",
       "        canvas.attr('style', 'width: ' + width + 'px; height: ' + height + 'px;');\n",
       "\n",
       "        rubberband.attr('width', width);\n",
       "        rubberband.attr('height', height);\n",
       "    }\n",
       "\n",
       "    // Set the figure to an initial 600x600px, this will subsequently be updated\n",
       "    // upon first draw.\n",
       "    this._resize_canvas(600, 600);\n",
       "\n",
       "    // Disable right mouse context menu.\n",
       "    $(this.rubberband_canvas).bind(\"contextmenu\",function(e){\n",
       "        return false;\n",
       "    });\n",
       "\n",
       "    function set_focus () {\n",
       "        canvas.focus();\n",
       "        canvas_div.focus();\n",
       "    }\n",
       "\n",
       "    window.setTimeout(set_focus, 100);\n",
       "}\n",
       "\n",
       "mpl.figure.prototype._init_toolbar = function() {\n",
       "    var fig = this;\n",
       "\n",
       "    var nav_element = $('<div/>');\n",
       "    nav_element.attr('style', 'width: 100%');\n",
       "    this.root.append(nav_element);\n",
       "\n",
       "    // Define a callback function for later on.\n",
       "    function toolbar_event(event) {\n",
       "        return fig.toolbar_button_onclick(event['data']);\n",
       "    }\n",
       "    function toolbar_mouse_event(event) {\n",
       "        return fig.toolbar_button_onmouseover(event['data']);\n",
       "    }\n",
       "\n",
       "    for(var toolbar_ind in mpl.toolbar_items) {\n",
       "        var name = mpl.toolbar_items[toolbar_ind][0];\n",
       "        var tooltip = mpl.toolbar_items[toolbar_ind][1];\n",
       "        var image = mpl.toolbar_items[toolbar_ind][2];\n",
       "        var method_name = mpl.toolbar_items[toolbar_ind][3];\n",
       "\n",
       "        if (!name) {\n",
       "            // put a spacer in here.\n",
       "            continue;\n",
       "        }\n",
       "        var button = $('<button/>');\n",
       "        button.addClass('ui-button ui-widget ui-state-default ui-corner-all ' +\n",
       "                        'ui-button-icon-only');\n",
       "        button.attr('role', 'button');\n",
       "        button.attr('aria-disabled', 'false');\n",
       "        button.click(method_name, toolbar_event);\n",
       "        button.mouseover(tooltip, toolbar_mouse_event);\n",
       "\n",
       "        var icon_img = $('<span/>');\n",
       "        icon_img.addClass('ui-button-icon-primary ui-icon');\n",
       "        icon_img.addClass(image);\n",
       "        icon_img.addClass('ui-corner-all');\n",
       "\n",
       "        var tooltip_span = $('<span/>');\n",
       "        tooltip_span.addClass('ui-button-text');\n",
       "        tooltip_span.html(tooltip);\n",
       "\n",
       "        button.append(icon_img);\n",
       "        button.append(tooltip_span);\n",
       "\n",
       "        nav_element.append(button);\n",
       "    }\n",
       "\n",
       "    var fmt_picker_span = $('<span/>');\n",
       "\n",
       "    var fmt_picker = $('<select/>');\n",
       "    fmt_picker.addClass('mpl-toolbar-option ui-widget ui-widget-content');\n",
       "    fmt_picker_span.append(fmt_picker);\n",
       "    nav_element.append(fmt_picker_span);\n",
       "    this.format_dropdown = fmt_picker[0];\n",
       "\n",
       "    for (var ind in mpl.extensions) {\n",
       "        var fmt = mpl.extensions[ind];\n",
       "        var option = $(\n",
       "            '<option/>', {selected: fmt === mpl.default_extension}).html(fmt);\n",
       "        fmt_picker.append(option);\n",
       "    }\n",
       "\n",
       "    // Add hover states to the ui-buttons\n",
       "    $( \".ui-button\" ).hover(\n",
       "        function() { $(this).addClass(\"ui-state-hover\");},\n",
       "        function() { $(this).removeClass(\"ui-state-hover\");}\n",
       "    );\n",
       "\n",
       "    var status_bar = $('<span class=\"mpl-message\"/>');\n",
       "    nav_element.append(status_bar);\n",
       "    this.message = status_bar[0];\n",
       "}\n",
       "\n",
       "mpl.figure.prototype.request_resize = function(x_pixels, y_pixels) {\n",
       "    // Request matplotlib to resize the figure. Matplotlib will then trigger a resize in the client,\n",
       "    // which will in turn request a refresh of the image.\n",
       "    this.send_message('resize', {'width': x_pixels, 'height': y_pixels});\n",
       "}\n",
       "\n",
       "mpl.figure.prototype.send_message = function(type, properties) {\n",
       "    properties['type'] = type;\n",
       "    properties['figure_id'] = this.id;\n",
       "    this.ws.send(JSON.stringify(properties));\n",
       "}\n",
       "\n",
       "mpl.figure.prototype.send_draw_message = function() {\n",
       "    if (!this.waiting) {\n",
       "        this.waiting = true;\n",
       "        this.ws.send(JSON.stringify({type: \"draw\", figure_id: this.id}));\n",
       "    }\n",
       "}\n",
       "\n",
       "\n",
       "mpl.figure.prototype.handle_save = function(fig, msg) {\n",
       "    var format_dropdown = fig.format_dropdown;\n",
       "    var format = format_dropdown.options[format_dropdown.selectedIndex].value;\n",
       "    fig.ondownload(fig, format);\n",
       "}\n",
       "\n",
       "\n",
       "mpl.figure.prototype.handle_resize = function(fig, msg) {\n",
       "    var size = msg['size'];\n",
       "    if (size[0] != fig.canvas.width || size[1] != fig.canvas.height) {\n",
       "        fig._resize_canvas(size[0], size[1]);\n",
       "        fig.send_message(\"refresh\", {});\n",
       "    };\n",
       "}\n",
       "\n",
       "mpl.figure.prototype.handle_rubberband = function(fig, msg) {\n",
       "    var x0 = msg['x0'] / mpl.ratio;\n",
       "    var y0 = (fig.canvas.height - msg['y0']) / mpl.ratio;\n",
       "    var x1 = msg['x1'] / mpl.ratio;\n",
       "    var y1 = (fig.canvas.height - msg['y1']) / mpl.ratio;\n",
       "    x0 = Math.floor(x0) + 0.5;\n",
       "    y0 = Math.floor(y0) + 0.5;\n",
       "    x1 = Math.floor(x1) + 0.5;\n",
       "    y1 = Math.floor(y1) + 0.5;\n",
       "    var min_x = Math.min(x0, x1);\n",
       "    var min_y = Math.min(y0, y1);\n",
       "    var width = Math.abs(x1 - x0);\n",
       "    var height = Math.abs(y1 - y0);\n",
       "\n",
       "    fig.rubberband_context.clearRect(\n",
       "        0, 0, fig.canvas.width / mpl.ratio, fig.canvas.height / mpl.ratio);\n",
       "\n",
       "    fig.rubberband_context.strokeRect(min_x, min_y, width, height);\n",
       "}\n",
       "\n",
       "mpl.figure.prototype.handle_figure_label = function(fig, msg) {\n",
       "    // Updates the figure title.\n",
       "    fig.header.textContent = msg['label'];\n",
       "}\n",
       "\n",
       "mpl.figure.prototype.handle_cursor = function(fig, msg) {\n",
       "    var cursor = msg['cursor'];\n",
       "    switch(cursor)\n",
       "    {\n",
       "    case 0:\n",
       "        cursor = 'pointer';\n",
       "        break;\n",
       "    case 1:\n",
       "        cursor = 'default';\n",
       "        break;\n",
       "    case 2:\n",
       "        cursor = 'crosshair';\n",
       "        break;\n",
       "    case 3:\n",
       "        cursor = 'move';\n",
       "        break;\n",
       "    }\n",
       "    fig.rubberband_canvas.style.cursor = cursor;\n",
       "}\n",
       "\n",
       "mpl.figure.prototype.handle_message = function(fig, msg) {\n",
       "    fig.message.textContent = msg['message'];\n",
       "}\n",
       "\n",
       "mpl.figure.prototype.handle_draw = function(fig, msg) {\n",
       "    // Request the server to send over a new figure.\n",
       "    fig.send_draw_message();\n",
       "}\n",
       "\n",
       "mpl.figure.prototype.handle_image_mode = function(fig, msg) {\n",
       "    fig.image_mode = msg['mode'];\n",
       "}\n",
       "\n",
       "mpl.figure.prototype.updated_canvas_event = function() {\n",
       "    // Called whenever the canvas gets updated.\n",
       "    this.send_message(\"ack\", {});\n",
       "}\n",
       "\n",
       "// A function to construct a web socket function for onmessage handling.\n",
       "// Called in the figure constructor.\n",
       "mpl.figure.prototype._make_on_message_function = function(fig) {\n",
       "    return function socket_on_message(evt) {\n",
       "        if (evt.data instanceof Blob) {\n",
       "            /* FIXME: We get \"Resource interpreted as Image but\n",
       "             * transferred with MIME type text/plain:\" errors on\n",
       "             * Chrome.  But how to set the MIME type?  It doesn't seem\n",
       "             * to be part of the websocket stream */\n",
       "            evt.data.type = \"image/png\";\n",
       "\n",
       "            /* Free the memory for the previous frames */\n",
       "            if (fig.imageObj.src) {\n",
       "                (window.URL || window.webkitURL).revokeObjectURL(\n",
       "                    fig.imageObj.src);\n",
       "            }\n",
       "\n",
       "            fig.imageObj.src = (window.URL || window.webkitURL).createObjectURL(\n",
       "                evt.data);\n",
       "            fig.updated_canvas_event();\n",
       "            fig.waiting = false;\n",
       "            return;\n",
       "        }\n",
       "        else if (typeof evt.data === 'string' && evt.data.slice(0, 21) == \"data:image/png;base64\") {\n",
       "            fig.imageObj.src = evt.data;\n",
       "            fig.updated_canvas_event();\n",
       "            fig.waiting = false;\n",
       "            return;\n",
       "        }\n",
       "\n",
       "        var msg = JSON.parse(evt.data);\n",
       "        var msg_type = msg['type'];\n",
       "\n",
       "        // Call the  \"handle_{type}\" callback, which takes\n",
       "        // the figure and JSON message as its only arguments.\n",
       "        try {\n",
       "            var callback = fig[\"handle_\" + msg_type];\n",
       "        } catch (e) {\n",
       "            console.log(\"No handler for the '\" + msg_type + \"' message type: \", msg);\n",
       "            return;\n",
       "        }\n",
       "\n",
       "        if (callback) {\n",
       "            try {\n",
       "                // console.log(\"Handling '\" + msg_type + \"' message: \", msg);\n",
       "                callback(fig, msg);\n",
       "            } catch (e) {\n",
       "                console.log(\"Exception inside the 'handler_\" + msg_type + \"' callback:\", e, e.stack, msg);\n",
       "            }\n",
       "        }\n",
       "    };\n",
       "}\n",
       "\n",
       "// from http://stackoverflow.com/questions/1114465/getting-mouse-location-in-canvas\n",
       "mpl.findpos = function(e) {\n",
       "    //this section is from http://www.quirksmode.org/js/events_properties.html\n",
       "    var targ;\n",
       "    if (!e)\n",
       "        e = window.event;\n",
       "    if (e.target)\n",
       "        targ = e.target;\n",
       "    else if (e.srcElement)\n",
       "        targ = e.srcElement;\n",
       "    if (targ.nodeType == 3) // defeat Safari bug\n",
       "        targ = targ.parentNode;\n",
       "\n",
       "    // jQuery normalizes the pageX and pageY\n",
       "    // pageX,Y are the mouse positions relative to the document\n",
       "    // offset() returns the position of the element relative to the document\n",
       "    var x = e.pageX - $(targ).offset().left;\n",
       "    var y = e.pageY - $(targ).offset().top;\n",
       "\n",
       "    return {\"x\": x, \"y\": y};\n",
       "};\n",
       "\n",
       "/*\n",
       " * return a copy of an object with only non-object keys\n",
       " * we need this to avoid circular references\n",
       " * http://stackoverflow.com/a/24161582/3208463\n",
       " */\n",
       "function simpleKeys (original) {\n",
       "  return Object.keys(original).reduce(function (obj, key) {\n",
       "    if (typeof original[key] !== 'object')\n",
       "        obj[key] = original[key]\n",
       "    return obj;\n",
       "  }, {});\n",
       "}\n",
       "\n",
       "mpl.figure.prototype.mouse_event = function(event, name) {\n",
       "    var canvas_pos = mpl.findpos(event)\n",
       "\n",
       "    if (name === 'button_press')\n",
       "    {\n",
       "        this.canvas.focus();\n",
       "        this.canvas_div.focus();\n",
       "    }\n",
       "\n",
       "    var x = canvas_pos.x * mpl.ratio;\n",
       "    var y = canvas_pos.y * mpl.ratio;\n",
       "\n",
       "    this.send_message(name, {x: x, y: y, button: event.button,\n",
       "                             step: event.step,\n",
       "                             guiEvent: simpleKeys(event)});\n",
       "\n",
       "    /* This prevents the web browser from automatically changing to\n",
       "     * the text insertion cursor when the button is pressed.  We want\n",
       "     * to control all of the cursor setting manually through the\n",
       "     * 'cursor' event from matplotlib */\n",
       "    event.preventDefault();\n",
       "    return false;\n",
       "}\n",
       "\n",
       "mpl.figure.prototype._key_event_extra = function(event, name) {\n",
       "    // Handle any extra behaviour associated with a key event\n",
       "}\n",
       "\n",
       "mpl.figure.prototype.key_event = function(event, name) {\n",
       "\n",
       "    // Prevent repeat events\n",
       "    if (name == 'key_press')\n",
       "    {\n",
       "        if (event.which === this._key)\n",
       "            return;\n",
       "        else\n",
       "            this._key = event.which;\n",
       "    }\n",
       "    if (name == 'key_release')\n",
       "        this._key = null;\n",
       "\n",
       "    var value = '';\n",
       "    if (event.ctrlKey && event.which != 17)\n",
       "        value += \"ctrl+\";\n",
       "    if (event.altKey && event.which != 18)\n",
       "        value += \"alt+\";\n",
       "    if (event.shiftKey && event.which != 16)\n",
       "        value += \"shift+\";\n",
       "\n",
       "    value += 'k';\n",
       "    value += event.which.toString();\n",
       "\n",
       "    this._key_event_extra(event, name);\n",
       "\n",
       "    this.send_message(name, {key: value,\n",
       "                             guiEvent: simpleKeys(event)});\n",
       "    return false;\n",
       "}\n",
       "\n",
       "mpl.figure.prototype.toolbar_button_onclick = function(name) {\n",
       "    if (name == 'download') {\n",
       "        this.handle_save(this, null);\n",
       "    } else {\n",
       "        this.send_message(\"toolbar_button\", {name: name});\n",
       "    }\n",
       "};\n",
       "\n",
       "mpl.figure.prototype.toolbar_button_onmouseover = function(tooltip) {\n",
       "    this.message.textContent = tooltip;\n",
       "};\n",
       "mpl.toolbar_items = [[\"Home\", \"Reset original view\", \"fa fa-home icon-home\", \"home\"], [\"Back\", \"Back to previous view\", \"fa fa-arrow-left icon-arrow-left\", \"back\"], [\"Forward\", \"Forward to next view\", \"fa fa-arrow-right icon-arrow-right\", \"forward\"], [\"\", \"\", \"\", \"\"], [\"Pan\", \"Pan axes with left mouse, zoom with right\", \"fa fa-arrows icon-move\", \"pan\"], [\"Zoom\", \"Zoom to rectangle\", \"fa fa-square-o icon-check-empty\", \"zoom\"], [\"\", \"\", \"\", \"\"], [\"Download\", \"Download plot\", \"fa fa-floppy-o icon-save\", \"download\"]];\n",
       "\n",
       "mpl.extensions = [\"eps\", \"pdf\", \"png\", \"ps\", \"raw\", \"svg\"];\n",
       "\n",
       "mpl.default_extension = \"png\";var comm_websocket_adapter = function(comm) {\n",
       "    // Create a \"websocket\"-like object which calls the given IPython comm\n",
       "    // object with the appropriate methods. Currently this is a non binary\n",
       "    // socket, so there is still some room for performance tuning.\n",
       "    var ws = {};\n",
       "\n",
       "    ws.close = function() {\n",
       "        comm.close()\n",
       "    };\n",
       "    ws.send = function(m) {\n",
       "        //console.log('sending', m);\n",
       "        comm.send(m);\n",
       "    };\n",
       "    // Register the callback with on_msg.\n",
       "    comm.on_msg(function(msg) {\n",
       "        //console.log('receiving', msg['content']['data'], msg);\n",
       "        // Pass the mpl event to the overridden (by mpl) onmessage function.\n",
       "        ws.onmessage(msg['content']['data'])\n",
       "    });\n",
       "    return ws;\n",
       "}\n",
       "\n",
       "mpl.mpl_figure_comm = function(comm, msg) {\n",
       "    // This is the function which gets called when the mpl process\n",
       "    // starts-up an IPython Comm through the \"matplotlib\" channel.\n",
       "\n",
       "    var id = msg.content.data.id;\n",
       "    // Get hold of the div created by the display call when the Comm\n",
       "    // socket was opened in Python.\n",
       "    var element = $(\"#\" + id);\n",
       "    var ws_proxy = comm_websocket_adapter(comm)\n",
       "\n",
       "    function ondownload(figure, format) {\n",
       "        window.open(figure.imageObj.src);\n",
       "    }\n",
       "\n",
       "    var fig = new mpl.figure(id, ws_proxy,\n",
       "                           ondownload,\n",
       "                           element.get(0));\n",
       "\n",
       "    // Call onopen now - mpl needs it, as it is assuming we've passed it a real\n",
       "    // web socket which is closed, not our websocket->open comm proxy.\n",
       "    ws_proxy.onopen();\n",
       "\n",
       "    fig.parent_element = element.get(0);\n",
       "    fig.cell_info = mpl.find_output_cell(\"<div id='\" + id + \"'></div>\");\n",
       "    if (!fig.cell_info) {\n",
       "        console.error(\"Failed to find cell for figure\", id, fig);\n",
       "        return;\n",
       "    }\n",
       "\n",
       "    var output_index = fig.cell_info[2]\n",
       "    var cell = fig.cell_info[0];\n",
       "\n",
       "};\n",
       "\n",
       "mpl.figure.prototype.handle_close = function(fig, msg) {\n",
       "    var width = fig.canvas.width/mpl.ratio\n",
       "    fig.root.unbind('remove')\n",
       "\n",
       "    // Update the output cell to use the data from the current canvas.\n",
       "    fig.push_to_output();\n",
       "    var dataURL = fig.canvas.toDataURL();\n",
       "    // Re-enable the keyboard manager in IPython - without this line, in FF,\n",
       "    // the notebook keyboard shortcuts fail.\n",
       "    IPython.keyboard_manager.enable()\n",
       "    $(fig.parent_element).html('<img src=\"' + dataURL + '\" width=\"' + width + '\">');\n",
       "    fig.close_ws(fig, msg);\n",
       "}\n",
       "\n",
       "mpl.figure.prototype.close_ws = function(fig, msg){\n",
       "    fig.send_message('closing', msg);\n",
       "    // fig.ws.close()\n",
       "}\n",
       "\n",
       "mpl.figure.prototype.push_to_output = function(remove_interactive) {\n",
       "    // Turn the data on the canvas into data in the output cell.\n",
       "    var width = this.canvas.width/mpl.ratio\n",
       "    var dataURL = this.canvas.toDataURL();\n",
       "    this.cell_info[1]['text/html'] = '<img src=\"' + dataURL + '\" width=\"' + width + '\">';\n",
       "}\n",
       "\n",
       "mpl.figure.prototype.updated_canvas_event = function() {\n",
       "    // Tell IPython that the notebook contents must change.\n",
       "    IPython.notebook.set_dirty(true);\n",
       "    this.send_message(\"ack\", {});\n",
       "    var fig = this;\n",
       "    // Wait a second, then push the new image to the DOM so\n",
       "    // that it is saved nicely (might be nice to debounce this).\n",
       "    setTimeout(function () { fig.push_to_output() }, 1000);\n",
       "}\n",
       "\n",
       "mpl.figure.prototype._init_toolbar = function() {\n",
       "    var fig = this;\n",
       "\n",
       "    var nav_element = $('<div/>');\n",
       "    nav_element.attr('style', 'width: 100%');\n",
       "    this.root.append(nav_element);\n",
       "\n",
       "    // Define a callback function for later on.\n",
       "    function toolbar_event(event) {\n",
       "        return fig.toolbar_button_onclick(event['data']);\n",
       "    }\n",
       "    function toolbar_mouse_event(event) {\n",
       "        return fig.toolbar_button_onmouseover(event['data']);\n",
       "    }\n",
       "\n",
       "    for(var toolbar_ind in mpl.toolbar_items){\n",
       "        var name = mpl.toolbar_items[toolbar_ind][0];\n",
       "        var tooltip = mpl.toolbar_items[toolbar_ind][1];\n",
       "        var image = mpl.toolbar_items[toolbar_ind][2];\n",
       "        var method_name = mpl.toolbar_items[toolbar_ind][3];\n",
       "\n",
       "        if (!name) { continue; };\n",
       "\n",
       "        var button = $('<button class=\"btn btn-default\" href=\"#\" title=\"' + name + '\"><i class=\"fa ' + image + ' fa-lg\"></i></button>');\n",
       "        button.click(method_name, toolbar_event);\n",
       "        button.mouseover(tooltip, toolbar_mouse_event);\n",
       "        nav_element.append(button);\n",
       "    }\n",
       "\n",
       "    // Add the status bar.\n",
       "    var status_bar = $('<span class=\"mpl-message\" style=\"text-align:right; float: right;\"/>');\n",
       "    nav_element.append(status_bar);\n",
       "    this.message = status_bar[0];\n",
       "\n",
       "    // Add the close button to the window.\n",
       "    var buttongrp = $('<div class=\"btn-group inline pull-right\"></div>');\n",
       "    var button = $('<button class=\"btn btn-mini btn-primary\" href=\"#\" title=\"Stop Interaction\"><i class=\"fa fa-power-off icon-remove icon-large\"></i></button>');\n",
       "    button.click(function (evt) { fig.handle_close(fig, {}); } );\n",
       "    button.mouseover('Stop Interaction', toolbar_mouse_event);\n",
       "    buttongrp.append(button);\n",
       "    var titlebar = this.root.find($('.ui-dialog-titlebar'));\n",
       "    titlebar.prepend(buttongrp);\n",
       "}\n",
       "\n",
       "mpl.figure.prototype._root_extra_style = function(el){\n",
       "    var fig = this\n",
       "    el.on(\"remove\", function(){\n",
       "\tfig.close_ws(fig, {});\n",
       "    });\n",
       "}\n",
       "\n",
       "mpl.figure.prototype._canvas_extra_style = function(el){\n",
       "    // this is important to make the div 'focusable\n",
       "    el.attr('tabindex', 0)\n",
       "    // reach out to IPython and tell the keyboard manager to turn it's self\n",
       "    // off when our div gets focus\n",
       "\n",
       "    // location in version 3\n",
       "    if (IPython.notebook.keyboard_manager) {\n",
       "        IPython.notebook.keyboard_manager.register_events(el);\n",
       "    }\n",
       "    else {\n",
       "        // location in version 2\n",
       "        IPython.keyboard_manager.register_events(el);\n",
       "    }\n",
       "\n",
       "}\n",
       "\n",
       "mpl.figure.prototype._key_event_extra = function(event, name) {\n",
       "    var manager = IPython.notebook.keyboard_manager;\n",
       "    if (!manager)\n",
       "        manager = IPython.keyboard_manager;\n",
       "\n",
       "    // Check for shift+enter\n",
       "    if (event.shiftKey && event.which == 13) {\n",
       "        this.canvas_div.blur();\n",
       "        // select the cell after this one\n",
       "        var index = IPython.notebook.find_cell_index(this.cell_info[0]);\n",
       "        IPython.notebook.select(index + 1);\n",
       "    }\n",
       "}\n",
       "\n",
       "mpl.figure.prototype.handle_save = function(fig, msg) {\n",
       "    fig.ondownload(fig, null);\n",
       "}\n",
       "\n",
       "\n",
       "mpl.find_output_cell = function(html_output) {\n",
       "    // Return the cell and output element which can be found *uniquely* in the notebook.\n",
       "    // Note - this is a bit hacky, but it is done because the \"notebook_saving.Notebook\"\n",
       "    // IPython event is triggered only after the cells have been serialised, which for\n",
       "    // our purposes (turning an active figure into a static one), is too late.\n",
       "    var cells = IPython.notebook.get_cells();\n",
       "    var ncells = cells.length;\n",
       "    for (var i=0; i<ncells; i++) {\n",
       "        var cell = cells[i];\n",
       "        if (cell.cell_type === 'code'){\n",
       "            for (var j=0; j<cell.output_area.outputs.length; j++) {\n",
       "                var data = cell.output_area.outputs[j];\n",
       "                if (data.data) {\n",
       "                    // IPython >= 3 moved mimebundle to data attribute of output\n",
       "                    data = data.data;\n",
       "                }\n",
       "                if (data['text/html'] == html_output) {\n",
       "                    return [cell, data, j];\n",
       "                }\n",
       "            }\n",
       "        }\n",
       "    }\n",
       "}\n",
       "\n",
       "// Register the function which deals with the matplotlib target/channel.\n",
       "// The kernel may be null if the page has been refreshed.\n",
       "if (IPython.notebook.kernel != null) {\n",
       "    IPython.notebook.kernel.comm_manager.register_target('matplotlib', mpl.mpl_figure_comm);\n",
       "}\n"
      ],
      "text/plain": [
       "<IPython.core.display.Javascript object>"
      ]
     },
     "metadata": {},
     "output_type": "display_data"
    },
    {
     "data": {
      "text/html": [
       "<img src=\"data:image/png;base64,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\" width=\"640\">"
      ],
      "text/plain": [
       "<IPython.core.display.HTML object>"
      ]
     },
     "metadata": {},
     "output_type": "display_data"
    }
   ],
   "source": [
    "%matplotlib notebook\n",
    "#Draw\n",
    "# nx.draw(model, with_labels=True)\n",
    "# plt.show()\n",
    "pos = graphviz_layout(model, prog = 'dot')\n",
    "nx.draw(model,with_labels=True, pos = pos)"
   ]
  },
  {
   "cell_type": "code",
   "execution_count": 24,
   "metadata": {
    "ExecuteTime": {
     "end_time": "2020-04-29T19:12:12.186877Z",
     "start_time": "2020-04-29T19:12:12.017786Z"
    }
   },
   "outputs": [],
   "source": [
    "#Fitting the model with data\n",
    "# Learing CPDs using Maximum Likelihood Estimators\n",
    "#model.fit(data_new[:3000], estimator=BayesianEstimator)\n",
    "model.fit(data_new, estimator=BayesianEstimator)"
   ]
  },
  {
   "cell_type": "code",
   "execution_count": 25,
   "metadata": {
    "ExecuteTime": {
     "end_time": "2020-04-29T19:12:13.045891Z",
     "start_time": "2020-04-29T19:12:13.040251Z"
    }
   },
   "outputs": [
    {
     "data": {
      "text/plain": [
       "NodeView(('Gender', 'Current_Pain', 'Next_Pain', 'Next_PAW', 'Next_Fatigue', 'Current_Fatigue', 'Age', 'Current_Daytime_Interval', 'Last_Acbout', 'Current_Acbout', 'Record_Next_Pain', 'Record_Next_Fatigue', 'Record_Next_PAW'))"
      ]
     },
     "execution_count": 25,
     "metadata": {},
     "output_type": "execute_result"
    }
   ],
   "source": [
    "model.nodes()"
   ]
  },
  {
   "cell_type": "code",
   "execution_count": 26,
   "metadata": {
    "ExecuteTime": {
     "end_time": "2020-04-29T19:12:13.850441Z",
     "start_time": "2020-04-29T19:12:13.843754Z"
    }
   },
   "outputs": [
    {
     "data": {
      "text/plain": [
       "OutEdgeView([('Gender', 'Current_Pain'), ('Gender', 'Next_Pain'), ('Gender', 'Next_PAW'), ('Gender', 'Next_Fatigue'), ('Gender', 'Current_Fatigue'), ('Current_Pain', 'Next_Pain'), ('Current_Pain', 'Current_Fatigue'), ('Next_Pain', 'Next_PAW'), ('Next_Pain', 'Next_Fatigue'), ('Next_Fatigue', 'Next_PAW'), ('Current_Fatigue', 'Next_Fatigue'), ('Age', 'Current_Pain'), ('Age', 'Next_Pain'), ('Age', 'Next_PAW'), ('Age', 'Next_Fatigue'), ('Age', 'Current_Fatigue'), ('Current_Daytime_Interval', 'Current_Pain'), ('Current_Daytime_Interval', 'Next_Pain'), ('Current_Daytime_Interval', 'Next_PAW'), ('Current_Daytime_Interval', 'Next_Fatigue'), ('Current_Daytime_Interval', 'Current_Fatigue'), ('Last_Acbout', 'Current_Fatigue'), ('Current_Acbout', 'Next_PAW'), ('Current_Acbout', 'Next_Fatigue'), ('Record_Next_Pain', 'Next_Pain'), ('Record_Next_Fatigue', 'Next_Fatigue'), ('Record_Next_PAW', 'Next_PAW')])"
      ]
     },
     "execution_count": 26,
     "metadata": {},
     "output_type": "execute_result"
    }
   ],
   "source": [
    "model.edges()"
   ]
  },
  {
   "cell_type": "code",
   "execution_count": 529,
   "metadata": {
    "ExecuteTime": {
     "end_time": "2020-04-08T19:49:49.752556Z",
     "start_time": "2020-04-08T19:49:49.748721Z"
    }
   },
   "outputs": [],
   "source": [
    "#model.get_independencies()"
   ]
  },
  {
   "cell_type": "code",
   "execution_count": 530,
   "metadata": {
    "ExecuteTime": {
     "end_time": "2020-04-08T19:49:50.845490Z",
     "start_time": "2020-04-08T19:49:50.841507Z"
    }
   },
   "outputs": [],
   "source": [
    "#model.get_cpds()"
   ]
  },
  {
   "cell_type": "code",
   "execution_count": 28,
   "metadata": {
    "ExecuteTime": {
     "end_time": "2020-04-29T19:14:22.709815Z",
     "start_time": "2020-04-29T19:14:22.704776Z"
    }
   },
   "outputs": [],
   "source": [
    "# Printing a CPD with it's state names defined.\n",
    "cpd_pain = model.get_cpds('Next_Pain')"
   ]
  },
  {
   "cell_type": "code",
   "execution_count": 33,
   "metadata": {
    "ExecuteTime": {
     "end_time": "2020-04-29T19:15:23.798575Z",
     "start_time": "2020-04-29T19:15:23.776720Z"
    }
   },
   "outputs": [
    {
     "ename": "AttributeError",
     "evalue": "'TabularCPD' object has no attribute 'evidence'",
     "output_type": "error",
     "traceback": [
      "\u001b[0;31m---------------------------------------------------------------------------\u001b[0m",
      "\u001b[0;31mAttributeError\u001b[0m                            Traceback (most recent call last)",
      "\u001b[0;32m<ipython-input-33-a4109b53da5d>\u001b[0m in \u001b[0;36m<module>\u001b[0;34m\u001b[0m\n\u001b[0;32m----> 1\u001b[0;31m \u001b[0mcpd_pain\u001b[0m\u001b[0;34m.\u001b[0m\u001b[0mevidence\u001b[0m\u001b[0;34m\u001b[0m\u001b[0;34m\u001b[0m\u001b[0m\n\u001b[0m",
      "\u001b[0;31mAttributeError\u001b[0m: 'TabularCPD' object has no attribute 'evidence'"
     ]
    }
   ],
   "source": [
    "#cpd_pain.evidence"
   ]
  },
  {
   "cell_type": "code",
   "execution_count": 532,
   "metadata": {
    "ExecuteTime": {
     "end_time": "2020-04-08T19:49:51.248407Z",
     "start_time": "2020-04-08T19:49:51.244552Z"
    }
   },
   "outputs": [],
   "source": [
    "# Active trail: For any two variables A and B in a network if any change in A influences the values of B then we say\n",
    "#               that there is an active trail between A and B.\n",
    "# In pgmpy active_trail_nodes gives a set of nodes which are affected (i.e. correlated) by any \n",
    "# change in the node passed in the argument.\n",
    "#model.active_trail_nodes('Next_Pain')"
   ]
  },
  {
   "cell_type": "code",
   "execution_count": 533,
   "metadata": {
    "ExecuteTime": {
     "end_time": "2020-04-08T19:49:51.447447Z",
     "start_time": "2020-04-08T19:49:51.443258Z"
    }
   },
   "outputs": [],
   "source": [
    "#model.active_trail_nodes('Next_Pain', observed='Current_Pain')"
   ]
  },
  {
   "cell_type": "code",
   "execution_count": 614,
   "metadata": {
    "ExecuteTime": {
     "end_time": "2020-04-12T06:35:13.008520Z",
     "start_time": "2020-04-12T06:35:13.004135Z"
    }
   },
   "outputs": [],
   "source": [
    "### Inference\n",
    "# from pgmpy.inference import VariableElimination\n",
    "# infer = VariableElimination(model)\n",
    "# next_pain_dist = infer.query(['Next_PAW'])\n",
    "# print(next_pain_dist)"
   ]
  },
  {
   "cell_type": "code",
   "execution_count": 535,
   "metadata": {
    "ExecuteTime": {
     "end_time": "2020-04-08T19:49:51.987366Z",
     "start_time": "2020-04-08T19:49:51.983363Z"
    }
   },
   "outputs": [],
   "source": [
    "#print(infer.query(['Next_Pain'], evidence={'Current_Pain': 'Not Recorded', 'Current_Fatigue': 'Not Recorded'}))"
   ]
  },
  {
   "cell_type": "markdown",
   "metadata": {},
   "source": [
    "Predicting values from new data points\n",
    "Predicting values from new data points is quite similar to computing the conditional probabilities. We need to query for the variable that we need to predict given all the other features. The only difference is that rather than getting the probabilitiy distribution we are interested in getting the most probable state of the variable.\n",
    "\n",
    "In pgmpy this is known as MAP query. Here's an example:"
   ]
  },
  {
   "cell_type": "code",
   "execution_count": 536,
   "metadata": {
    "ExecuteTime": {
     "end_time": "2020-04-08T19:49:55.278847Z",
     "start_time": "2020-04-08T19:49:55.272976Z"
    }
   },
   "outputs": [],
   "source": [
    "#print(infer.map_query(['Next_Fatigue'], evidence = predict_data[:2].to_dict('index')[3001]))"
   ]
  },
  {
   "cell_type": "code",
   "execution_count": 537,
   "metadata": {
    "ExecuteTime": {
     "end_time": "2020-04-08T19:49:55.478359Z",
     "start_time": "2020-04-08T19:49:55.475397Z"
    }
   },
   "outputs": [],
   "source": [
    "#infer = VariableElimination(model)\n",
    "# query = infer.query(['Next_Pain', \"Next_Fatigue\", \"Next_PAW\"], joint = True, evidence = predict_data[:2].to_dict('index')[3001])\n",
    "# print(query)"
   ]
  },
  {
   "cell_type": "markdown",
   "metadata": {},
   "source": [
    "### Validation (Using joint probability)"
   ]
  },
  {
   "cell_type": "code",
   "execution_count": 538,
   "metadata": {
    "ExecuteTime": {
     "end_time": "2020-04-08T19:49:55.971098Z",
     "start_time": "2020-04-08T19:49:55.958513Z"
    }
   },
   "outputs": [],
   "source": [
    "infer = VariableElimination(model)"
   ]
  },
  {
   "cell_type": "code",
   "execution_count": null,
   "metadata": {},
   "outputs": [],
   "source": [
    "test = infer.query(['Next_Pain', \"Next_Fatigue\"], joint = True, evidence = evidence = {'Current_Daytime_Interval':\"Bed\", 'Record_Next_Fatigue': \"Recorded\"}, show_progress=False)"
   ]
  },
  {
   "cell_type": "code",
   "execution_count": 575,
   "metadata": {
    "ExecuteTime": {
     "end_time": "2020-04-10T00:32:08.931689Z",
     "start_time": "2020-04-10T00:32:08.897860Z"
    }
   },
   "outputs": [],
   "source": [
    "def joint_proba_table(current_query):\n",
    "    col = current_query.variables\n",
    "    joint_proba_df = pd.DataFrame(columns = col)\n",
    "    index = 0\n",
    "    predict_dict = {}\n",
    "    #pdb.set_trace()\n",
    "    if(len(col) == 3):\n",
    "        for i in range(current_query.values.shape[0]):\n",
    "            for j in range(current_query.values.shape[1]):\n",
    "                for k in range(current_query.values.shape[2]):\n",
    "                    joint_proba_df.loc[index, col[0]] = i\n",
    "                    joint_proba_df.loc[index, col[1]] = j\n",
    "                    joint_proba_df.loc[index, col[2]] = k\n",
    "                    joint_proba_df.loc[index, \"Phi\"] = query.values[i, j, k]\n",
    "                    index+=1\n",
    "        joint_proba_df[\"Next_Pain\"].replace({0: \"Higher\", 1: \"Lower\", 2:\"Normal\", 3:\"Not Recorded\"}, inplace=True)\n",
    "        joint_proba_df[\"Next_Fatigue\"].replace({0: \"Higher\", 1: \"Lower\", 2:\"Normal\", 3:\"Not Recorded\"}, inplace=True)\n",
    "        joint_proba_df[\"Next_PAW\"].replace({0: \"Higher\", 1: \"Lower\", 2:\"None\", 3:\"Normal\", 4:\"Not Recorded\"}, inplace=True)\n",
    "        #max_joint_proba, max_joint_proba_index = joint_proba_df['Phi'].max(), joint_proba_df[['Phi']].idxmax()\n",
    "        dic = joint_proba_df['Phi'].nlargest(2).to_dict()\n",
    "        max1_index, max2_index = dic.keys()\n",
    "        max1, max2 = dic.values()\n",
    "        \n",
    "        #pdb.set_trace()\n",
    "        predict_dict = {\"Pain\": joint_proba_df.loc[max1_index, \"Next_Pain\"], \n",
    "                        \"Fatigue\": joint_proba_df.loc[max1_index, \"Next_Fatigue\"], \n",
    "                        \"PAW\": joint_proba_df.loc[max1_index, \"Next_PAW\"],\n",
    "                        \"Pain2\": joint_proba_df.loc[max2_index, \"Next_Pain\"], \n",
    "                        \"Fatigue2\": joint_proba_df.loc[max2_index, \"Next_Fatigue\"], \n",
    "                        \"PAW2\": joint_proba_df.loc[max2_index, \"Next_PAW\"]\n",
    "                       }\n",
    "    elif(len(col) == 2):\n",
    "        for i in range(current_query.values.shape[0]):\n",
    "            for j in range(current_query.values.shape[1]):\n",
    "                joint_proba_df.loc[index, col[0]] = i\n",
    "                joint_proba_df.loc[index, col[1]] = j\n",
    "                joint_proba_df.loc[index, \"Phi\"] = query.values[i, j]\n",
    "                index+=1\n",
    "        #max_joint_proba, max_joint_proba_index = joint_proba_df['Phi'].max(), joint_proba_df[['Phi']].idxmax()\n",
    "        #pdb.set_trace()\n",
    "        dic = joint_proba_df['Phi'].nlargest(2).to_dict()\n",
    "        max1_index, max2_index = dic.keys()\n",
    "        max1, max2 = dic.values()\n",
    "        if(\"Next_Pain\" in col):\n",
    "            joint_proba_df[col[col.index(\"Next_Pain\")]].replace({0: \"Higher\", 1: \"Lower\", 2:\"Normal\", 3:\"Not Recorded\"}, inplace=True)\n",
    "            predict_dict[\"Pain\"] = joint_proba_df.loc[max1_index, \"Next_Pain\"]\n",
    "            predict_dict[\"Pain2\"] = joint_proba_df.loc[max2_index, \"Next_Pain\"]\n",
    "        if(\"Next_Fatigue\" in col):\n",
    "            joint_proba_df[col[col.index(\"Next_Fatigue\")]].replace({0: \"Higher\", 1: \"Lower\", 2:\"Normal\", 3:\"Not Recorded\"}, inplace=True)\n",
    "            predict_dict[\"Fatigue\"] = joint_proba_df.loc[max1_index, \"Next_Fatigue\"]\n",
    "            predict_dict[\"Fatigue2\"] = joint_proba_df.loc[max2_index, \"Next_Fatigue\"]\n",
    "        if(\"Next_PAW\" in col):\n",
    "            joint_proba_df[col[col.index(\"Next_PAW\")]].replace({0: \"Higher\", 1: \"Lower\", 2:\"None\", 3:\"Normal\", 4:\"Not Recorded\"}, inplace=True)\n",
    "            predict_dict[\"PAW\"] = joint_proba_df.loc[max1_index, \"Next_PAW\"]\n",
    "            predict_dict[\"PAW2\"] = joint_proba_df.loc[max2_index, \"Next_PAW\"]\n",
    "        \n",
    "    else:\n",
    "        for i in range(current_query.values.shape[0]):\n",
    "            joint_proba_df.loc[index, col[0]] = i\n",
    "            joint_proba_df.loc[index, \"Phi\"] = query.values[i]\n",
    "            index+=1\n",
    "        \n",
    "        #max_joint_proba, max_joint_proba_index = joint_proba_df['Phi'].max(), joint_proba_df[['Phi']].idxmax()\n",
    "        dic = joint_proba_df['Phi'].nlargest(2).to_dict()\n",
    "        max1_index, max2_index = dic.keys()\n",
    "        max1, max2 = dic.values()\n",
    "        #pdb.set_trace()\n",
    "        if(col[0] == \"Next_Pain\"):\n",
    "            joint_proba_df[col[0]].replace({0: \"Higher\", 1: \"Lower\", 2:\"Normal\", 3:\"Not Recorded\"}, inplace=True)\n",
    "            predict_dict = {\"Pain\": joint_proba_df.loc[max1_index, \"Next_Pain\"], \"Pain2\": joint_proba_df.loc[max2_index, \"Next_Pain\"]\n",
    "                       }\n",
    "        elif(col[0] == \"Next_PAW\"):\n",
    "            joint_proba_df[col[0]].replace({0: \"Higher\", 1: \"Lower\", 2:\"None\", 3:\"Normal\", 4:\"Not Recorded\"}, inplace=True)\n",
    "            predict_dict = {\"PAW\": joint_proba_df.loc[max1_index, \"Next_PAW\"], \"PAW2\": joint_proba_df.loc[max2_index, \"Next_PAW\"]\n",
    "                       }\n",
    "        else:\n",
    "            joint_proba_df[col[0]].replace({0: \"Higher\", 1: \"Lower\", 2:\"Normal\", 3:\"Not Recorded\"}, inplace=True)\n",
    "            predict_dict = {\"Fatigue\": joint_proba_df.loc[max1_index, \"Next_Fatigue\"], \"Fatigue2\": joint_proba_df.loc[max2_index, \"Next_Fatigue\"]\n",
    "                       }\n",
    "    return joint_proba_df, max1, max2, predict_dict"
   ]
  },
  {
   "cell_type": "code",
   "execution_count": null,
   "metadata": {
    "ExecuteTime": {
     "start_time": "2020-04-10T00:48:50.629Z"
    }
   },
   "outputs": [
    {
     "name": "stderr",
     "output_type": "stream",
     "text": [
      "100%|██████████| 1/1 [00:00<00:00, 165.89it/s]"
     ]
    },
    {
     "name": "stdout",
     "output_type": "stream",
     "text": [
      "0\n",
      "Paw None loop\n"
     ]
    },
    {
     "name": "stderr",
     "output_type": "stream",
     "text": [
      "\n",
      "100%|██████████| 1/1 [00:00<00:00,  3.38it/s]\n",
      "  0%|          | 0/1 [00:00<?, ?it/s]"
     ]
    },
    {
     "name": "stdout",
     "output_type": "stream",
     "text": [
      "1\n",
      "Paw None loop\n"
     ]
    },
    {
     "name": "stderr",
     "output_type": "stream",
     "text": [
      "100%|██████████| 1/1 [00:00<00:00,  3.23it/s]\n",
      "100%|██████████| 1/1 [00:00<00:00,  2.70it/s]\n"
     ]
    },
    {
     "name": "stdout",
     "output_type": "stream",
     "text": [
      "2\n",
      "Paw None loop\n"
     ]
    },
    {
     "name": "stderr",
     "output_type": "stream",
     "text": [
      "100%|██████████| 1/1 [00:00<00:00,  3.40it/s]\n",
      "100%|██████████| 1/1 [00:00<00:00,  2.70it/s]\n"
     ]
    },
    {
     "name": "stdout",
     "output_type": "stream",
     "text": [
      "3\n",
      "Paw None loop\n"
     ]
    },
    {
     "name": "stderr",
     "output_type": "stream",
     "text": [
      "100%|██████████| 1/1 [00:00<00:00,  3.19it/s]\n",
      "100%|██████████| 1/1 [00:00<00:00,  3.39it/s]\n"
     ]
    },
    {
     "name": "stdout",
     "output_type": "stream",
     "text": [
      "4\n",
      "Paw Recorded/NR loop\n"
     ]
    },
    {
     "name": "stderr",
     "output_type": "stream",
     "text": [
      "100%|██████████| 1/1 [00:00<00:00,  2.61it/s]\n",
      "100%|██████████| 1/1 [00:00<00:00,  2.62it/s]\n",
      "100%|██████████| 1/1 [00:00<00:00,  3.38it/s]\n"
     ]
    },
    {
     "name": "stdout",
     "output_type": "stream",
     "text": [
      "5\n",
      "Paw None loop\n"
     ]
    },
    {
     "name": "stderr",
     "output_type": "stream",
     "text": [
      "100%|██████████| 1/1 [00:00<00:00,  2.85it/s]\n",
      "100%|██████████| 1/1 [00:00<00:00,  3.36it/s]\n"
     ]
    },
    {
     "name": "stdout",
     "output_type": "stream",
     "text": [
      "6\n",
      "Paw None loop\n"
     ]
    },
    {
     "name": "stderr",
     "output_type": "stream",
     "text": [
      "100%|██████████| 1/1 [00:00<00:00,  3.32it/s]\n",
      "100%|██████████| 1/1 [00:00<00:00,  2.82it/s]\n"
     ]
    },
    {
     "name": "stdout",
     "output_type": "stream",
     "text": [
      "7\n",
      "Paw None loop\n"
     ]
    },
    {
     "name": "stderr",
     "output_type": "stream",
     "text": [
      "100%|██████████| 1/1 [00:00<00:00,  2.95it/s]\n",
      "100%|██████████| 1/1 [00:00<00:00,  3.43it/s]\n"
     ]
    },
    {
     "name": "stdout",
     "output_type": "stream",
     "text": [
      "8\n",
      "Paw None loop\n"
     ]
    },
    {
     "name": "stderr",
     "output_type": "stream",
     "text": [
      "100%|██████████| 1/1 [00:00<00:00,  2.28it/s]\n",
      "100%|██████████| 1/1 [00:00<00:00,  3.36it/s]\n"
     ]
    },
    {
     "name": "stdout",
     "output_type": "stream",
     "text": [
      "9\n",
      "Paw Recorded/NR loop\n"
     ]
    },
    {
     "name": "stderr",
     "output_type": "stream",
     "text": [
      "100%|██████████| 1/1 [00:00<00:00,  3.34it/s]\n",
      "100%|██████████| 1/1 [00:00<00:00,  3.39it/s]\n",
      "100%|██████████| 1/1 [00:00<00:00,  3.45it/s]\n"
     ]
    },
    {
     "name": "stdout",
     "output_type": "stream",
     "text": [
      "10\n",
      "Paw None loop\n"
     ]
    },
    {
     "name": "stderr",
     "output_type": "stream",
     "text": [
      "100%|██████████| 1/1 [00:00<00:00,  3.21it/s]\n",
      "100%|██████████| 1/1 [00:00<00:00,  2.98it/s]\n"
     ]
    },
    {
     "name": "stdout",
     "output_type": "stream",
     "text": [
      "11\n",
      "Paw None loop\n"
     ]
    },
    {
     "name": "stderr",
     "output_type": "stream",
     "text": [
      "100%|██████████| 1/1 [00:00<00:00,  3.30it/s]\n",
      "100%|██████████| 1/1 [00:00<00:00,  2.70it/s]\n"
     ]
    },
    {
     "name": "stdout",
     "output_type": "stream",
     "text": [
      "12\n",
      "Paw None loop\n"
     ]
    },
    {
     "name": "stderr",
     "output_type": "stream",
     "text": [
      "100%|██████████| 1/1 [00:00<00:00,  3.23it/s]\n",
      "100%|██████████| 1/1 [00:00<00:00,  2.52it/s]\n"
     ]
    },
    {
     "name": "stdout",
     "output_type": "stream",
     "text": [
      "13\n",
      "Paw None loop\n"
     ]
    },
    {
     "name": "stderr",
     "output_type": "stream",
     "text": [
      "100%|██████████| 1/1 [00:00<00:00,  3.43it/s]\n",
      "100%|██████████| 1/1 [00:00<00:00,  3.23it/s]\n"
     ]
    },
    {
     "name": "stdout",
     "output_type": "stream",
     "text": [
      "14\n",
      "Paw Recorded/NR loop\n"
     ]
    },
    {
     "name": "stderr",
     "output_type": "stream",
     "text": [
      "100%|██████████| 1/1 [00:00<00:00,  3.05it/s]\n",
      "100%|██████████| 1/1 [00:00<00:00,  2.91it/s]\n",
      "100%|██████████| 1/1 [00:00<00:00,  3.31it/s]\n"
     ]
    },
    {
     "name": "stdout",
     "output_type": "stream",
     "text": [
      "15\n",
      "Paw None loop\n"
     ]
    },
    {
     "name": "stderr",
     "output_type": "stream",
     "text": [
      "100%|██████████| 1/1 [00:00<00:00,  2.87it/s]\n",
      "100%|██████████| 1/1 [00:00<00:00,  3.43it/s]\n"
     ]
    },
    {
     "name": "stdout",
     "output_type": "stream",
     "text": [
      "16\n",
      "Paw None loop\n"
     ]
    },
    {
     "name": "stderr",
     "output_type": "stream",
     "text": [
      "100%|██████████| 1/1 [00:00<00:00,  3.02it/s]\n",
      "100%|██████████| 1/1 [00:00<00:00,  2.81it/s]\n"
     ]
    },
    {
     "name": "stdout",
     "output_type": "stream",
     "text": [
      "17\n",
      "Paw None loop\n"
     ]
    },
    {
     "name": "stderr",
     "output_type": "stream",
     "text": [
      "100%|██████████| 1/1 [00:00<00:00,  3.25it/s]\n",
      "100%|██████████| 1/1 [00:00<00:00,  2.73it/s]\n",
      "  0%|          | 0/1 [00:00<?, ?it/s]"
     ]
    },
    {
     "name": "stdout",
     "output_type": "stream",
     "text": [
      "18\n",
      "Paw None loop\n"
     ]
    },
    {
     "name": "stderr",
     "output_type": "stream",
     "text": [
      "100%|██████████| 1/1 [00:00<00:00,  3.39it/s]\n",
      "100%|██████████| 1/1 [00:00<00:00,  2.92it/s]\n"
     ]
    },
    {
     "name": "stdout",
     "output_type": "stream",
     "text": [
      "19\n",
      "Paw Recorded/NR loop\n"
     ]
    },
    {
     "name": "stderr",
     "output_type": "stream",
     "text": [
      "100%|██████████| 1/1 [00:00<00:00,  2.99it/s]\n",
      "100%|██████████| 1/1 [00:00<00:00,  3.27it/s]\n",
      "100%|██████████| 1/1 [00:00<00:00,  3.21it/s]\n"
     ]
    },
    {
     "name": "stdout",
     "output_type": "stream",
     "text": [
      "20\n",
      "Paw None loop\n"
     ]
    },
    {
     "name": "stderr",
     "output_type": "stream",
     "text": [
      "100%|██████████| 1/1 [00:00<00:00,  2.70it/s]\n",
      "100%|██████████| 1/1 [00:00<00:00,  3.09it/s]\n"
     ]
    },
    {
     "name": "stdout",
     "output_type": "stream",
     "text": [
      "21\n",
      "Paw None loop\n"
     ]
    },
    {
     "name": "stderr",
     "output_type": "stream",
     "text": [
      "100%|██████████| 1/1 [00:00<00:00,  3.30it/s]\n",
      "100%|██████████| 1/1 [00:00<00:00,  3.41it/s]\n"
     ]
    },
    {
     "name": "stdout",
     "output_type": "stream",
     "text": [
      "22\n",
      "Paw None loop\n"
     ]
    },
    {
     "name": "stderr",
     "output_type": "stream",
     "text": [
      "100%|██████████| 1/1 [00:00<00:00,  2.84it/s]\n",
      "100%|██████████| 1/1 [00:00<00:00,  2.30it/s]\n"
     ]
    },
    {
     "name": "stdout",
     "output_type": "stream",
     "text": [
      "23\n",
      "Paw None loop\n"
     ]
    },
    {
     "name": "stderr",
     "output_type": "stream",
     "text": [
      "100%|██████████| 1/1 [00:00<00:00,  3.38it/s]\n",
      "100%|██████████| 1/1 [00:00<00:00,  3.40it/s]\n"
     ]
    },
    {
     "name": "stdout",
     "output_type": "stream",
     "text": [
      "24\n",
      "Paw Recorded/NR loop\n"
     ]
    },
    {
     "name": "stderr",
     "output_type": "stream",
     "text": [
      "100%|██████████| 1/1 [00:00<00:00,  3.40it/s]\n",
      "100%|██████████| 1/1 [00:00<00:00,  3.27it/s]\n",
      "100%|██████████| 1/1 [00:00<00:00,  2.71it/s]\n"
     ]
    },
    {
     "name": "stdout",
     "output_type": "stream",
     "text": [
      "25\n",
      "Paw None loop\n"
     ]
    },
    {
     "name": "stderr",
     "output_type": "stream",
     "text": [
      "100%|██████████| 1/1 [00:00<00:00,  2.98it/s]\n",
      "100%|██████████| 1/1 [00:00<00:00,  3.27it/s]\n"
     ]
    },
    {
     "name": "stdout",
     "output_type": "stream",
     "text": [
      "26\n",
      "Paw None loop\n"
     ]
    },
    {
     "name": "stderr",
     "output_type": "stream",
     "text": [
      "100%|██████████| 1/1 [00:00<00:00,  3.38it/s]\n",
      "100%|██████████| 1/1 [00:00<00:00,  2.82it/s]\n"
     ]
    },
    {
     "name": "stdout",
     "output_type": "stream",
     "text": [
      "27\n",
      "Paw None loop\n"
     ]
    },
    {
     "name": "stderr",
     "output_type": "stream",
     "text": [
      "100%|██████████| 1/1 [00:00<00:00,  3.29it/s]\n",
      "100%|██████████| 1/1 [00:00<00:00,  2.65it/s]\n"
     ]
    },
    {
     "name": "stdout",
     "output_type": "stream",
     "text": [
      "28\n",
      "Paw None loop\n"
     ]
    },
    {
     "name": "stderr",
     "output_type": "stream",
     "text": [
      "100%|██████████| 1/1 [00:00<00:00,  2.91it/s]\n",
      "100%|██████████| 1/1 [00:00<00:00,  2.77it/s]\n"
     ]
    },
    {
     "name": "stdout",
     "output_type": "stream",
     "text": [
      "29\n",
      "Paw Recorded/NR loop\n"
     ]
    },
    {
     "name": "stderr",
     "output_type": "stream",
     "text": [
      "100%|██████████| 1/1 [00:00<00:00,  3.45it/s]\n",
      "100%|██████████| 1/1 [00:00<00:00,  2.88it/s]\n",
      "100%|██████████| 1/1 [00:00<00:00,  3.19it/s]\n",
      "  0%|          | 0/1 [00:00<?, ?it/s]"
     ]
    },
    {
     "name": "stdout",
     "output_type": "stream",
     "text": [
      "30\n",
      "Paw None loop\n"
     ]
    },
    {
     "name": "stderr",
     "output_type": "stream",
     "text": [
      "100%|██████████| 1/1 [00:00<00:00,  2.55it/s]\n",
      "100%|██████████| 1/1 [00:00<00:00,  2.41it/s]\n"
     ]
    },
    {
     "name": "stdout",
     "output_type": "stream",
     "text": [
      "31\n",
      "Paw None loop\n"
     ]
    },
    {
     "name": "stderr",
     "output_type": "stream",
     "text": [
      "100%|██████████| 1/1 [00:00<00:00,  3.26it/s]\n",
      "100%|██████████| 1/1 [00:00<00:00,  2.70it/s]\n"
     ]
    },
    {
     "name": "stdout",
     "output_type": "stream",
     "text": [
      "32\n",
      "Paw None loop\n"
     ]
    },
    {
     "name": "stderr",
     "output_type": "stream",
     "text": [
      "100%|██████████| 1/1 [00:00<00:00,  3.12it/s]\n",
      "100%|██████████| 1/1 [00:00<00:00,  2.84it/s]\n"
     ]
    },
    {
     "name": "stdout",
     "output_type": "stream",
     "text": [
      "33\n",
      "Paw None loop\n"
     ]
    },
    {
     "name": "stderr",
     "output_type": "stream",
     "text": [
      "100%|██████████| 1/1 [00:00<00:00,  2.79it/s]\n",
      "100%|██████████| 1/1 [00:00<00:00,  3.32it/s]\n"
     ]
    },
    {
     "name": "stdout",
     "output_type": "stream",
     "text": [
      "34\n",
      "Paw Recorded/NR loop\n"
     ]
    },
    {
     "name": "stderr",
     "output_type": "stream",
     "text": [
      "100%|██████████| 1/1 [00:00<00:00,  3.18it/s]\n",
      "100%|██████████| 1/1 [00:00<00:00,  3.20it/s]\n",
      "100%|██████████| 1/1 [00:00<00:00,  3.21it/s]\n"
     ]
    },
    {
     "name": "stdout",
     "output_type": "stream",
     "text": [
      "35\n",
      "Paw None loop\n"
     ]
    },
    {
     "name": "stderr",
     "output_type": "stream",
     "text": [
      "100%|██████████| 1/1 [00:00<00:00,  2.82it/s]\n",
      "100%|██████████| 1/1 [00:00<00:00,  2.74it/s]\n"
     ]
    },
    {
     "name": "stdout",
     "output_type": "stream",
     "text": [
      "36\n",
      "Paw None loop\n"
     ]
    },
    {
     "name": "stderr",
     "output_type": "stream",
     "text": [
      "100%|██████████| 1/1 [00:00<00:00,  3.42it/s]\n",
      "100%|██████████| 1/1 [00:00<00:00,  2.89it/s]\n"
     ]
    },
    {
     "name": "stdout",
     "output_type": "stream",
     "text": [
      "37\n",
      "Paw None loop\n"
     ]
    },
    {
     "name": "stderr",
     "output_type": "stream",
     "text": [
      "100%|██████████| 1/1 [00:00<00:00,  2.88it/s]\n",
      "100%|██████████| 1/1 [00:00<00:00,  3.30it/s]\n"
     ]
    },
    {
     "name": "stdout",
     "output_type": "stream",
     "text": [
      "38\n",
      "Paw None loop\n"
     ]
    },
    {
     "name": "stderr",
     "output_type": "stream",
     "text": [
      "100%|██████████| 1/1 [00:00<00:00,  3.04it/s]\n",
      "100%|██████████| 1/1 [00:00<00:00,  3.33it/s]\n"
     ]
    },
    {
     "name": "stdout",
     "output_type": "stream",
     "text": [
      "39\n",
      "Paw Recorded/NR loop\n"
     ]
    },
    {
     "name": "stderr",
     "output_type": "stream",
     "text": [
      "100%|██████████| 1/1 [00:00<00:00,  2.89it/s]\n",
      "100%|██████████| 1/1 [00:00<00:00,  3.11it/s]\n",
      "100%|██████████| 1/1 [00:00<00:00,  3.27it/s]\n"
     ]
    },
    {
     "name": "stdout",
     "output_type": "stream",
     "text": [
      "40\n",
      "Paw None loop\n"
     ]
    },
    {
     "name": "stderr",
     "output_type": "stream",
     "text": [
      "100%|██████████| 1/1 [00:00<00:00,  2.85it/s]\n",
      "100%|██████████| 1/1 [00:00<00:00,  2.79it/s]\n",
      "  0%|          | 0/1 [00:00<?, ?it/s]"
     ]
    },
    {
     "name": "stdout",
     "output_type": "stream",
     "text": [
      "41\n",
      "Paw None loop\n"
     ]
    },
    {
     "name": "stderr",
     "output_type": "stream",
     "text": [
      "100%|██████████| 1/1 [00:00<00:00,  2.84it/s]\n",
      "100%|██████████| 1/1 [00:00<00:00,  3.08it/s]\n",
      "  0%|          | 0/1 [00:00<?, ?it/s]"
     ]
    },
    {
     "name": "stdout",
     "output_type": "stream",
     "text": [
      "42\n",
      "Paw None loop\n"
     ]
    },
    {
     "name": "stderr",
     "output_type": "stream",
     "text": [
      "100%|██████████| 1/1 [00:00<00:00,  2.83it/s]\n",
      "100%|██████████| 1/1 [00:00<00:00,  3.41it/s]\n",
      "  0%|          | 0/1 [00:00<?, ?it/s]"
     ]
    },
    {
     "name": "stdout",
     "output_type": "stream",
     "text": [
      "43\n",
      "Paw None loop\n"
     ]
    },
    {
     "name": "stderr",
     "output_type": "stream",
     "text": [
      "100%|██████████| 1/1 [00:00<00:00,  2.81it/s]\n",
      "100%|██████████| 1/1 [00:00<00:00,  2.79it/s]\n"
     ]
    },
    {
     "name": "stdout",
     "output_type": "stream",
     "text": [
      "44\n",
      "Paw Recorded/NR loop\n"
     ]
    },
    {
     "name": "stderr",
     "output_type": "stream",
     "text": [
      "100%|██████████| 1/1 [00:00<00:00,  3.29it/s]\n",
      "100%|██████████| 1/1 [00:00<00:00,  3.35it/s]\n",
      "100%|██████████| 1/1 [00:00<00:00,  3.22it/s]\n"
     ]
    },
    {
     "name": "stdout",
     "output_type": "stream",
     "text": [
      "45\n",
      "Paw None loop\n"
     ]
    },
    {
     "name": "stderr",
     "output_type": "stream",
     "text": [
      "100%|██████████| 1/1 [00:00<00:00,  2.78it/s]\n",
      "100%|██████████| 1/1 [00:00<00:00,  2.84it/s]\n"
     ]
    },
    {
     "name": "stdout",
     "output_type": "stream",
     "text": [
      "46\n",
      "Paw None loop\n"
     ]
    },
    {
     "name": "stderr",
     "output_type": "stream",
     "text": [
      "100%|██████████| 1/1 [00:00<00:00,  3.29it/s]\n",
      "100%|██████████| 1/1 [00:00<00:00,  2.78it/s]\n"
     ]
    },
    {
     "name": "stdout",
     "output_type": "stream",
     "text": [
      "47\n",
      "Paw None loop\n"
     ]
    },
    {
     "name": "stderr",
     "output_type": "stream",
     "text": [
      "100%|██████████| 1/1 [00:00<00:00,  2.79it/s]\n",
      "100%|██████████| 1/1 [00:00<00:00,  3.33it/s]\n"
     ]
    },
    {
     "name": "stdout",
     "output_type": "stream",
     "text": [
      "48\n",
      "Paw None loop\n"
     ]
    },
    {
     "name": "stderr",
     "output_type": "stream",
     "text": [
      "100%|██████████| 1/1 [00:00<00:00,  3.16it/s]\n",
      "100%|██████████| 1/1 [00:00<00:00,  3.00it/s]\n"
     ]
    },
    {
     "name": "stdout",
     "output_type": "stream",
     "text": [
      "49\n",
      "Paw Recorded/NR loop\n"
     ]
    },
    {
     "name": "stderr",
     "output_type": "stream",
     "text": [
      "100%|██████████| 1/1 [00:00<00:00,  3.14it/s]\n",
      "100%|██████████| 1/1 [00:00<00:00,  2.80it/s]\n",
      "100%|██████████| 1/1 [00:00<00:00,  2.88it/s]\n"
     ]
    },
    {
     "name": "stdout",
     "output_type": "stream",
     "text": [
      "50\n",
      "Paw None loop\n"
     ]
    },
    {
     "name": "stderr",
     "output_type": "stream",
     "text": [
      "100%|██████████| 1/1 [00:00<00:00,  2.77it/s]\n",
      "100%|██████████| 1/1 [00:00<00:00,  2.77it/s]\n"
     ]
    },
    {
     "name": "stdout",
     "output_type": "stream",
     "text": [
      "51\n",
      "Paw None loop\n"
     ]
    },
    {
     "name": "stderr",
     "output_type": "stream",
     "text": [
      "100%|██████████| 1/1 [00:00<00:00,  3.06it/s]\n",
      "100%|██████████| 1/1 [00:00<00:00,  3.23it/s]\n"
     ]
    },
    {
     "name": "stdout",
     "output_type": "stream",
     "text": [
      "52\n",
      "Paw None loop\n"
     ]
    },
    {
     "name": "stderr",
     "output_type": "stream",
     "text": [
      "100%|██████████| 1/1 [00:00<00:00,  2.80it/s]\n",
      "100%|██████████| 1/1 [00:00<00:00,  3.32it/s]\n"
     ]
    },
    {
     "name": "stdout",
     "output_type": "stream",
     "text": [
      "53\n",
      "Paw None loop\n"
     ]
    },
    {
     "name": "stderr",
     "output_type": "stream",
     "text": [
      "100%|██████████| 1/1 [00:00<00:00,  2.56it/s]\n",
      "100%|██████████| 1/1 [00:00<00:00,  3.37it/s]\n"
     ]
    },
    {
     "name": "stdout",
     "output_type": "stream",
     "text": [
      "54\n",
      "Paw Recorded/NR loop\n"
     ]
    },
    {
     "name": "stderr",
     "output_type": "stream",
     "text": [
      "100%|██████████| 1/1 [00:00<00:00,  2.76it/s]\n",
      "100%|██████████| 1/1 [00:00<00:00,  3.37it/s]\n",
      "100%|██████████| 1/1 [00:00<00:00,  3.46it/s]\n"
     ]
    },
    {
     "name": "stdout",
     "output_type": "stream",
     "text": [
      "55\n",
      "Paw None loop\n"
     ]
    },
    {
     "name": "stderr",
     "output_type": "stream",
     "text": [
      "100%|██████████| 1/1 [00:00<00:00,  3.30it/s]\n",
      "100%|██████████| 1/1 [00:00<00:00,  2.67it/s]\n"
     ]
    },
    {
     "name": "stdout",
     "output_type": "stream",
     "text": [
      "56\n",
      "Paw None loop\n"
     ]
    },
    {
     "name": "stderr",
     "output_type": "stream",
     "text": [
      "100%|██████████| 1/1 [00:00<00:00,  3.31it/s]\n",
      "100%|██████████| 1/1 [00:00<00:00,  2.82it/s]\n"
     ]
    },
    {
     "name": "stdout",
     "output_type": "stream",
     "text": [
      "57\n",
      "Paw None loop\n"
     ]
    },
    {
     "name": "stderr",
     "output_type": "stream",
     "text": [
      "100%|██████████| 1/1 [00:00<00:00,  3.40it/s]\n",
      "100%|██████████| 1/1 [00:00<00:00,  2.95it/s]\n"
     ]
    },
    {
     "name": "stdout",
     "output_type": "stream",
     "text": [
      "58\n",
      "Paw None loop\n"
     ]
    },
    {
     "name": "stderr",
     "output_type": "stream",
     "text": [
      "100%|██████████| 1/1 [00:00<00:00,  3.29it/s]\n",
      "100%|██████████| 1/1 [00:00<00:00,  3.36it/s]\n"
     ]
    },
    {
     "name": "stdout",
     "output_type": "stream",
     "text": [
      "59\n",
      "Paw Recorded/NR loop\n"
     ]
    },
    {
     "name": "stderr",
     "output_type": "stream",
     "text": [
      "100%|██████████| 1/1 [00:00<00:00,  3.36it/s]\n",
      "100%|██████████| 1/1 [00:00<00:00,  2.69it/s]\n",
      "100%|██████████| 1/1 [00:00<00:00,  2.89it/s]\n"
     ]
    },
    {
     "name": "stdout",
     "output_type": "stream",
     "text": [
      "60\n",
      "Paw None loop\n"
     ]
    },
    {
     "name": "stderr",
     "output_type": "stream",
     "text": [
      "100%|██████████| 1/1 [00:00<00:00,  2.82it/s]\n",
      "100%|██████████| 1/1 [00:00<00:00,  3.32it/s]\n",
      "  0%|          | 0/1 [00:00<?, ?it/s]"
     ]
    },
    {
     "name": "stdout",
     "output_type": "stream",
     "text": [
      "61\n",
      "Paw None loop\n"
     ]
    },
    {
     "name": "stderr",
     "output_type": "stream",
     "text": [
      "100%|██████████| 1/1 [00:00<00:00,  2.91it/s]\n",
      "100%|██████████| 1/1 [00:00<00:00,  3.42it/s]\n",
      "  0%|          | 0/1 [00:00<?, ?it/s]"
     ]
    },
    {
     "name": "stdout",
     "output_type": "stream",
     "text": [
      "62\n",
      "Paw None loop\n"
     ]
    },
    {
     "name": "stderr",
     "output_type": "stream",
     "text": [
      "100%|██████████| 1/1 [00:00<00:00,  3.36it/s]\n",
      "100%|██████████| 1/1 [00:00<00:00,  2.92it/s]\n",
      "  0%|          | 0/1 [00:00<?, ?it/s]"
     ]
    },
    {
     "name": "stdout",
     "output_type": "stream",
     "text": [
      "63\n",
      "Paw None loop\n"
     ]
    },
    {
     "name": "stderr",
     "output_type": "stream",
     "text": [
      "100%|██████████| 1/1 [00:00<00:00,  3.46it/s]\n",
      "100%|██████████| 1/1 [00:00<00:00,  2.82it/s]\n"
     ]
    },
    {
     "name": "stdout",
     "output_type": "stream",
     "text": [
      "64\n",
      "Paw Recorded/NR loop\n"
     ]
    },
    {
     "name": "stderr",
     "output_type": "stream",
     "text": [
      "100%|██████████| 1/1 [00:00<00:00,  2.80it/s]\n",
      "100%|██████████| 1/1 [00:00<00:00,  3.41it/s]\n",
      "100%|██████████| 1/1 [00:00<00:00,  2.78it/s]\n",
      "  0%|          | 0/1 [00:00<?, ?it/s]"
     ]
    },
    {
     "name": "stdout",
     "output_type": "stream",
     "text": [
      "65\n",
      "Paw None loop\n"
     ]
    },
    {
     "name": "stderr",
     "output_type": "stream",
     "text": [
      "100%|██████████| 1/1 [00:00<00:00,  3.35it/s]\n",
      "100%|██████████| 1/1 [00:00<00:00,  2.76it/s]\n"
     ]
    },
    {
     "name": "stdout",
     "output_type": "stream",
     "text": [
      "66\n",
      "Paw None loop\n"
     ]
    },
    {
     "name": "stderr",
     "output_type": "stream",
     "text": [
      "100%|██████████| 1/1 [00:00<00:00,  3.27it/s]\n",
      "100%|██████████| 1/1 [00:00<00:00,  2.64it/s]\n"
     ]
    },
    {
     "name": "stdout",
     "output_type": "stream",
     "text": [
      "67\n",
      "Paw None loop\n"
     ]
    },
    {
     "name": "stderr",
     "output_type": "stream",
     "text": [
      "100%|██████████| 1/1 [00:00<00:00,  3.31it/s]\n",
      "100%|██████████| 1/1 [00:00<00:00,  3.41it/s]\n"
     ]
    },
    {
     "name": "stdout",
     "output_type": "stream",
     "text": [
      "68\n",
      "Paw None loop\n"
     ]
    },
    {
     "name": "stderr",
     "output_type": "stream",
     "text": [
      "100%|██████████| 1/1 [00:00<00:00,  2.97it/s]\n",
      "100%|██████████| 1/1 [00:00<00:00,  2.91it/s]\n"
     ]
    },
    {
     "name": "stdout",
     "output_type": "stream",
     "text": [
      "69\n",
      "Paw Recorded/NR loop\n"
     ]
    },
    {
     "name": "stderr",
     "output_type": "stream",
     "text": [
      "100%|██████████| 1/1 [00:00<00:00,  2.82it/s]\n",
      "100%|██████████| 1/1 [00:00<00:00,  2.70it/s]\n",
      "100%|██████████| 1/1 [00:00<00:00,  3.34it/s]\n"
     ]
    },
    {
     "name": "stdout",
     "output_type": "stream",
     "text": [
      "70\n",
      "Paw None loop\n"
     ]
    },
    {
     "name": "stderr",
     "output_type": "stream",
     "text": [
      "100%|██████████| 1/1 [00:00<00:00,  2.81it/s]\n",
      "100%|██████████| 1/1 [00:00<00:00,  2.78it/s]\n",
      "  0%|          | 0/1 [00:00<?, ?it/s]"
     ]
    },
    {
     "name": "stdout",
     "output_type": "stream",
     "text": [
      "71\n",
      "Paw None loop\n"
     ]
    },
    {
     "name": "stderr",
     "output_type": "stream",
     "text": [
      "100%|██████████| 1/1 [00:00<00:00,  2.89it/s]\n",
      "100%|██████████| 1/1 [00:00<00:00,  3.39it/s]\n"
     ]
    },
    {
     "name": "stdout",
     "output_type": "stream",
     "text": [
      "72\n",
      "Paw None loop\n"
     ]
    },
    {
     "name": "stderr",
     "output_type": "stream",
     "text": [
      "100%|██████████| 1/1 [00:00<00:00,  3.28it/s]\n",
      "100%|██████████| 1/1 [00:00<00:00,  3.26it/s]\n"
     ]
    },
    {
     "name": "stdout",
     "output_type": "stream",
     "text": [
      "73\n",
      "Paw None loop\n"
     ]
    },
    {
     "name": "stderr",
     "output_type": "stream",
     "text": [
      "100%|██████████| 1/1 [00:00<00:00,  3.39it/s]\n",
      "100%|██████████| 1/1 [00:00<00:00,  3.14it/s]\n"
     ]
    },
    {
     "name": "stdout",
     "output_type": "stream",
     "text": [
      "74\n",
      "Paw Recorded/NR loop\n"
     ]
    },
    {
     "name": "stderr",
     "output_type": "stream",
     "text": [
      "100%|██████████| 1/1 [00:00<00:00,  2.69it/s]\n",
      "100%|██████████| 1/1 [00:00<00:00,  3.27it/s]\n",
      "100%|██████████| 1/1 [00:00<00:00,  2.74it/s]\n"
     ]
    },
    {
     "name": "stdout",
     "output_type": "stream",
     "text": [
      "75\n",
      "Paw None loop\n"
     ]
    },
    {
     "name": "stderr",
     "output_type": "stream",
     "text": [
      "100%|██████████| 1/1 [00:00<00:00,  2.71it/s]\n",
      "100%|██████████| 1/1 [00:00<00:00,  3.00it/s]\n"
     ]
    },
    {
     "name": "stdout",
     "output_type": "stream",
     "text": [
      "76\n",
      "Paw None loop\n"
     ]
    },
    {
     "name": "stderr",
     "output_type": "stream",
     "text": [
      "100%|██████████| 1/1 [00:00<00:00,  2.51it/s]\n",
      "100%|██████████| 1/1 [00:00<00:00,  2.83it/s]\n"
     ]
    },
    {
     "name": "stdout",
     "output_type": "stream",
     "text": [
      "77\n",
      "Paw None loop\n"
     ]
    },
    {
     "name": "stderr",
     "output_type": "stream",
     "text": [
      "100%|██████████| 1/1 [00:00<00:00,  3.25it/s]\n",
      "100%|██████████| 1/1 [00:00<00:00,  3.25it/s]\n"
     ]
    },
    {
     "name": "stdout",
     "output_type": "stream",
     "text": [
      "78\n",
      "Paw None loop\n"
     ]
    },
    {
     "name": "stderr",
     "output_type": "stream",
     "text": [
      "100%|██████████| 1/1 [00:00<00:00,  2.86it/s]\n",
      "100%|██████████| 1/1 [00:00<00:00,  3.39it/s]\n"
     ]
    },
    {
     "name": "stdout",
     "output_type": "stream",
     "text": [
      "79\n",
      "Paw Recorded/NR loop\n"
     ]
    },
    {
     "name": "stderr",
     "output_type": "stream",
     "text": [
      "100%|██████████| 1/1 [00:00<00:00,  2.85it/s]\n",
      "100%|██████████| 1/1 [00:00<00:00,  2.59it/s]\n",
      "100%|██████████| 1/1 [00:00<00:00,  3.37it/s]\n"
     ]
    },
    {
     "name": "stdout",
     "output_type": "stream",
     "text": [
      "80\n",
      "Paw None loop\n"
     ]
    },
    {
     "name": "stderr",
     "output_type": "stream",
     "text": [
      "100%|██████████| 1/1 [00:00<00:00,  2.83it/s]\n",
      "100%|██████████| 1/1 [00:00<00:00,  2.71it/s]\n",
      "  0%|          | 0/1 [00:00<?, ?it/s]"
     ]
    },
    {
     "name": "stdout",
     "output_type": "stream",
     "text": [
      "81\n",
      "Paw None loop\n"
     ]
    },
    {
     "name": "stderr",
     "output_type": "stream",
     "text": [
      "100%|██████████| 1/1 [00:00<00:00,  3.22it/s]\n",
      "100%|██████████| 1/1 [00:00<00:00,  3.32it/s]\n"
     ]
    },
    {
     "name": "stdout",
     "output_type": "stream",
     "text": [
      "82\n",
      "Paw None loop\n"
     ]
    },
    {
     "name": "stderr",
     "output_type": "stream",
     "text": [
      "100%|██████████| 1/1 [00:00<00:00,  2.74it/s]\n",
      "100%|██████████| 1/1 [00:00<00:00,  3.46it/s]\n"
     ]
    },
    {
     "name": "stdout",
     "output_type": "stream",
     "text": [
      "83\n",
      "Paw None loop\n"
     ]
    },
    {
     "name": "stderr",
     "output_type": "stream",
     "text": [
      "100%|██████████| 1/1 [00:00<00:00,  2.76it/s]\n",
      "100%|██████████| 1/1 [00:00<00:00,  3.12it/s]\n",
      "  0%|          | 0/1 [00:00<?, ?it/s]"
     ]
    },
    {
     "name": "stdout",
     "output_type": "stream",
     "text": [
      "84\n",
      "Paw Recorded/NR loop\n"
     ]
    },
    {
     "name": "stderr",
     "output_type": "stream",
     "text": [
      "100%|██████████| 1/1 [00:00<00:00,  2.77it/s]\n",
      "100%|██████████| 1/1 [00:00<00:00,  2.74it/s]\n",
      "100%|██████████| 1/1 [00:00<00:00,  3.03it/s]\n"
     ]
    },
    {
     "name": "stdout",
     "output_type": "stream",
     "text": [
      "85\n",
      "Paw None loop\n"
     ]
    },
    {
     "name": "stderr",
     "output_type": "stream",
     "text": [
      "100%|██████████| 1/1 [00:00<00:00,  2.62it/s]\n",
      "100%|██████████| 1/1 [00:00<00:00,  3.28it/s]\n"
     ]
    },
    {
     "name": "stdout",
     "output_type": "stream",
     "text": [
      "86\n",
      "Paw None loop\n"
     ]
    },
    {
     "name": "stderr",
     "output_type": "stream",
     "text": [
      "100%|██████████| 1/1 [00:00<00:00,  3.44it/s]\n",
      "100%|██████████| 1/1 [00:00<00:00,  2.87it/s]\n"
     ]
    },
    {
     "name": "stdout",
     "output_type": "stream",
     "text": [
      "87\n",
      "Paw None loop\n"
     ]
    },
    {
     "name": "stderr",
     "output_type": "stream",
     "text": [
      "100%|██████████| 1/1 [00:00<00:00,  3.07it/s]\n",
      "100%|██████████| 1/1 [00:00<00:00,  2.73it/s]\n"
     ]
    },
    {
     "name": "stdout",
     "output_type": "stream",
     "text": [
      "88\n",
      "Paw None loop\n"
     ]
    },
    {
     "name": "stderr",
     "output_type": "stream",
     "text": [
      "100%|██████████| 1/1 [00:00<00:00,  3.41it/s]\n",
      "100%|██████████| 1/1 [00:00<00:00,  2.89it/s]\n"
     ]
    },
    {
     "name": "stdout",
     "output_type": "stream",
     "text": [
      "89\n",
      "Paw Recorded/NR loop\n"
     ]
    },
    {
     "name": "stderr",
     "output_type": "stream",
     "text": [
      "100%|██████████| 1/1 [00:00<00:00,  3.33it/s]\n",
      "100%|██████████| 1/1 [00:00<00:00,  3.07it/s]\n",
      "100%|██████████| 1/1 [00:00<00:00,  2.81it/s]\n"
     ]
    },
    {
     "name": "stdout",
     "output_type": "stream",
     "text": [
      "90\n",
      "Paw None loop\n"
     ]
    },
    {
     "name": "stderr",
     "output_type": "stream",
     "text": [
      "100%|██████████| 1/1 [00:00<00:00,  2.79it/s]\n",
      "100%|██████████| 1/1 [00:00<00:00,  2.85it/s]\n"
     ]
    },
    {
     "name": "stdout",
     "output_type": "stream",
     "text": [
      "91\n",
      "Paw None loop\n"
     ]
    },
    {
     "name": "stderr",
     "output_type": "stream",
     "text": [
      "100%|██████████| 1/1 [00:00<00:00,  2.25it/s]\n",
      "100%|██████████| 1/1 [00:00<00:00,  3.32it/s]\n"
     ]
    },
    {
     "name": "stdout",
     "output_type": "stream",
     "text": [
      "92\n",
      "Paw None loop\n"
     ]
    },
    {
     "name": "stderr",
     "output_type": "stream",
     "text": [
      "100%|██████████| 1/1 [00:00<00:00,  3.24it/s]\n",
      "100%|██████████| 1/1 [00:00<00:00,  3.10it/s]\n"
     ]
    },
    {
     "name": "stdout",
     "output_type": "stream",
     "text": [
      "93\n",
      "Paw None loop\n"
     ]
    },
    {
     "name": "stderr",
     "output_type": "stream",
     "text": [
      "100%|██████████| 1/1 [00:00<00:00,  3.30it/s]\n",
      "100%|██████████| 1/1 [00:00<00:00,  2.88it/s]\n"
     ]
    },
    {
     "name": "stdout",
     "output_type": "stream",
     "text": [
      "94\n",
      "Paw Recorded/NR loop\n"
     ]
    },
    {
     "name": "stderr",
     "output_type": "stream",
     "text": [
      "100%|██████████| 1/1 [00:00<00:00,  2.81it/s]\n",
      "100%|██████████| 1/1 [00:00<00:00,  3.35it/s]\n",
      "100%|██████████| 1/1 [00:00<00:00,  3.37it/s]\n"
     ]
    },
    {
     "name": "stdout",
     "output_type": "stream",
     "text": [
      "95\n",
      "Paw None loop\n"
     ]
    },
    {
     "name": "stderr",
     "output_type": "stream",
     "text": [
      "100%|██████████| 1/1 [00:00<00:00,  2.79it/s]\n",
      "100%|██████████| 1/1 [00:00<00:00,  3.29it/s]\n"
     ]
    },
    {
     "name": "stdout",
     "output_type": "stream",
     "text": [
      "96\n",
      "Paw None loop\n"
     ]
    },
    {
     "name": "stderr",
     "output_type": "stream",
     "text": [
      "100%|██████████| 1/1 [00:00<00:00,  2.97it/s]\n",
      "100%|██████████| 1/1 [00:00<00:00,  3.27it/s]\n"
     ]
    },
    {
     "name": "stdout",
     "output_type": "stream",
     "text": [
      "97\n",
      "Paw None loop\n"
     ]
    },
    {
     "name": "stderr",
     "output_type": "stream",
     "text": [
      "100%|██████████| 1/1 [00:00<00:00,  3.31it/s]\n",
      "100%|██████████| 1/1 [00:00<00:00,  2.85it/s]\n"
     ]
    },
    {
     "name": "stdout",
     "output_type": "stream",
     "text": [
      "98\n",
      "Paw None loop\n"
     ]
    },
    {
     "name": "stderr",
     "output_type": "stream",
     "text": [
      "100%|██████████| 1/1 [00:00<00:00,  3.44it/s]\n",
      "100%|██████████| 1/1 [00:00<00:00,  2.59it/s]\n"
     ]
    },
    {
     "name": "stdout",
     "output_type": "stream",
     "text": [
      "99\n",
      "Paw Recorded/NR loop\n"
     ]
    },
    {
     "name": "stderr",
     "output_type": "stream",
     "text": [
      "100%|██████████| 1/1 [00:00<00:00,  3.40it/s]\n",
      "100%|██████████| 1/1 [00:00<00:00,  2.72it/s]\n",
      "100%|██████████| 1/1 [00:00<00:00,  2.44it/s]\n",
      "  0%|          | 0/1 [00:00<?, ?it/s]"
     ]
    },
    {
     "name": "stdout",
     "output_type": "stream",
     "text": [
      "100\n",
      "Paw None loop\n"
     ]
    },
    {
     "name": "stderr",
     "output_type": "stream",
     "text": [
      "100%|██████████| 1/1 [00:00<00:00,  3.24it/s]\n",
      "100%|██████████| 1/1 [00:00<00:00,  3.27it/s]\n"
     ]
    },
    {
     "name": "stdout",
     "output_type": "stream",
     "text": [
      "101\n",
      "Paw None loop\n"
     ]
    },
    {
     "name": "stderr",
     "output_type": "stream",
     "text": [
      "100%|██████████| 1/1 [00:00<00:00,  3.38it/s]\n",
      "100%|██████████| 1/1 [00:00<00:00,  2.85it/s]\n"
     ]
    },
    {
     "name": "stdout",
     "output_type": "stream",
     "text": [
      "102\n",
      "Paw None loop\n"
     ]
    },
    {
     "name": "stderr",
     "output_type": "stream",
     "text": [
      "100%|██████████| 1/1 [00:00<00:00,  2.96it/s]\n",
      "100%|██████████| 1/1 [00:00<00:00,  3.40it/s]\n"
     ]
    },
    {
     "name": "stdout",
     "output_type": "stream",
     "text": [
      "103\n",
      "Paw None loop\n"
     ]
    },
    {
     "name": "stderr",
     "output_type": "stream",
     "text": [
      "100%|██████████| 1/1 [00:00<00:00,  3.32it/s]\n",
      "100%|██████████| 1/1 [00:00<00:00,  2.60it/s]\n"
     ]
    },
    {
     "name": "stdout",
     "output_type": "stream",
     "text": [
      "104\n",
      "Paw Recorded/NR loop\n"
     ]
    },
    {
     "name": "stderr",
     "output_type": "stream",
     "text": [
      "100%|██████████| 1/1 [00:00<00:00,  2.60it/s]\n",
      "100%|██████████| 1/1 [00:00<00:00,  3.31it/s]\n",
      "100%|██████████| 1/1 [00:00<00:00,  2.81it/s]\n"
     ]
    },
    {
     "name": "stdout",
     "output_type": "stream",
     "text": [
      "105\n",
      "Paw None loop\n"
     ]
    },
    {
     "name": "stderr",
     "output_type": "stream",
     "text": [
      "100%|██████████| 1/1 [00:00<00:00,  2.82it/s]\n",
      "100%|██████████| 1/1 [00:00<00:00,  3.49it/s]\n"
     ]
    },
    {
     "name": "stdout",
     "output_type": "stream",
     "text": [
      "106\n",
      "Paw None loop\n"
     ]
    },
    {
     "name": "stderr",
     "output_type": "stream",
     "text": [
      "100%|██████████| 1/1 [00:00<00:00,  2.98it/s]\n",
      "100%|██████████| 1/1 [00:00<00:00,  3.24it/s]\n"
     ]
    },
    {
     "name": "stdout",
     "output_type": "stream",
     "text": [
      "107\n",
      "Paw None loop\n"
     ]
    },
    {
     "name": "stderr",
     "output_type": "stream",
     "text": [
      "100%|██████████| 1/1 [00:00<00:00,  2.98it/s]\n",
      "100%|██████████| 1/1 [00:00<00:00,  3.25it/s]\n"
     ]
    },
    {
     "name": "stdout",
     "output_type": "stream",
     "text": [
      "108\n",
      "Paw None loop\n"
     ]
    },
    {
     "name": "stderr",
     "output_type": "stream",
     "text": [
      "100%|██████████| 1/1 [00:00<00:00,  2.87it/s]\n",
      "100%|██████████| 1/1 [00:00<00:00,  3.18it/s]\n"
     ]
    },
    {
     "name": "stdout",
     "output_type": "stream",
     "text": [
      "109\n",
      "Paw Recorded/NR loop\n"
     ]
    },
    {
     "name": "stderr",
     "output_type": "stream",
     "text": [
      "100%|██████████| 1/1 [00:00<00:00,  3.28it/s]\n",
      "100%|██████████| 1/1 [00:00<00:00,  2.64it/s]\n",
      "100%|██████████| 1/1 [00:00<00:00,  3.51it/s]\n"
     ]
    },
    {
     "name": "stdout",
     "output_type": "stream",
     "text": [
      "110\n",
      "Paw None loop\n"
     ]
    },
    {
     "name": "stderr",
     "output_type": "stream",
     "text": [
      "100%|██████████| 1/1 [00:00<00:00,  3.25it/s]\n",
      "100%|██████████| 1/1 [00:00<00:00,  3.41it/s]\n"
     ]
    },
    {
     "name": "stdout",
     "output_type": "stream",
     "text": [
      "111\n",
      "Paw None loop\n"
     ]
    },
    {
     "name": "stderr",
     "output_type": "stream",
     "text": [
      "100%|██████████| 1/1 [00:00<00:00,  2.80it/s]\n",
      "100%|██████████| 1/1 [00:00<00:00,  3.12it/s]\n"
     ]
    },
    {
     "name": "stdout",
     "output_type": "stream",
     "text": [
      "112\n",
      "Paw None loop\n"
     ]
    },
    {
     "name": "stderr",
     "output_type": "stream",
     "text": [
      "100%|██████████| 1/1 [00:00<00:00,  3.31it/s]\n",
      "100%|██████████| 1/1 [00:00<00:00,  2.55it/s]\n"
     ]
    },
    {
     "name": "stdout",
     "output_type": "stream",
     "text": [
      "113\n",
      "Paw None loop\n"
     ]
    },
    {
     "name": "stderr",
     "output_type": "stream",
     "text": [
      "100%|██████████| 1/1 [00:00<00:00,  3.34it/s]\n",
      "100%|██████████| 1/1 [00:00<00:00,  2.55it/s]\n"
     ]
    },
    {
     "name": "stdout",
     "output_type": "stream",
     "text": [
      "114\n",
      "Paw Recorded/NR loop\n"
     ]
    },
    {
     "name": "stderr",
     "output_type": "stream",
     "text": [
      "100%|██████████| 1/1 [00:00<00:00,  3.37it/s]\n",
      "100%|██████████| 1/1 [00:00<00:00,  3.20it/s]\n",
      "100%|██████████| 1/1 [00:00<00:00,  3.34it/s]\n"
     ]
    },
    {
     "name": "stdout",
     "output_type": "stream",
     "text": [
      "115\n",
      "Paw None loop\n"
     ]
    },
    {
     "name": "stderr",
     "output_type": "stream",
     "text": [
      "100%|██████████| 1/1 [00:00<00:00,  2.88it/s]\n",
      "100%|██████████| 1/1 [00:00<00:00,  3.42it/s]\n"
     ]
    },
    {
     "name": "stdout",
     "output_type": "stream",
     "text": [
      "116\n",
      "Paw None loop\n"
     ]
    },
    {
     "name": "stderr",
     "output_type": "stream",
     "text": [
      "100%|██████████| 1/1 [00:00<00:00,  2.88it/s]\n",
      "100%|██████████| 1/1 [00:00<00:00,  3.38it/s]\n"
     ]
    },
    {
     "name": "stdout",
     "output_type": "stream",
     "text": [
      "117\n",
      "Paw None loop\n"
     ]
    },
    {
     "name": "stderr",
     "output_type": "stream",
     "text": [
      "100%|██████████| 1/1 [00:00<00:00,  2.70it/s]\n",
      "100%|██████████| 1/1 [00:00<00:00,  2.95it/s]\n"
     ]
    },
    {
     "name": "stdout",
     "output_type": "stream",
     "text": [
      "118\n",
      "Paw None loop\n"
     ]
    },
    {
     "name": "stderr",
     "output_type": "stream",
     "text": [
      "100%|██████████| 1/1 [00:00<00:00,  3.23it/s]\n",
      "100%|██████████| 1/1 [00:00<00:00,  3.16it/s]\n"
     ]
    },
    {
     "name": "stdout",
     "output_type": "stream",
     "text": [
      "119\n",
      "Paw Recorded/NR loop\n"
     ]
    },
    {
     "name": "stderr",
     "output_type": "stream",
     "text": [
      "100%|██████████| 1/1 [00:00<00:00,  3.44it/s]\n",
      "100%|██████████| 1/1 [00:00<00:00,  3.21it/s]\n",
      "100%|██████████| 1/1 [00:00<00:00,  2.65it/s]\n"
     ]
    },
    {
     "name": "stdout",
     "output_type": "stream",
     "text": [
      "120\n",
      "Paw None loop\n"
     ]
    },
    {
     "name": "stderr",
     "output_type": "stream",
     "text": [
      "100%|██████████| 1/1 [00:00<00:00,  3.40it/s]\n",
      "100%|██████████| 1/1 [00:00<00:00,  2.84it/s]\n",
      "  0%|          | 0/1 [00:00<?, ?it/s]"
     ]
    },
    {
     "name": "stdout",
     "output_type": "stream",
     "text": [
      "121\n",
      "Paw None loop\n"
     ]
    },
    {
     "name": "stderr",
     "output_type": "stream",
     "text": [
      "100%|██████████| 1/1 [00:00<00:00,  2.82it/s]\n",
      "100%|██████████| 1/1 [00:00<00:00,  3.40it/s]\n"
     ]
    },
    {
     "name": "stdout",
     "output_type": "stream",
     "text": [
      "122\n",
      "Paw None loop\n"
     ]
    },
    {
     "name": "stderr",
     "output_type": "stream",
     "text": [
      "100%|██████████| 1/1 [00:00<00:00,  3.30it/s]\n",
      "100%|██████████| 1/1 [00:00<00:00,  2.83it/s]\n"
     ]
    },
    {
     "name": "stdout",
     "output_type": "stream",
     "text": [
      "123\n",
      "Paw None loop\n"
     ]
    },
    {
     "name": "stderr",
     "output_type": "stream",
     "text": [
      "100%|██████████| 1/1 [00:00<00:00,  3.21it/s]\n",
      "100%|██████████| 1/1 [00:00<00:00,  3.27it/s]\n"
     ]
    },
    {
     "name": "stdout",
     "output_type": "stream",
     "text": [
      "124\n",
      "Paw Recorded/NR loop\n"
     ]
    },
    {
     "name": "stderr",
     "output_type": "stream",
     "text": [
      "100%|██████████| 1/1 [00:00<00:00,  3.24it/s]\n",
      "100%|██████████| 1/1 [00:00<00:00,  3.23it/s]\n",
      "100%|██████████| 1/1 [00:00<00:00,  3.32it/s]\n"
     ]
    },
    {
     "name": "stdout",
     "output_type": "stream",
     "text": [
      "125\n",
      "Paw None loop\n"
     ]
    },
    {
     "name": "stderr",
     "output_type": "stream",
     "text": [
      "100%|██████████| 1/1 [00:00<00:00,  3.26it/s]\n",
      "100%|██████████| 1/1 [00:00<00:00,  3.38it/s]\n"
     ]
    },
    {
     "name": "stdout",
     "output_type": "stream",
     "text": [
      "126\n",
      "Paw None loop\n"
     ]
    },
    {
     "name": "stderr",
     "output_type": "stream",
     "text": [
      "100%|██████████| 1/1 [00:00<00:00,  3.25it/s]\n",
      "100%|██████████| 1/1 [00:00<00:00,  2.86it/s]\n"
     ]
    },
    {
     "name": "stdout",
     "output_type": "stream",
     "text": [
      "127\n",
      "Paw None loop\n"
     ]
    },
    {
     "name": "stderr",
     "output_type": "stream",
     "text": [
      "100%|██████████| 1/1 [00:00<00:00,  3.39it/s]\n",
      "100%|██████████| 1/1 [00:00<00:00,  3.30it/s]\n"
     ]
    },
    {
     "name": "stdout",
     "output_type": "stream",
     "text": [
      "128\n",
      "Paw None loop\n"
     ]
    },
    {
     "name": "stderr",
     "output_type": "stream",
     "text": [
      "100%|██████████| 1/1 [00:00<00:00,  2.87it/s]\n",
      "100%|██████████| 1/1 [00:00<00:00,  3.52it/s]\n",
      "  0%|          | 0/1 [00:00<?, ?it/s]"
     ]
    },
    {
     "name": "stdout",
     "output_type": "stream",
     "text": [
      "129\n",
      "Paw Recorded/NR loop\n"
     ]
    },
    {
     "name": "stderr",
     "output_type": "stream",
     "text": [
      "100%|██████████| 1/1 [00:00<00:00,  2.77it/s]\n",
      "100%|██████████| 1/1 [00:00<00:00,  3.07it/s]\n",
      "100%|██████████| 1/1 [00:00<00:00,  3.27it/s]\n"
     ]
    },
    {
     "name": "stdout",
     "output_type": "stream",
     "text": [
      "130\n",
      "Paw None loop\n"
     ]
    },
    {
     "name": "stderr",
     "output_type": "stream",
     "text": [
      "100%|██████████| 1/1 [00:00<00:00,  3.38it/s]\n",
      "100%|██████████| 1/1 [00:00<00:00,  2.63it/s]\n",
      "  0%|          | 0/1 [00:00<?, ?it/s]"
     ]
    },
    {
     "name": "stdout",
     "output_type": "stream",
     "text": [
      "131\n",
      "Paw None loop\n"
     ]
    },
    {
     "name": "stderr",
     "output_type": "stream",
     "text": [
      "100%|██████████| 1/1 [00:00<00:00,  3.28it/s]\n",
      "100%|██████████| 1/1 [00:00<00:00,  2.90it/s]\n",
      "  0%|          | 0/1 [00:00<?, ?it/s]"
     ]
    },
    {
     "name": "stdout",
     "output_type": "stream",
     "text": [
      "132\n",
      "Paw None loop\n"
     ]
    },
    {
     "name": "stderr",
     "output_type": "stream",
     "text": [
      "100%|██████████| 1/1 [00:00<00:00,  2.89it/s]\n",
      "100%|██████████| 1/1 [00:00<00:00,  3.35it/s]\n",
      "  0%|          | 0/1 [00:00<?, ?it/s]"
     ]
    },
    {
     "name": "stdout",
     "output_type": "stream",
     "text": [
      "133\n",
      "Paw None loop\n"
     ]
    },
    {
     "name": "stderr",
     "output_type": "stream",
     "text": [
      "100%|██████████| 1/1 [00:00<00:00,  2.82it/s]\n",
      "100%|██████████| 1/1 [00:00<00:00,  2.90it/s]\n"
     ]
    },
    {
     "name": "stdout",
     "output_type": "stream",
     "text": [
      "134\n",
      "Paw Recorded/NR loop\n"
     ]
    },
    {
     "name": "stderr",
     "output_type": "stream",
     "text": [
      "100%|██████████| 1/1 [00:00<00:00,  3.42it/s]\n",
      "100%|██████████| 1/1 [00:00<00:00,  3.35it/s]\n",
      "100%|██████████| 1/1 [00:00<00:00,  3.38it/s]\n",
      "  0%|          | 0/1 [00:00<?, ?it/s]"
     ]
    },
    {
     "name": "stdout",
     "output_type": "stream",
     "text": [
      "135\n",
      "Paw None loop\n"
     ]
    },
    {
     "name": "stderr",
     "output_type": "stream",
     "text": [
      "100%|██████████| 1/1 [00:00<00:00,  3.16it/s]\n",
      "100%|██████████| 1/1 [00:00<00:00,  3.13it/s]\n"
     ]
    },
    {
     "name": "stdout",
     "output_type": "stream",
     "text": [
      "136\n",
      "Paw None loop\n"
     ]
    },
    {
     "name": "stderr",
     "output_type": "stream",
     "text": [
      "100%|██████████| 1/1 [00:00<00:00,  2.81it/s]\n",
      "100%|██████████| 1/1 [00:00<00:00,  3.42it/s]\n"
     ]
    },
    {
     "name": "stdout",
     "output_type": "stream",
     "text": [
      "137\n",
      "Paw None loop\n"
     ]
    },
    {
     "name": "stderr",
     "output_type": "stream",
     "text": [
      "100%|██████████| 1/1 [00:00<00:00,  3.36it/s]\n",
      "100%|██████████| 1/1 [00:00<00:00,  3.22it/s]\n"
     ]
    },
    {
     "name": "stdout",
     "output_type": "stream",
     "text": [
      "138\n",
      "Paw None loop\n"
     ]
    },
    {
     "name": "stderr",
     "output_type": "stream",
     "text": [
      "100%|██████████| 1/1 [00:00<00:00,  3.34it/s]\n",
      "100%|██████████| 1/1 [00:00<00:00,  3.31it/s]\n"
     ]
    },
    {
     "name": "stdout",
     "output_type": "stream",
     "text": [
      "139\n",
      "Paw Recorded/NR loop\n"
     ]
    },
    {
     "name": "stderr",
     "output_type": "stream",
     "text": [
      "100%|██████████| 1/1 [00:00<00:00,  3.13it/s]\n",
      "100%|██████████| 1/1 [00:00<00:00,  2.89it/s]\n",
      "100%|██████████| 1/1 [00:00<00:00,  3.29it/s]\n"
     ]
    },
    {
     "name": "stdout",
     "output_type": "stream",
     "text": [
      "140\n",
      "Paw None loop\n"
     ]
    },
    {
     "name": "stderr",
     "output_type": "stream",
     "text": [
      "100%|██████████| 1/1 [00:00<00:00,  3.30it/s]\n",
      "100%|██████████| 1/1 [00:00<00:00,  3.45it/s]\n"
     ]
    },
    {
     "name": "stdout",
     "output_type": "stream",
     "text": [
      "141\n",
      "Paw None loop\n"
     ]
    },
    {
     "name": "stderr",
     "output_type": "stream",
     "text": [
      "100%|██████████| 1/1 [00:00<00:00,  3.26it/s]\n",
      "100%|██████████| 1/1 [00:00<00:00,  3.28it/s]\n"
     ]
    },
    {
     "name": "stdout",
     "output_type": "stream",
     "text": [
      "142\n",
      "Paw None loop\n"
     ]
    },
    {
     "name": "stderr",
     "output_type": "stream",
     "text": [
      "100%|██████████| 1/1 [00:00<00:00,  3.28it/s]\n",
      "100%|██████████| 1/1 [00:00<00:00,  2.34it/s]\n"
     ]
    },
    {
     "name": "stdout",
     "output_type": "stream",
     "text": [
      "143\n",
      "Paw None loop\n"
     ]
    },
    {
     "name": "stderr",
     "output_type": "stream",
     "text": [
      "100%|██████████| 1/1 [00:00<00:00,  2.79it/s]\n",
      "100%|██████████| 1/1 [00:00<00:00,  3.35it/s]\n"
     ]
    },
    {
     "name": "stdout",
     "output_type": "stream",
     "text": [
      "144\n",
      "Paw Recorded/NR loop\n"
     ]
    },
    {
     "name": "stderr",
     "output_type": "stream",
     "text": [
      "100%|██████████| 1/1 [00:00<00:00,  3.23it/s]\n",
      "100%|██████████| 1/1 [00:00<00:00,  2.68it/s]\n",
      "100%|██████████| 1/1 [00:00<00:00,  3.27it/s]\n"
     ]
    },
    {
     "name": "stdout",
     "output_type": "stream",
     "text": [
      "145\n",
      "Paw None loop\n"
     ]
    },
    {
     "name": "stderr",
     "output_type": "stream",
     "text": [
      "100%|██████████| 1/1 [00:00<00:00,  2.91it/s]\n",
      "100%|██████████| 1/1 [00:00<00:00,  3.26it/s]\n"
     ]
    },
    {
     "name": "stdout",
     "output_type": "stream",
     "text": [
      "146\n",
      "Paw None loop\n"
     ]
    },
    {
     "name": "stderr",
     "output_type": "stream",
     "text": [
      "100%|██████████| 1/1 [00:00<00:00,  2.81it/s]\n",
      "100%|██████████| 1/1 [00:00<00:00,  2.85it/s]\n"
     ]
    },
    {
     "name": "stdout",
     "output_type": "stream",
     "text": [
      "147\n",
      "Paw None loop\n"
     ]
    },
    {
     "name": "stderr",
     "output_type": "stream",
     "text": [
      "100%|██████████| 1/1 [00:00<00:00,  3.26it/s]\n",
      "100%|██████████| 1/1 [00:00<00:00,  3.36it/s]\n"
     ]
    },
    {
     "name": "stdout",
     "output_type": "stream",
     "text": [
      "148\n",
      "Paw None loop\n"
     ]
    },
    {
     "name": "stderr",
     "output_type": "stream",
     "text": [
      "100%|██████████| 1/1 [00:00<00:00,  3.20it/s]\n",
      "100%|██████████| 1/1 [00:00<00:00,  2.87it/s]\n",
      "  0%|          | 0/1 [00:00<?, ?it/s]"
     ]
    },
    {
     "name": "stdout",
     "output_type": "stream",
     "text": [
      "149\n",
      "Paw Recorded/NR loop\n"
     ]
    },
    {
     "name": "stderr",
     "output_type": "stream",
     "text": [
      "100%|██████████| 1/1 [00:00<00:00,  2.91it/s]\n",
      "100%|██████████| 1/1 [00:00<00:00,  2.76it/s]\n",
      "100%|██████████| 1/1 [00:00<00:00,  3.27it/s]\n"
     ]
    },
    {
     "name": "stdout",
     "output_type": "stream",
     "text": [
      "150\n",
      "Paw None loop\n"
     ]
    },
    {
     "name": "stderr",
     "output_type": "stream",
     "text": [
      "100%|██████████| 1/1 [00:00<00:00,  3.36it/s]\n",
      "100%|██████████| 1/1 [00:00<00:00,  3.31it/s]\n"
     ]
    },
    {
     "name": "stdout",
     "output_type": "stream",
     "text": [
      "151\n",
      "Paw None loop\n"
     ]
    },
    {
     "name": "stderr",
     "output_type": "stream",
     "text": [
      "100%|██████████| 1/1 [00:00<00:00,  3.30it/s]\n",
      "100%|██████████| 1/1 [00:00<00:00,  2.79it/s]\n"
     ]
    },
    {
     "name": "stdout",
     "output_type": "stream",
     "text": [
      "152\n",
      "Paw None loop\n"
     ]
    },
    {
     "name": "stderr",
     "output_type": "stream",
     "text": [
      "100%|██████████| 1/1 [00:00<00:00,  3.15it/s]\n",
      "100%|██████████| 1/1 [00:00<00:00,  2.81it/s]\n"
     ]
    },
    {
     "name": "stdout",
     "output_type": "stream",
     "text": [
      "153\n",
      "Paw None loop\n"
     ]
    },
    {
     "name": "stderr",
     "output_type": "stream",
     "text": [
      "100%|██████████| 1/1 [00:00<00:00,  3.32it/s]\n",
      "100%|██████████| 1/1 [00:00<00:00,  3.42it/s]\n"
     ]
    },
    {
     "name": "stdout",
     "output_type": "stream",
     "text": [
      "154\n",
      "Paw Recorded/NR loop\n"
     ]
    },
    {
     "name": "stderr",
     "output_type": "stream",
     "text": [
      "100%|██████████| 1/1 [00:00<00:00,  3.17it/s]\n",
      "100%|██████████| 1/1 [00:00<00:00,  2.62it/s]\n",
      "100%|██████████| 1/1 [00:00<00:00,  3.28it/s]\n"
     ]
    },
    {
     "name": "stdout",
     "output_type": "stream",
     "text": [
      "155\n",
      "Paw None loop\n"
     ]
    },
    {
     "name": "stderr",
     "output_type": "stream",
     "text": [
      "100%|██████████| 1/1 [00:00<00:00,  3.31it/s]\n",
      "100%|██████████| 1/1 [00:00<00:00,  2.94it/s]\n"
     ]
    },
    {
     "name": "stdout",
     "output_type": "stream",
     "text": [
      "156\n",
      "Paw None loop\n"
     ]
    },
    {
     "name": "stderr",
     "output_type": "stream",
     "text": [
      "100%|██████████| 1/1 [00:00<00:00,  2.90it/s]\n",
      "100%|██████████| 1/1 [00:00<00:00,  3.36it/s]\n"
     ]
    },
    {
     "name": "stdout",
     "output_type": "stream",
     "text": [
      "157\n",
      "Paw None loop\n"
     ]
    },
    {
     "name": "stderr",
     "output_type": "stream",
     "text": [
      "100%|██████████| 1/1 [00:00<00:00,  3.32it/s]\n",
      "100%|██████████| 1/1 [00:00<00:00,  3.23it/s]\n"
     ]
    },
    {
     "name": "stdout",
     "output_type": "stream",
     "text": [
      "158\n",
      "Paw None loop\n"
     ]
    },
    {
     "name": "stderr",
     "output_type": "stream",
     "text": [
      "100%|██████████| 1/1 [00:00<00:00,  2.70it/s]\n",
      "100%|██████████| 1/1 [00:00<00:00,  3.30it/s]\n"
     ]
    },
    {
     "name": "stdout",
     "output_type": "stream",
     "text": [
      "159\n",
      "Paw Recorded/NR loop\n"
     ]
    },
    {
     "name": "stderr",
     "output_type": "stream",
     "text": [
      "100%|██████████| 1/1 [00:00<00:00,  2.89it/s]\n",
      "100%|██████████| 1/1 [00:00<00:00,  2.63it/s]\n",
      "100%|██████████| 1/1 [00:00<00:00,  3.32it/s]\n"
     ]
    },
    {
     "name": "stdout",
     "output_type": "stream",
     "text": [
      "160\n",
      "Paw None loop\n"
     ]
    },
    {
     "name": "stderr",
     "output_type": "stream",
     "text": [
      "100%|██████████| 1/1 [00:00<00:00,  2.79it/s]\n",
      "100%|██████████| 1/1 [00:00<00:00,  3.37it/s]\n"
     ]
    },
    {
     "name": "stdout",
     "output_type": "stream",
     "text": [
      "161\n",
      "Paw None loop\n"
     ]
    },
    {
     "name": "stderr",
     "output_type": "stream",
     "text": [
      "100%|██████████| 1/1 [00:00<00:00,  3.32it/s]\n",
      "100%|██████████| 1/1 [00:00<00:00,  2.71it/s]\n"
     ]
    },
    {
     "name": "stdout",
     "output_type": "stream",
     "text": [
      "162\n",
      "Paw None loop\n"
     ]
    },
    {
     "name": "stderr",
     "output_type": "stream",
     "text": [
      "100%|██████████| 1/1 [00:00<00:00,  2.84it/s]\n",
      "100%|██████████| 1/1 [00:00<00:00,  3.28it/s]\n"
     ]
    },
    {
     "name": "stdout",
     "output_type": "stream",
     "text": [
      "163\n",
      "Paw None loop\n"
     ]
    },
    {
     "name": "stderr",
     "output_type": "stream",
     "text": [
      "100%|██████████| 1/1 [00:00<00:00,  2.80it/s]\n",
      "100%|██████████| 1/1 [00:00<00:00,  3.27it/s]\n"
     ]
    },
    {
     "name": "stdout",
     "output_type": "stream",
     "text": [
      "164\n",
      "Paw Recorded/NR loop\n"
     ]
    },
    {
     "name": "stderr",
     "output_type": "stream",
     "text": [
      "100%|██████████| 1/1 [00:00<00:00,  2.69it/s]\n",
      "100%|██████████| 1/1 [00:00<00:00,  3.27it/s]\n",
      "100%|██████████| 1/1 [00:00<00:00,  3.24it/s]\n"
     ]
    },
    {
     "name": "stdout",
     "output_type": "stream",
     "text": [
      "165\n",
      "Paw None loop\n"
     ]
    },
    {
     "name": "stderr",
     "output_type": "stream",
     "text": [
      "100%|██████████| 1/1 [00:00<00:00,  3.31it/s]\n",
      "100%|██████████| 1/1 [00:00<00:00,  3.37it/s]\n"
     ]
    },
    {
     "name": "stdout",
     "output_type": "stream",
     "text": [
      "166\n",
      "Paw None loop\n"
     ]
    },
    {
     "name": "stderr",
     "output_type": "stream",
     "text": [
      "100%|██████████| 1/1 [00:00<00:00,  2.79it/s]\n",
      "100%|██████████| 1/1 [00:00<00:00,  2.38it/s]\n"
     ]
    },
    {
     "name": "stdout",
     "output_type": "stream",
     "text": [
      "167\n",
      "Paw None loop\n"
     ]
    },
    {
     "name": "stderr",
     "output_type": "stream",
     "text": [
      "100%|██████████| 1/1 [00:00<00:00,  2.79it/s]\n",
      "100%|██████████| 1/1 [00:00<00:00,  3.12it/s]\n"
     ]
    },
    {
     "name": "stdout",
     "output_type": "stream",
     "text": [
      "168\n",
      "Paw None loop\n"
     ]
    },
    {
     "name": "stderr",
     "output_type": "stream",
     "text": [
      "100%|██████████| 1/1 [00:00<00:00,  3.11it/s]\n",
      "100%|██████████| 1/1 [00:00<00:00,  3.35it/s]\n"
     ]
    },
    {
     "name": "stdout",
     "output_type": "stream",
     "text": [
      "169\n",
      "Paw Recorded/NR loop\n"
     ]
    },
    {
     "name": "stderr",
     "output_type": "stream",
     "text": [
      "100%|██████████| 1/1 [00:00<00:00,  3.35it/s]\n",
      "100%|██████████| 1/1 [00:00<00:00,  2.97it/s]\n",
      "100%|██████████| 1/1 [00:00<00:00,  3.26it/s]\n"
     ]
    },
    {
     "name": "stdout",
     "output_type": "stream",
     "text": [
      "170\n",
      "Paw None loop\n"
     ]
    },
    {
     "name": "stderr",
     "output_type": "stream",
     "text": [
      "100%|██████████| 1/1 [00:00<00:00,  3.32it/s]\n",
      "100%|██████████| 1/1 [00:00<00:00,  3.36it/s]\n"
     ]
    },
    {
     "name": "stdout",
     "output_type": "stream",
     "text": [
      "171\n",
      "Paw None loop\n"
     ]
    },
    {
     "name": "stderr",
     "output_type": "stream",
     "text": [
      "100%|██████████| 1/1 [00:00<00:00,  2.79it/s]\n",
      "100%|██████████| 1/1 [00:00<00:00,  3.31it/s]\n"
     ]
    },
    {
     "name": "stdout",
     "output_type": "stream",
     "text": [
      "172\n",
      "Paw None loop\n"
     ]
    },
    {
     "name": "stderr",
     "output_type": "stream",
     "text": [
      "100%|██████████| 1/1 [00:00<00:00,  3.50it/s]\n",
      "100%|██████████| 1/1 [00:00<00:00,  3.16it/s]\n"
     ]
    },
    {
     "name": "stdout",
     "output_type": "stream",
     "text": [
      "173\n",
      "Paw None loop\n"
     ]
    },
    {
     "name": "stderr",
     "output_type": "stream",
     "text": [
      "100%|██████████| 1/1 [00:00<00:00,  3.23it/s]\n",
      "100%|██████████| 1/1 [00:00<00:00,  3.11it/s]\n"
     ]
    },
    {
     "name": "stdout",
     "output_type": "stream",
     "text": [
      "174\n",
      "Paw Recorded/NR loop\n"
     ]
    },
    {
     "name": "stderr",
     "output_type": "stream",
     "text": [
      "100%|██████████| 1/1 [00:00<00:00,  2.70it/s]\n",
      "100%|██████████| 1/1 [00:00<00:00,  2.83it/s]\n",
      "100%|██████████| 1/1 [00:00<00:00,  3.21it/s]\n"
     ]
    },
    {
     "name": "stdout",
     "output_type": "stream",
     "text": [
      "175\n",
      "Paw None loop\n"
     ]
    },
    {
     "name": "stderr",
     "output_type": "stream",
     "text": [
      "100%|██████████| 1/1 [00:00<00:00,  3.21it/s]\n",
      "100%|██████████| 1/1 [00:00<00:00,  3.07it/s]\n"
     ]
    },
    {
     "name": "stdout",
     "output_type": "stream",
     "text": [
      "176\n",
      "Paw None loop\n"
     ]
    },
    {
     "name": "stderr",
     "output_type": "stream",
     "text": [
      "100%|██████████| 1/1 [00:00<00:00,  3.28it/s]\n",
      "100%|██████████| 1/1 [00:00<00:00,  2.87it/s]\n"
     ]
    },
    {
     "name": "stdout",
     "output_type": "stream",
     "text": [
      "177\n",
      "Paw None loop\n"
     ]
    },
    {
     "name": "stderr",
     "output_type": "stream",
     "text": [
      "100%|██████████| 1/1 [00:00<00:00,  2.60it/s]\n",
      "100%|██████████| 1/1 [00:00<00:00,  2.73it/s]\n",
      "  0%|          | 0/1 [00:00<?, ?it/s]"
     ]
    },
    {
     "name": "stdout",
     "output_type": "stream",
     "text": [
      "178\n",
      "Paw None loop\n"
     ]
    },
    {
     "name": "stderr",
     "output_type": "stream",
     "text": [
      "100%|██████████| 1/1 [00:00<00:00,  3.38it/s]\n",
      "100%|██████████| 1/1 [00:00<00:00,  3.18it/s]\n"
     ]
    },
    {
     "name": "stdout",
     "output_type": "stream",
     "text": [
      "179\n",
      "Paw Recorded/NR loop\n"
     ]
    },
    {
     "name": "stderr",
     "output_type": "stream",
     "text": [
      "100%|██████████| 1/1 [00:00<00:00,  3.43it/s]\n",
      "100%|██████████| 1/1 [00:00<00:00,  3.08it/s]\n",
      "100%|██████████| 1/1 [00:00<00:00,  3.30it/s]\n"
     ]
    },
    {
     "name": "stdout",
     "output_type": "stream",
     "text": [
      "180\n",
      "Paw None loop\n"
     ]
    },
    {
     "name": "stderr",
     "output_type": "stream",
     "text": [
      "100%|██████████| 1/1 [00:00<00:00,  3.21it/s]\n",
      "100%|██████████| 1/1 [00:00<00:00,  2.75it/s]\n"
     ]
    },
    {
     "name": "stdout",
     "output_type": "stream",
     "text": [
      "181\n",
      "Paw None loop\n"
     ]
    },
    {
     "name": "stderr",
     "output_type": "stream",
     "text": [
      "100%|██████████| 1/1 [00:00<00:00,  3.40it/s]\n",
      "100%|██████████| 1/1 [00:00<00:00,  3.34it/s]\n"
     ]
    },
    {
     "name": "stdout",
     "output_type": "stream",
     "text": [
      "182\n",
      "Paw None loop\n"
     ]
    },
    {
     "name": "stderr",
     "output_type": "stream",
     "text": [
      "100%|██████████| 1/1 [00:00<00:00,  3.41it/s]\n",
      "100%|██████████| 1/1 [00:00<00:00,  3.23it/s]\n"
     ]
    },
    {
     "name": "stdout",
     "output_type": "stream",
     "text": [
      "183\n",
      "Paw None loop\n"
     ]
    },
    {
     "name": "stderr",
     "output_type": "stream",
     "text": [
      "100%|██████████| 1/1 [00:00<00:00,  2.73it/s]\n",
      "100%|██████████| 1/1 [00:00<00:00,  3.10it/s]\n",
      "  0%|          | 0/1 [00:00<?, ?it/s]"
     ]
    },
    {
     "name": "stdout",
     "output_type": "stream",
     "text": [
      "184\n",
      "Paw Recorded/NR loop\n"
     ]
    },
    {
     "name": "stderr",
     "output_type": "stream",
     "text": [
      "100%|██████████| 1/1 [00:00<00:00,  3.18it/s]\n",
      "100%|██████████| 1/1 [00:00<00:00,  2.83it/s]\n",
      "100%|██████████| 1/1 [00:00<00:00,  3.33it/s]\n"
     ]
    },
    {
     "name": "stdout",
     "output_type": "stream",
     "text": [
      "185\n",
      "Paw None loop\n"
     ]
    },
    {
     "name": "stderr",
     "output_type": "stream",
     "text": [
      "100%|██████████| 1/1 [00:00<00:00,  3.33it/s]\n",
      "100%|██████████| 1/1 [00:00<00:00,  3.29it/s]\n",
      "  0%|          | 0/1 [00:00<?, ?it/s]"
     ]
    },
    {
     "name": "stdout",
     "output_type": "stream",
     "text": [
      "186\n",
      "Paw None loop\n"
     ]
    },
    {
     "name": "stderr",
     "output_type": "stream",
     "text": [
      "100%|██████████| 1/1 [00:00<00:00,  3.32it/s]\n",
      "100%|██████████| 1/1 [00:00<00:00,  3.09it/s]\n"
     ]
    },
    {
     "name": "stdout",
     "output_type": "stream",
     "text": [
      "187\n",
      "Paw None loop\n"
     ]
    },
    {
     "name": "stderr",
     "output_type": "stream",
     "text": [
      "100%|██████████| 1/1 [00:00<00:00,  2.89it/s]\n",
      "100%|██████████| 1/1 [00:00<00:00,  2.77it/s]\n"
     ]
    },
    {
     "name": "stdout",
     "output_type": "stream",
     "text": [
      "188\n",
      "Paw None loop\n"
     ]
    },
    {
     "name": "stderr",
     "output_type": "stream",
     "text": [
      "100%|██████████| 1/1 [00:00<00:00,  2.98it/s]\n",
      "100%|██████████| 1/1 [00:00<00:00,  3.25it/s]\n"
     ]
    },
    {
     "name": "stdout",
     "output_type": "stream",
     "text": [
      "189\n",
      "Paw Recorded/NR loop\n"
     ]
    },
    {
     "name": "stderr",
     "output_type": "stream",
     "text": [
      "100%|██████████| 1/1 [00:00<00:00,  3.28it/s]\n",
      "100%|██████████| 1/1 [00:00<00:00,  3.38it/s]\n",
      "100%|██████████| 1/1 [00:00<00:00,  2.65it/s]\n",
      "  0%|          | 0/1 [00:00<?, ?it/s]"
     ]
    },
    {
     "name": "stdout",
     "output_type": "stream",
     "text": [
      "190\n",
      "Paw None loop\n"
     ]
    },
    {
     "name": "stderr",
     "output_type": "stream",
     "text": [
      "100%|██████████| 1/1 [00:00<00:00,  3.13it/s]\n",
      "100%|██████████| 1/1 [00:00<00:00,  2.87it/s]\n",
      "  0%|          | 0/1 [00:00<?, ?it/s]"
     ]
    },
    {
     "name": "stdout",
     "output_type": "stream",
     "text": [
      "191\n",
      "Paw None loop\n"
     ]
    },
    {
     "name": "stderr",
     "output_type": "stream",
     "text": [
      "100%|██████████| 1/1 [00:00<00:00,  2.60it/s]\n",
      "100%|██████████| 1/1 [00:00<00:00,  2.86it/s]\n",
      "  0%|          | 0/1 [00:00<?, ?it/s]"
     ]
    },
    {
     "name": "stdout",
     "output_type": "stream",
     "text": [
      "192\n",
      "Paw None loop\n"
     ]
    },
    {
     "name": "stderr",
     "output_type": "stream",
     "text": [
      "100%|██████████| 1/1 [00:00<00:00,  3.16it/s]\n",
      "100%|██████████| 1/1 [00:00<00:00,  2.82it/s]\n",
      "  0%|          | 0/1 [00:00<?, ?it/s]"
     ]
    },
    {
     "name": "stdout",
     "output_type": "stream",
     "text": [
      "193\n",
      "Paw None loop\n"
     ]
    },
    {
     "name": "stderr",
     "output_type": "stream",
     "text": [
      "100%|██████████| 1/1 [00:00<00:00,  2.86it/s]\n",
      "100%|██████████| 1/1 [00:00<00:00,  3.14it/s]\n",
      "  0%|          | 0/1 [00:00<?, ?it/s]"
     ]
    },
    {
     "name": "stdout",
     "output_type": "stream",
     "text": [
      "194\n",
      "Paw Recorded/NR loop\n"
     ]
    },
    {
     "name": "stderr",
     "output_type": "stream",
     "text": [
      "100%|██████████| 1/1 [00:00<00:00,  2.71it/s]\n",
      "100%|██████████| 1/1 [00:00<00:00,  3.23it/s]\n",
      "100%|██████████| 1/1 [00:00<00:00,  2.90it/s]\n"
     ]
    },
    {
     "name": "stdout",
     "output_type": "stream",
     "text": [
      "195\n",
      "Paw None loop\n"
     ]
    },
    {
     "name": "stderr",
     "output_type": "stream",
     "text": [
      "100%|██████████| 1/1 [00:00<00:00,  2.81it/s]\n",
      "100%|██████████| 1/1 [00:00<00:00,  3.36it/s]\n"
     ]
    },
    {
     "name": "stdout",
     "output_type": "stream",
     "text": [
      "196\n",
      "Paw None loop\n"
     ]
    },
    {
     "name": "stderr",
     "output_type": "stream",
     "text": [
      "100%|██████████| 1/1 [00:00<00:00,  3.09it/s]\n",
      "100%|██████████| 1/1 [00:00<00:00,  3.17it/s]\n"
     ]
    },
    {
     "name": "stdout",
     "output_type": "stream",
     "text": [
      "197\n",
      "Paw None loop\n"
     ]
    },
    {
     "name": "stderr",
     "output_type": "stream",
     "text": [
      "100%|██████████| 1/1 [00:00<00:00,  2.84it/s]\n",
      "100%|██████████| 1/1 [00:00<00:00,  3.21it/s]\n"
     ]
    },
    {
     "name": "stdout",
     "output_type": "stream",
     "text": [
      "198\n",
      "Paw None loop\n"
     ]
    },
    {
     "name": "stderr",
     "output_type": "stream",
     "text": [
      "100%|██████████| 1/1 [00:00<00:00,  3.32it/s]\n",
      "100%|██████████| 1/1 [00:00<00:00,  2.88it/s]\n",
      "  0%|          | 0/1 [00:00<?, ?it/s]"
     ]
    },
    {
     "name": "stdout",
     "output_type": "stream",
     "text": [
      "199\n",
      "Paw Recorded/NR loop\n"
     ]
    },
    {
     "name": "stderr",
     "output_type": "stream",
     "text": [
      "100%|██████████| 1/1 [00:00<00:00,  3.07it/s]\n",
      "100%|██████████| 1/1 [00:00<00:00,  3.21it/s]\n",
      "100%|██████████| 1/1 [00:00<00:00,  3.13it/s]\n"
     ]
    },
    {
     "name": "stdout",
     "output_type": "stream",
     "text": [
      "200\n",
      "Paw None loop\n"
     ]
    },
    {
     "name": "stderr",
     "output_type": "stream",
     "text": [
      "100%|██████████| 1/1 [00:00<00:00,  3.41it/s]\n",
      "100%|██████████| 1/1 [00:00<00:00,  3.27it/s]\n"
     ]
    },
    {
     "name": "stdout",
     "output_type": "stream",
     "text": [
      "201\n",
      "Paw None loop\n"
     ]
    },
    {
     "name": "stderr",
     "output_type": "stream",
     "text": [
      "100%|██████████| 1/1 [00:00<00:00,  2.74it/s]\n",
      "100%|██████████| 1/1 [00:00<00:00,  3.18it/s]\n"
     ]
    },
    {
     "name": "stdout",
     "output_type": "stream",
     "text": [
      "202\n",
      "Paw None loop\n"
     ]
    },
    {
     "name": "stderr",
     "output_type": "stream",
     "text": [
      "100%|██████████| 1/1 [00:00<00:00,  3.26it/s]\n",
      "100%|██████████| 1/1 [00:00<00:00,  3.17it/s]\n"
     ]
    },
    {
     "name": "stdout",
     "output_type": "stream",
     "text": [
      "203\n",
      "Paw None loop\n"
     ]
    },
    {
     "name": "stderr",
     "output_type": "stream",
     "text": [
      "100%|██████████| 1/1 [00:00<00:00,  3.26it/s]\n",
      "100%|██████████| 1/1 [00:00<00:00,  2.53it/s]\n"
     ]
    },
    {
     "name": "stdout",
     "output_type": "stream",
     "text": [
      "204\n",
      "Paw Recorded/NR loop\n"
     ]
    },
    {
     "name": "stderr",
     "output_type": "stream",
     "text": [
      "100%|██████████| 1/1 [00:00<00:00,  3.27it/s]\n",
      "100%|██████████| 1/1 [00:00<00:00,  3.38it/s]\n",
      "100%|██████████| 1/1 [00:00<00:00,  3.24it/s]\n",
      "  0%|          | 0/1 [00:00<?, ?it/s]"
     ]
    },
    {
     "name": "stdout",
     "output_type": "stream",
     "text": [
      "205\n",
      "Paw None loop\n"
     ]
    },
    {
     "name": "stderr",
     "output_type": "stream",
     "text": [
      "100%|██████████| 1/1 [00:00<00:00,  2.92it/s]\n",
      "100%|██████████| 1/1 [00:00<00:00,  2.79it/s]\n",
      "  0%|          | 0/1 [00:00<?, ?it/s]"
     ]
    },
    {
     "name": "stdout",
     "output_type": "stream",
     "text": [
      "206\n",
      "Paw None loop\n"
     ]
    },
    {
     "name": "stderr",
     "output_type": "stream",
     "text": [
      "100%|██████████| 1/1 [00:00<00:00,  2.82it/s]\n",
      "100%|██████████| 1/1 [00:00<00:00,  3.35it/s]\n",
      "  0%|          | 0/1 [00:00<?, ?it/s]"
     ]
    },
    {
     "name": "stdout",
     "output_type": "stream",
     "text": [
      "207\n",
      "Paw None loop\n"
     ]
    },
    {
     "name": "stderr",
     "output_type": "stream",
     "text": [
      "100%|██████████| 1/1 [00:00<00:00,  3.21it/s]\n",
      "100%|██████████| 1/1 [00:00<00:00,  3.23it/s]\n",
      "  0%|          | 0/1 [00:00<?, ?it/s]"
     ]
    },
    {
     "name": "stdout",
     "output_type": "stream",
     "text": [
      "208\n",
      "Paw None loop\n"
     ]
    },
    {
     "name": "stderr",
     "output_type": "stream",
     "text": [
      "100%|██████████| 1/1 [00:00<00:00,  3.23it/s]\n",
      "100%|██████████| 1/1 [00:00<00:00,  2.79it/s]\n"
     ]
    },
    {
     "name": "stdout",
     "output_type": "stream",
     "text": [
      "209\n",
      "Paw Recorded/NR loop\n"
     ]
    },
    {
     "name": "stderr",
     "output_type": "stream",
     "text": [
      "100%|██████████| 1/1 [00:00<00:00,  3.34it/s]\n",
      "100%|██████████| 1/1 [00:00<00:00,  2.82it/s]\n",
      "100%|██████████| 1/1 [00:00<00:00,  2.91it/s]\n"
     ]
    },
    {
     "name": "stdout",
     "output_type": "stream",
     "text": [
      "210\n",
      "Paw None loop\n"
     ]
    },
    {
     "name": "stderr",
     "output_type": "stream",
     "text": [
      "100%|██████████| 1/1 [00:00<00:00,  2.56it/s]\n",
      "100%|██████████| 1/1 [00:00<00:00,  2.97it/s]\n"
     ]
    },
    {
     "name": "stdout",
     "output_type": "stream",
     "text": [
      "211\n",
      "Paw None loop\n"
     ]
    },
    {
     "name": "stderr",
     "output_type": "stream",
     "text": [
      "100%|██████████| 1/1 [00:00<00:00,  2.77it/s]\n",
      "100%|██████████| 1/1 [00:00<00:00,  3.33it/s]\n"
     ]
    },
    {
     "name": "stdout",
     "output_type": "stream",
     "text": [
      "212\n",
      "Paw None loop\n"
     ]
    },
    {
     "name": "stderr",
     "output_type": "stream",
     "text": [
      "100%|██████████| 1/1 [00:00<00:00,  2.77it/s]\n",
      "100%|██████████| 1/1 [00:00<00:00,  3.22it/s]\n"
     ]
    },
    {
     "name": "stdout",
     "output_type": "stream",
     "text": [
      "213\n",
      "Paw None loop\n"
     ]
    },
    {
     "name": "stderr",
     "output_type": "stream",
     "text": [
      "100%|██████████| 1/1 [00:00<00:00,  2.77it/s]\n",
      "100%|██████████| 1/1 [00:00<00:00,  3.30it/s]\n",
      "  0%|          | 0/1 [00:00<?, ?it/s]"
     ]
    },
    {
     "name": "stdout",
     "output_type": "stream",
     "text": [
      "214\n",
      "Paw Recorded/NR loop\n"
     ]
    },
    {
     "name": "stderr",
     "output_type": "stream",
     "text": [
      "100%|██████████| 1/1 [00:00<00:00,  3.23it/s]\n",
      "100%|██████████| 1/1 [00:00<00:00,  3.31it/s]\n",
      "100%|██████████| 1/1 [00:00<00:00,  3.30it/s]\n"
     ]
    },
    {
     "name": "stdout",
     "output_type": "stream",
     "text": [
      "215\n",
      "Paw None loop\n"
     ]
    },
    {
     "name": "stderr",
     "output_type": "stream",
     "text": [
      "100%|██████████| 1/1 [00:00<00:00,  3.35it/s]\n",
      "100%|██████████| 1/1 [00:00<00:00,  3.17it/s]\n"
     ]
    },
    {
     "name": "stdout",
     "output_type": "stream",
     "text": [
      "216\n",
      "Paw None loop\n"
     ]
    },
    {
     "name": "stderr",
     "output_type": "stream",
     "text": [
      "100%|██████████| 1/1 [00:00<00:00,  3.21it/s]\n",
      "100%|██████████| 1/1 [00:00<00:00,  2.89it/s]\n"
     ]
    },
    {
     "name": "stdout",
     "output_type": "stream",
     "text": [
      "217\n",
      "Paw None loop\n"
     ]
    },
    {
     "name": "stderr",
     "output_type": "stream",
     "text": [
      "100%|██████████| 1/1 [00:00<00:00,  3.20it/s]\n",
      "100%|██████████| 1/1 [00:00<00:00,  3.39it/s]\n"
     ]
    },
    {
     "name": "stdout",
     "output_type": "stream",
     "text": [
      "218\n",
      "Paw None loop\n"
     ]
    },
    {
     "name": "stderr",
     "output_type": "stream",
     "text": [
      "100%|██████████| 1/1 [00:00<00:00,  2.74it/s]\n",
      "100%|██████████| 1/1 [00:00<00:00,  3.31it/s]\n"
     ]
    },
    {
     "name": "stdout",
     "output_type": "stream",
     "text": [
      "219\n",
      "Paw Recorded/NR loop\n"
     ]
    },
    {
     "name": "stderr",
     "output_type": "stream",
     "text": [
      "100%|██████████| 1/1 [00:00<00:00,  3.07it/s]\n",
      "100%|██████████| 1/1 [00:00<00:00,  3.25it/s]\n",
      "100%|██████████| 1/1 [00:00<00:00,  2.78it/s]\n"
     ]
    },
    {
     "name": "stdout",
     "output_type": "stream",
     "text": [
      "220\n",
      "Paw None loop\n"
     ]
    },
    {
     "name": "stderr",
     "output_type": "stream",
     "text": [
      "100%|██████████| 1/1 [00:00<00:00,  3.30it/s]\n",
      "100%|██████████| 1/1 [00:00<00:00,  2.73it/s]\n"
     ]
    },
    {
     "name": "stdout",
     "output_type": "stream",
     "text": [
      "221\n",
      "Paw None loop\n"
     ]
    },
    {
     "name": "stderr",
     "output_type": "stream",
     "text": [
      "100%|██████████| 1/1 [00:00<00:00,  2.36it/s]\n",
      "100%|██████████| 1/1 [00:00<00:00,  3.31it/s]\n"
     ]
    },
    {
     "name": "stdout",
     "output_type": "stream",
     "text": [
      "222\n",
      "Paw None loop\n"
     ]
    },
    {
     "name": "stderr",
     "output_type": "stream",
     "text": [
      "100%|██████████| 1/1 [00:00<00:00,  3.18it/s]\n",
      "100%|██████████| 1/1 [00:00<00:00,  2.79it/s]\n"
     ]
    },
    {
     "name": "stdout",
     "output_type": "stream",
     "text": [
      "223\n",
      "Paw None loop\n"
     ]
    },
    {
     "name": "stderr",
     "output_type": "stream",
     "text": [
      "100%|██████████| 1/1 [00:00<00:00,  3.35it/s]\n",
      "100%|██████████| 1/1 [00:00<00:00,  3.34it/s]\n"
     ]
    },
    {
     "name": "stdout",
     "output_type": "stream",
     "text": [
      "224\n",
      "Paw Recorded/NR loop\n"
     ]
    },
    {
     "name": "stderr",
     "output_type": "stream",
     "text": [
      "100%|██████████| 1/1 [00:00<00:00,  2.85it/s]\n",
      "100%|██████████| 1/1 [00:00<00:00,  3.00it/s]\n",
      "100%|██████████| 1/1 [00:00<00:00,  3.18it/s]\n"
     ]
    },
    {
     "name": "stdout",
     "output_type": "stream",
     "text": [
      "225\n",
      "Paw None loop\n"
     ]
    },
    {
     "name": "stderr",
     "output_type": "stream",
     "text": [
      "100%|██████████| 1/1 [00:00<00:00,  2.32it/s]\n",
      "100%|██████████| 1/1 [00:00<00:00,  3.25it/s]\n"
     ]
    },
    {
     "name": "stdout",
     "output_type": "stream",
     "text": [
      "226\n",
      "Paw None loop\n"
     ]
    },
    {
     "name": "stderr",
     "output_type": "stream",
     "text": [
      "100%|██████████| 1/1 [00:00<00:00,  3.25it/s]\n",
      "100%|██████████| 1/1 [00:00<00:00,  2.76it/s]\n"
     ]
    },
    {
     "name": "stdout",
     "output_type": "stream",
     "text": [
      "227\n",
      "Paw None loop\n"
     ]
    },
    {
     "name": "stderr",
     "output_type": "stream",
     "text": [
      "100%|██████████| 1/1 [00:00<00:00,  3.32it/s]\n",
      "100%|██████████| 1/1 [00:00<00:00,  3.23it/s]\n"
     ]
    },
    {
     "name": "stdout",
     "output_type": "stream",
     "text": [
      "228\n",
      "Paw None loop\n"
     ]
    },
    {
     "name": "stderr",
     "output_type": "stream",
     "text": [
      "100%|██████████| 1/1 [00:00<00:00,  2.78it/s]\n",
      "100%|██████████| 1/1 [00:00<00:00,  3.31it/s]\n",
      "  0%|          | 0/1 [00:00<?, ?it/s]"
     ]
    },
    {
     "name": "stdout",
     "output_type": "stream",
     "text": [
      "229\n",
      "Paw Recorded/NR loop\n"
     ]
    },
    {
     "name": "stderr",
     "output_type": "stream",
     "text": [
      "100%|██████████| 1/1 [00:00<00:00,  3.34it/s]\n",
      "100%|██████████| 1/1 [00:00<00:00,  3.18it/s]\n",
      "100%|██████████| 1/1 [00:00<00:00,  2.76it/s]\n",
      "  0%|          | 0/1 [00:00<?, ?it/s]"
     ]
    },
    {
     "name": "stdout",
     "output_type": "stream",
     "text": [
      "230\n",
      "Paw None loop\n"
     ]
    },
    {
     "name": "stderr",
     "output_type": "stream",
     "text": [
      "100%|██████████| 1/1 [00:00<00:00,  2.76it/s]\n",
      "100%|██████████| 1/1 [00:00<00:00,  2.53it/s]\n"
     ]
    },
    {
     "name": "stdout",
     "output_type": "stream",
     "text": [
      "231\n",
      "Paw None loop\n"
     ]
    },
    {
     "name": "stderr",
     "output_type": "stream",
     "text": [
      "100%|██████████| 1/1 [00:00<00:00,  3.19it/s]\n",
      "100%|██████████| 1/1 [00:00<00:00,  3.00it/s]\n"
     ]
    },
    {
     "name": "stdout",
     "output_type": "stream",
     "text": [
      "232\n",
      "Paw None loop\n"
     ]
    },
    {
     "name": "stderr",
     "output_type": "stream",
     "text": [
      "100%|██████████| 1/1 [00:00<00:00,  3.34it/s]\n",
      "100%|██████████| 1/1 [00:00<00:00,  2.74it/s]\n"
     ]
    },
    {
     "name": "stdout",
     "output_type": "stream",
     "text": [
      "233\n",
      "Paw None loop\n"
     ]
    },
    {
     "name": "stderr",
     "output_type": "stream",
     "text": [
      "100%|██████████| 1/1 [00:00<00:00,  3.25it/s]\n",
      "100%|██████████| 1/1 [00:00<00:00,  2.36it/s]\n",
      "  0%|          | 0/1 [00:00<?, ?it/s]"
     ]
    },
    {
     "name": "stdout",
     "output_type": "stream",
     "text": [
      "234\n",
      "Paw Recorded/NR loop\n"
     ]
    },
    {
     "name": "stderr",
     "output_type": "stream",
     "text": [
      "100%|██████████| 1/1 [00:00<00:00,  3.34it/s]\n",
      "100%|██████████| 1/1 [00:00<00:00,  2.57it/s]\n",
      "100%|██████████| 1/1 [00:00<00:00,  3.28it/s]\n"
     ]
    },
    {
     "name": "stdout",
     "output_type": "stream",
     "text": [
      "235\n",
      "Paw None loop\n"
     ]
    },
    {
     "name": "stderr",
     "output_type": "stream",
     "text": [
      "100%|██████████| 1/1 [00:00<00:00,  3.17it/s]\n",
      "100%|██████████| 1/1 [00:00<00:00,  2.76it/s]\n"
     ]
    },
    {
     "name": "stdout",
     "output_type": "stream",
     "text": [
      "236\n",
      "Paw None loop\n"
     ]
    },
    {
     "name": "stderr",
     "output_type": "stream",
     "text": [
      "100%|██████████| 1/1 [00:00<00:00,  3.20it/s]\n",
      "100%|██████████| 1/1 [00:00<00:00,  3.24it/s]\n"
     ]
    },
    {
     "name": "stdout",
     "output_type": "stream",
     "text": [
      "237\n",
      "Paw None loop\n"
     ]
    },
    {
     "name": "stderr",
     "output_type": "stream",
     "text": [
      "100%|██████████| 1/1 [00:00<00:00,  3.19it/s]\n",
      "100%|██████████| 1/1 [00:00<00:00,  3.25it/s]\n"
     ]
    },
    {
     "name": "stdout",
     "output_type": "stream",
     "text": [
      "238\n",
      "Paw None loop\n"
     ]
    },
    {
     "name": "stderr",
     "output_type": "stream",
     "text": [
      "100%|██████████| 1/1 [00:00<00:00,  2.76it/s]\n",
      "100%|██████████| 1/1 [00:00<00:00,  3.24it/s]\n"
     ]
    },
    {
     "name": "stdout",
     "output_type": "stream",
     "text": [
      "239\n",
      "Paw Recorded/NR loop\n"
     ]
    },
    {
     "name": "stderr",
     "output_type": "stream",
     "text": [
      "100%|██████████| 1/1 [00:00<00:00,  3.28it/s]\n",
      "100%|██████████| 1/1 [00:00<00:00,  3.21it/s]\n",
      "100%|██████████| 1/1 [00:00<00:00,  3.30it/s]\n"
     ]
    },
    {
     "name": "stdout",
     "output_type": "stream",
     "text": [
      "240\n",
      "Paw None loop\n"
     ]
    },
    {
     "name": "stderr",
     "output_type": "stream",
     "text": [
      "100%|██████████| 1/1 [00:00<00:00,  3.36it/s]\n",
      "100%|██████████| 1/1 [00:00<00:00,  3.18it/s]\n"
     ]
    },
    {
     "name": "stdout",
     "output_type": "stream",
     "text": [
      "241\n",
      "Paw None loop\n"
     ]
    },
    {
     "name": "stderr",
     "output_type": "stream",
     "text": [
      "100%|██████████| 1/1 [00:00<00:00,  3.36it/s]\n",
      "100%|██████████| 1/1 [00:00<00:00,  3.31it/s]\n"
     ]
    },
    {
     "name": "stdout",
     "output_type": "stream",
     "text": [
      "242\n",
      "Paw None loop\n"
     ]
    },
    {
     "name": "stderr",
     "output_type": "stream",
     "text": [
      "100%|██████████| 1/1 [00:00<00:00,  3.23it/s]\n",
      "100%|██████████| 1/1 [00:00<00:00,  3.04it/s]\n"
     ]
    },
    {
     "name": "stdout",
     "output_type": "stream",
     "text": [
      "243\n",
      "Paw None loop\n"
     ]
    },
    {
     "name": "stderr",
     "output_type": "stream",
     "text": [
      "100%|██████████| 1/1 [00:00<00:00,  3.16it/s]\n",
      "100%|██████████| 1/1 [00:00<00:00,  3.31it/s]\n"
     ]
    },
    {
     "name": "stdout",
     "output_type": "stream",
     "text": [
      "244\n",
      "Paw Recorded/NR loop\n"
     ]
    },
    {
     "name": "stderr",
     "output_type": "stream",
     "text": [
      "100%|██████████| 1/1 [00:00<00:00,  3.05it/s]\n",
      "100%|██████████| 1/1 [00:00<00:00,  3.23it/s]\n",
      "100%|██████████| 1/1 [00:00<00:00,  3.16it/s]\n"
     ]
    },
    {
     "name": "stdout",
     "output_type": "stream",
     "text": [
      "245\n",
      "Paw None loop\n"
     ]
    },
    {
     "name": "stderr",
     "output_type": "stream",
     "text": [
      "100%|██████████| 1/1 [00:00<00:00,  3.25it/s]\n",
      "100%|██████████| 1/1 [00:00<00:00,  2.76it/s]\n"
     ]
    },
    {
     "name": "stdout",
     "output_type": "stream",
     "text": [
      "246\n",
      "Paw None loop\n"
     ]
    },
    {
     "name": "stderr",
     "output_type": "stream",
     "text": [
      "100%|██████████| 1/1 [00:00<00:00,  3.40it/s]\n",
      "100%|██████████| 1/1 [00:00<00:00,  2.71it/s]\n"
     ]
    },
    {
     "name": "stdout",
     "output_type": "stream",
     "text": [
      "247\n",
      "Paw None loop\n"
     ]
    },
    {
     "name": "stderr",
     "output_type": "stream",
     "text": [
      "100%|██████████| 1/1 [00:00<00:00,  3.36it/s]\n",
      "100%|██████████| 1/1 [00:00<00:00,  3.30it/s]\n"
     ]
    },
    {
     "name": "stdout",
     "output_type": "stream",
     "text": [
      "248\n",
      "Paw None loop\n"
     ]
    },
    {
     "name": "stderr",
     "output_type": "stream",
     "text": [
      "100%|██████████| 1/1 [00:00<00:00,  2.87it/s]\n",
      "100%|██████████| 1/1 [00:00<00:00,  3.25it/s]\n"
     ]
    },
    {
     "name": "stdout",
     "output_type": "stream",
     "text": [
      "249\n",
      "Paw Recorded/NR loop\n"
     ]
    },
    {
     "name": "stderr",
     "output_type": "stream",
     "text": [
      "100%|██████████| 1/1 [00:00<00:00,  2.81it/s]\n",
      "100%|██████████| 1/1 [00:00<00:00,  3.20it/s]\n",
      "100%|██████████| 1/1 [00:00<00:00,  2.68it/s]\n"
     ]
    },
    {
     "name": "stdout",
     "output_type": "stream",
     "text": [
      "250\n",
      "Paw None loop\n"
     ]
    },
    {
     "name": "stderr",
     "output_type": "stream",
     "text": [
      "100%|██████████| 1/1 [00:00<00:00,  2.79it/s]\n",
      "100%|██████████| 1/1 [00:00<00:00,  3.26it/s]\n"
     ]
    },
    {
     "name": "stdout",
     "output_type": "stream",
     "text": [
      "251\n",
      "Paw None loop\n"
     ]
    },
    {
     "name": "stderr",
     "output_type": "stream",
     "text": [
      "100%|██████████| 1/1 [00:00<00:00,  3.28it/s]\n",
      "100%|██████████| 1/1 [00:00<00:00,  3.18it/s]\n"
     ]
    },
    {
     "name": "stdout",
     "output_type": "stream",
     "text": [
      "252\n",
      "Paw None loop\n"
     ]
    },
    {
     "name": "stderr",
     "output_type": "stream",
     "text": [
      "100%|██████████| 1/1 [00:00<00:00,  2.94it/s]\n",
      "100%|██████████| 1/1 [00:00<00:00,  3.28it/s]\n"
     ]
    },
    {
     "name": "stdout",
     "output_type": "stream",
     "text": [
      "253\n",
      "Paw None loop\n"
     ]
    },
    {
     "name": "stderr",
     "output_type": "stream",
     "text": [
      "100%|██████████| 1/1 [00:00<00:00,  2.86it/s]\n",
      "100%|██████████| 1/1 [00:00<00:00,  3.25it/s]\n"
     ]
    },
    {
     "name": "stdout",
     "output_type": "stream",
     "text": [
      "254\n",
      "Paw Recorded/NR loop\n"
     ]
    },
    {
     "name": "stderr",
     "output_type": "stream",
     "text": [
      "100%|██████████| 1/1 [00:00<00:00,  2.73it/s]\n",
      "100%|██████████| 1/1 [00:00<00:00,  2.88it/s]\n",
      "100%|██████████| 1/1 [00:00<00:00,  3.27it/s]\n"
     ]
    },
    {
     "name": "stdout",
     "output_type": "stream",
     "text": [
      "255\n",
      "Paw None loop\n"
     ]
    },
    {
     "name": "stderr",
     "output_type": "stream",
     "text": [
      "100%|██████████| 1/1 [00:00<00:00,  3.30it/s]\n",
      "100%|██████████| 1/1 [00:00<00:00,  3.27it/s]\n"
     ]
    },
    {
     "name": "stdout",
     "output_type": "stream",
     "text": [
      "256\n",
      "Paw None loop\n"
     ]
    },
    {
     "name": "stderr",
     "output_type": "stream",
     "text": [
      "100%|██████████| 1/1 [00:00<00:00,  2.94it/s]\n",
      "100%|██████████| 1/1 [00:00<00:00,  3.33it/s]\n"
     ]
    },
    {
     "name": "stdout",
     "output_type": "stream",
     "text": [
      "257\n",
      "Paw None loop\n"
     ]
    },
    {
     "name": "stderr",
     "output_type": "stream",
     "text": [
      "100%|██████████| 1/1 [00:00<00:00,  2.80it/s]\n",
      "100%|██████████| 1/1 [00:00<00:00,  3.26it/s]\n"
     ]
    },
    {
     "name": "stdout",
     "output_type": "stream",
     "text": [
      "258\n",
      "Paw None loop\n"
     ]
    },
    {
     "name": "stderr",
     "output_type": "stream",
     "text": [
      "100%|██████████| 1/1 [00:00<00:00,  3.32it/s]\n",
      "100%|██████████| 1/1 [00:00<00:00,  2.77it/s]\n"
     ]
    },
    {
     "name": "stdout",
     "output_type": "stream",
     "text": [
      "259\n",
      "Paw Recorded/NR loop\n"
     ]
    },
    {
     "name": "stderr",
     "output_type": "stream",
     "text": [
      "100%|██████████| 1/1 [00:00<00:00,  3.42it/s]\n",
      "100%|██████████| 1/1 [00:00<00:00,  3.30it/s]\n",
      "100%|██████████| 1/1 [00:00<00:00,  3.08it/s]\n"
     ]
    },
    {
     "name": "stdout",
     "output_type": "stream",
     "text": [
      "260\n",
      "Paw None loop\n"
     ]
    },
    {
     "name": "stderr",
     "output_type": "stream",
     "text": [
      "100%|██████████| 1/1 [00:00<00:00,  2.68it/s]\n",
      "100%|██████████| 1/1 [00:00<00:00,  3.05it/s]\n"
     ]
    },
    {
     "name": "stdout",
     "output_type": "stream",
     "text": [
      "261\n",
      "Paw None loop\n"
     ]
    },
    {
     "name": "stderr",
     "output_type": "stream",
     "text": [
      "100%|██████████| 1/1 [00:00<00:00,  2.40it/s]\n",
      "100%|██████████| 1/1 [00:00<00:00,  2.88it/s]\n"
     ]
    },
    {
     "name": "stdout",
     "output_type": "stream",
     "text": [
      "262\n",
      "Paw None loop\n"
     ]
    },
    {
     "name": "stderr",
     "output_type": "stream",
     "text": [
      "100%|██████████| 1/1 [00:00<00:00,  3.37it/s]\n",
      "100%|██████████| 1/1 [00:00<00:00,  2.71it/s]\n"
     ]
    },
    {
     "name": "stdout",
     "output_type": "stream",
     "text": [
      "263\n",
      "Paw None loop\n"
     ]
    },
    {
     "name": "stderr",
     "output_type": "stream",
     "text": [
      "100%|██████████| 1/1 [00:00<00:00,  3.17it/s]\n",
      "100%|██████████| 1/1 [00:00<00:00,  3.16it/s]\n"
     ]
    },
    {
     "name": "stdout",
     "output_type": "stream",
     "text": [
      "264\n",
      "Paw Recorded/NR loop\n"
     ]
    },
    {
     "name": "stderr",
     "output_type": "stream",
     "text": [
      "100%|██████████| 1/1 [00:00<00:00,  2.81it/s]\n",
      "100%|██████████| 1/1 [00:00<00:00,  3.26it/s]\n",
      "100%|██████████| 1/1 [00:00<00:00,  2.55it/s]\n",
      "  0%|          | 0/1 [00:00<?, ?it/s]"
     ]
    },
    {
     "name": "stdout",
     "output_type": "stream",
     "text": [
      "265\n",
      "Paw None loop\n"
     ]
    },
    {
     "name": "stderr",
     "output_type": "stream",
     "text": [
      "100%|██████████| 1/1 [00:00<00:00,  3.16it/s]\n",
      "100%|██████████| 1/1 [00:00<00:00,  2.32it/s]\n",
      "  0%|          | 0/1 [00:00<?, ?it/s]"
     ]
    },
    {
     "name": "stdout",
     "output_type": "stream",
     "text": [
      "266\n",
      "Paw None loop\n"
     ]
    },
    {
     "name": "stderr",
     "output_type": "stream",
     "text": [
      "100%|██████████| 1/1 [00:00<00:00,  2.76it/s]\n",
      "100%|██████████| 1/1 [00:00<00:00,  3.29it/s]\n",
      "  0%|          | 0/1 [00:00<?, ?it/s]"
     ]
    },
    {
     "name": "stdout",
     "output_type": "stream",
     "text": [
      "267\n",
      "Paw None loop\n"
     ]
    },
    {
     "name": "stderr",
     "output_type": "stream",
     "text": [
      "100%|██████████| 1/1 [00:00<00:00,  3.17it/s]\n",
      "100%|██████████| 1/1 [00:00<00:00,  3.21it/s]\n",
      "  0%|          | 0/1 [00:00<?, ?it/s]"
     ]
    },
    {
     "name": "stdout",
     "output_type": "stream",
     "text": [
      "268\n",
      "Paw None loop\n"
     ]
    },
    {
     "name": "stderr",
     "output_type": "stream",
     "text": [
      "100%|██████████| 1/1 [00:00<00:00,  2.93it/s]\n",
      "100%|██████████| 1/1 [00:00<00:00,  2.91it/s]\n",
      "  0%|          | 0/1 [00:00<?, ?it/s]"
     ]
    },
    {
     "name": "stdout",
     "output_type": "stream",
     "text": [
      "269\n",
      "Paw Recorded/NR loop\n"
     ]
    },
    {
     "name": "stderr",
     "output_type": "stream",
     "text": [
      "100%|██████████| 1/1 [00:00<00:00,  2.82it/s]\n",
      "100%|██████████| 1/1 [00:00<00:00,  3.36it/s]\n",
      "100%|██████████| 1/1 [00:00<00:00,  2.62it/s]\n"
     ]
    },
    {
     "name": "stdout",
     "output_type": "stream",
     "text": [
      "270\n",
      "Paw None loop\n"
     ]
    },
    {
     "name": "stderr",
     "output_type": "stream",
     "text": [
      "100%|██████████| 1/1 [00:00<00:00,  3.20it/s]\n",
      "100%|██████████| 1/1 [00:00<00:00,  2.80it/s]\n"
     ]
    },
    {
     "name": "stdout",
     "output_type": "stream",
     "text": [
      "271\n",
      "Paw None loop\n"
     ]
    },
    {
     "name": "stderr",
     "output_type": "stream",
     "text": [
      "100%|██████████| 1/1 [00:00<00:00,  3.31it/s]\n",
      "100%|██████████| 1/1 [00:00<00:00,  2.85it/s]\n"
     ]
    },
    {
     "name": "stdout",
     "output_type": "stream",
     "text": [
      "272\n",
      "Paw None loop\n"
     ]
    },
    {
     "name": "stderr",
     "output_type": "stream",
     "text": [
      "100%|██████████| 1/1 [00:00<00:00,  3.20it/s]\n",
      "100%|██████████| 1/1 [00:00<00:00,  3.14it/s]\n"
     ]
    },
    {
     "name": "stdout",
     "output_type": "stream",
     "text": [
      "273\n",
      "Paw None loop\n"
     ]
    },
    {
     "name": "stderr",
     "output_type": "stream",
     "text": [
      "100%|██████████| 1/1 [00:00<00:00,  3.22it/s]\n",
      "100%|██████████| 1/1 [00:00<00:00,  3.21it/s]\n"
     ]
    },
    {
     "name": "stdout",
     "output_type": "stream",
     "text": [
      "274\n",
      "Paw Recorded/NR loop\n"
     ]
    },
    {
     "name": "stderr",
     "output_type": "stream",
     "text": [
      "100%|██████████| 1/1 [00:00<00:00,  3.13it/s]\n",
      "100%|██████████| 1/1 [00:00<00:00,  3.16it/s]\n",
      "100%|██████████| 1/1 [00:00<00:00,  3.16it/s]\n"
     ]
    },
    {
     "name": "stdout",
     "output_type": "stream",
     "text": [
      "275\n",
      "Paw None loop\n"
     ]
    },
    {
     "name": "stderr",
     "output_type": "stream",
     "text": [
      "100%|██████████| 1/1 [00:00<00:00,  3.16it/s]\n",
      "100%|██████████| 1/1 [00:00<00:00,  3.29it/s]\n"
     ]
    },
    {
     "name": "stdout",
     "output_type": "stream",
     "text": [
      "276\n",
      "Paw None loop\n"
     ]
    },
    {
     "name": "stderr",
     "output_type": "stream",
     "text": [
      "100%|██████████| 1/1 [00:00<00:00,  3.20it/s]\n",
      "100%|██████████| 1/1 [00:00<00:00,  3.23it/s]\n"
     ]
    },
    {
     "name": "stdout",
     "output_type": "stream",
     "text": [
      "277\n",
      "Paw None loop\n"
     ]
    },
    {
     "name": "stderr",
     "output_type": "stream",
     "text": [
      "100%|██████████| 1/1 [00:00<00:00,  3.24it/s]\n",
      "100%|██████████| 1/1 [00:00<00:00,  2.89it/s]\n"
     ]
    },
    {
     "name": "stdout",
     "output_type": "stream",
     "text": [
      "278\n",
      "Paw None loop\n"
     ]
    },
    {
     "name": "stderr",
     "output_type": "stream",
     "text": [
      "100%|██████████| 1/1 [00:00<00:00,  3.13it/s]\n",
      "100%|██████████| 1/1 [00:00<00:00,  3.31it/s]\n"
     ]
    },
    {
     "name": "stdout",
     "output_type": "stream",
     "text": [
      "279\n",
      "Paw Recorded/NR loop\n"
     ]
    },
    {
     "name": "stderr",
     "output_type": "stream",
     "text": [
      "100%|██████████| 1/1 [00:00<00:00,  2.60it/s]\n",
      "100%|██████████| 1/1 [00:00<00:00,  3.36it/s]\n",
      "100%|██████████| 1/1 [00:00<00:00,  2.86it/s]\n"
     ]
    },
    {
     "name": "stdout",
     "output_type": "stream",
     "text": [
      "280\n",
      "Paw None loop\n"
     ]
    },
    {
     "name": "stderr",
     "output_type": "stream",
     "text": [
      "100%|██████████| 1/1 [00:00<00:00,  2.74it/s]\n",
      "100%|██████████| 1/1 [00:00<00:00,  3.07it/s]\n"
     ]
    },
    {
     "name": "stdout",
     "output_type": "stream",
     "text": [
      "281\n",
      "Paw None loop\n"
     ]
    },
    {
     "name": "stderr",
     "output_type": "stream",
     "text": [
      "100%|██████████| 1/1 [00:00<00:00,  2.74it/s]\n",
      "100%|██████████| 1/1 [00:00<00:00,  2.79it/s]\n"
     ]
    },
    {
     "name": "stdout",
     "output_type": "stream",
     "text": [
      "282\n",
      "Paw None loop\n"
     ]
    },
    {
     "name": "stderr",
     "output_type": "stream",
     "text": [
      "100%|██████████| 1/1 [00:00<00:00,  3.05it/s]\n",
      "100%|██████████| 1/1 [00:00<00:00,  3.39it/s]\n"
     ]
    },
    {
     "name": "stdout",
     "output_type": "stream",
     "text": [
      "283\n",
      "Paw None loop\n"
     ]
    },
    {
     "name": "stderr",
     "output_type": "stream",
     "text": [
      "100%|██████████| 1/1 [00:00<00:00,  3.25it/s]\n",
      "100%|██████████| 1/1 [00:00<00:00,  2.96it/s]\n"
     ]
    },
    {
     "name": "stdout",
     "output_type": "stream",
     "text": [
      "284\n",
      "Paw Recorded/NR loop\n"
     ]
    },
    {
     "name": "stderr",
     "output_type": "stream",
     "text": [
      "100%|██████████| 1/1 [00:00<00:00,  2.81it/s]\n",
      "100%|██████████| 1/1 [00:00<00:00,  3.14it/s]\n",
      "100%|██████████| 1/1 [00:00<00:00,  2.88it/s]\n"
     ]
    },
    {
     "name": "stdout",
     "output_type": "stream",
     "text": [
      "285\n",
      "Paw None loop\n"
     ]
    },
    {
     "name": "stderr",
     "output_type": "stream",
     "text": [
      "100%|██████████| 1/1 [00:00<00:00,  3.36it/s]\n",
      "100%|██████████| 1/1 [00:00<00:00,  3.32it/s]\n",
      "  0%|          | 0/1 [00:00<?, ?it/s]"
     ]
    },
    {
     "name": "stdout",
     "output_type": "stream",
     "text": [
      "286\n",
      "Paw None loop\n"
     ]
    },
    {
     "name": "stderr",
     "output_type": "stream",
     "text": [
      "100%|██████████| 1/1 [00:00<00:00,  3.26it/s]\n",
      "100%|██████████| 1/1 [00:00<00:00,  2.66it/s]\n",
      "  0%|          | 0/1 [00:00<?, ?it/s]"
     ]
    },
    {
     "name": "stdout",
     "output_type": "stream",
     "text": [
      "287\n",
      "Paw None loop\n"
     ]
    },
    {
     "name": "stderr",
     "output_type": "stream",
     "text": [
      "100%|██████████| 1/1 [00:00<00:00,  2.82it/s]\n",
      "100%|██████████| 1/1 [00:00<00:00,  3.13it/s]\n"
     ]
    },
    {
     "name": "stdout",
     "output_type": "stream",
     "text": [
      "288\n",
      "Paw None loop\n"
     ]
    },
    {
     "name": "stderr",
     "output_type": "stream",
     "text": [
      "100%|██████████| 1/1 [00:00<00:00,  3.19it/s]\n",
      "100%|██████████| 1/1 [00:00<00:00,  2.69it/s]\n"
     ]
    },
    {
     "name": "stdout",
     "output_type": "stream",
     "text": [
      "289\n",
      "Paw Recorded/NR loop\n"
     ]
    },
    {
     "name": "stderr",
     "output_type": "stream",
     "text": [
      "100%|██████████| 1/1 [00:00<00:00,  3.36it/s]\n",
      "100%|██████████| 1/1 [00:00<00:00,  3.28it/s]\n",
      "100%|██████████| 1/1 [00:00<00:00,  3.40it/s]\n"
     ]
    },
    {
     "name": "stdout",
     "output_type": "stream",
     "text": [
      "290\n",
      "Paw None loop\n"
     ]
    },
    {
     "name": "stderr",
     "output_type": "stream",
     "text": [
      "100%|██████████| 1/1 [00:00<00:00,  3.15it/s]\n",
      "100%|██████████| 1/1 [00:00<00:00,  2.80it/s]\n"
     ]
    },
    {
     "name": "stdout",
     "output_type": "stream",
     "text": [
      "291\n",
      "Paw None loop\n"
     ]
    },
    {
     "name": "stderr",
     "output_type": "stream",
     "text": [
      "100%|██████████| 1/1 [00:00<00:00,  3.18it/s]\n",
      "100%|██████████| 1/1 [00:00<00:00,  2.81it/s]\n"
     ]
    },
    {
     "name": "stdout",
     "output_type": "stream",
     "text": [
      "292\n",
      "Paw None loop\n"
     ]
    },
    {
     "name": "stderr",
     "output_type": "stream",
     "text": [
      "100%|██████████| 1/1 [00:00<00:00,  3.23it/s]\n",
      "100%|██████████| 1/1 [00:00<00:00,  3.29it/s]\n"
     ]
    },
    {
     "name": "stdout",
     "output_type": "stream",
     "text": [
      "293\n",
      "Paw None loop\n"
     ]
    },
    {
     "name": "stderr",
     "output_type": "stream",
     "text": [
      "100%|██████████| 1/1 [00:00<00:00,  3.29it/s]\n",
      "100%|██████████| 1/1 [00:00<00:00,  3.30it/s]\n"
     ]
    },
    {
     "name": "stdout",
     "output_type": "stream",
     "text": [
      "294\n",
      "Paw Recorded/NR loop\n"
     ]
    },
    {
     "name": "stderr",
     "output_type": "stream",
     "text": [
      "100%|██████████| 1/1 [00:00<00:00,  2.82it/s]\n",
      "100%|██████████| 1/1 [00:00<00:00,  3.23it/s]\n",
      "100%|██████████| 1/1 [00:00<00:00,  3.28it/s]\n"
     ]
    },
    {
     "name": "stdout",
     "output_type": "stream",
     "text": [
      "295\n",
      "Paw None loop\n"
     ]
    },
    {
     "name": "stderr",
     "output_type": "stream",
     "text": [
      "100%|██████████| 1/1 [00:00<00:00,  2.83it/s]\n",
      "100%|██████████| 1/1 [00:00<00:00,  3.16it/s]\n"
     ]
    },
    {
     "name": "stdout",
     "output_type": "stream",
     "text": [
      "296\n",
      "Paw None loop\n"
     ]
    },
    {
     "name": "stderr",
     "output_type": "stream",
     "text": [
      "100%|██████████| 1/1 [00:00<00:00,  3.25it/s]\n",
      "100%|██████████| 1/1 [00:00<00:00,  3.23it/s]\n"
     ]
    },
    {
     "name": "stdout",
     "output_type": "stream",
     "text": [
      "297\n",
      "Paw None loop\n"
     ]
    },
    {
     "name": "stderr",
     "output_type": "stream",
     "text": [
      "100%|██████████| 1/1 [00:00<00:00,  3.36it/s]\n",
      "100%|██████████| 1/1 [00:00<00:00,  2.64it/s]\n"
     ]
    },
    {
     "name": "stdout",
     "output_type": "stream",
     "text": [
      "298\n",
      "Paw None loop\n"
     ]
    },
    {
     "name": "stderr",
     "output_type": "stream",
     "text": [
      "100%|██████████| 1/1 [00:00<00:00,  3.24it/s]\n",
      "100%|██████████| 1/1 [00:00<00:00,  2.63it/s]\n"
     ]
    },
    {
     "name": "stdout",
     "output_type": "stream",
     "text": [
      "299\n",
      "Paw Recorded/NR loop\n"
     ]
    },
    {
     "name": "stderr",
     "output_type": "stream",
     "text": [
      "100%|██████████| 1/1 [00:00<00:00,  3.08it/s]\n",
      "100%|██████████| 1/1 [00:00<00:00,  3.33it/s]\n",
      "100%|██████████| 1/1 [00:00<00:00,  2.85it/s]\n",
      "  0%|          | 0/1 [00:00<?, ?it/s]"
     ]
    },
    {
     "name": "stdout",
     "output_type": "stream",
     "text": [
      "300\n",
      "Paw None loop\n"
     ]
    },
    {
     "name": "stderr",
     "output_type": "stream",
     "text": [
      "100%|██████████| 1/1 [00:00<00:00,  3.15it/s]\n",
      "100%|██████████| 1/1 [00:00<00:00,  3.31it/s]\n"
     ]
    },
    {
     "name": "stdout",
     "output_type": "stream",
     "text": [
      "301\n",
      "Paw None loop\n"
     ]
    },
    {
     "name": "stderr",
     "output_type": "stream",
     "text": [
      "100%|██████████| 1/1 [00:00<00:00,  3.21it/s]\n",
      "100%|██████████| 1/1 [00:00<00:00,  2.86it/s]\n"
     ]
    },
    {
     "name": "stdout",
     "output_type": "stream",
     "text": [
      "302\n",
      "Paw None loop\n"
     ]
    },
    {
     "name": "stderr",
     "output_type": "stream",
     "text": [
      "100%|██████████| 1/1 [00:00<00:00,  3.17it/s]\n",
      "100%|██████████| 1/1 [00:00<00:00,  3.21it/s]\n"
     ]
    },
    {
     "name": "stdout",
     "output_type": "stream",
     "text": [
      "303\n",
      "Paw None loop\n"
     ]
    },
    {
     "name": "stderr",
     "output_type": "stream",
     "text": [
      "100%|██████████| 1/1 [00:00<00:00,  2.44it/s]\n",
      "100%|██████████| 1/1 [00:00<00:00,  3.33it/s]\n"
     ]
    },
    {
     "name": "stdout",
     "output_type": "stream",
     "text": [
      "304\n",
      "Paw Recorded/NR loop\n"
     ]
    },
    {
     "name": "stderr",
     "output_type": "stream",
     "text": [
      "100%|██████████| 1/1 [00:00<00:00,  3.23it/s]\n",
      "100%|██████████| 1/1 [00:00<00:00,  2.79it/s]\n",
      "100%|██████████| 1/1 [00:00<00:00,  3.12it/s]\n"
     ]
    },
    {
     "name": "stdout",
     "output_type": "stream",
     "text": [
      "305\n",
      "Paw None loop\n"
     ]
    },
    {
     "name": "stderr",
     "output_type": "stream",
     "text": [
      "100%|██████████| 1/1 [00:00<00:00,  3.09it/s]\n",
      "100%|██████████| 1/1 [00:00<00:00,  3.12it/s]\n",
      "  0%|          | 0/1 [00:00<?, ?it/s]"
     ]
    },
    {
     "name": "stdout",
     "output_type": "stream",
     "text": [
      "306\n",
      "Paw None loop\n"
     ]
    },
    {
     "name": "stderr",
     "output_type": "stream",
     "text": [
      "100%|██████████| 1/1 [00:00<00:00,  3.33it/s]\n",
      "100%|██████████| 1/1 [00:00<00:00,  2.74it/s]\n"
     ]
    },
    {
     "name": "stdout",
     "output_type": "stream",
     "text": [
      "307\n",
      "Paw None loop\n"
     ]
    },
    {
     "name": "stderr",
     "output_type": "stream",
     "text": [
      "100%|██████████| 1/1 [00:00<00:00,  3.28it/s]\n",
      "100%|██████████| 1/1 [00:00<00:00,  3.05it/s]\n",
      "  0%|          | 0/1 [00:00<?, ?it/s]"
     ]
    },
    {
     "name": "stdout",
     "output_type": "stream",
     "text": [
      "308\n",
      "Paw None loop\n"
     ]
    },
    {
     "name": "stderr",
     "output_type": "stream",
     "text": [
      "100%|██████████| 1/1 [00:00<00:00,  2.81it/s]\n",
      "100%|██████████| 1/1 [00:00<00:00,  2.83it/s]\n"
     ]
    },
    {
     "name": "stdout",
     "output_type": "stream",
     "text": [
      "309\n",
      "Paw Recorded/NR loop\n"
     ]
    },
    {
     "name": "stderr",
     "output_type": "stream",
     "text": [
      "100%|██████████| 1/1 [00:00<00:00,  2.74it/s]\n",
      "100%|██████████| 1/1 [00:00<00:00,  3.12it/s]\n",
      "100%|██████████| 1/1 [00:00<00:00,  3.19it/s]\n"
     ]
    },
    {
     "name": "stdout",
     "output_type": "stream",
     "text": [
      "310\n",
      "Paw None loop\n"
     ]
    },
    {
     "name": "stderr",
     "output_type": "stream",
     "text": [
      "100%|██████████| 1/1 [00:00<00:00,  3.21it/s]\n",
      "100%|██████████| 1/1 [00:00<00:00,  3.16it/s]\n",
      "  0%|          | 0/1 [00:00<?, ?it/s]"
     ]
    },
    {
     "name": "stdout",
     "output_type": "stream",
     "text": [
      "311\n",
      "Paw None loop\n"
     ]
    },
    {
     "name": "stderr",
     "output_type": "stream",
     "text": [
      "100%|██████████| 1/1 [00:00<00:00,  2.66it/s]\n",
      "100%|██████████| 1/1 [00:00<00:00,  3.20it/s]\n",
      "  0%|          | 0/1 [00:00<?, ?it/s]"
     ]
    },
    {
     "name": "stdout",
     "output_type": "stream",
     "text": [
      "312\n",
      "Paw None loop\n"
     ]
    },
    {
     "name": "stderr",
     "output_type": "stream",
     "text": [
      "100%|██████████| 1/1 [00:00<00:00,  3.15it/s]\n",
      "100%|██████████| 1/1 [00:00<00:00,  3.14it/s]\n",
      "  0%|          | 0/1 [00:00<?, ?it/s]"
     ]
    },
    {
     "name": "stdout",
     "output_type": "stream",
     "text": [
      "313\n",
      "Paw None loop\n"
     ]
    },
    {
     "name": "stderr",
     "output_type": "stream",
     "text": [
      "100%|██████████| 1/1 [00:00<00:00,  3.30it/s]\n",
      "100%|██████████| 1/1 [00:00<00:00,  2.42it/s]\n"
     ]
    },
    {
     "name": "stdout",
     "output_type": "stream",
     "text": [
      "314\n",
      "Paw Recorded/NR loop\n"
     ]
    },
    {
     "name": "stderr",
     "output_type": "stream",
     "text": [
      "100%|██████████| 1/1 [00:00<00:00,  2.44it/s]\n",
      "100%|██████████| 1/1 [00:00<00:00,  3.21it/s]\n",
      "100%|██████████| 1/1 [00:00<00:00,  2.85it/s]\n",
      "  0%|          | 0/1 [00:00<?, ?it/s]"
     ]
    },
    {
     "name": "stdout",
     "output_type": "stream",
     "text": [
      "315\n",
      "Paw None loop\n"
     ]
    },
    {
     "name": "stderr",
     "output_type": "stream",
     "text": [
      "100%|██████████| 1/1 [00:00<00:00,  3.28it/s]\n",
      "100%|██████████| 1/1 [00:00<00:00,  2.81it/s]\n"
     ]
    },
    {
     "name": "stdout",
     "output_type": "stream",
     "text": [
      "316\n",
      "Paw None loop\n"
     ]
    },
    {
     "name": "stderr",
     "output_type": "stream",
     "text": [
      "100%|██████████| 1/1 [00:00<00:00,  3.22it/s]\n",
      "100%|██████████| 1/1 [00:00<00:00,  3.17it/s]\n"
     ]
    },
    {
     "name": "stdout",
     "output_type": "stream",
     "text": [
      "317\n",
      "Paw None loop\n"
     ]
    },
    {
     "name": "stderr",
     "output_type": "stream",
     "text": [
      "100%|██████████| 1/1 [00:00<00:00,  3.31it/s]\n",
      "100%|██████████| 1/1 [00:00<00:00,  2.87it/s]\n"
     ]
    },
    {
     "name": "stdout",
     "output_type": "stream",
     "text": [
      "318\n",
      "Paw None loop\n"
     ]
    },
    {
     "name": "stderr",
     "output_type": "stream",
     "text": [
      "100%|██████████| 1/1 [00:00<00:00,  3.22it/s]\n",
      "100%|██████████| 1/1 [00:00<00:00,  3.18it/s]\n",
      "  0%|          | 0/1 [00:00<?, ?it/s]"
     ]
    },
    {
     "name": "stdout",
     "output_type": "stream",
     "text": [
      "319\n",
      "Paw Recorded/NR loop\n"
     ]
    },
    {
     "name": "stderr",
     "output_type": "stream",
     "text": [
      "100%|██████████| 1/1 [00:00<00:00,  3.24it/s]\n",
      "100%|██████████| 1/1 [00:00<00:00,  3.22it/s]\n",
      "100%|██████████| 1/1 [00:00<00:00,  3.11it/s]\n",
      "  0%|          | 0/1 [00:00<?, ?it/s]"
     ]
    },
    {
     "name": "stdout",
     "output_type": "stream",
     "text": [
      "320\n",
      "Paw None loop\n"
     ]
    },
    {
     "name": "stderr",
     "output_type": "stream",
     "text": [
      "100%|██████████| 1/1 [00:00<00:00,  2.72it/s]\n",
      "100%|██████████| 1/1 [00:00<00:00,  2.86it/s]\n"
     ]
    },
    {
     "name": "stdout",
     "output_type": "stream",
     "text": [
      "321\n",
      "Paw None loop\n"
     ]
    },
    {
     "name": "stderr",
     "output_type": "stream",
     "text": [
      "100%|██████████| 1/1 [00:00<00:00,  3.25it/s]\n",
      "100%|██████████| 1/1 [00:00<00:00,  3.19it/s]\n"
     ]
    },
    {
     "name": "stdout",
     "output_type": "stream",
     "text": [
      "322\n",
      "Paw None loop\n"
     ]
    },
    {
     "name": "stderr",
     "output_type": "stream",
     "text": [
      "100%|██████████| 1/1 [00:00<00:00,  2.86it/s]\n",
      "100%|██████████| 1/1 [00:00<00:00,  3.22it/s]\n"
     ]
    },
    {
     "name": "stdout",
     "output_type": "stream",
     "text": [
      "323\n",
      "Paw None loop\n"
     ]
    },
    {
     "name": "stderr",
     "output_type": "stream",
     "text": [
      "100%|██████████| 1/1 [00:00<00:00,  3.26it/s]\n",
      "100%|██████████| 1/1 [00:00<00:00,  3.24it/s]\n"
     ]
    },
    {
     "name": "stdout",
     "output_type": "stream",
     "text": [
      "324\n",
      "Paw Recorded/NR loop\n"
     ]
    },
    {
     "name": "stderr",
     "output_type": "stream",
     "text": [
      "100%|██████████| 1/1 [00:00<00:00,  2.80it/s]\n",
      "100%|██████████| 1/1 [00:00<00:00,  2.37it/s]\n",
      "100%|██████████| 1/1 [00:00<00:00,  3.14it/s]\n"
     ]
    },
    {
     "name": "stdout",
     "output_type": "stream",
     "text": [
      "325\n",
      "Paw None loop\n"
     ]
    },
    {
     "name": "stderr",
     "output_type": "stream",
     "text": [
      "100%|██████████| 1/1 [00:00<00:00,  3.19it/s]\n",
      "100%|██████████| 1/1 [00:00<00:00,  3.22it/s]\n"
     ]
    },
    {
     "name": "stdout",
     "output_type": "stream",
     "text": [
      "326\n",
      "Paw None loop\n"
     ]
    },
    {
     "name": "stderr",
     "output_type": "stream",
     "text": [
      "100%|██████████| 1/1 [00:00<00:00,  3.12it/s]\n",
      "100%|██████████| 1/1 [00:00<00:00,  2.83it/s]\n"
     ]
    },
    {
     "name": "stdout",
     "output_type": "stream",
     "text": [
      "327\n",
      "Paw None loop\n"
     ]
    },
    {
     "name": "stderr",
     "output_type": "stream",
     "text": [
      "100%|██████████| 1/1 [00:00<00:00,  3.27it/s]\n",
      "100%|██████████| 1/1 [00:00<00:00,  3.18it/s]\n"
     ]
    },
    {
     "name": "stdout",
     "output_type": "stream",
     "text": [
      "328\n",
      "Paw None loop\n"
     ]
    },
    {
     "name": "stderr",
     "output_type": "stream",
     "text": [
      "100%|██████████| 1/1 [00:00<00:00,  2.96it/s]\n",
      "100%|██████████| 1/1 [00:00<00:00,  3.33it/s]\n"
     ]
    },
    {
     "name": "stdout",
     "output_type": "stream",
     "text": [
      "329\n",
      "Paw Recorded/NR loop\n"
     ]
    },
    {
     "name": "stderr",
     "output_type": "stream",
     "text": [
      "100%|██████████| 1/1 [00:00<00:00,  2.92it/s]\n",
      "100%|██████████| 1/1 [00:00<00:00,  3.20it/s]\n",
      "100%|██████████| 1/1 [00:00<00:00,  3.33it/s]\n",
      "  0%|          | 0/1 [00:00<?, ?it/s]"
     ]
    },
    {
     "name": "stdout",
     "output_type": "stream",
     "text": [
      "330\n",
      "Paw None loop\n"
     ]
    },
    {
     "name": "stderr",
     "output_type": "stream",
     "text": [
      "100%|██████████| 1/1 [00:00<00:00,  3.21it/s]\n",
      "100%|██████████| 1/1 [00:00<00:00,  2.69it/s]\n",
      "  0%|          | 0/1 [00:00<?, ?it/s]"
     ]
    },
    {
     "name": "stdout",
     "output_type": "stream",
     "text": [
      "331\n",
      "Paw None loop\n"
     ]
    },
    {
     "name": "stderr",
     "output_type": "stream",
     "text": [
      "100%|██████████| 1/1 [00:00<00:00,  3.22it/s]\n",
      "100%|██████████| 1/1 [00:00<00:00,  2.65it/s]\n"
     ]
    },
    {
     "name": "stdout",
     "output_type": "stream",
     "text": [
      "332\n",
      "Paw None loop\n"
     ]
    },
    {
     "name": "stderr",
     "output_type": "stream",
     "text": [
      "100%|██████████| 1/1 [00:00<00:00,  3.25it/s]\n",
      "100%|██████████| 1/1 [00:00<00:00,  2.30it/s]\n"
     ]
    },
    {
     "name": "stdout",
     "output_type": "stream",
     "text": [
      "333\n",
      "Paw None loop\n"
     ]
    },
    {
     "name": "stderr",
     "output_type": "stream",
     "text": [
      "100%|██████████| 1/1 [00:00<00:00,  3.30it/s]\n",
      "100%|██████████| 1/1 [00:00<00:00,  3.19it/s]\n"
     ]
    },
    {
     "name": "stdout",
     "output_type": "stream",
     "text": [
      "334\n",
      "Paw Recorded/NR loop\n"
     ]
    },
    {
     "name": "stderr",
     "output_type": "stream",
     "text": [
      "100%|██████████| 1/1 [00:00<00:00,  2.70it/s]\n",
      "100%|██████████| 1/1 [00:00<00:00,  3.16it/s]\n",
      "100%|██████████| 1/1 [00:00<00:00,  3.30it/s]\n"
     ]
    },
    {
     "name": "stdout",
     "output_type": "stream",
     "text": [
      "335\n",
      "Paw None loop\n"
     ]
    },
    {
     "name": "stderr",
     "output_type": "stream",
     "text": [
      "100%|██████████| 1/1 [00:00<00:00,  3.11it/s]\n",
      "100%|██████████| 1/1 [00:00<00:00,  3.21it/s]\n"
     ]
    },
    {
     "name": "stdout",
     "output_type": "stream",
     "text": [
      "336\n",
      "Paw None loop\n"
     ]
    },
    {
     "name": "stderr",
     "output_type": "stream",
     "text": [
      "100%|██████████| 1/1 [00:00<00:00,  3.23it/s]\n",
      "100%|██████████| 1/1 [00:00<00:00,  2.65it/s]\n"
     ]
    },
    {
     "name": "stdout",
     "output_type": "stream",
     "text": [
      "337\n",
      "Paw None loop\n"
     ]
    },
    {
     "name": "stderr",
     "output_type": "stream",
     "text": [
      "100%|██████████| 1/1 [00:00<00:00,  2.63it/s]\n",
      "100%|██████████| 1/1 [00:00<00:00,  3.18it/s]\n"
     ]
    },
    {
     "name": "stdout",
     "output_type": "stream",
     "text": [
      "338\n",
      "Paw None loop\n"
     ]
    },
    {
     "name": "stderr",
     "output_type": "stream",
     "text": [
      "100%|██████████| 1/1 [00:00<00:00,  2.57it/s]\n",
      "100%|██████████| 1/1 [00:00<00:00,  3.18it/s]\n"
     ]
    },
    {
     "name": "stdout",
     "output_type": "stream",
     "text": [
      "339\n",
      "Paw Recorded/NR loop\n"
     ]
    },
    {
     "name": "stderr",
     "output_type": "stream",
     "text": [
      "100%|██████████| 1/1 [00:00<00:00,  2.85it/s]\n",
      "100%|██████████| 1/1 [00:00<00:00,  2.87it/s]\n",
      "100%|██████████| 1/1 [00:00<00:00,  3.31it/s]\n",
      "  0%|          | 0/1 [00:00<?, ?it/s]"
     ]
    },
    {
     "name": "stdout",
     "output_type": "stream",
     "text": [
      "340\n",
      "Paw None loop\n"
     ]
    },
    {
     "name": "stderr",
     "output_type": "stream",
     "text": [
      "100%|██████████| 1/1 [00:00<00:00,  3.16it/s]\n",
      "100%|██████████| 1/1 [00:00<00:00,  3.15it/s]\n"
     ]
    },
    {
     "name": "stdout",
     "output_type": "stream",
     "text": [
      "341\n",
      "Paw None loop\n"
     ]
    },
    {
     "name": "stderr",
     "output_type": "stream",
     "text": [
      "100%|██████████| 1/1 [00:00<00:00,  3.24it/s]\n",
      "100%|██████████| 1/1 [00:00<00:00,  3.16it/s]\n"
     ]
    },
    {
     "name": "stdout",
     "output_type": "stream",
     "text": [
      "342\n",
      "Paw None loop\n"
     ]
    },
    {
     "name": "stderr",
     "output_type": "stream",
     "text": [
      "100%|██████████| 1/1 [00:00<00:00,  2.58it/s]\n",
      "100%|██████████| 1/1 [00:00<00:00,  3.22it/s]\n"
     ]
    },
    {
     "name": "stdout",
     "output_type": "stream",
     "text": [
      "343\n",
      "Paw None loop\n"
     ]
    },
    {
     "name": "stderr",
     "output_type": "stream",
     "text": [
      "100%|██████████| 1/1 [00:00<00:00,  2.79it/s]\n",
      "100%|██████████| 1/1 [00:00<00:00,  3.17it/s]\n"
     ]
    },
    {
     "name": "stdout",
     "output_type": "stream",
     "text": [
      "344\n",
      "Paw Recorded/NR loop\n"
     ]
    },
    {
     "name": "stderr",
     "output_type": "stream",
     "text": [
      "100%|██████████| 1/1 [00:00<00:00,  3.07it/s]\n",
      "100%|██████████| 1/1 [00:00<00:00,  3.30it/s]\n",
      "100%|██████████| 1/1 [00:00<00:00,  2.82it/s]\n"
     ]
    },
    {
     "name": "stdout",
     "output_type": "stream",
     "text": [
      "345\n",
      "Paw None loop\n"
     ]
    },
    {
     "name": "stderr",
     "output_type": "stream",
     "text": [
      "100%|██████████| 1/1 [00:00<00:00,  2.66it/s]\n",
      "100%|██████████| 1/1 [00:00<00:00,  2.85it/s]\n"
     ]
    },
    {
     "name": "stdout",
     "output_type": "stream",
     "text": [
      "346\n",
      "Paw None loop\n"
     ]
    },
    {
     "name": "stderr",
     "output_type": "stream",
     "text": [
      "100%|██████████| 1/1 [00:00<00:00,  3.15it/s]\n",
      "100%|██████████| 1/1 [00:00<00:00,  2.64it/s]\n"
     ]
    },
    {
     "name": "stdout",
     "output_type": "stream",
     "text": [
      "347\n",
      "Paw None loop\n"
     ]
    },
    {
     "name": "stderr",
     "output_type": "stream",
     "text": [
      "100%|██████████| 1/1 [00:00<00:00,  3.25it/s]\n",
      "100%|██████████| 1/1 [00:00<00:00,  3.08it/s]\n"
     ]
    },
    {
     "name": "stdout",
     "output_type": "stream",
     "text": [
      "348\n",
      "Paw None loop\n"
     ]
    },
    {
     "name": "stderr",
     "output_type": "stream",
     "text": [
      "100%|██████████| 1/1 [00:00<00:00,  2.87it/s]\n",
      "100%|██████████| 1/1 [00:00<00:00,  3.27it/s]\n"
     ]
    },
    {
     "name": "stdout",
     "output_type": "stream",
     "text": [
      "349\n",
      "Paw Recorded/NR loop\n"
     ]
    },
    {
     "name": "stderr",
     "output_type": "stream",
     "text": [
      "100%|██████████| 1/1 [00:00<00:00,  2.74it/s]\n",
      "100%|██████████| 1/1 [00:00<00:00,  3.14it/s]\n",
      "100%|██████████| 1/1 [00:00<00:00,  3.12it/s]\n"
     ]
    },
    {
     "name": "stdout",
     "output_type": "stream",
     "text": [
      "350\n",
      "Paw None loop\n"
     ]
    },
    {
     "name": "stderr",
     "output_type": "stream",
     "text": [
      "100%|██████████| 1/1 [00:00<00:00,  2.93it/s]\n",
      "100%|██████████| 1/1 [00:00<00:00,  2.78it/s]\n"
     ]
    },
    {
     "name": "stdout",
     "output_type": "stream",
     "text": [
      "351\n",
      "Paw None loop\n"
     ]
    },
    {
     "name": "stderr",
     "output_type": "stream",
     "text": [
      "100%|██████████| 1/1 [00:00<00:00,  3.23it/s]\n",
      "100%|██████████| 1/1 [00:00<00:00,  2.88it/s]\n"
     ]
    },
    {
     "name": "stdout",
     "output_type": "stream",
     "text": [
      "352\n",
      "Paw None loop\n"
     ]
    },
    {
     "name": "stderr",
     "output_type": "stream",
     "text": [
      "100%|██████████| 1/1 [00:00<00:00,  2.70it/s]\n",
      "100%|██████████| 1/1 [00:00<00:00,  3.29it/s]\n"
     ]
    },
    {
     "name": "stdout",
     "output_type": "stream",
     "text": [
      "353\n",
      "Paw None loop\n"
     ]
    },
    {
     "name": "stderr",
     "output_type": "stream",
     "text": [
      "100%|██████████| 1/1 [00:00<00:00,  2.97it/s]\n",
      "100%|██████████| 1/1 [00:00<00:00,  3.28it/s]\n"
     ]
    },
    {
     "name": "stdout",
     "output_type": "stream",
     "text": [
      "354\n",
      "Paw Recorded/NR loop\n"
     ]
    },
    {
     "name": "stderr",
     "output_type": "stream",
     "text": [
      "100%|██████████| 1/1 [00:00<00:00,  3.26it/s]\n",
      "100%|██████████| 1/1 [00:00<00:00,  2.52it/s]\n",
      "100%|██████████| 1/1 [00:00<00:00,  3.30it/s]\n"
     ]
    },
    {
     "name": "stdout",
     "output_type": "stream",
     "text": [
      "355\n",
      "Paw None loop\n"
     ]
    },
    {
     "name": "stderr",
     "output_type": "stream",
     "text": [
      "100%|██████████| 1/1 [00:00<00:00,  2.75it/s]\n",
      "100%|██████████| 1/1 [00:00<00:00,  3.34it/s]\n"
     ]
    },
    {
     "name": "stdout",
     "output_type": "stream",
     "text": [
      "356\n",
      "Paw None loop\n"
     ]
    },
    {
     "name": "stderr",
     "output_type": "stream",
     "text": [
      "100%|██████████| 1/1 [00:00<00:00,  3.12it/s]\n",
      "100%|██████████| 1/1 [00:00<00:00,  2.72it/s]\n"
     ]
    },
    {
     "name": "stdout",
     "output_type": "stream",
     "text": [
      "357\n",
      "Paw None loop\n"
     ]
    },
    {
     "name": "stderr",
     "output_type": "stream",
     "text": [
      "100%|██████████| 1/1 [00:00<00:00,  2.78it/s]\n",
      "100%|██████████| 1/1 [00:00<00:00,  2.90it/s]\n"
     ]
    },
    {
     "name": "stdout",
     "output_type": "stream",
     "text": [
      "358\n",
      "Paw None loop\n"
     ]
    },
    {
     "name": "stderr",
     "output_type": "stream",
     "text": [
      "100%|██████████| 1/1 [00:00<00:00,  3.27it/s]\n",
      "100%|██████████| 1/1 [00:00<00:00,  2.83it/s]\n"
     ]
    },
    {
     "name": "stdout",
     "output_type": "stream",
     "text": [
      "359\n",
      "Paw Recorded/NR loop\n"
     ]
    },
    {
     "name": "stderr",
     "output_type": "stream",
     "text": [
      "100%|██████████| 1/1 [00:00<00:00,  3.13it/s]\n",
      "100%|██████████| 1/1 [00:00<00:00,  2.89it/s]\n",
      "100%|██████████| 1/1 [00:00<00:00,  3.15it/s]\n"
     ]
    },
    {
     "name": "stdout",
     "output_type": "stream",
     "text": [
      "360\n",
      "Paw None loop\n"
     ]
    },
    {
     "name": "stderr",
     "output_type": "stream",
     "text": [
      "100%|██████████| 1/1 [00:00<00:00,  2.76it/s]\n",
      "100%|██████████| 1/1 [00:00<00:00,  2.86it/s]\n"
     ]
    },
    {
     "name": "stdout",
     "output_type": "stream",
     "text": [
      "361\n",
      "Paw None loop\n"
     ]
    },
    {
     "name": "stderr",
     "output_type": "stream",
     "text": [
      "100%|██████████| 1/1 [00:00<00:00,  3.26it/s]\n",
      "100%|██████████| 1/1 [00:00<00:00,  3.11it/s]\n"
     ]
    },
    {
     "name": "stdout",
     "output_type": "stream",
     "text": [
      "362\n",
      "Paw None loop\n"
     ]
    },
    {
     "name": "stderr",
     "output_type": "stream",
     "text": [
      "100%|██████████| 1/1 [00:00<00:00,  3.27it/s]\n",
      "100%|██████████| 1/1 [00:00<00:00,  3.39it/s]\n"
     ]
    },
    {
     "name": "stdout",
     "output_type": "stream",
     "text": [
      "363\n",
      "Paw None loop\n"
     ]
    },
    {
     "name": "stderr",
     "output_type": "stream",
     "text": [
      "100%|██████████| 1/1 [00:00<00:00,  3.28it/s]\n",
      "100%|██████████| 1/1 [00:00<00:00,  3.18it/s]\n"
     ]
    },
    {
     "name": "stdout",
     "output_type": "stream",
     "text": [
      "364\n",
      "Paw Recorded/NR loop\n"
     ]
    },
    {
     "name": "stderr",
     "output_type": "stream",
     "text": [
      "100%|██████████| 1/1 [00:00<00:00,  3.11it/s]\n",
      "100%|██████████| 1/1 [00:00<00:00,  3.36it/s]\n",
      "100%|██████████| 1/1 [00:00<00:00,  2.61it/s]\n"
     ]
    },
    {
     "name": "stdout",
     "output_type": "stream",
     "text": [
      "365\n",
      "Paw None loop\n"
     ]
    },
    {
     "name": "stderr",
     "output_type": "stream",
     "text": [
      "100%|██████████| 1/1 [00:00<00:00,  3.36it/s]\n",
      "100%|██████████| 1/1 [00:00<00:00,  3.24it/s]\n"
     ]
    },
    {
     "name": "stdout",
     "output_type": "stream",
     "text": [
      "366\n",
      "Paw None loop\n"
     ]
    },
    {
     "name": "stderr",
     "output_type": "stream",
     "text": [
      "100%|██████████| 1/1 [00:00<00:00,  2.86it/s]\n",
      "100%|██████████| 1/1 [00:00<00:00,  3.30it/s]\n"
     ]
    },
    {
     "name": "stdout",
     "output_type": "stream",
     "text": [
      "367\n",
      "Paw None loop\n"
     ]
    },
    {
     "name": "stderr",
     "output_type": "stream",
     "text": [
      "100%|██████████| 1/1 [00:00<00:00,  2.86it/s]\n",
      "100%|██████████| 1/1 [00:00<00:00,  2.65it/s]\n"
     ]
    },
    {
     "name": "stdout",
     "output_type": "stream",
     "text": [
      "368\n",
      "Paw None loop\n"
     ]
    },
    {
     "name": "stderr",
     "output_type": "stream",
     "text": [
      "100%|██████████| 1/1 [00:00<00:00,  3.41it/s]\n",
      "100%|██████████| 1/1 [00:00<00:00,  3.14it/s]\n"
     ]
    },
    {
     "name": "stdout",
     "output_type": "stream",
     "text": [
      "369\n",
      "Paw Recorded/NR loop\n"
     ]
    },
    {
     "name": "stderr",
     "output_type": "stream",
     "text": [
      "100%|██████████| 1/1 [00:00<00:00,  3.27it/s]\n",
      "100%|██████████| 1/1 [00:00<00:00,  2.90it/s]\n",
      "100%|██████████| 1/1 [00:00<00:00,  3.24it/s]\n",
      "  0%|          | 0/1 [00:00<?, ?it/s]"
     ]
    },
    {
     "name": "stdout",
     "output_type": "stream",
     "text": [
      "370\n",
      "Paw None loop\n"
     ]
    },
    {
     "name": "stderr",
     "output_type": "stream",
     "text": [
      "100%|██████████| 1/1 [00:00<00:00,  2.71it/s]\n",
      "100%|██████████| 1/1 [00:00<00:00,  3.01it/s]\n",
      "  0%|          | 0/1 [00:00<?, ?it/s]"
     ]
    },
    {
     "name": "stdout",
     "output_type": "stream",
     "text": [
      "371\n",
      "Paw None loop\n"
     ]
    },
    {
     "name": "stderr",
     "output_type": "stream",
     "text": [
      "100%|██████████| 1/1 [00:00<00:00,  3.36it/s]\n",
      "100%|██████████| 1/1 [00:00<00:00,  2.95it/s]\n",
      "  0%|          | 0/1 [00:00<?, ?it/s]"
     ]
    },
    {
     "name": "stdout",
     "output_type": "stream",
     "text": [
      "372\n",
      "Paw None loop\n"
     ]
    },
    {
     "name": "stderr",
     "output_type": "stream",
     "text": [
      "100%|██████████| 1/1 [00:00<00:00,  3.28it/s]\n",
      "100%|██████████| 1/1 [00:00<00:00,  2.81it/s]\n",
      "  0%|          | 0/1 [00:00<?, ?it/s]"
     ]
    },
    {
     "name": "stdout",
     "output_type": "stream",
     "text": [
      "373\n",
      "Paw None loop\n"
     ]
    },
    {
     "name": "stderr",
     "output_type": "stream",
     "text": [
      "100%|██████████| 1/1 [00:00<00:00,  2.91it/s]\n",
      "100%|██████████| 1/1 [00:00<00:00,  3.27it/s]\n"
     ]
    },
    {
     "name": "stdout",
     "output_type": "stream",
     "text": [
      "374\n",
      "Paw Recorded/NR loop\n"
     ]
    },
    {
     "name": "stderr",
     "output_type": "stream",
     "text": [
      "100%|██████████| 1/1 [00:00<00:00,  3.03it/s]\n",
      "100%|██████████| 1/1 [00:00<00:00,  3.32it/s]\n",
      "100%|██████████| 1/1 [00:00<00:00,  3.19it/s]\n"
     ]
    },
    {
     "name": "stdout",
     "output_type": "stream",
     "text": [
      "375\n",
      "Paw None loop\n"
     ]
    },
    {
     "name": "stderr",
     "output_type": "stream",
     "text": [
      "100%|██████████| 1/1 [00:00<00:00,  2.77it/s]\n",
      "100%|██████████| 1/1 [00:00<00:00,  2.74it/s]\n"
     ]
    },
    {
     "name": "stdout",
     "output_type": "stream",
     "text": [
      "376\n",
      "Paw None loop\n"
     ]
    },
    {
     "name": "stderr",
     "output_type": "stream",
     "text": [
      "100%|██████████| 1/1 [00:00<00:00,  3.33it/s]\n",
      "100%|██████████| 1/1 [00:00<00:00,  3.07it/s]\n"
     ]
    },
    {
     "name": "stdout",
     "output_type": "stream",
     "text": [
      "377\n",
      "Paw None loop\n"
     ]
    },
    {
     "name": "stderr",
     "output_type": "stream",
     "text": [
      "100%|██████████| 1/1 [00:00<00:00,  2.74it/s]\n",
      "100%|██████████| 1/1 [00:00<00:00,  2.58it/s]\n"
     ]
    },
    {
     "name": "stdout",
     "output_type": "stream",
     "text": [
      "378\n",
      "Paw None loop\n"
     ]
    },
    {
     "name": "stderr",
     "output_type": "stream",
     "text": [
      "100%|██████████| 1/1 [00:00<00:00,  3.39it/s]\n",
      "100%|██████████| 1/1 [00:00<00:00,  3.27it/s]\n"
     ]
    },
    {
     "name": "stdout",
     "output_type": "stream",
     "text": [
      "379\n",
      "Paw Recorded/NR loop\n"
     ]
    },
    {
     "name": "stderr",
     "output_type": "stream",
     "text": [
      "100%|██████████| 1/1 [00:00<00:00,  2.94it/s]\n",
      "100%|██████████| 1/1 [00:00<00:00,  2.75it/s]\n",
      "100%|██████████| 1/1 [00:00<00:00,  3.28it/s]\n",
      "  0%|          | 0/1 [00:00<?, ?it/s]"
     ]
    },
    {
     "name": "stdout",
     "output_type": "stream",
     "text": [
      "380\n",
      "Paw None loop\n"
     ]
    },
    {
     "name": "stderr",
     "output_type": "stream",
     "text": [
      "100%|██████████| 1/1 [00:00<00:00,  3.02it/s]\n",
      "100%|██████████| 1/1 [00:00<00:00,  3.13it/s]\n",
      "  0%|          | 0/1 [00:00<?, ?it/s]"
     ]
    },
    {
     "name": "stdout",
     "output_type": "stream",
     "text": [
      "381\n",
      "Paw None loop\n"
     ]
    },
    {
     "name": "stderr",
     "output_type": "stream",
     "text": [
      "100%|██████████| 1/1 [00:00<00:00,  3.24it/s]\n",
      "100%|██████████| 1/1 [00:00<00:00,  2.72it/s]\n",
      "  0%|          | 0/1 [00:00<?, ?it/s]"
     ]
    },
    {
     "name": "stdout",
     "output_type": "stream",
     "text": [
      "382\n",
      "Paw None loop\n"
     ]
    },
    {
     "name": "stderr",
     "output_type": "stream",
     "text": [
      "100%|██████████| 1/1 [00:00<00:00,  3.22it/s]\n",
      "100%|██████████| 1/1 [00:00<00:00,  2.89it/s]\n",
      "  0%|          | 0/1 [00:00<?, ?it/s]"
     ]
    },
    {
     "name": "stdout",
     "output_type": "stream",
     "text": [
      "383\n",
      "Paw None loop\n"
     ]
    },
    {
     "name": "stderr",
     "output_type": "stream",
     "text": [
      "100%|██████████| 1/1 [00:00<00:00,  3.31it/s]\n",
      "100%|██████████| 1/1 [00:00<00:00,  3.35it/s]\n",
      "  0%|          | 0/1 [00:00<?, ?it/s]"
     ]
    },
    {
     "name": "stdout",
     "output_type": "stream",
     "text": [
      "384\n",
      "Paw Recorded/NR loop\n"
     ]
    },
    {
     "name": "stderr",
     "output_type": "stream",
     "text": [
      "100%|██████████| 1/1 [00:00<00:00,  3.04it/s]\n",
      "100%|██████████| 1/1 [00:00<00:00,  3.20it/s]\n",
      "100%|██████████| 1/1 [00:00<00:00,  2.82it/s]\n"
     ]
    },
    {
     "name": "stdout",
     "output_type": "stream",
     "text": [
      "385\n",
      "Paw None loop\n"
     ]
    },
    {
     "name": "stderr",
     "output_type": "stream",
     "text": [
      "100%|██████████| 1/1 [00:00<00:00,  2.80it/s]\n",
      "100%|██████████| 1/1 [00:00<00:00,  2.75it/s]\n"
     ]
    },
    {
     "name": "stdout",
     "output_type": "stream",
     "text": [
      "386\n",
      "Paw None loop\n"
     ]
    },
    {
     "name": "stderr",
     "output_type": "stream",
     "text": [
      "100%|██████████| 1/1 [00:00<00:00,  2.63it/s]\n",
      "100%|██████████| 1/1 [00:00<00:00,  2.51it/s]\n"
     ]
    },
    {
     "name": "stdout",
     "output_type": "stream",
     "text": [
      "387\n",
      "Paw None loop\n"
     ]
    },
    {
     "name": "stderr",
     "output_type": "stream",
     "text": [
      "100%|██████████| 1/1 [00:00<00:00,  3.38it/s]\n",
      "100%|██████████| 1/1 [00:00<00:00,  3.33it/s]\n"
     ]
    },
    {
     "name": "stdout",
     "output_type": "stream",
     "text": [
      "388\n",
      "Paw None loop\n"
     ]
    },
    {
     "name": "stderr",
     "output_type": "stream",
     "text": [
      "100%|██████████| 1/1 [00:00<00:00,  2.88it/s]\n",
      "100%|██████████| 1/1 [00:00<00:00,  2.90it/s]\n"
     ]
    },
    {
     "name": "stdout",
     "output_type": "stream",
     "text": [
      "389\n",
      "Paw Recorded/NR loop\n"
     ]
    },
    {
     "name": "stderr",
     "output_type": "stream",
     "text": [
      "100%|██████████| 1/1 [00:00<00:00,  2.79it/s]\n",
      "100%|██████████| 1/1 [00:00<00:00,  2.57it/s]\n",
      "100%|██████████| 1/1 [00:00<00:00,  3.17it/s]\n"
     ]
    },
    {
     "name": "stdout",
     "output_type": "stream",
     "text": [
      "390\n",
      "Paw None loop\n"
     ]
    },
    {
     "name": "stderr",
     "output_type": "stream",
     "text": [
      "100%|██████████| 1/1 [00:00<00:00,  3.29it/s]\n",
      "100%|██████████| 1/1 [00:00<00:00,  2.76it/s]\n"
     ]
    },
    {
     "name": "stdout",
     "output_type": "stream",
     "text": [
      "391\n",
      "Paw None loop\n"
     ]
    },
    {
     "name": "stderr",
     "output_type": "stream",
     "text": [
      "100%|██████████| 1/1 [00:00<00:00,  2.96it/s]\n",
      "100%|██████████| 1/1 [00:00<00:00,  2.73it/s]\n"
     ]
    },
    {
     "name": "stdout",
     "output_type": "stream",
     "text": [
      "392\n",
      "Paw None loop\n"
     ]
    },
    {
     "name": "stderr",
     "output_type": "stream",
     "text": [
      "100%|██████████| 1/1 [00:00<00:00,  3.35it/s]\n",
      "100%|██████████| 1/1 [00:00<00:00,  3.20it/s]\n"
     ]
    },
    {
     "name": "stdout",
     "output_type": "stream",
     "text": [
      "393\n",
      "Paw None loop\n"
     ]
    },
    {
     "name": "stderr",
     "output_type": "stream",
     "text": [
      "100%|██████████| 1/1 [00:00<00:00,  3.33it/s]\n",
      "100%|██████████| 1/1 [00:00<00:00,  3.22it/s]\n"
     ]
    },
    {
     "name": "stdout",
     "output_type": "stream",
     "text": [
      "394\n",
      "Paw Recorded/NR loop\n"
     ]
    },
    {
     "name": "stderr",
     "output_type": "stream",
     "text": [
      "100%|██████████| 1/1 [00:00<00:00,  2.87it/s]\n",
      "100%|██████████| 1/1 [00:00<00:00,  2.67it/s]\n",
      "100%|██████████| 1/1 [00:00<00:00,  2.80it/s]\n",
      "  0%|          | 0/1 [00:00<?, ?it/s]"
     ]
    },
    {
     "name": "stdout",
     "output_type": "stream",
     "text": [
      "395\n",
      "Paw None loop\n"
     ]
    },
    {
     "name": "stderr",
     "output_type": "stream",
     "text": [
      "100%|██████████| 1/1 [00:00<00:00,  3.10it/s]\n",
      "100%|██████████| 1/1 [00:00<00:00,  2.92it/s]\n"
     ]
    },
    {
     "name": "stdout",
     "output_type": "stream",
     "text": [
      "396\n",
      "Paw None loop\n"
     ]
    },
    {
     "name": "stderr",
     "output_type": "stream",
     "text": [
      "100%|██████████| 1/1 [00:00<00:00,  2.89it/s]\n",
      "100%|██████████| 1/1 [00:00<00:00,  3.33it/s]\n"
     ]
    },
    {
     "name": "stdout",
     "output_type": "stream",
     "text": [
      "397\n",
      "Paw None loop\n"
     ]
    },
    {
     "name": "stderr",
     "output_type": "stream",
     "text": [
      "100%|██████████| 1/1 [00:00<00:00,  3.09it/s]\n",
      "100%|██████████| 1/1 [00:00<00:00,  3.15it/s]\n"
     ]
    },
    {
     "name": "stdout",
     "output_type": "stream",
     "text": [
      "398\n",
      "Paw None loop\n"
     ]
    },
    {
     "name": "stderr",
     "output_type": "stream",
     "text": [
      "100%|██████████| 1/1 [00:00<00:00,  3.34it/s]\n",
      "100%|██████████| 1/1 [00:00<00:00,  3.14it/s]\n"
     ]
    },
    {
     "name": "stdout",
     "output_type": "stream",
     "text": [
      "399\n",
      "Paw Recorded/NR loop\n"
     ]
    },
    {
     "name": "stderr",
     "output_type": "stream",
     "text": [
      "100%|██████████| 1/1 [00:00<00:00,  2.97it/s]\n",
      "100%|██████████| 1/1 [00:00<00:00,  2.83it/s]\n",
      "100%|██████████| 1/1 [00:00<00:00,  3.00it/s]\n"
     ]
    },
    {
     "name": "stdout",
     "output_type": "stream",
     "text": [
      "400\n",
      "Paw None loop\n"
     ]
    },
    {
     "name": "stderr",
     "output_type": "stream",
     "text": [
      "100%|██████████| 1/1 [00:00<00:00,  2.48it/s]\n",
      "100%|██████████| 1/1 [00:00<00:00,  2.79it/s]\n"
     ]
    },
    {
     "name": "stdout",
     "output_type": "stream",
     "text": [
      "401\n",
      "Paw None loop\n"
     ]
    },
    {
     "name": "stderr",
     "output_type": "stream",
     "text": [
      "100%|██████████| 1/1 [00:00<00:00,  3.30it/s]\n",
      "100%|██████████| 1/1 [00:00<00:00,  2.64it/s]\n"
     ]
    },
    {
     "name": "stdout",
     "output_type": "stream",
     "text": [
      "402\n",
      "Paw None loop\n"
     ]
    },
    {
     "name": "stderr",
     "output_type": "stream",
     "text": [
      "100%|██████████| 1/1 [00:00<00:00,  3.24it/s]\n",
      "100%|██████████| 1/1 [00:00<00:00,  3.06it/s]\n"
     ]
    },
    {
     "name": "stdout",
     "output_type": "stream",
     "text": [
      "403\n",
      "Paw None loop\n"
     ]
    },
    {
     "name": "stderr",
     "output_type": "stream",
     "text": [
      "100%|██████████| 1/1 [00:00<00:00,  3.19it/s]\n",
      "100%|██████████| 1/1 [00:00<00:00,  3.14it/s]\n"
     ]
    },
    {
     "name": "stdout",
     "output_type": "stream",
     "text": [
      "404\n",
      "Paw Recorded/NR loop\n"
     ]
    },
    {
     "name": "stderr",
     "output_type": "stream",
     "text": [
      "100%|██████████| 1/1 [00:00<00:00,  3.33it/s]\n",
      "100%|██████████| 1/1 [00:00<00:00,  3.16it/s]\n",
      "100%|██████████| 1/1 [00:00<00:00,  3.30it/s]\n"
     ]
    },
    {
     "name": "stdout",
     "output_type": "stream",
     "text": [
      "405\n",
      "Paw None loop\n"
     ]
    },
    {
     "name": "stderr",
     "output_type": "stream",
     "text": [
      "100%|██████████| 1/1 [00:00<00:00,  3.23it/s]\n",
      "100%|██████████| 1/1 [00:00<00:00,  3.23it/s]\n"
     ]
    },
    {
     "name": "stdout",
     "output_type": "stream",
     "text": [
      "406\n",
      "Paw None loop\n"
     ]
    },
    {
     "name": "stderr",
     "output_type": "stream",
     "text": [
      "100%|██████████| 1/1 [00:00<00:00,  2.68it/s]\n",
      "100%|██████████| 1/1 [00:00<00:00,  2.72it/s]\n"
     ]
    },
    {
     "name": "stdout",
     "output_type": "stream",
     "text": [
      "407\n",
      "Paw None loop\n"
     ]
    },
    {
     "name": "stderr",
     "output_type": "stream",
     "text": [
      "100%|██████████| 1/1 [00:00<00:00,  3.22it/s]\n",
      "100%|██████████| 1/1 [00:00<00:00,  2.79it/s]\n"
     ]
    },
    {
     "name": "stdout",
     "output_type": "stream",
     "text": [
      "408\n",
      "Paw None loop\n"
     ]
    },
    {
     "name": "stderr",
     "output_type": "stream",
     "text": [
      "100%|██████████| 1/1 [00:00<00:00,  3.04it/s]\n",
      "100%|██████████| 1/1 [00:00<00:00,  2.61it/s]\n"
     ]
    },
    {
     "name": "stdout",
     "output_type": "stream",
     "text": [
      "409\n",
      "Paw Recorded/NR loop\n"
     ]
    },
    {
     "name": "stderr",
     "output_type": "stream",
     "text": [
      "100%|██████████| 1/1 [00:00<00:00,  2.87it/s]\n",
      "100%|██████████| 1/1 [00:00<00:00,  2.86it/s]\n",
      "100%|██████████| 1/1 [00:00<00:00,  2.79it/s]\n"
     ]
    },
    {
     "name": "stdout",
     "output_type": "stream",
     "text": [
      "410\n",
      "Paw None loop\n"
     ]
    },
    {
     "name": "stderr",
     "output_type": "stream",
     "text": [
      "100%|██████████| 1/1 [00:00<00:00,  3.00it/s]\n",
      "100%|██████████| 1/1 [00:00<00:00,  2.73it/s]\n"
     ]
    },
    {
     "name": "stdout",
     "output_type": "stream",
     "text": [
      "411\n",
      "Paw None loop\n"
     ]
    },
    {
     "name": "stderr",
     "output_type": "stream",
     "text": [
      "100%|██████████| 1/1 [00:00<00:00,  2.59it/s]\n",
      "100%|██████████| 1/1 [00:00<00:00,  2.76it/s]\n"
     ]
    },
    {
     "name": "stdout",
     "output_type": "stream",
     "text": [
      "412\n",
      "Paw None loop\n"
     ]
    },
    {
     "name": "stderr",
     "output_type": "stream",
     "text": [
      "100%|██████████| 1/1 [00:00<00:00,  2.82it/s]\n",
      "100%|██████████| 1/1 [00:00<00:00,  2.64it/s]\n"
     ]
    },
    {
     "name": "stdout",
     "output_type": "stream",
     "text": [
      "413\n",
      "Paw None loop\n"
     ]
    },
    {
     "name": "stderr",
     "output_type": "stream",
     "text": [
      "100%|██████████| 1/1 [00:00<00:00,  2.34it/s]\n",
      "100%|██████████| 1/1 [00:00<00:00,  2.87it/s]\n"
     ]
    },
    {
     "name": "stdout",
     "output_type": "stream",
     "text": [
      "414\n",
      "Paw Recorded/NR loop\n"
     ]
    },
    {
     "name": "stderr",
     "output_type": "stream",
     "text": [
      "100%|██████████| 1/1 [00:00<00:00,  3.13it/s]\n",
      "100%|██████████| 1/1 [00:00<00:00,  2.78it/s]\n",
      "100%|██████████| 1/1 [00:00<00:00,  2.66it/s]\n"
     ]
    },
    {
     "name": "stdout",
     "output_type": "stream",
     "text": [
      "415\n",
      "Paw None loop\n"
     ]
    },
    {
     "name": "stderr",
     "output_type": "stream",
     "text": [
      "100%|██████████| 1/1 [00:00<00:00,  2.73it/s]\n",
      "100%|██████████| 1/1 [00:00<00:00,  2.82it/s]\n"
     ]
    },
    {
     "name": "stdout",
     "output_type": "stream",
     "text": [
      "416\n",
      "Paw None loop\n"
     ]
    },
    {
     "name": "stderr",
     "output_type": "stream",
     "text": [
      "100%|██████████| 1/1 [00:00<00:00,  2.65it/s]\n",
      "100%|██████████| 1/1 [00:00<00:00,  2.26it/s]\n"
     ]
    },
    {
     "name": "stdout",
     "output_type": "stream",
     "text": [
      "417\n",
      "Paw None loop\n"
     ]
    },
    {
     "name": "stderr",
     "output_type": "stream",
     "text": [
      "100%|██████████| 1/1 [00:00<00:00,  3.28it/s]\n",
      "100%|██████████| 1/1 [00:00<00:00,  3.11it/s]\n"
     ]
    },
    {
     "name": "stdout",
     "output_type": "stream",
     "text": [
      "418\n",
      "Paw None loop\n"
     ]
    },
    {
     "name": "stderr",
     "output_type": "stream",
     "text": [
      "100%|██████████| 1/1 [00:00<00:00,  2.81it/s]\n",
      "100%|██████████| 1/1 [00:00<00:00,  3.16it/s]\n"
     ]
    },
    {
     "name": "stdout",
     "output_type": "stream",
     "text": [
      "419\n",
      "Paw Recorded/NR loop\n"
     ]
    },
    {
     "name": "stderr",
     "output_type": "stream",
     "text": [
      "100%|██████████| 1/1 [00:00<00:00,  2.80it/s]\n",
      "100%|██████████| 1/1 [00:00<00:00,  2.77it/s]\n",
      "100%|██████████| 1/1 [00:00<00:00,  2.70it/s]\n"
     ]
    },
    {
     "name": "stdout",
     "output_type": "stream",
     "text": [
      "420\n",
      "Paw None loop\n"
     ]
    },
    {
     "name": "stderr",
     "output_type": "stream",
     "text": [
      "100%|██████████| 1/1 [00:00<00:00,  2.72it/s]\n",
      "100%|██████████| 1/1 [00:00<00:00,  3.26it/s]\n",
      "  0%|          | 0/1 [00:00<?, ?it/s]"
     ]
    },
    {
     "name": "stdout",
     "output_type": "stream",
     "text": [
      "421\n",
      "Paw None loop\n"
     ]
    },
    {
     "name": "stderr",
     "output_type": "stream",
     "text": [
      "100%|██████████| 1/1 [00:00<00:00,  3.32it/s]\n",
      "100%|██████████| 1/1 [00:00<00:00,  2.60it/s]\n"
     ]
    },
    {
     "name": "stdout",
     "output_type": "stream",
     "text": [
      "422\n",
      "Paw None loop\n"
     ]
    },
    {
     "name": "stderr",
     "output_type": "stream",
     "text": [
      "100%|██████████| 1/1 [00:00<00:00,  2.71it/s]\n",
      "100%|██████████| 1/1 [00:00<00:00,  3.01it/s]\n",
      "  0%|          | 0/1 [00:00<?, ?it/s]"
     ]
    },
    {
     "name": "stdout",
     "output_type": "stream",
     "text": [
      "423\n",
      "Paw None loop\n"
     ]
    },
    {
     "name": "stderr",
     "output_type": "stream",
     "text": [
      "100%|██████████| 1/1 [00:00<00:00,  3.26it/s]\n",
      "100%|██████████| 1/1 [00:00<00:00,  2.84it/s]\n"
     ]
    },
    {
     "name": "stdout",
     "output_type": "stream",
     "text": [
      "424\n",
      "Paw Recorded/NR loop\n"
     ]
    },
    {
     "name": "stderr",
     "output_type": "stream",
     "text": [
      "100%|██████████| 1/1 [00:00<00:00,  2.80it/s]\n",
      "100%|██████████| 1/1 [00:00<00:00,  2.65it/s]\n",
      "100%|██████████| 1/1 [00:00<00:00,  2.38it/s]\n",
      "  0%|          | 0/1 [00:00<?, ?it/s]"
     ]
    },
    {
     "name": "stdout",
     "output_type": "stream",
     "text": [
      "425\n",
      "Paw None loop\n"
     ]
    },
    {
     "name": "stderr",
     "output_type": "stream",
     "text": [
      "100%|██████████| 1/1 [00:00<00:00,  2.65it/s]\n",
      "100%|██████████| 1/1 [00:00<00:00,  3.40it/s]\n",
      "  0%|          | 0/1 [00:00<?, ?it/s]"
     ]
    },
    {
     "name": "stdout",
     "output_type": "stream",
     "text": [
      "426\n",
      "Paw None loop\n"
     ]
    },
    {
     "name": "stderr",
     "output_type": "stream",
     "text": [
      "100%|██████████| 1/1 [00:00<00:00,  3.31it/s]\n",
      "100%|██████████| 1/1 [00:00<00:00,  3.39it/s]\n",
      "  0%|          | 0/1 [00:00<?, ?it/s]"
     ]
    },
    {
     "name": "stdout",
     "output_type": "stream",
     "text": [
      "427\n",
      "Paw None loop\n"
     ]
    },
    {
     "name": "stderr",
     "output_type": "stream",
     "text": [
      "100%|██████████| 1/1 [00:00<00:00,  3.31it/s]\n",
      "100%|██████████| 1/1 [00:00<00:00,  3.12it/s]\n",
      "  0%|          | 0/1 [00:00<?, ?it/s]"
     ]
    },
    {
     "name": "stdout",
     "output_type": "stream",
     "text": [
      "428\n",
      "Paw None loop\n"
     ]
    },
    {
     "name": "stderr",
     "output_type": "stream",
     "text": [
      "100%|██████████| 1/1 [00:00<00:00,  3.06it/s]\n",
      "100%|██████████| 1/1 [00:00<00:00,  3.16it/s]\n",
      "  0%|          | 0/1 [00:00<?, ?it/s]"
     ]
    },
    {
     "name": "stdout",
     "output_type": "stream",
     "text": [
      "429\n",
      "Paw Recorded/NR loop\n"
     ]
    },
    {
     "name": "stderr",
     "output_type": "stream",
     "text": [
      "100%|██████████| 1/1 [00:00<00:00,  3.58it/s]\n",
      "100%|██████████| 1/1 [00:00<00:00,  3.20it/s]\n",
      "100%|██████████| 1/1 [00:00<00:00,  3.31it/s]\n"
     ]
    },
    {
     "name": "stdout",
     "output_type": "stream",
     "text": [
      "430\n",
      "Paw None loop\n"
     ]
    },
    {
     "name": "stderr",
     "output_type": "stream",
     "text": [
      "100%|██████████| 1/1 [00:00<00:00,  3.13it/s]\n",
      "100%|██████████| 1/1 [00:00<00:00,  3.53it/s]\n"
     ]
    },
    {
     "name": "stdout",
     "output_type": "stream",
     "text": [
      "431\n",
      "Paw None loop\n"
     ]
    },
    {
     "name": "stderr",
     "output_type": "stream",
     "text": [
      "100%|██████████| 1/1 [00:00<00:00,  3.33it/s]\n",
      "100%|██████████| 1/1 [00:00<00:00,  3.49it/s]\n"
     ]
    },
    {
     "name": "stdout",
     "output_type": "stream",
     "text": [
      "432\n",
      "Paw None loop\n"
     ]
    },
    {
     "name": "stderr",
     "output_type": "stream",
     "text": [
      "100%|██████████| 1/1 [00:00<00:00,  3.54it/s]\n",
      "100%|██████████| 1/1 [00:00<00:00,  3.33it/s]\n"
     ]
    },
    {
     "name": "stdout",
     "output_type": "stream",
     "text": [
      "433\n",
      "Paw None loop\n"
     ]
    },
    {
     "name": "stderr",
     "output_type": "stream",
     "text": [
      "100%|██████████| 1/1 [00:00<00:00,  3.11it/s]\n",
      "100%|██████████| 1/1 [00:00<00:00,  3.50it/s]\n"
     ]
    },
    {
     "name": "stdout",
     "output_type": "stream",
     "text": [
      "434\n",
      "Paw Recorded/NR loop\n"
     ]
    },
    {
     "name": "stderr",
     "output_type": "stream",
     "text": [
      "100%|██████████| 1/1 [00:00<00:00,  2.81it/s]\n",
      "100%|██████████| 1/1 [00:00<00:00,  3.74it/s]\n",
      "100%|██████████| 1/1 [00:00<00:00,  3.16it/s]\n",
      "  0%|          | 0/1 [00:00<?, ?it/s]"
     ]
    },
    {
     "name": "stdout",
     "output_type": "stream",
     "text": [
      "435\n",
      "Paw None loop\n"
     ]
    },
    {
     "name": "stderr",
     "output_type": "stream",
     "text": [
      "100%|██████████| 1/1 [00:00<00:00,  3.24it/s]\n",
      "100%|██████████| 1/1 [00:00<00:00,  3.38it/s]\n"
     ]
    },
    {
     "name": "stdout",
     "output_type": "stream",
     "text": [
      "436\n",
      "Paw None loop\n"
     ]
    },
    {
     "name": "stderr",
     "output_type": "stream",
     "text": [
      "100%|██████████| 1/1 [00:00<00:00,  3.40it/s]\n",
      "100%|██████████| 1/1 [00:00<00:00,  3.39it/s]\n"
     ]
    },
    {
     "name": "stdout",
     "output_type": "stream",
     "text": [
      "437\n",
      "Paw None loop\n"
     ]
    },
    {
     "name": "stderr",
     "output_type": "stream",
     "text": [
      "100%|██████████| 1/1 [00:00<00:00,  3.35it/s]\n",
      "100%|██████████| 1/1 [00:00<00:00,  3.27it/s]\n"
     ]
    },
    {
     "name": "stdout",
     "output_type": "stream",
     "text": [
      "438\n",
      "Paw None loop\n"
     ]
    },
    {
     "name": "stderr",
     "output_type": "stream",
     "text": [
      "100%|██████████| 1/1 [00:00<00:00,  3.33it/s]\n",
      "100%|██████████| 1/1 [00:00<00:00,  3.25it/s]\n",
      "  0%|          | 0/1 [00:00<?, ?it/s]"
     ]
    },
    {
     "name": "stdout",
     "output_type": "stream",
     "text": [
      "439\n",
      "Paw Recorded/NR loop\n"
     ]
    },
    {
     "name": "stderr",
     "output_type": "stream",
     "text": [
      "100%|██████████| 1/1 [00:00<00:00,  3.47it/s]\n",
      "100%|██████████| 1/1 [00:00<00:00,  3.52it/s]\n"
     ]
    }
   ],
   "source": [
    "predict_data = data_full_new.copy()\n",
    "prediction_df = pd.DataFrame(columns = [\"Next_Pain_Pred\", \"Next_Fatigue_Pred\", \"Next_PAW_Pred\"])\n",
    "prediction_marginal_df = pd.DataFrame(columns = [\"Next_Pain_Pred\", \"Next_Fatigue_Pred\", \"Next_PAW_Pred\"])\n",
    "col_list = ['Next_PAW_Higher', 'Next_PAW_Lower', 'Next_PAW_None', 'Next_PAW_Normal', 'Next_PAW_Not Recorded', 'Next_Pain_Higher', 'Next_Pain_Lower',\n",
    "             'Next_Pain_Normal', 'Next_Pain_Not Recorded', 'Next_Fatigue_Higher', 'Next_Fatigue_Lower', 'Next_Fatigue_Normal', 'Next_Fatigue_Not Recorded']\n",
    "predict_marginal_proba_df = pd.DataFrame(columns = col_list)\n",
    "index = 0\n",
    "#predict_data.drop(['Next_Pain', 'Next_Fatigue', 'Next_PAW'], axis=1, inplace=True)\n",
    "for i in range(len(predict_data)):\n",
    "    print(i)\n",
    "    evidence_dict = {}\n",
    "    evidence_dict = predict_data[i:i+1].to_dict('index')[i]\n",
    "#     pain_pred = np.empty(len(predict_data))\n",
    "#     fatigue_pred = np.empty(len(predict_data))\n",
    "#     paw_pred = np.empty(len(predict_data))\n",
    "    predic_data = predict_data[i:i+1]\n",
    "    if(evidence_dict[\"Next_PAW\"] == \"None\"):\n",
    "        print(\"Paw None loop\")\n",
    "        if(evidence_dict[\"Record_Next_Pain\"] != \"Not Recorded\" and evidence_dict[\"Record_Next_Fatigue\"]!= \"Not Recorded\"):\n",
    "            del evidence_dict[\"Next_Pain\"]\n",
    "            del evidence_dict[\"Next_Fatigue\"]\n",
    "            query = infer.query(['Next_Pain', \"Next_Fatigue\"], joint = True, evidence = evidence_dict, show_progress=False)\n",
    "            \n",
    "            joint_proba_df, max1, max2, prediction = joint_proba_table(query)\n",
    "            prediction_df.loc[i, \"Next_Pain_Pred\"] = prediction[\"Pain\"]\n",
    "            prediction_df.loc[i, \"Next_Fatigue_Pred\"] = prediction[\"Fatigue\"]\n",
    "            prediction_df.loc[i, \"Next_PAW_Pred\"] = \"None\"\n",
    "            prediction_df.loc[i, \"Max_Joint_Proba\"] = max1\n",
    "            prediction_df.loc[i, \"2nd_Next_Pain_Pred\"] = prediction[\"Pain2\"]\n",
    "            prediction_df.loc[i, \"2nd_Next_Fatigue_Pred\"] = prediction[\"Fatigue2\"]\n",
    "            prediction_df.loc[i, \"2nd_Next_PAW_Pred\"] = \"None\"\n",
    "            prediction_df.loc[i, \"2nd_Max_Joint_Proba\"] = max2\n",
    "        elif(evidence_dict[\"Record_Next_Pain\"] == \"Not Recorded\" and evidence_dict[\"Record_Next_Fatigue\"]!= \"Not Recorded\"):\n",
    "            del evidence_dict[\"Next_Fatigue\"]\n",
    "            query = infer.query([\"Next_Fatigue\"], joint = True, evidence = evidence_dict, show_progress=False)\n",
    "            joint_proba_df, max1, max2, prediction = joint_proba_table(query)\n",
    "            prediction_df.loc[i, \"Next_Pain_Pred\"] = \"Not Recorded\"\n",
    "            prediction_df.loc[i, \"Next_Fatigue_Pred\"] = prediction[\"Fatigue\"]\n",
    "            prediction_df.loc[i, \"Next_PAW_Pred\"] = \"None\"\n",
    "            prediction_df.loc[i, \"Max_Joint_Proba\"] = max1\n",
    "            prediction_df.loc[i, \"2nd_Next_Pain_Pred\"] = \"Not Recorded\"\n",
    "            prediction_df.loc[i, \"2nd_Next_Fatigue_Pred\"] = prediction[\"Fatigue2\"]\n",
    "            prediction_df.loc[i, \"2nd_Next_PAW_Pred\"] = \"None\"\n",
    "            prediction_df.loc[i, \"2nd_Max_Joint_Proba\"] = max2\n",
    "        elif(evidence_dict[\"Record_Next_Pain\"] != \"Not Recorded\" and evidence_dict[\"Record_Next_Fatigue\"]== \"Not Recorded\"):\n",
    "            del evidence_dict[\"Next_Pain\"]\n",
    "            query = infer.query([\"Next_Pain\"], joint = True, evidence = evidence_dict, show_progress=False)\n",
    "            joint_proba_df, max1, max2, prediction = joint_proba_table(query)\n",
    "            prediction_df.loc[i, \"Next_Pain_Pred\"] = prediction[\"Pain\"]\n",
    "            prediction_df.loc[i, \"Next_Fatigue_Pred\"] = \"Not Recorded\"\n",
    "            prediction_df.loc[i, \"Next_PAW_Pred\"] = \"None\"\n",
    "            prediction_df.loc[i, \"Max_Joint_Proba\"] = max1\n",
    "            prediction_df.loc[i, \"2nd_Next_Pain_Pred\"] = prediction[\"Pain2\"]\n",
    "            prediction_df.loc[i, \"2nd_Next_Fatigue_Pred\"] = \"Not Recorded\"\n",
    "            prediction_df.loc[i, \"2nd_Next_PAW_Pred\"] = \"None\"\n",
    "            prediction_df.loc[i, \"2nd_Max_Joint_Proba\"] = max2\n",
    "        else:\n",
    "            prediction_df.loc[i, \"Next_Pain_Pred\"] = \"Not Recorded\"\n",
    "            prediction_df.loc[i, \"Next_Fatigue_Pred\"] = \"Not Recorded\"\n",
    "            prediction_df.loc[i, \"Next_PAW_Pred\"] = \"None\"\n",
    "            prediction_df.loc[i, \"Max_Joint_Proba\"] = 1.0\n",
    "            prediction_df.loc[i, \"2nd_Next_Pain_Pred\"] = \"Not Recorded\"\n",
    "            prediction_df.loc[i, \"2nd_Next_Fatigue_Pred\"] = \"Not Recorded\"\n",
    "            prediction_df.loc[i, \"2nd_Next_PAW_Pred\"] = \"None\"\n",
    "            prediction_df.loc[i, \"2nd_Max_Joint_Proba\"] = 1.0\n",
    "\n",
    "        \n",
    "        #Marginal Probability\n",
    "        predic_data_pain = predic_data.drop(['Next_Pain'], axis=1)\n",
    "        y_pred_pain = model.predict(predic_data_pain)\n",
    "        y_pred_pain_proba = model.predict_probability(predic_data_pain)\n",
    "        prediction_marginal_df.loc[i, \"Next_Pain_Pred\"] = y_pred_pain.loc[0, \"Next_Pain\"]\n",
    "        for m in (['Next_Pain_Higher', 'Next_Pain_Lower', 'Next_Pain_Normal', 'Next_Pain_Not Recorded']):\n",
    "            predict_marginal_proba_df.loc[i, m] = y_pred_pain_proba.loc[i, m]\n",
    "        \n",
    "        predic_data_fatigue = predic_data.drop(['Next_Fatigue'], axis=1)\n",
    "        y_pred_fatigue = model.predict(predic_data_fatigue)\n",
    "        prediction_marginal_df.loc[i, \"Next_Fatigue_Pred\"] = y_pred_fatigue.loc[0, \"Next_Fatigue\"]\n",
    "        y_pred_fatigue_proba = model.predict_probability(predic_data_fatigue)\n",
    "        for m in (['Next_Fatigue_Higher', 'Next_Fatigue_Lower', 'Next_Fatigue_Normal', 'Next_Fatigue_Not Recorded']):\n",
    "            predict_marginal_proba_df.loc[i, m] = y_pred_fatigue_proba.loc[i, m]\n",
    "        \n",
    "        prediction_marginal_df.loc[i, \"Next_PAW_Pred\"] = \"None\"\n",
    "        for m in (['Next_PAW_Higher', 'Next_PAW_Lower', 'Next_PAW_None', 'Next_PAW_Normal', 'Next_PAW_Not Recorded']):\n",
    "            if(m == 'Next_PAW_None'):\n",
    "                predict_marginal_proba_df.loc[i, m] = 1.0\n",
    "            else:\n",
    "                predict_marginal_proba_df.loc[i, m] = 0.0\n",
    "    else:\n",
    "        print(\"Paw Recorded/NR loop\")\n",
    "        if(evidence_dict[\"Record_Next_Pain\"] != \"Not Recorded\" and evidence_dict[\"Record_Next_Fatigue\"]!= \"Not Recorded\" and evidence_dict[\"Next_PAW\"] !=\"Not Recorded\"):\n",
    "            del evidence_dict[\"Next_Pain\"]\n",
    "            del evidence_dict[\"Next_Fatigue\"]\n",
    "            del evidence_dict[\"Next_PAW\"]\n",
    "            query = infer.query(['Next_Pain', \"Next_Fatigue\", \"Next_PAW\"], joint = True, evidence = evidence_dict, show_progress=False)\n",
    "            joint_proba_df, max1, max2, prediction = joint_proba_table(query)\n",
    "            prediction_df.loc[i, \"Next_Pain_Pred\"] = prediction[\"Pain\"]\n",
    "            prediction_df.loc[i, \"Next_Fatigue_Pred\"] = prediction[\"Fatigue\"]\n",
    "            prediction_df.loc[i, \"Next_PAW_Pred\"] = prediction[\"PAW\"]\n",
    "            prediction_df.loc[i, \"Max_Joint_Proba\"] = max1\n",
    "            \n",
    "            prediction_df.loc[i, \"2nd_Next_Pain_Pred\"] = prediction[\"Pain2\"]\n",
    "            prediction_df.loc[i, \"2nd_Next_Fatigue_Pred\"] = prediction[\"Fatigue2\"]\n",
    "            prediction_df.loc[i, \"2nd_Next_PAW_Pred\"] = prediction[\"PAW2\"]\n",
    "            prediction_df.loc[i, \"2nd_Max_Joint_Proba\"] = max2\n",
    "        elif(evidence_dict[\"Record_Next_Pain\"] == \"Not Recorded\" and evidence_dict[\"Record_Next_Fatigue\"]!= \"Not Recorded\" and evidence_dict[\"Next_PAW\"] !=\"Not Recorded\"):\n",
    "            del evidence_dict[\"Next_Fatigue\"]\n",
    "            del evidence_dict[\"Next_PAW\"]\n",
    "            query = infer.query([\"Next_Fatigue\", \"Next_PAW\"], joint = True, evidence = evidence_dict, show_progress=False)\n",
    "            joint_proba_df, max1, max2, prediction = joint_proba_table(query)\n",
    "            prediction_df.loc[i, \"Next_Pain_Pred\"] = \"Not Recorded\"\n",
    "            prediction_df.loc[i, \"Next_Fatigue_Pred\"] = prediction[\"Fatigue\"]\n",
    "            prediction_df.loc[i, \"Next_PAW_Pred\"] = prediction[\"PAW\"]\n",
    "            prediction_df.loc[i, \"Max_Joint_Proba\"] = max1\n",
    "            \n",
    "            prediction_df.loc[i, \"2nd_Next_Pain_Pred\"] = \"Not Recorded\"\n",
    "            prediction_df.loc[i, \"2nd_Next_Fatigue_Pred\"] = prediction[\"Fatigue2\"]\n",
    "            prediction_df.loc[i, \"2nd_Next_PAW_Pred\"] = prediction[\"PAW2\"]\n",
    "            prediction_df.loc[i, \"2nd_Max_Joint_Proba\"] = max2\n",
    "        elif(evidence_dict[\"Record_Next_Pain\"] != \"Not Recorded\" and evidence_dict[\"Record_Next_Fatigue\"]== \"Not Recorded\" and evidence_dict[\"Next_PAW\"] !=\"Not Recorded\"):\n",
    "            del evidence_dict[\"Next_Pain\"]\n",
    "            del evidence_dict[\"Next_PAW\"]\n",
    "            query = infer.query(['Next_Pain', \"Next_PAW\"], joint = True, evidence = evidence_dict, show_progress=False)\n",
    "            joint_proba_df, max1, max2, prediction = joint_proba_table(query)\n",
    "            prediction_df.loc[i, \"Next_Pain_Pred\"] = prediction[\"Pain\"]\n",
    "            prediction_df.loc[i, \"Next_Fatigue_Pred\"] = \"Not Recorded\"\n",
    "            prediction_df.loc[i, \"Next_PAW_Pred\"] = prediction[\"PAW\"]\n",
    "            prediction_df.loc[i, \"Max_Joint_Proba\"] = max1\n",
    "            \n",
    "            prediction_df.loc[i, \"2nd_Next_Pain_Pred\"] = prediction[\"Pain2\"]\n",
    "            prediction_df.loc[i, \"2nd_Next_Fatigue_Pred\"] = \"Not Recorded\"\n",
    "            prediction_df.loc[i, \"2nd_Next_PAW_Pred\"] = prediction[\"PAW2\"]\n",
    "            prediction_df.loc[i, \"2nd_Max_Joint_Proba\"] = max2\n",
    "        elif(evidence_dict[\"Record_Next_Pain\"] != \"Not Recorded\" and evidence_dict[\"Record_Next_Fatigue\"]!= \"Not Recorded\" and evidence_dict[\"Next_PAW\"] ==\"Not Recorded\"):\n",
    "            del evidence_dict[\"Next_Pain\"]\n",
    "            del evidence_dict[\"Next_Fatigue\"]\n",
    "            query = infer.query(['Next_Pain', \"Next_Fatigue\"], joint = True, evidence = evidence_dict, show_progress=False)\n",
    "            joint_proba_df, max1, max2, prediction = joint_proba_table(query)\n",
    "            prediction_df.loc[i, \"Next_Pain_Pred\"] = prediction[\"Pain\"]\n",
    "            prediction_df.loc[i, \"Next_Fatigue_Pred\"] = prediction[\"Fatigue\"]\n",
    "            prediction_df.loc[i, \"Next_PAW_Pred\"] = \"Not Recorded\"\n",
    "            prediction_df.loc[i, \"Max_Joint_Proba\"] = max1\n",
    "            \n",
    "            prediction_df.loc[i, \"2nd_Next_Pain_Pred\"] = prediction[\"Pain2\"]\n",
    "            prediction_df.loc[i, \"2nd_Next_Fatigue_Pred\"] = prediction[\"Fatigue2\"]\n",
    "            prediction_df.loc[i, \"2nd_Next_PAW_Pred\"] = \"Not Recorded\"\n",
    "            prediction_df.loc[i, \"2nd_Max_Joint_Proba\"] = max2\n",
    "        elif(evidence_dict[\"Record_Next_Pain\"] == \"Not Recorded\" and evidence_dict[\"Record_Next_Fatigue\"]== \"Not Recorded\" and evidence_dict[\"Next_PAW\"] !=\"Not Recorded\"):\n",
    "            del evidence_dict[\"Next_PAW\"]\n",
    "            query = infer.query(['Next_PAW'], joint = True, evidence = evidence_dict, show_progress=False)\n",
    "            joint_proba_df, max1, max2, prediction = joint_proba_table(query)\n",
    "            prediction_df.loc[i, \"Next_Pain_Pred\"] = \"Not Recorded\"\n",
    "            prediction_df.loc[i, \"Next_Fatigue_Pred\"] = \"Not Recorded\"\n",
    "            prediction_df.loc[i, \"Next_PAW_Pred\"] = prediction[\"PAW\"]\n",
    "            prediction_df.loc[i, \"Max_Joint_Proba\"] = max1\n",
    "            \n",
    "            prediction_df.loc[i, \"2nd_Next_Pain_Pred\"] = \"Not Recorded\"\n",
    "            prediction_df.loc[i, \"2nd_Next_Fatigue_Pred\"] = \"Not Recorded\"\n",
    "            prediction_df.loc[i, \"2nd_Next_PAW_Pred\"] = prediction[\"PAW2\"]\n",
    "            prediction_df.loc[i, \"2nd_Max_Joint_Proba\"] = max2\n",
    "        elif(evidence_dict[\"Record_Next_Pain\"] != \"Not Recorded\" and evidence_dict[\"Record_Next_Fatigue\"]== \"Not Recorded\" and evidence_dict[\"Next_PAW\"] ==\"Not Recorded\"):\n",
    "            del evidence_dict[\"Next_Pain\"]\n",
    "            query = infer.query([\"Next_Pain\"], joint = True, evidence = evidence_dict, show_progress=False)\n",
    "            joint_proba_df, max1, max2, prediction = joint_proba_table(query)\n",
    "            prediction_df.loc[i, \"Next_Pain_Pred\"] = prediction[\"Pain\"]\n",
    "            prediction_df.loc[i, \"Next_Fatigue_Pred\"] = \"Not Recorded\"\n",
    "            prediction_df.loc[i, \"Next_PAW_Pred\"] = \"Not Recorded\"\n",
    "            prediction_df.loc[i, \"Max_Joint_Proba\"] = max1\n",
    "            \n",
    "            prediction_df.loc[i, \"2nd_Next_Pain_Pred\"] = prediction[\"Pain2\"]\n",
    "            prediction_df.loc[i, \"2nd_Next_Fatigue_Pred\"] = \"Not Recorded\"\n",
    "            prediction_df.loc[i, \"2nd_Next_PAW_Pred\"] = \"Not Recorded\"\n",
    "            prediction_df.loc[i, \"2nd_Max_Joint_Proba\"] = max2\n",
    "        elif(evidence_dict[\"Record_Next_Pain\"] == \"Not Recorded\" and evidence_dict[\"Record_Next_Fatigue\"]!= \"Not Recorded\" and evidence_dict[\"Next_PAW\"] ==\"Not Recorded\"):\n",
    "            del evidence_dict[\"Next_Fatigue\"]\n",
    "            query = infer.query([\"Next_Fatigue\"], joint = True, evidence = evidence_dict, show_progress=False)\n",
    "            joint_proba_df, max1, max2, prediction = joint_proba_table(query)\n",
    "            prediction_df.loc[i, \"Next_Pain_Pred\"] = \"Not Recorded\"\n",
    "            prediction_df.loc[i, \"Next_Fatigue_Pred\"] = prediction[\"Fatigue\"]\n",
    "            prediction_df.loc[i, \"Next_PAW_Pred\"] = \"Not Recorded\"\n",
    "            prediction_df.loc[i, \"Max_Joint_Proba\"] = max1\n",
    "            \n",
    "            prediction_df.loc[i, \"2nd_Next_Pain_Pred\"] = \"Not Recorded\"\n",
    "            prediction_df.loc[i, \"2nd_Next_Fatigue_Pred\"] = prediction[\"Fatigue2\"]\n",
    "            prediction_df.loc[i, \"2nd_Next_PAW_Pred\"] = \"Not Recorded\"\n",
    "            prediction_df.loc[i, \"2nd_Max_Joint_Proba\"] = max2\n",
    "        else:\n",
    "            prediction_df.loc[i, \"Next_Pain_Pred\"] = \"Not Recorded\"\n",
    "            prediction_df.loc[i, \"Next_Fatigue_Pred\"] = \"Not Recorded\"\n",
    "            prediction_df.loc[i, \"Next_PAW_Pred\"] = \"Not Recorded\"\n",
    "            prediction_df.loc[i, \"Max_Joint_Proba\"] = 1.0\n",
    "            \n",
    "            prediction_df.loc[i, \"2nd_Next_Pain_Pred\"] = \"Not Recorded\"\n",
    "            prediction_df.loc[i, \"2nd_Next_Fatigue_Pred\"] = \"Not Recorded\"\n",
    "            prediction_df.loc[i, \"2nd_Next_PAW_Pred\"] = \"Not Recorded\"\n",
    "            prediction_df.loc[i, \"2nd_Max_Joint_Proba\"] = 1.0\n",
    "        \n",
    "        #Marginal Proba\n",
    "        predic_data_pain = predic_data.drop(['Next_Pain'], axis=1)\n",
    "        y_pred_pain = model.predict(predic_data_pain)\n",
    "        prediction_marginal_df.loc[i, \"Next_Pain_Pred\"] = y_pred_pain.loc[0, \"Next_Pain\"]\n",
    "        y_pred_pain_proba = model.predict_probability(predic_data_pain)\n",
    "        for m in (['Next_Pain_Higher', 'Next_Pain_Lower', 'Next_Pain_Normal', 'Next_Pain_Not Recorded']):\n",
    "            predict_marginal_proba_df.loc[i, m] = y_pred_pain_proba.loc[i, m]\n",
    "        \n",
    "        predic_data_fatigue = predic_data.drop(['Next_Fatigue'], axis=1)\n",
    "        y_pred_fatigue = model.predict(predic_data_fatigue)\n",
    "        prediction_marginal_df.loc[i, \"Next_Fatigue_Pred\"] = y_pred_fatigue.loc[0, \"Next_Fatigue\"]\n",
    "        y_pred_fatigue_proba = model.predict_probability(predic_data_fatigue)\n",
    "        for m in (['Next_Fatigue_Higher', 'Next_Fatigue_Lower', 'Next_Fatigue_Normal', 'Next_Fatigue_Not Recorded']):\n",
    "            predict_marginal_proba_df.loc[i, m] = y_pred_fatigue_proba.loc[i, m]\n",
    "        \n",
    "        predic_data_paw = predic_data.drop(['Next_PAW'], axis=1)\n",
    "        y_pred_paw = model.predict(predic_data_paw)\n",
    "        prediction_marginal_df.loc[i, \"Next_PAW_Pred\"] = y_pred_paw.loc[0, \"Next_PAW\"]\n",
    "        y_pred_paw_proba = model.predict_probability(predic_data_paw)\n",
    "        for m in (['Next_PAW_Higher', 'Next_PAW_Lower', 'Next_PAW_None', 'Next_PAW_Normal', 'Next_PAW_Not Recorded']):\n",
    "            predict_marginal_proba_df.loc[i, m] = y_pred_paw_proba.loc[i, m]\n",
    "#     if(i == 5):\n",
    "#         break\n",
    "print(\"Finished\")\n",
    "    \n"
   ]
  },
  {
   "cell_type": "code",
   "execution_count": 593,
   "metadata": {
    "ExecuteTime": {
     "end_time": "2020-04-10T19:34:05.904642Z",
     "start_time": "2020-04-10T19:34:05.893421Z"
    }
   },
   "outputs": [],
   "source": [
    "predict_marginal_proba_df[\"Next_Pain_True\"] = predict_data[\"Next_Pain\"]\n",
    "predict_marginal_proba_df[\"Next_Fatigue_True\"] = predict_data[\"Next_Fatigue\"]\n",
    "predict_marginal_proba_df[\"Next_PAW_True\"] = predict_data[\"Next_PAW\"]\n",
    "predict_marginal_proba_df[\"Patient_ID\"] = data_full_true[\"Patient_ID\"]"
   ]
  },
  {
   "cell_type": "code",
   "execution_count": 612,
   "metadata": {
    "ExecuteTime": {
     "end_time": "2020-04-10T20:13:19.820182Z",
     "start_time": "2020-04-10T20:13:19.790723Z"
    }
   },
   "outputs": [
    {
     "data": {
      "text/html": [
       "<div>\n",
       "<style scoped>\n",
       "    .dataframe tbody tr th:only-of-type {\n",
       "        vertical-align: middle;\n",
       "    }\n",
       "\n",
       "    .dataframe tbody tr th {\n",
       "        vertical-align: top;\n",
       "    }\n",
       "\n",
       "    .dataframe thead th {\n",
       "        text-align: right;\n",
       "    }\n",
       "</style>\n",
       "<table border=\"1\" class=\"dataframe\">\n",
       "  <thead>\n",
       "    <tr style=\"text-align: right;\">\n",
       "      <th></th>\n",
       "      <th>Next_Pain_Lower</th>\n",
       "      <th>Next_Pain_Normal</th>\n",
       "      <th>Next_Pain_Higher</th>\n",
       "      <th>Next_Pain_Not Recorded</th>\n",
       "      <th>Next_Pain_True</th>\n",
       "    </tr>\n",
       "  </thead>\n",
       "  <tbody>\n",
       "    <tr>\n",
       "      <th>145</th>\n",
       "      <td>0.0051247</td>\n",
       "      <td>0.00512597</td>\n",
       "      <td>0.988724</td>\n",
       "      <td>0.0010253</td>\n",
       "      <td>Normal</td>\n",
       "    </tr>\n",
       "    <tr>\n",
       "      <th>146</th>\n",
       "      <td>0.665659</td>\n",
       "      <td>0.000281176</td>\n",
       "      <td>0.333973</td>\n",
       "      <td>8.65938e-05</td>\n",
       "      <td>Higher</td>\n",
       "    </tr>\n",
       "    <tr>\n",
       "      <th>147</th>\n",
       "      <td>8.36353e-08</td>\n",
       "      <td>0.987523</td>\n",
       "      <td>0.0124129</td>\n",
       "      <td>6.43155e-05</td>\n",
       "      <td>Normal</td>\n",
       "    </tr>\n",
       "    <tr>\n",
       "      <th>148</th>\n",
       "      <td>2.67157e-05</td>\n",
       "      <td>0.48709</td>\n",
       "      <td>0.512857</td>\n",
       "      <td>2.67157e-05</td>\n",
       "      <td>Normal</td>\n",
       "    </tr>\n",
       "    <tr>\n",
       "      <th>149</th>\n",
       "      <td>0.00103377</td>\n",
       "      <td>0.00103377</td>\n",
       "      <td>0.00103377</td>\n",
       "      <td>0.996899</td>\n",
       "      <td>Not Recorded</td>\n",
       "    </tr>\n",
       "  </tbody>\n",
       "</table>\n",
       "</div>"
      ],
      "text/plain": [
       "    Next_Pain_Lower Next_Pain_Normal Next_Pain_Higher Next_Pain_Not Recorded  \\\n",
       "145       0.0051247       0.00512597         0.988724              0.0010253   \n",
       "146        0.665659      0.000281176         0.333973            8.65938e-05   \n",
       "147     8.36353e-08         0.987523        0.0124129            6.43155e-05   \n",
       "148     2.67157e-05          0.48709         0.512857            2.67157e-05   \n",
       "149      0.00103377       0.00103377       0.00103377               0.996899   \n",
       "\n",
       "    Next_Pain_True  \n",
       "145         Normal  \n",
       "146         Higher  \n",
       "147         Normal  \n",
       "148         Normal  \n",
       "149   Not Recorded  "
      ]
     },
     "execution_count": 612,
     "metadata": {},
     "output_type": "execute_result"
    }
   ],
   "source": [
    "variable = \"Pain\"\n",
    "predict_marginal_proba_df[predict_marginal_proba_df[\"Patient_ID\"] == \"1032\"][[\"Next_\"+variable+\"_Lower\", \"Next_\"+variable+\"_Normal\", \"Next_\"+variable+\"_Higher\", \"Next_\"+variable+\"_Not Recorded\", \"Next_\"+variable+\"_True\"]]"
   ]
  },
  {
   "cell_type": "code",
   "execution_count": 585,
   "metadata": {
    "ExecuteTime": {
     "end_time": "2020-04-10T19:32:02.320109Z",
     "start_time": "2020-04-10T19:32:02.299980Z"
    }
   },
   "outputs": [
    {
     "data": {
      "text/html": [
       "<div>\n",
       "<style scoped>\n",
       "    .dataframe tbody tr th:only-of-type {\n",
       "        vertical-align: middle;\n",
       "    }\n",
       "\n",
       "    .dataframe tbody tr th {\n",
       "        vertical-align: top;\n",
       "    }\n",
       "\n",
       "    .dataframe thead th {\n",
       "        text-align: right;\n",
       "    }\n",
       "</style>\n",
       "<table border=\"1\" class=\"dataframe\">\n",
       "  <thead>\n",
       "    <tr style=\"text-align: right;\">\n",
       "      <th></th>\n",
       "      <th>Next_Pain_Pred</th>\n",
       "      <th>Next_Fatigue_Pred</th>\n",
       "      <th>Next_PAW_Pred</th>\n",
       "    </tr>\n",
       "  </thead>\n",
       "  <tbody>\n",
       "    <tr>\n",
       "      <th>0</th>\n",
       "      <td>Not Recorded</td>\n",
       "      <td>Not Recorded</td>\n",
       "      <td>None</td>\n",
       "    </tr>\n",
       "    <tr>\n",
       "      <th>1</th>\n",
       "      <td>Not Recorded</td>\n",
       "      <td>Not Recorded</td>\n",
       "      <td>None</td>\n",
       "    </tr>\n",
       "    <tr>\n",
       "      <th>2</th>\n",
       "      <td>Normal</td>\n",
       "      <td>Normal</td>\n",
       "      <td>None</td>\n",
       "    </tr>\n",
       "    <tr>\n",
       "      <th>3</th>\n",
       "      <td>Normal</td>\n",
       "      <td>Normal</td>\n",
       "      <td>None</td>\n",
       "    </tr>\n",
       "    <tr>\n",
       "      <th>4</th>\n",
       "      <td>Normal</td>\n",
       "      <td>Higher</td>\n",
       "      <td>Higher</td>\n",
       "    </tr>\n",
       "    <tr>\n",
       "      <th>...</th>\n",
       "      <td>...</td>\n",
       "      <td>...</td>\n",
       "      <td>...</td>\n",
       "    </tr>\n",
       "    <tr>\n",
       "      <th>530</th>\n",
       "      <td>Not Recorded</td>\n",
       "      <td>Not Recorded</td>\n",
       "      <td>None</td>\n",
       "    </tr>\n",
       "    <tr>\n",
       "      <th>531</th>\n",
       "      <td>Higher</td>\n",
       "      <td>Lower</td>\n",
       "      <td>None</td>\n",
       "    </tr>\n",
       "    <tr>\n",
       "      <th>532</th>\n",
       "      <td>Lower</td>\n",
       "      <td>Higher</td>\n",
       "      <td>None</td>\n",
       "    </tr>\n",
       "    <tr>\n",
       "      <th>533</th>\n",
       "      <td>Not Recorded</td>\n",
       "      <td>Not Recorded</td>\n",
       "      <td>None</td>\n",
       "    </tr>\n",
       "    <tr>\n",
       "      <th>534</th>\n",
       "      <td>Not Recorded</td>\n",
       "      <td>Not Recorded</td>\n",
       "      <td>Not Recorded</td>\n",
       "    </tr>\n",
       "  </tbody>\n",
       "</table>\n",
       "<p>535 rows × 3 columns</p>\n",
       "</div>"
      ],
      "text/plain": [
       "    Next_Pain_Pred Next_Fatigue_Pred Next_PAW_Pred\n",
       "0     Not Recorded      Not Recorded          None\n",
       "1     Not Recorded      Not Recorded          None\n",
       "2           Normal            Normal          None\n",
       "3           Normal            Normal          None\n",
       "4           Normal            Higher        Higher\n",
       "..             ...               ...           ...\n",
       "530   Not Recorded      Not Recorded          None\n",
       "531         Higher             Lower          None\n",
       "532          Lower            Higher          None\n",
       "533   Not Recorded      Not Recorded          None\n",
       "534   Not Recorded      Not Recorded  Not Recorded\n",
       "\n",
       "[535 rows x 3 columns]"
      ]
     },
     "execution_count": 585,
     "metadata": {},
     "output_type": "execute_result"
    }
   ],
   "source": [
    "prediction_marginal_df"
   ]
  },
  {
   "cell_type": "code",
   "execution_count": 586,
   "metadata": {
    "ExecuteTime": {
     "end_time": "2020-04-10T19:32:07.302397Z",
     "start_time": "2020-04-10T19:32:07.288134Z"
    }
   },
   "outputs": [],
   "source": [
    "\n",
    "#predict_marginal_proba_df.to_csv(\"csv_files_MS/cpredict_marginal_proba_df.csv\", index = False)"
   ]
  },
  {
   "cell_type": "code",
   "execution_count": 553,
   "metadata": {
    "ExecuteTime": {
     "end_time": "2020-04-08T21:57:43.057760Z",
     "start_time": "2020-04-08T21:57:43.055056Z"
    }
   },
   "outputs": [],
   "source": [
    "#query.values\n",
    "\n",
    "# print(query)"
   ]
  },
  {
   "cell_type": "code",
   "execution_count": 587,
   "metadata": {
    "ExecuteTime": {
     "end_time": "2020-04-10T19:32:10.177369Z",
     "start_time": "2020-04-10T19:32:10.166800Z"
    }
   },
   "outputs": [],
   "source": [
    "prediction_df[\"Next_Pain_True\"] = predict_data[\"Next_Pain\"]\n",
    "prediction_df[\"Next_Fatigue_True\"] = predict_data[\"Next_Fatigue\"]\n",
    "prediction_df[\"Next_PAW_True\"] = predict_data[\"Next_PAW\"]\n",
    "prediction_df[\"Patient_ID\"] = data_full_true[\"Patient_ID\"]"
   ]
  },
  {
   "cell_type": "code",
   "execution_count": 592,
   "metadata": {
    "ExecuteTime": {
     "end_time": "2020-04-10T19:33:41.667698Z",
     "start_time": "2020-04-10T19:33:41.639684Z"
    }
   },
   "outputs": [
    {
     "data": {
      "text/html": [
       "<div>\n",
       "<style scoped>\n",
       "    .dataframe tbody tr th:only-of-type {\n",
       "        vertical-align: middle;\n",
       "    }\n",
       "\n",
       "    .dataframe tbody tr th {\n",
       "        vertical-align: top;\n",
       "    }\n",
       "\n",
       "    .dataframe thead th {\n",
       "        text-align: right;\n",
       "    }\n",
       "</style>\n",
       "<table border=\"1\" class=\"dataframe\">\n",
       "  <thead>\n",
       "    <tr style=\"text-align: right;\">\n",
       "      <th></th>\n",
       "      <th>Next_Pain_Pred</th>\n",
       "      <th>Next_Fatigue_Pred</th>\n",
       "      <th>Next_PAW_Pred</th>\n",
       "      <th>Max_Joint_Proba</th>\n",
       "      <th>2nd_Next_Pain_Pred</th>\n",
       "      <th>2nd_Next_Fatigue_Pred</th>\n",
       "      <th>2nd_Next_PAW_Pred</th>\n",
       "      <th>2nd_Max_Joint_Proba</th>\n",
       "      <th>Next_Pain_True</th>\n",
       "      <th>Next_Fatigue_True</th>\n",
       "      <th>Next_PAW_True</th>\n",
       "      <th>Patient_ID</th>\n",
       "    </tr>\n",
       "  </thead>\n",
       "  <tbody>\n",
       "    <tr>\n",
       "      <th>20</th>\n",
       "      <td>Normal</td>\n",
       "      <td>Normal</td>\n",
       "      <td>None</td>\n",
       "      <td>0.406756</td>\n",
       "      <td>Normal</td>\n",
       "      <td>Lower</td>\n",
       "      <td>None</td>\n",
       "      <td>0.219025</td>\n",
       "      <td>Higher</td>\n",
       "      <td>Normal</td>\n",
       "      <td>None</td>\n",
       "      <td>1005</td>\n",
       "    </tr>\n",
       "    <tr>\n",
       "      <th>21</th>\n",
       "      <td>Normal</td>\n",
       "      <td>Normal</td>\n",
       "      <td>None</td>\n",
       "      <td>0.452763</td>\n",
       "      <td>Higher</td>\n",
       "      <td>Normal</td>\n",
       "      <td>None</td>\n",
       "      <td>0.212245</td>\n",
       "      <td>Normal</td>\n",
       "      <td>Lower</td>\n",
       "      <td>None</td>\n",
       "      <td>1005</td>\n",
       "    </tr>\n",
       "    <tr>\n",
       "      <th>22</th>\n",
       "      <td>Normal</td>\n",
       "      <td>Normal</td>\n",
       "      <td>None</td>\n",
       "      <td>0.411661</td>\n",
       "      <td>Normal</td>\n",
       "      <td>Lower</td>\n",
       "      <td>None</td>\n",
       "      <td>0.194993</td>\n",
       "      <td>Normal</td>\n",
       "      <td>Normal</td>\n",
       "      <td>None</td>\n",
       "      <td>1005</td>\n",
       "    </tr>\n",
       "    <tr>\n",
       "      <th>23</th>\n",
       "      <td>Normal</td>\n",
       "      <td>Normal</td>\n",
       "      <td>None</td>\n",
       "      <td>0.413722</td>\n",
       "      <td>Normal</td>\n",
       "      <td>Higher</td>\n",
       "      <td>None</td>\n",
       "      <td>0.189623</td>\n",
       "      <td>Higher</td>\n",
       "      <td>Normal</td>\n",
       "      <td>None</td>\n",
       "      <td>1005</td>\n",
       "    </tr>\n",
       "    <tr>\n",
       "      <th>24</th>\n",
       "      <td>Normal</td>\n",
       "      <td>Normal</td>\n",
       "      <td>Normal</td>\n",
       "      <td>0.145803</td>\n",
       "      <td>Normal</td>\n",
       "      <td>Higher</td>\n",
       "      <td>Normal</td>\n",
       "      <td>0.114196</td>\n",
       "      <td>Lower</td>\n",
       "      <td>Normal</td>\n",
       "      <td>Normal</td>\n",
       "      <td>1005</td>\n",
       "    </tr>\n",
       "  </tbody>\n",
       "</table>\n",
       "</div>"
      ],
      "text/plain": [
       "   Next_Pain_Pred Next_Fatigue_Pred Next_PAW_Pred  Max_Joint_Proba  \\\n",
       "20         Normal            Normal          None         0.406756   \n",
       "21         Normal            Normal          None         0.452763   \n",
       "22         Normal            Normal          None         0.411661   \n",
       "23         Normal            Normal          None         0.413722   \n",
       "24         Normal            Normal        Normal         0.145803   \n",
       "\n",
       "   2nd_Next_Pain_Pred 2nd_Next_Fatigue_Pred 2nd_Next_PAW_Pred  \\\n",
       "20             Normal                 Lower              None   \n",
       "21             Higher                Normal              None   \n",
       "22             Normal                 Lower              None   \n",
       "23             Normal                Higher              None   \n",
       "24             Normal                Higher            Normal   \n",
       "\n",
       "    2nd_Max_Joint_Proba Next_Pain_True Next_Fatigue_True Next_PAW_True  \\\n",
       "20             0.219025         Higher            Normal          None   \n",
       "21             0.212245         Normal             Lower          None   \n",
       "22             0.194993         Normal            Normal          None   \n",
       "23             0.189623         Higher            Normal          None   \n",
       "24             0.114196          Lower            Normal        Normal   \n",
       "\n",
       "   Patient_ID  \n",
       "20       1005  \n",
       "21       1005  \n",
       "22       1005  \n",
       "23       1005  \n",
       "24       1005  "
      ]
     },
     "execution_count": 592,
     "metadata": {},
     "output_type": "execute_result"
    }
   ],
   "source": [
    "prediction_df[prediction_df[\"Patient_ID\"] == \"1005\"]"
   ]
  },
  {
   "cell_type": "code",
   "execution_count": 564,
   "metadata": {
    "ExecuteTime": {
     "end_time": "2020-04-09T18:26:14.871188Z",
     "start_time": "2020-04-09T18:26:14.853343Z"
    }
   },
   "outputs": [],
   "source": [
    "prediction_df.to_csv(\"csv_files_MS/prediction_df.csv\", index = False)"
   ]
  },
  {
   "cell_type": "code",
   "execution_count": 448,
   "metadata": {
    "ExecuteTime": {
     "end_time": "2020-04-02T22:17:09.806358Z",
     "start_time": "2020-04-02T22:17:09.792997Z"
    }
   },
   "outputs": [
    {
     "data": {
      "text/plain": [
       "160    Relapsing Remitting\n",
       "161    Relapsing Remitting\n",
       "162    Relapsing Remitting\n",
       "163    Relapsing Remitting\n",
       "Name: MS_Subtype, dtype: object"
      ]
     },
     "execution_count": 448,
     "metadata": {},
     "output_type": "execute_result"
    }
   ],
   "source": [
    "data_features_true[data_features_true['Patient_ID'] == '1043']['MS_Subtype']"
   ]
  },
  {
   "cell_type": "code",
   "execution_count": 561,
   "metadata": {
    "ExecuteTime": {
     "end_time": "2020-04-09T18:24:51.848642Z",
     "start_time": "2020-04-09T18:24:51.813169Z"
    }
   },
   "outputs": [],
   "source": [
    "\n",
    "#Additions\n",
    "prediction_df['Seventh_Day'] = data_features_true['Start_Day_Anna']\n",
    "prediction_df['MS_Subtype'] = data_features_true['MS_Subtype']\n",
    "prediction_df['How_long'] = data_features_true['How_long']\n",
    "prediction_df['Education'] = data_features_true['Education']\n",
    "prediction_df['Work'] = data_features_true['Work']\n",
    "prediction_df['Living_Alone'] = data_features_true['Living_Alone']\n",
    "prediction_df['Use_Mobility_Aids'] = data_features_true['Use_Mobility_Aids']\n",
    "prediction_df['Raw_Cognition_Score'] = data_features_true['Cognition_Score']\n",
    "prediction_df['Raw_Depression_Score'] = data_features_true['Depression_Score']\n",
    "for i in predict_data.columns:\n",
    "    if(i == \"Next_Pain\" or i == \"Next_Fatigue\" or i == \"Next_PAW\"):\n",
    "        continue\n",
    "    else:\n",
    "        prediction_df[i] = predict_data[i]\n",
    "#evidence_variable_list = ['Gender', 'Age', 'Current_Daytime_Interval', 'Current_Pain', 'Record_Next_Pain', 'Current_Fatigue', 'Record_Next_Fatigue', 'Last_Acbout', 'Current_Acbout', 'Record_Next_PAW']\n",
    "#prediction_df.to_csv(\"csv_files_MS/prediction_df.csv\", index = False)"
   ]
  },
  {
   "cell_type": "code",
   "execution_count": 466,
   "metadata": {
    "ExecuteTime": {
     "end_time": "2020-04-05T02:06:54.565631Z",
     "start_time": "2020-04-05T02:06:54.545437Z"
    }
   },
   "outputs": [
    {
     "data": {
      "text/html": [
       "<div>\n",
       "<style scoped>\n",
       "    .dataframe tbody tr th:only-of-type {\n",
       "        vertical-align: middle;\n",
       "    }\n",
       "\n",
       "    .dataframe tbody tr th {\n",
       "        vertical-align: top;\n",
       "    }\n",
       "\n",
       "    .dataframe thead th {\n",
       "        text-align: right;\n",
       "    }\n",
       "</style>\n",
       "<table border=\"1\" class=\"dataframe\">\n",
       "  <thead>\n",
       "    <tr style=\"text-align: right;\">\n",
       "      <th></th>\n",
       "      <th>Next_Pain_True</th>\n",
       "      <th>Next_Pain_Pred</th>\n",
       "    </tr>\n",
       "  </thead>\n",
       "  <tbody>\n",
       "    <tr>\n",
       "      <th>1</th>\n",
       "      <td>Higher</td>\n",
       "      <td>Normal</td>\n",
       "    </tr>\n",
       "    <tr>\n",
       "      <th>2</th>\n",
       "      <td>Normal</td>\n",
       "      <td>Normal</td>\n",
       "    </tr>\n",
       "    <tr>\n",
       "      <th>3</th>\n",
       "      <td>Normal</td>\n",
       "      <td>Normal</td>\n",
       "    </tr>\n",
       "    <tr>\n",
       "      <th>4</th>\n",
       "      <td>Normal</td>\n",
       "      <td>Normal</td>\n",
       "    </tr>\n",
       "    <tr>\n",
       "      <th>5</th>\n",
       "      <td>Normal</td>\n",
       "      <td>Normal</td>\n",
       "    </tr>\n",
       "    <tr>\n",
       "      <th>...</th>\n",
       "      <td>...</td>\n",
       "      <td>...</td>\n",
       "    </tr>\n",
       "    <tr>\n",
       "      <th>421</th>\n",
       "      <td>Normal</td>\n",
       "      <td>Normal</td>\n",
       "    </tr>\n",
       "    <tr>\n",
       "      <th>422</th>\n",
       "      <td>Higher</td>\n",
       "      <td>Normal</td>\n",
       "    </tr>\n",
       "    <tr>\n",
       "      <th>423</th>\n",
       "      <td>Normal</td>\n",
       "      <td>Higher</td>\n",
       "    </tr>\n",
       "    <tr>\n",
       "      <th>424</th>\n",
       "      <td>Lower</td>\n",
       "      <td>Normal</td>\n",
       "    </tr>\n",
       "    <tr>\n",
       "      <th>425</th>\n",
       "      <td>Higher</td>\n",
       "      <td>Normal</td>\n",
       "    </tr>\n",
       "  </tbody>\n",
       "</table>\n",
       "<p>349 rows × 2 columns</p>\n",
       "</div>"
      ],
      "text/plain": [
       "    Next_Pain_True Next_Pain_Pred\n",
       "1           Higher         Normal\n",
       "2           Normal         Normal\n",
       "3           Normal         Normal\n",
       "4           Normal         Normal\n",
       "5           Normal         Normal\n",
       "..             ...            ...\n",
       "421         Normal         Normal\n",
       "422         Higher         Normal\n",
       "423         Normal         Higher\n",
       "424          Lower         Normal\n",
       "425         Higher         Normal\n",
       "\n",
       "[349 rows x 2 columns]"
      ]
     },
     "execution_count": 466,
     "metadata": {},
     "output_type": "execute_result"
    }
   ],
   "source": [
    "#check NR issue\n",
    "var = \"Pain\"\n",
    "prediction_df[prediction_df[\"Next_\"+var+\"_True\"] != \"Not Recorded\"][[\"Next_\"+var+\"_True\", \"Next_\"+var+\"_Pred\"]]\n",
    "# for i in range(len(prediction_df)):\n",
    "#     if(prediction_df.loc[i, \"Next_\"+var+\"_True\"] == \"Not Recorded\" and prediction_df.loc[i, \"Next_\"+var+\"_Pred\"] != \"Not Recorded\"):\n",
    "#         print(i)\n",
    "#     if(prediction_df.loc[i, \"Next_\"+var+\"_True\"] != \"Not Recorded\" and prediction_df.loc[i, \"Next_\"+var+\"_Pred\"] == \"Not Recorded\"):\n",
    "#         print(i)\n",
    "    "
   ]
  },
  {
   "cell_type": "code",
   "execution_count": 497,
   "metadata": {
    "ExecuteTime": {
     "end_time": "2020-04-08T19:25:42.785396Z",
     "start_time": "2020-04-08T19:25:42.742690Z"
    }
   },
   "outputs": [
    {
     "data": {
      "text/html": [
       "<div>\n",
       "<style scoped>\n",
       "    .dataframe tbody tr th:only-of-type {\n",
       "        vertical-align: middle;\n",
       "    }\n",
       "\n",
       "    .dataframe tbody tr th {\n",
       "        vertical-align: top;\n",
       "    }\n",
       "\n",
       "    .dataframe thead th {\n",
       "        text-align: right;\n",
       "    }\n",
       "</style>\n",
       "<table border=\"1\" class=\"dataframe\">\n",
       "  <thead>\n",
       "    <tr style=\"text-align: right;\">\n",
       "      <th></th>\n",
       "      <th>Next_Pain_Pred</th>\n",
       "      <th>Next_Fatigue_Pred</th>\n",
       "      <th>Next_PAW_Pred</th>\n",
       "      <th>Next_Pain_True</th>\n",
       "      <th>Next_Fatigue_True</th>\n",
       "      <th>Next_PAW_True</th>\n",
       "      <th>Patient_ID</th>\n",
       "      <th>Seventh_Day</th>\n",
       "      <th>MS_Subtype</th>\n",
       "      <th>How_long</th>\n",
       "      <th>...</th>\n",
       "      <th>Gender</th>\n",
       "      <th>Age</th>\n",
       "      <th>Current_Daytime_Interval</th>\n",
       "      <th>Current_Pain</th>\n",
       "      <th>Record_Next_Pain</th>\n",
       "      <th>Current_Fatigue</th>\n",
       "      <th>Record_Next_Fatigue</th>\n",
       "      <th>Last_Acbout</th>\n",
       "      <th>Current_Acbout</th>\n",
       "      <th>Record_Next_PAW</th>\n",
       "    </tr>\n",
       "  </thead>\n",
       "  <tbody>\n",
       "    <tr>\n",
       "      <th>16</th>\n",
       "      <td>Normal</td>\n",
       "      <td>Normal</td>\n",
       "      <td>None</td>\n",
       "      <td>Normal</td>\n",
       "      <td>Lower</td>\n",
       "      <td>None</td>\n",
       "      <td>1005</td>\n",
       "      <td>Fri</td>\n",
       "      <td>Relapsing Remitting</td>\n",
       "      <td>More than 9 Years</td>\n",
       "      <td>...</td>\n",
       "      <td>Female</td>\n",
       "      <td>Between 30 to 60</td>\n",
       "      <td>Wake</td>\n",
       "      <td>Higher</td>\n",
       "      <td>Recorded</td>\n",
       "      <td>Normal</td>\n",
       "      <td>Recorded</td>\n",
       "      <td>Lower</td>\n",
       "      <td>Higher</td>\n",
       "      <td>None</td>\n",
       "    </tr>\n",
       "    <tr>\n",
       "      <th>17</th>\n",
       "      <td>Normal</td>\n",
       "      <td>Normal</td>\n",
       "      <td>None</td>\n",
       "      <td>Normal</td>\n",
       "      <td>Normal</td>\n",
       "      <td>None</td>\n",
       "      <td>1005</td>\n",
       "      <td>Fri</td>\n",
       "      <td>Relapsing Remitting</td>\n",
       "      <td>More than 9 Years</td>\n",
       "      <td>...</td>\n",
       "      <td>Female</td>\n",
       "      <td>Between 30 to 60</td>\n",
       "      <td>Morning</td>\n",
       "      <td>Normal</td>\n",
       "      <td>Recorded</td>\n",
       "      <td>Lower</td>\n",
       "      <td>Recorded</td>\n",
       "      <td>Higher</td>\n",
       "      <td>Higher</td>\n",
       "      <td>None</td>\n",
       "    </tr>\n",
       "    <tr>\n",
       "      <th>18</th>\n",
       "      <td>Normal</td>\n",
       "      <td>Normal</td>\n",
       "      <td>None</td>\n",
       "      <td>Higher</td>\n",
       "      <td>Normal</td>\n",
       "      <td>None</td>\n",
       "      <td>1005</td>\n",
       "      <td>Fri</td>\n",
       "      <td>Relapsing Remitting</td>\n",
       "      <td>More than 9 Years</td>\n",
       "      <td>...</td>\n",
       "      <td>Female</td>\n",
       "      <td>Between 30 to 60</td>\n",
       "      <td>Afternoon</td>\n",
       "      <td>Normal</td>\n",
       "      <td>Recorded</td>\n",
       "      <td>Normal</td>\n",
       "      <td>Recorded</td>\n",
       "      <td>Higher</td>\n",
       "      <td>Higher</td>\n",
       "      <td>None</td>\n",
       "    </tr>\n",
       "    <tr>\n",
       "      <th>19</th>\n",
       "      <td>Normal</td>\n",
       "      <td>Normal</td>\n",
       "      <td>Normal</td>\n",
       "      <td>Lower</td>\n",
       "      <td>Normal</td>\n",
       "      <td>Normal</td>\n",
       "      <td>1005</td>\n",
       "      <td>Fri</td>\n",
       "      <td>Relapsing Remitting</td>\n",
       "      <td>More than 9 Years</td>\n",
       "      <td>...</td>\n",
       "      <td>Female</td>\n",
       "      <td>Between 30 to 60</td>\n",
       "      <td>Evening</td>\n",
       "      <td>Higher</td>\n",
       "      <td>Recorded</td>\n",
       "      <td>Normal</td>\n",
       "      <td>Recorded</td>\n",
       "      <td>Higher</td>\n",
       "      <td>Higher</td>\n",
       "      <td>Recorded</td>\n",
       "    </tr>\n",
       "  </tbody>\n",
       "</table>\n",
       "<p>4 rows × 26 columns</p>\n",
       "</div>"
      ],
      "text/plain": [
       "   Next_Pain_Pred Next_Fatigue_Pred Next_PAW_Pred Next_Pain_True  \\\n",
       "16         Normal            Normal          None         Normal   \n",
       "17         Normal            Normal          None         Normal   \n",
       "18         Normal            Normal          None         Higher   \n",
       "19         Normal            Normal        Normal          Lower   \n",
       "\n",
       "   Next_Fatigue_True Next_PAW_True Patient_ID Seventh_Day  \\\n",
       "16             Lower          None       1005         Fri   \n",
       "17            Normal          None       1005         Fri   \n",
       "18            Normal          None       1005         Fri   \n",
       "19            Normal        Normal       1005         Fri   \n",
       "\n",
       "             MS_Subtype           How_long  ...  Gender               Age  \\\n",
       "16  Relapsing Remitting  More than 9 Years  ...  Female  Between 30 to 60   \n",
       "17  Relapsing Remitting  More than 9 Years  ...  Female  Between 30 to 60   \n",
       "18  Relapsing Remitting  More than 9 Years  ...  Female  Between 30 to 60   \n",
       "19  Relapsing Remitting  More than 9 Years  ...  Female  Between 30 to 60   \n",
       "\n",
       "   Current_Daytime_Interval Current_Pain Record_Next_Pain Current_Fatigue  \\\n",
       "16                     Wake       Higher         Recorded          Normal   \n",
       "17                  Morning       Normal         Recorded           Lower   \n",
       "18                Afternoon       Normal         Recorded          Normal   \n",
       "19                  Evening       Higher         Recorded          Normal   \n",
       "\n",
       "   Record_Next_Fatigue Last_Acbout Current_Acbout Record_Next_PAW  \n",
       "16            Recorded       Lower         Higher            None  \n",
       "17            Recorded      Higher         Higher            None  \n",
       "18            Recorded      Higher         Higher            None  \n",
       "19            Recorded      Higher         Higher        Recorded  \n",
       "\n",
       "[4 rows x 26 columns]"
      ]
     },
     "execution_count": 497,
     "metadata": {},
     "output_type": "execute_result"
    }
   ],
   "source": [
    "prediction_df[prediction_df[\"Patient_ID\"] == \"1005\"]"
   ]
  },
  {
   "cell_type": "code",
   "execution_count": 467,
   "metadata": {
    "ExecuteTime": {
     "end_time": "2020-04-05T02:07:19.936413Z",
     "start_time": "2020-04-05T02:07:19.928435Z"
    }
   },
   "outputs": [],
   "source": [
    "prediction_df_dummy = prediction_df.copy()\n",
    "prediction_df_dummy[\"Next_PAW\"] = predict_data[\"Next_PAW\"]"
   ]
  },
  {
   "cell_type": "code",
   "execution_count": 468,
   "metadata": {
    "ExecuteTime": {
     "end_time": "2020-04-05T02:07:20.556502Z",
     "start_time": "2020-04-05T02:07:20.517566Z"
    }
   },
   "outputs": [
    {
     "data": {
      "text/html": [
       "<div>\n",
       "<style scoped>\n",
       "    .dataframe tbody tr th:only-of-type {\n",
       "        vertical-align: middle;\n",
       "    }\n",
       "\n",
       "    .dataframe tbody tr th {\n",
       "        vertical-align: top;\n",
       "    }\n",
       "\n",
       "    .dataframe thead th {\n",
       "        text-align: right;\n",
       "    }\n",
       "</style>\n",
       "<table border=\"1\" class=\"dataframe\">\n",
       "  <thead>\n",
       "    <tr style=\"text-align: right;\">\n",
       "      <th></th>\n",
       "      <th>Next_Pain_Pred</th>\n",
       "      <th>Next_Fatigue_Pred</th>\n",
       "      <th>Next_PAW_Pred</th>\n",
       "      <th>Next_Pain_True</th>\n",
       "      <th>Next_Fatigue_True</th>\n",
       "      <th>Next_PAW_True</th>\n",
       "      <th>Patient_ID</th>\n",
       "      <th>Seventh_Day</th>\n",
       "      <th>MS_Subtype</th>\n",
       "      <th>How_long</th>\n",
       "      <th>...</th>\n",
       "      <th>Age</th>\n",
       "      <th>Current_Daytime_Interval</th>\n",
       "      <th>Current_Pain</th>\n",
       "      <th>Record_Next_Pain</th>\n",
       "      <th>Current_Fatigue</th>\n",
       "      <th>Record_Next_Fatigue</th>\n",
       "      <th>Last_Acbout</th>\n",
       "      <th>Current_Acbout</th>\n",
       "      <th>Record_Next_PAW</th>\n",
       "      <th>Next_PAW</th>\n",
       "    </tr>\n",
       "  </thead>\n",
       "  <tbody>\n",
       "    <tr>\n",
       "      <th>0</th>\n",
       "      <td>Normal</td>\n",
       "      <td>Higher</td>\n",
       "      <td>Normal</td>\n",
       "      <td>Normal</td>\n",
       "      <td>Normal</td>\n",
       "      <td>Normal</td>\n",
       "      <td>1001</td>\n",
       "      <td>Tue</td>\n",
       "      <td>Relapsing Remitting</td>\n",
       "      <td>Less than 5 Years</td>\n",
       "      <td>...</td>\n",
       "      <td>Between 30 to 60</td>\n",
       "      <td>Evening</td>\n",
       "      <td>Normal</td>\n",
       "      <td>Recorded</td>\n",
       "      <td>Normal</td>\n",
       "      <td>Recorded</td>\n",
       "      <td>Lower</td>\n",
       "      <td>Normal</td>\n",
       "      <td>Recorded</td>\n",
       "      <td>Normal</td>\n",
       "    </tr>\n",
       "    <tr>\n",
       "      <th>1</th>\n",
       "      <td>Normal</td>\n",
       "      <td>Higher</td>\n",
       "      <td>Normal</td>\n",
       "      <td>Normal</td>\n",
       "      <td>Normal</td>\n",
       "      <td>Lower</td>\n",
       "      <td>1002</td>\n",
       "      <td>Tue</td>\n",
       "      <td>Relapsing Remitting</td>\n",
       "      <td>Between 5 to 9 Years</td>\n",
       "      <td>...</td>\n",
       "      <td>Between 30 to 60</td>\n",
       "      <td>Evening</td>\n",
       "      <td>Normal</td>\n",
       "      <td>Recorded</td>\n",
       "      <td>Normal</td>\n",
       "      <td>Recorded</td>\n",
       "      <td>Lower</td>\n",
       "      <td>Normal</td>\n",
       "      <td>Recorded</td>\n",
       "      <td>Lower</td>\n",
       "    </tr>\n",
       "    <tr>\n",
       "      <th>2</th>\n",
       "      <td>Normal</td>\n",
       "      <td>Normal</td>\n",
       "      <td>Higher</td>\n",
       "      <td>Lower</td>\n",
       "      <td>Lower</td>\n",
       "      <td>Normal</td>\n",
       "      <td>1003</td>\n",
       "      <td>Fri</td>\n",
       "      <td>Primary Progressive</td>\n",
       "      <td>Less than 5 Years</td>\n",
       "      <td>...</td>\n",
       "      <td>Between 30 to 60</td>\n",
       "      <td>Evening</td>\n",
       "      <td>Normal</td>\n",
       "      <td>Recorded</td>\n",
       "      <td>Normal</td>\n",
       "      <td>Recorded</td>\n",
       "      <td>Normal</td>\n",
       "      <td>Normal</td>\n",
       "      <td>Recorded</td>\n",
       "      <td>Normal</td>\n",
       "    </tr>\n",
       "    <tr>\n",
       "      <th>3</th>\n",
       "      <td>Not Recorded</td>\n",
       "      <td>Not Recorded</td>\n",
       "      <td>Normal</td>\n",
       "      <td>Not Recorded</td>\n",
       "      <td>Not Recorded</td>\n",
       "      <td>Higher</td>\n",
       "      <td>1004</td>\n",
       "      <td>Thu</td>\n",
       "      <td>Not Available</td>\n",
       "      <td>Between 5 to 9 Years</td>\n",
       "      <td>...</td>\n",
       "      <td>Between 30 to 60</td>\n",
       "      <td>Evening</td>\n",
       "      <td>Not Recorded</td>\n",
       "      <td>Not Recorded</td>\n",
       "      <td>Not Recorded</td>\n",
       "      <td>Not Recorded</td>\n",
       "      <td>Higher</td>\n",
       "      <td>Lower</td>\n",
       "      <td>Recorded</td>\n",
       "      <td>Higher</td>\n",
       "    </tr>\n",
       "    <tr>\n",
       "      <th>4</th>\n",
       "      <td>Normal</td>\n",
       "      <td>Normal</td>\n",
       "      <td>Normal</td>\n",
       "      <td>Lower</td>\n",
       "      <td>Normal</td>\n",
       "      <td>Normal</td>\n",
       "      <td>1005</td>\n",
       "      <td>Fri</td>\n",
       "      <td>Relapsing Remitting</td>\n",
       "      <td>More than 9 Years</td>\n",
       "      <td>...</td>\n",
       "      <td>Between 30 to 60</td>\n",
       "      <td>Evening</td>\n",
       "      <td>Higher</td>\n",
       "      <td>Recorded</td>\n",
       "      <td>Normal</td>\n",
       "      <td>Recorded</td>\n",
       "      <td>Higher</td>\n",
       "      <td>Higher</td>\n",
       "      <td>Recorded</td>\n",
       "      <td>Normal</td>\n",
       "    </tr>\n",
       "    <tr>\n",
       "      <th>...</th>\n",
       "      <td>...</td>\n",
       "      <td>...</td>\n",
       "      <td>...</td>\n",
       "      <td>...</td>\n",
       "      <td>...</td>\n",
       "      <td>...</td>\n",
       "      <td>...</td>\n",
       "      <td>...</td>\n",
       "      <td>...</td>\n",
       "      <td>...</td>\n",
       "      <td>...</td>\n",
       "      <td>...</td>\n",
       "      <td>...</td>\n",
       "      <td>...</td>\n",
       "      <td>...</td>\n",
       "      <td>...</td>\n",
       "      <td>...</td>\n",
       "      <td>...</td>\n",
       "      <td>...</td>\n",
       "      <td>...</td>\n",
       "      <td>...</td>\n",
       "    </tr>\n",
       "    <tr>\n",
       "      <th>102</th>\n",
       "      <td>Normal</td>\n",
       "      <td>Normal</td>\n",
       "      <td>Normal</td>\n",
       "      <td>Normal</td>\n",
       "      <td>Normal</td>\n",
       "      <td>Normal</td>\n",
       "      <td>1106</td>\n",
       "      <td>Tue</td>\n",
       "      <td>Relapsing Remitting</td>\n",
       "      <td>More than 9 Years</td>\n",
       "      <td>...</td>\n",
       "      <td>Between 30 to 60</td>\n",
       "      <td>Evening</td>\n",
       "      <td>Normal</td>\n",
       "      <td>Recorded</td>\n",
       "      <td>Normal</td>\n",
       "      <td>Recorded</td>\n",
       "      <td>Higher</td>\n",
       "      <td>Higher</td>\n",
       "      <td>Recorded</td>\n",
       "      <td>Normal</td>\n",
       "    </tr>\n",
       "    <tr>\n",
       "      <th>103</th>\n",
       "      <td>Normal</td>\n",
       "      <td>Higher</td>\n",
       "      <td>Normal</td>\n",
       "      <td>Higher</td>\n",
       "      <td>Normal</td>\n",
       "      <td>Higher</td>\n",
       "      <td>1107</td>\n",
       "      <td>Tue</td>\n",
       "      <td>Not Available</td>\n",
       "      <td>Less than 5 Years</td>\n",
       "      <td>...</td>\n",
       "      <td>Between 30 to 60</td>\n",
       "      <td>Evening</td>\n",
       "      <td>Higher</td>\n",
       "      <td>Recorded</td>\n",
       "      <td>Higher</td>\n",
       "      <td>Recorded</td>\n",
       "      <td>Higher</td>\n",
       "      <td>Higher</td>\n",
       "      <td>Recorded</td>\n",
       "      <td>Higher</td>\n",
       "    </tr>\n",
       "    <tr>\n",
       "      <th>104</th>\n",
       "      <td>Normal</td>\n",
       "      <td>Normal</td>\n",
       "      <td>Not Recorded</td>\n",
       "      <td>Normal</td>\n",
       "      <td>Higher</td>\n",
       "      <td>Not Recorded</td>\n",
       "      <td>1108</td>\n",
       "      <td>Mon</td>\n",
       "      <td>Secondary Progressive</td>\n",
       "      <td>More than 9 Years</td>\n",
       "      <td>...</td>\n",
       "      <td>Between 30 to 60</td>\n",
       "      <td>Evening</td>\n",
       "      <td>Normal</td>\n",
       "      <td>Recorded</td>\n",
       "      <td>Normal</td>\n",
       "      <td>Recorded</td>\n",
       "      <td>Higher</td>\n",
       "      <td>Higher</td>\n",
       "      <td>Not Recorded</td>\n",
       "      <td>Not Recorded</td>\n",
       "    </tr>\n",
       "    <tr>\n",
       "      <th>105</th>\n",
       "      <td>Higher</td>\n",
       "      <td>Higher</td>\n",
       "      <td>Not Recorded</td>\n",
       "      <td>Normal</td>\n",
       "      <td>Higher</td>\n",
       "      <td>Not Recorded</td>\n",
       "      <td>1109</td>\n",
       "      <td>Wed</td>\n",
       "      <td>Relapsing Remitting</td>\n",
       "      <td>More than 9 Years</td>\n",
       "      <td>...</td>\n",
       "      <td>Between 30 to 60</td>\n",
       "      <td>Evening</td>\n",
       "      <td>Higher</td>\n",
       "      <td>Recorded</td>\n",
       "      <td>Lower</td>\n",
       "      <td>Recorded</td>\n",
       "      <td>Normal</td>\n",
       "      <td>Higher</td>\n",
       "      <td>Not Recorded</td>\n",
       "      <td>Not Recorded</td>\n",
       "    </tr>\n",
       "    <tr>\n",
       "      <th>106</th>\n",
       "      <td>Not Recorded</td>\n",
       "      <td>Not Recorded</td>\n",
       "      <td>Not Recorded</td>\n",
       "      <td>Not Recorded</td>\n",
       "      <td>Not Recorded</td>\n",
       "      <td>Not Recorded</td>\n",
       "      <td>1110</td>\n",
       "      <td>Thu</td>\n",
       "      <td>Relapsing Remitting</td>\n",
       "      <td>More than 9 Years</td>\n",
       "      <td>...</td>\n",
       "      <td>Between 30 to 60</td>\n",
       "      <td>Evening</td>\n",
       "      <td>Not Recorded</td>\n",
       "      <td>Not Recorded</td>\n",
       "      <td>Not Recorded</td>\n",
       "      <td>Not Recorded</td>\n",
       "      <td>Higher</td>\n",
       "      <td>Lower</td>\n",
       "      <td>Not Recorded</td>\n",
       "      <td>Not Recorded</td>\n",
       "    </tr>\n",
       "  </tbody>\n",
       "</table>\n",
       "<p>107 rows × 27 columns</p>\n",
       "</div>"
      ],
      "text/plain": [
       "    Next_Pain_Pred Next_Fatigue_Pred Next_PAW_Pred Next_Pain_True  \\\n",
       "0           Normal            Higher        Normal         Normal   \n",
       "1           Normal            Higher        Normal         Normal   \n",
       "2           Normal            Normal        Higher          Lower   \n",
       "3     Not Recorded      Not Recorded        Normal   Not Recorded   \n",
       "4           Normal            Normal        Normal          Lower   \n",
       "..             ...               ...           ...            ...   \n",
       "102         Normal            Normal        Normal         Normal   \n",
       "103         Normal            Higher        Normal         Higher   \n",
       "104         Normal            Normal  Not Recorded         Normal   \n",
       "105         Higher            Higher  Not Recorded         Normal   \n",
       "106   Not Recorded      Not Recorded  Not Recorded   Not Recorded   \n",
       "\n",
       "    Next_Fatigue_True Next_PAW_True Patient_ID Seventh_Day  \\\n",
       "0              Normal        Normal       1001         Tue   \n",
       "1              Normal         Lower       1002         Tue   \n",
       "2               Lower        Normal       1003         Fri   \n",
       "3        Not Recorded        Higher       1004         Thu   \n",
       "4              Normal        Normal       1005         Fri   \n",
       "..                ...           ...        ...         ...   \n",
       "102            Normal        Normal       1106         Tue   \n",
       "103            Normal        Higher       1107         Tue   \n",
       "104            Higher  Not Recorded       1108         Mon   \n",
       "105            Higher  Not Recorded       1109         Wed   \n",
       "106      Not Recorded  Not Recorded       1110         Thu   \n",
       "\n",
       "                MS_Subtype              How_long  ...               Age  \\\n",
       "0      Relapsing Remitting     Less than 5 Years  ...  Between 30 to 60   \n",
       "1      Relapsing Remitting  Between 5 to 9 Years  ...  Between 30 to 60   \n",
       "2      Primary Progressive     Less than 5 Years  ...  Between 30 to 60   \n",
       "3            Not Available  Between 5 to 9 Years  ...  Between 30 to 60   \n",
       "4      Relapsing Remitting     More than 9 Years  ...  Between 30 to 60   \n",
       "..                     ...                   ...  ...               ...   \n",
       "102    Relapsing Remitting     More than 9 Years  ...  Between 30 to 60   \n",
       "103          Not Available     Less than 5 Years  ...  Between 30 to 60   \n",
       "104  Secondary Progressive     More than 9 Years  ...  Between 30 to 60   \n",
       "105    Relapsing Remitting     More than 9 Years  ...  Between 30 to 60   \n",
       "106    Relapsing Remitting     More than 9 Years  ...  Between 30 to 60   \n",
       "\n",
       "    Current_Daytime_Interval  Current_Pain Record_Next_Pain Current_Fatigue  \\\n",
       "0                    Evening        Normal         Recorded          Normal   \n",
       "1                    Evening        Normal         Recorded          Normal   \n",
       "2                    Evening        Normal         Recorded          Normal   \n",
       "3                    Evening  Not Recorded     Not Recorded    Not Recorded   \n",
       "4                    Evening        Higher         Recorded          Normal   \n",
       "..                       ...           ...              ...             ...   \n",
       "102                  Evening        Normal         Recorded          Normal   \n",
       "103                  Evening        Higher         Recorded          Higher   \n",
       "104                  Evening        Normal         Recorded          Normal   \n",
       "105                  Evening        Higher         Recorded           Lower   \n",
       "106                  Evening  Not Recorded     Not Recorded    Not Recorded   \n",
       "\n",
       "    Record_Next_Fatigue Last_Acbout Current_Acbout Record_Next_PAW  \\\n",
       "0              Recorded       Lower         Normal        Recorded   \n",
       "1              Recorded       Lower         Normal        Recorded   \n",
       "2              Recorded      Normal         Normal        Recorded   \n",
       "3          Not Recorded      Higher          Lower        Recorded   \n",
       "4              Recorded      Higher         Higher        Recorded   \n",
       "..                  ...         ...            ...             ...   \n",
       "102            Recorded      Higher         Higher        Recorded   \n",
       "103            Recorded      Higher         Higher        Recorded   \n",
       "104            Recorded      Higher         Higher    Not Recorded   \n",
       "105            Recorded      Normal         Higher    Not Recorded   \n",
       "106        Not Recorded      Higher          Lower    Not Recorded   \n",
       "\n",
       "         Next_PAW  \n",
       "0          Normal  \n",
       "1           Lower  \n",
       "2          Normal  \n",
       "3          Higher  \n",
       "4          Normal  \n",
       "..            ...  \n",
       "102        Normal  \n",
       "103        Higher  \n",
       "104  Not Recorded  \n",
       "105  Not Recorded  \n",
       "106  Not Recorded  \n",
       "\n",
       "[107 rows x 27 columns]"
      ]
     },
     "execution_count": 468,
     "metadata": {},
     "output_type": "execute_result"
    }
   ],
   "source": [
    "#get index to drop for PAW validation\n",
    "drop_idx = prediction_df_dummy[prediction_df_dummy[\"Next_PAW\"] == \"None\"].index\n",
    "prediction_df_dummy.drop(drop_idx, inplace = True)\n",
    "prediction_df_dummy.reset_index(drop=True)"
   ]
  },
  {
   "cell_type": "code",
   "execution_count": 292,
   "metadata": {
    "ExecuteTime": {
     "end_time": "2020-04-01T21:24:57.041085Z",
     "start_time": "2020-04-01T21:24:57.036582Z"
    }
   },
   "outputs": [],
   "source": [
    "# #validation of PAW exclude None for marginal case\n",
    "# prediction_marginal_df_dummy = prediction_df.copy()\n",
    "# prediction_marginal_df_dummy[\"Next_PAW\"] = predict_data[\"Next_PAW\"]\n",
    "# #get index to drop for PAW validation\n",
    "# drop_idx = prediction_marginal_df_dummy[prediction_marginal_df_dummy[\"Next_PAW\"] == \"None\"].index\n",
    "# prediction_marginal_df_dummy.drop(drop_idx, inplace = True)\n",
    "# prediction_marginal_df_dummy.reset_index(drop=True)"
   ]
  },
  {
   "cell_type": "code",
   "execution_count": 469,
   "metadata": {
    "ExecuteTime": {
     "end_time": "2020-04-05T02:07:34.988781Z",
     "start_time": "2020-04-05T02:07:34.982360Z"
    }
   },
   "outputs": [
    {
     "name": "stdout",
     "output_type": "stream",
     "text": [
      "['Gender', 'Age', 'Current_Daytime_Interval', 'Current_Pain', 'Record_Next_Pain', 'Current_Fatigue', 'Record_Next_Fatigue', 'Last_Acbout', 'Current_Acbout', 'Record_Next_PAW', 'Next_Pain', 'Next_Fatigue', 'Next_PAW']\n"
     ]
    }
   ],
   "source": [
    "print(list(predict_data.columns))\n"
   ]
  },
  {
   "cell_type": "code",
   "execution_count": 480,
   "metadata": {
    "ExecuteTime": {
     "end_time": "2020-04-05T02:11:29.977382Z",
     "start_time": "2020-04-05T02:11:29.946210Z"
    }
   },
   "outputs": [
    {
     "data": {
      "text/html": [
       "<div>\n",
       "<style scoped>\n",
       "    .dataframe tbody tr th:only-of-type {\n",
       "        vertical-align: middle;\n",
       "    }\n",
       "\n",
       "    .dataframe tbody tr th {\n",
       "        vertical-align: top;\n",
       "    }\n",
       "\n",
       "    .dataframe thead th {\n",
       "        text-align: right;\n",
       "    }\n",
       "</style>\n",
       "<table border=\"1\" class=\"dataframe\">\n",
       "  <thead>\n",
       "    <tr style=\"text-align: right;\">\n",
       "      <th></th>\n",
       "      <th>Gender</th>\n",
       "      <th>Age</th>\n",
       "      <th>Current_Daytime_Interval</th>\n",
       "      <th>Current_Pain</th>\n",
       "      <th>Record_Next_Pain</th>\n",
       "      <th>Current_Fatigue</th>\n",
       "      <th>Record_Next_Fatigue</th>\n",
       "      <th>Last_Acbout</th>\n",
       "      <th>Current_Acbout</th>\n",
       "      <th>Record_Next_PAW</th>\n",
       "      <th>Next_Pain</th>\n",
       "      <th>Next_Fatigue</th>\n",
       "      <th>Next_PAW</th>\n",
       "    </tr>\n",
       "  </thead>\n",
       "  <tbody>\n",
       "    <tr>\n",
       "      <th>0</th>\n",
       "      <td>Female</td>\n",
       "      <td>Between 30 to 60</td>\n",
       "      <td>Wake</td>\n",
       "      <td>Not Recorded</td>\n",
       "      <td>Not Recorded</td>\n",
       "      <td>Not Recorded</td>\n",
       "      <td>Not Recorded</td>\n",
       "      <td>Lower</td>\n",
       "      <td>Lower</td>\n",
       "      <td>None</td>\n",
       "      <td>Not Recorded</td>\n",
       "      <td>Not Recorded</td>\n",
       "      <td>None</td>\n",
       "    </tr>\n",
       "    <tr>\n",
       "      <th>1</th>\n",
       "      <td>Female</td>\n",
       "      <td>Between 30 to 60</td>\n",
       "      <td>Morning</td>\n",
       "      <td>Not Recorded</td>\n",
       "      <td>Recorded</td>\n",
       "      <td>Not Recorded</td>\n",
       "      <td>Recorded</td>\n",
       "      <td>Lower</td>\n",
       "      <td>Lower</td>\n",
       "      <td>None</td>\n",
       "      <td>Higher</td>\n",
       "      <td>Normal</td>\n",
       "      <td>None</td>\n",
       "    </tr>\n",
       "    <tr>\n",
       "      <th>2</th>\n",
       "      <td>Female</td>\n",
       "      <td>Between 30 to 60</td>\n",
       "      <td>Afternoon</td>\n",
       "      <td>Higher</td>\n",
       "      <td>Recorded</td>\n",
       "      <td>Normal</td>\n",
       "      <td>Recorded</td>\n",
       "      <td>Lower</td>\n",
       "      <td>Lower</td>\n",
       "      <td>None</td>\n",
       "      <td>Normal</td>\n",
       "      <td>Normal</td>\n",
       "      <td>None</td>\n",
       "    </tr>\n",
       "    <tr>\n",
       "      <th>3</th>\n",
       "      <td>Female</td>\n",
       "      <td>Between 30 to 60</td>\n",
       "      <td>Evening</td>\n",
       "      <td>Normal</td>\n",
       "      <td>Recorded</td>\n",
       "      <td>Normal</td>\n",
       "      <td>Recorded</td>\n",
       "      <td>Lower</td>\n",
       "      <td>Normal</td>\n",
       "      <td>Recorded</td>\n",
       "      <td>Normal</td>\n",
       "      <td>Normal</td>\n",
       "      <td>Normal</td>\n",
       "    </tr>\n",
       "    <tr>\n",
       "      <th>4</th>\n",
       "      <td>Female</td>\n",
       "      <td>Between 30 to 60</td>\n",
       "      <td>Wake</td>\n",
       "      <td>Normal</td>\n",
       "      <td>Recorded</td>\n",
       "      <td>Normal</td>\n",
       "      <td>Recorded</td>\n",
       "      <td>Lower</td>\n",
       "      <td>Normal</td>\n",
       "      <td>None</td>\n",
       "      <td>Normal</td>\n",
       "      <td>Normal</td>\n",
       "      <td>None</td>\n",
       "    </tr>\n",
       "    <tr>\n",
       "      <th>...</th>\n",
       "      <td>...</td>\n",
       "      <td>...</td>\n",
       "      <td>...</td>\n",
       "      <td>...</td>\n",
       "      <td>...</td>\n",
       "      <td>...</td>\n",
       "      <td>...</td>\n",
       "      <td>...</td>\n",
       "      <td>...</td>\n",
       "      <td>...</td>\n",
       "      <td>...</td>\n",
       "      <td>...</td>\n",
       "      <td>...</td>\n",
       "    </tr>\n",
       "    <tr>\n",
       "      <th>423</th>\n",
       "      <td>Female</td>\n",
       "      <td>Between 30 to 60</td>\n",
       "      <td>Evening</td>\n",
       "      <td>Higher</td>\n",
       "      <td>Recorded</td>\n",
       "      <td>Lower</td>\n",
       "      <td>Recorded</td>\n",
       "      <td>Normal</td>\n",
       "      <td>Higher</td>\n",
       "      <td>Not Recorded</td>\n",
       "      <td>Normal</td>\n",
       "      <td>Higher</td>\n",
       "      <td>Not Recorded</td>\n",
       "    </tr>\n",
       "    <tr>\n",
       "      <th>424</th>\n",
       "      <td>Female</td>\n",
       "      <td>Between 30 to 60</td>\n",
       "      <td>Wake</td>\n",
       "      <td>Not Recorded</td>\n",
       "      <td>Recorded</td>\n",
       "      <td>Not Recorded</td>\n",
       "      <td>Recorded</td>\n",
       "      <td>Higher</td>\n",
       "      <td>Lower</td>\n",
       "      <td>None</td>\n",
       "      <td>Lower</td>\n",
       "      <td>Higher</td>\n",
       "      <td>None</td>\n",
       "    </tr>\n",
       "    <tr>\n",
       "      <th>425</th>\n",
       "      <td>Female</td>\n",
       "      <td>Between 30 to 60</td>\n",
       "      <td>Morning</td>\n",
       "      <td>Lower</td>\n",
       "      <td>Recorded</td>\n",
       "      <td>Higher</td>\n",
       "      <td>Recorded</td>\n",
       "      <td>Lower</td>\n",
       "      <td>Lower</td>\n",
       "      <td>None</td>\n",
       "      <td>Higher</td>\n",
       "      <td>Normal</td>\n",
       "      <td>None</td>\n",
       "    </tr>\n",
       "    <tr>\n",
       "      <th>426</th>\n",
       "      <td>Female</td>\n",
       "      <td>Between 30 to 60</td>\n",
       "      <td>Afternoon</td>\n",
       "      <td>Higher</td>\n",
       "      <td>Not Recorded</td>\n",
       "      <td>Normal</td>\n",
       "      <td>Not Recorded</td>\n",
       "      <td>Lower</td>\n",
       "      <td>Higher</td>\n",
       "      <td>None</td>\n",
       "      <td>Not Recorded</td>\n",
       "      <td>Not Recorded</td>\n",
       "      <td>None</td>\n",
       "    </tr>\n",
       "    <tr>\n",
       "      <th>427</th>\n",
       "      <td>Female</td>\n",
       "      <td>Between 30 to 60</td>\n",
       "      <td>Evening</td>\n",
       "      <td>Not Recorded</td>\n",
       "      <td>Not Recorded</td>\n",
       "      <td>Not Recorded</td>\n",
       "      <td>Not Recorded</td>\n",
       "      <td>Higher</td>\n",
       "      <td>Lower</td>\n",
       "      <td>Not Recorded</td>\n",
       "      <td>Not Recorded</td>\n",
       "      <td>Not Recorded</td>\n",
       "      <td>Not Recorded</td>\n",
       "    </tr>\n",
       "  </tbody>\n",
       "</table>\n",
       "<p>428 rows × 13 columns</p>\n",
       "</div>"
      ],
      "text/plain": [
       "     Gender               Age Current_Daytime_Interval  Current_Pain  \\\n",
       "0    Female  Between 30 to 60                     Wake  Not Recorded   \n",
       "1    Female  Between 30 to 60                  Morning  Not Recorded   \n",
       "2    Female  Between 30 to 60                Afternoon        Higher   \n",
       "3    Female  Between 30 to 60                  Evening        Normal   \n",
       "4    Female  Between 30 to 60                     Wake        Normal   \n",
       "..      ...               ...                      ...           ...   \n",
       "423  Female  Between 30 to 60                  Evening        Higher   \n",
       "424  Female  Between 30 to 60                     Wake  Not Recorded   \n",
       "425  Female  Between 30 to 60                  Morning         Lower   \n",
       "426  Female  Between 30 to 60                Afternoon        Higher   \n",
       "427  Female  Between 30 to 60                  Evening  Not Recorded   \n",
       "\n",
       "    Record_Next_Pain Current_Fatigue Record_Next_Fatigue Last_Acbout  \\\n",
       "0       Not Recorded    Not Recorded        Not Recorded       Lower   \n",
       "1           Recorded    Not Recorded            Recorded       Lower   \n",
       "2           Recorded          Normal            Recorded       Lower   \n",
       "3           Recorded          Normal            Recorded       Lower   \n",
       "4           Recorded          Normal            Recorded       Lower   \n",
       "..               ...             ...                 ...         ...   \n",
       "423         Recorded           Lower            Recorded      Normal   \n",
       "424         Recorded    Not Recorded            Recorded      Higher   \n",
       "425         Recorded          Higher            Recorded       Lower   \n",
       "426     Not Recorded          Normal        Not Recorded       Lower   \n",
       "427     Not Recorded    Not Recorded        Not Recorded      Higher   \n",
       "\n",
       "    Current_Acbout Record_Next_PAW     Next_Pain  Next_Fatigue      Next_PAW  \n",
       "0            Lower            None  Not Recorded  Not Recorded          None  \n",
       "1            Lower            None        Higher        Normal          None  \n",
       "2            Lower            None        Normal        Normal          None  \n",
       "3           Normal        Recorded        Normal        Normal        Normal  \n",
       "4           Normal            None        Normal        Normal          None  \n",
       "..             ...             ...           ...           ...           ...  \n",
       "423         Higher    Not Recorded        Normal        Higher  Not Recorded  \n",
       "424          Lower            None         Lower        Higher          None  \n",
       "425          Lower            None        Higher        Normal          None  \n",
       "426         Higher            None  Not Recorded  Not Recorded          None  \n",
       "427          Lower    Not Recorded  Not Recorded  Not Recorded  Not Recorded  \n",
       "\n",
       "[428 rows x 13 columns]"
      ]
     },
     "execution_count": 480,
     "metadata": {},
     "output_type": "execute_result"
    }
   ],
   "source": [
    "#true value\n",
    "predict_data"
   ]
  },
  {
   "cell_type": "code",
   "execution_count": 471,
   "metadata": {
    "ExecuteTime": {
     "end_time": "2020-04-05T02:07:42.315826Z",
     "start_time": "2020-04-05T02:07:42.292707Z"
    }
   },
   "outputs": [],
   "source": [
    "def analysis_person(person, pred_df, pred_df_dummy):\n",
    "    data = pred_df[pred_df.Patient_ID == person]\n",
    "    data_paw = pred_df_dummy[pred_df.Patient_ID == person]\n",
    "    # Pain\n",
    "    title = person+\"-Pain\"\n",
    "    label_list = [\"Normal\", \"Lower\", \"Higher\", \"Not Recorded\"]\n",
    "    cm = confusion_matrix(data[\"Next_Pain_True\"], data[\"Next_Pain_Pred\"], labels = label_list)\n",
    "    conf_mat(cm, title, label_list, sns.color_palette(\"Blues\"))\n",
    "    \n",
    "    # Fatigue\n",
    "    title = person+\"-Fatigue\"\n",
    "    label_list = [\"Normal\", \"Lower\", \"Higher\", \"Not Recorded\"]\n",
    "    cm = confusion_matrix(data[\"Next_Fatigue_True\"], data[\"Next_Fatigue_Pred\"], labels = label_list)\n",
    "    conf_mat(cm, title, label_list, sns.light_palette(\"navy\", reverse=True))\n",
    "    \n",
    "    # PAW\n",
    "    title = person+\"-PAW\"\n",
    "    label_list = [\"Normal\", \"Lower\", \"Higher\", \"Not Recorded\"]\n",
    "    cm = confusion_matrix(data_paw[\"Next_PAW_True\"], data_paw[\"Next_PAW_Pred\"], labels = label_list)\n",
    "    conf_mat(cm, title, label_list, sns.cubehelix_palette(8))\n",
    "    \n",
    "    return None\n",
    "def conf_mat(cm, title, label_list, color):\n",
    "    plt.ioff()\n",
    "    fig, ax = plt.subplots()\n",
    "    ax= plt.subplot()\n",
    "    sns.heatmap(cm.T, annot=True, ax = ax, cmap = color); #annot=True to annotate cells\n",
    "\n",
    "    # labels, title and ticks\n",
    "    ax.set_xlabel('True labels');ax.set_ylabel('Pred labels'); \n",
    "    ax.set_title(title); \n",
    "    ax.xaxis.set_ticklabels(label_list); ax.yaxis.set_ticklabels(label_list);\n",
    "    plt.savefig(\"saved_figures/\"+title+'.png')\n",
    "    #plt.show()\n",
    "def pre_recall(person, pred_df, pred_df_dummy):\n",
    "    avg_type = 'macro'\n",
    "    data = pred_df[pred_df.Patient_ID == person]\n",
    "    data_paw = pred_df_dummy[pred_df.Patient_ID == person]\n",
    "    precision_Pain = precision_score(data[\"Next_Pain_True\"], data[\"Next_Pain_Pred\"], average = avg_type)\n",
    "    print(\"Precision_Pain_joint\", precision_Pain)\n",
    "    precision_Fatigue = precision_score(data[\"Next_Fatigue_True\"], data[\"Next_Fatigue_Pred\"], average = avg_type)\n",
    "    print(\"Precision_Fatigue_joint\", precision_Fatigue)\n",
    "    precision_PAW = precision_score(data_paw[\"Next_PAW_True\"], data_paw[\"Next_PAW_Pred\"], average = avg_type)\n",
    "    print(\"Precision_PAW_joint\", precision_Fatigue)\n",
    "    recall_Pain = recall_score(data[\"Next_Pain_True\"], data[\"Next_Pain_Pred\"], average = avg_type)\n",
    "    print(\"recall_Pain_joint\", recall_Pain)\n",
    "    recall_Fatigue = recall_score(data[\"Next_Fatigue_True\"], data[\"Next_Fatigue_Pred\"], average = avg_type)\n",
    "    print(\"recall_Fatigue_joint\", recall_Fatigue)\n",
    "    recall_PAW = recall_score(data_paw[\"Next_PAW_True\"], data_paw[\"Next_PAW_Pred\"], average = avg_type)\n",
    "    print(\"recall_PAW_joint\", recall_Fatigue)\n",
    "    return precision_Pain, precision_Fatigue, precision_PAW, recall_Pain, recall_Fatigue, recall_PAW\n",
    "    "
   ]
  },
  {
   "cell_type": "code",
   "execution_count": 472,
   "metadata": {
    "ExecuteTime": {
     "end_time": "2020-04-05T02:07:43.514509Z",
     "start_time": "2020-04-05T02:07:43.509723Z"
    }
   },
   "outputs": [],
   "source": [
    "import warnings\n",
    "warnings.filterwarnings(\"ignore\")"
   ]
  },
  {
   "cell_type": "code",
   "execution_count": 473,
   "metadata": {
    "ExecuteTime": {
     "end_time": "2020-04-05T02:07:45.518256Z",
     "start_time": "2020-04-05T02:07:45.510569Z"
    }
   },
   "outputs": [],
   "source": [
    "Person_list = []   #total 20 patients , missing patient_id: 1017, 1021; last patient id:1008\n",
    "for i in range(1001, 1111, 1): #original 1111\n",
    "    if(i== 1017 or i == 1021 or i == 1051):\n",
    "        pass\n",
    "    else:\n",
    "        Person_list.append(str(i))"
   ]
  },
  {
   "cell_type": "code",
   "execution_count": 474,
   "metadata": {
    "ExecuteTime": {
     "end_time": "2020-04-05T02:07:47.452131Z",
     "start_time": "2020-04-05T02:07:47.447975Z"
    }
   },
   "outputs": [],
   "source": [
    "#Person_list = [\"1013\", \"1014\"]"
   ]
  },
  {
   "cell_type": "code",
   "execution_count": 475,
   "metadata": {
    "ExecuteTime": {
     "end_time": "2020-04-05T02:08:49.285023Z",
     "start_time": "2020-04-05T02:08:03.603243Z"
    },
    "scrolled": false
   },
   "outputs": [
    {
     "name": "stdout",
     "output_type": "stream",
     "text": [
      "Finished\n"
     ]
    }
   ],
   "source": [
    "%matplotlib notebook\n",
    "for person in Person_list:\n",
    "    analysis_person(person, prediction_df, prediction_df_dummy)\n",
    "print(\"Finished\")"
   ]
  },
  {
   "cell_type": "code",
   "execution_count": 476,
   "metadata": {
    "ExecuteTime": {
     "end_time": "2020-04-05T02:08:49.733304Z",
     "start_time": "2020-04-05T02:08:49.287552Z"
    }
   },
   "outputs": [],
   "source": [
    "#overall confusion matrix\n",
    "# Pain\n",
    "title = \"Overall-Pain\"\n",
    "label_list = [\"Normal\", \"Lower\", \"Higher\", \"Not Recorded\"]\n",
    "cm = confusion_matrix(prediction_df[\"Next_Pain_True\"], prediction_df[\"Next_Pain_Pred\"], labels = label_list)\n",
    "conf_mat(cm, title, label_list, sns.color_palette(\"Blues\"))\n",
    "\n",
    "# Fatigue\n",
    "title = \"Overall-Fatigue\"\n",
    "label_list = [\"Normal\", \"Lower\", \"Higher\", \"Not Recorded\"]\n",
    "cm = confusion_matrix(prediction_df[\"Next_Fatigue_True\"], prediction_df[\"Next_Fatigue_Pred\"], labels = label_list)\n",
    "conf_mat(cm, title, label_list, sns.light_palette(\"navy\", reverse=True))\n",
    "\n",
    "# PAW\n",
    "title = \"Overall-PAW\"\n",
    "label_list = [\"Normal\", \"Lower\", \"Higher\", \"Not Recorded\"]\n",
    "cm = confusion_matrix(prediction_df_dummy[\"Next_PAW_True\"], prediction_df_dummy[\"Next_PAW_Pred\"], labels = label_list)\n",
    "conf_mat(cm, title, label_list, sns.cubehelix_palette(8))"
   ]
  },
  {
   "cell_type": "markdown",
   "metadata": {},
   "source": [
    "### personwise precision-recall"
   ]
  },
  {
   "cell_type": "code",
   "execution_count": 477,
   "metadata": {
    "ExecuteTime": {
     "end_time": "2020-04-05T02:08:54.699010Z",
     "start_time": "2020-04-05T02:08:54.683953Z"
    }
   },
   "outputs": [],
   "source": [
    "prediction_personwise_df = pd.DataFrame(columns = [\"Patient_ID\", \"Precision_Pain\", \"Precision_Fatigue\", \"Precision_PAW\", \"Recall_Pain\", \"Recall_Fatigue\", \"Recall_PAW\"])"
   ]
  },
  {
   "cell_type": "code",
   "execution_count": 478,
   "metadata": {
    "ExecuteTime": {
     "end_time": "2020-04-05T02:09:00.708228Z",
     "start_time": "2020-04-05T02:08:58.586654Z"
    }
   },
   "outputs": [
    {
     "name": "stdout",
     "output_type": "stream",
     "text": [
      "0\n",
      "Precision_Pain_joint 0.5555555555555555\n",
      "Precision_Fatigue_joint 0.6666666666666666\n",
      "Precision_PAW_joint 0.6666666666666666\n",
      "recall_Pain_joint 0.6666666666666666\n",
      "recall_Fatigue_joint 0.5555555555555555\n",
      "recall_PAW_joint 0.5555555555555555\n",
      "['1001', 0.5555555555555555, 0.6666666666666666, 1.0, 0.6666666666666666, 0.5555555555555555, 1.0]\n",
      "1\n",
      "Precision_Pain_joint 1.0\n",
      "Precision_Fatigue_joint 0.5\n",
      "Precision_PAW_joint 0.5\n",
      "recall_Pain_joint 1.0\n",
      "recall_Fatigue_joint 0.375\n",
      "recall_PAW_joint 0.375\n",
      "['1002', 1.0, 0.5, 0.0, 1.0, 0.375, 0.0]\n",
      "2\n",
      "Precision_Pain_joint 0.375\n",
      "Precision_Fatigue_joint 0.2222222222222222\n",
      "Precision_PAW_joint 0.2222222222222222\n",
      "recall_Pain_joint 0.5\n",
      "recall_Fatigue_joint 0.2222222222222222\n",
      "recall_PAW_joint 0.2222222222222222\n",
      "['1003', 0.375, 0.2222222222222222, 0.0, 0.5, 0.2222222222222222, 0.0]\n",
      "3\n",
      "Precision_Pain_joint 1.0\n",
      "Precision_Fatigue_joint 1.0\n",
      "Precision_PAW_joint 1.0\n",
      "recall_Pain_joint 1.0\n",
      "recall_Fatigue_joint 1.0\n",
      "recall_PAW_joint 1.0\n",
      "['1004', 1.0, 1.0, 0.0, 1.0, 1.0, 0.0]\n",
      "4\n",
      "Precision_Pain_joint 0.16666666666666666\n",
      "Precision_Fatigue_joint 0.375\n",
      "Precision_PAW_joint 0.375\n",
      "recall_Pain_joint 0.3333333333333333\n",
      "recall_Fatigue_joint 0.5\n",
      "recall_PAW_joint 0.5\n",
      "['1005', 0.16666666666666666, 0.375, 1.0, 0.3333333333333333, 0.5, 1.0]\n",
      "5\n",
      "Precision_Pain_joint 0.08333333333333333\n",
      "Precision_Fatigue_joint 0.1111111111111111\n",
      "Precision_PAW_joint 0.1111111111111111\n",
      "recall_Pain_joint 0.3333333333333333\n",
      "recall_Fatigue_joint 0.16666666666666666\n",
      "recall_PAW_joint 0.16666666666666666\n",
      "['1006', 0.08333333333333333, 0.1111111111111111, 1.0, 0.3333333333333333, 0.16666666666666666, 1.0]\n",
      "6\n",
      "Precision_Pain_joint 1.0\n",
      "Precision_Fatigue_joint 1.0\n",
      "Precision_PAW_joint 1.0\n",
      "recall_Pain_joint 1.0\n",
      "recall_Fatigue_joint 1.0\n",
      "recall_PAW_joint 1.0\n",
      "['1007', 1.0, 1.0, 1.0, 1.0, 1.0, 1.0]\n",
      "7\n",
      "Precision_Pain_joint 0.0\n",
      "Precision_Fatigue_joint 0.1111111111111111\n",
      "Precision_PAW_joint 0.1111111111111111\n",
      "recall_Pain_joint 0.0\n",
      "recall_Fatigue_joint 0.16666666666666666\n",
      "recall_PAW_joint 0.16666666666666666\n",
      "['1008', 0.0, 0.1111111111111111, 1.0, 0.0, 0.16666666666666666, 1.0]\n",
      "8\n",
      "Precision_Pain_joint 1.0\n",
      "Precision_Fatigue_joint 0.3333333333333333\n",
      "Precision_PAW_joint 0.3333333333333333\n",
      "recall_Pain_joint 1.0\n",
      "recall_Fatigue_joint 0.3333333333333333\n",
      "recall_PAW_joint 0.3333333333333333\n",
      "['1009', 1.0, 0.3333333333333333, 1.0, 1.0, 0.3333333333333333, 1.0]\n",
      "9\n",
      "Precision_Pain_joint 1.0\n",
      "Precision_Fatigue_joint 1.0\n",
      "Precision_PAW_joint 1.0\n",
      "recall_Pain_joint 1.0\n",
      "recall_Fatigue_joint 1.0\n",
      "recall_PAW_joint 1.0\n",
      "['1010', 1.0, 1.0, 0.0, 1.0, 1.0, 0.0]\n",
      "10\n",
      "Precision_Pain_joint 0.25\n",
      "Precision_Fatigue_joint 0.375\n",
      "Precision_PAW_joint 0.375\n",
      "recall_Pain_joint 0.5\n",
      "recall_Fatigue_joint 0.5\n",
      "recall_PAW_joint 0.5\n",
      "['1011', 0.25, 0.375, 1.0, 0.5, 0.5, 1.0]\n",
      "11\n",
      "Precision_Pain_joint 0.16666666666666666\n",
      "Precision_Fatigue_joint 0.4444444444444444\n",
      "Precision_PAW_joint 0.4444444444444444\n",
      "recall_Pain_joint 0.3333333333333333\n",
      "recall_Fatigue_joint 0.6666666666666666\n",
      "recall_PAW_joint 0.6666666666666666\n",
      "['1012', 0.16666666666666666, 0.4444444444444444, 1.0, 0.3333333333333333, 0.6666666666666666, 1.0]\n",
      "12\n",
      "Precision_Pain_joint 0.3333333333333333\n",
      "Precision_Fatigue_joint 1.0\n",
      "Precision_PAW_joint 1.0\n",
      "recall_Pain_joint 0.3333333333333333\n",
      "recall_Fatigue_joint 1.0\n",
      "recall_PAW_joint 1.0\n",
      "['1013', 0.3333333333333333, 1.0, 1.0, 0.3333333333333333, 1.0, 1.0]\n",
      "13\n",
      "Precision_Pain_joint 0.5555555555555555\n",
      "Precision_Fatigue_joint 0.25\n",
      "Precision_PAW_joint 0.25\n",
      "recall_Pain_joint 0.6666666666666666\n",
      "recall_Fatigue_joint 0.25\n",
      "recall_PAW_joint 0.25\n",
      "['1014', 0.5555555555555555, 0.25, 0.0, 0.6666666666666666, 0.25, 0.0]\n",
      "14\n",
      "Precision_Pain_joint 0.6666666666666666\n",
      "Precision_Fatigue_joint 0.625\n",
      "Precision_PAW_joint 0.625\n",
      "recall_Pain_joint 0.5555555555555555\n",
      "recall_Fatigue_joint 0.75\n",
      "recall_PAW_joint 0.75\n",
      "['1015', 0.6666666666666666, 0.625, 0.0, 0.5555555555555555, 0.75, 0.0]\n",
      "15\n",
      "Precision_Pain_joint 0.8333333333333333\n",
      "Precision_Fatigue_joint 0.3333333333333333\n",
      "Precision_PAW_joint 0.3333333333333333\n",
      "recall_Pain_joint 0.75\n",
      "recall_Fatigue_joint 0.16666666666666666\n",
      "recall_PAW_joint 0.16666666666666666\n",
      "['1016', 0.8333333333333333, 0.3333333333333333, 0.0, 0.75, 0.16666666666666666, 0.0]\n",
      "16\n",
      "Precision_Pain_joint 0.25\n",
      "Precision_Fatigue_joint 1.0\n",
      "Precision_PAW_joint 1.0\n",
      "recall_Pain_joint 0.25\n",
      "recall_Fatigue_joint 1.0\n",
      "recall_PAW_joint 1.0\n",
      "['1018', 0.25, 1.0, 1.0, 0.25, 1.0, 1.0]\n",
      "17\n",
      "Precision_Pain_joint 1.0\n",
      "Precision_Fatigue_joint 1.0\n",
      "Precision_PAW_joint 1.0\n",
      "recall_Pain_joint 1.0\n",
      "recall_Fatigue_joint 1.0\n",
      "recall_PAW_joint 1.0\n",
      "['1019', 1.0, 1.0, 1.0, 1.0, 1.0, 1.0]\n",
      "18\n",
      "Precision_Pain_joint 0.375\n",
      "Precision_Fatigue_joint 0.375\n",
      "Precision_PAW_joint 0.375\n",
      "recall_Pain_joint 0.5\n",
      "recall_Fatigue_joint 0.5\n",
      "recall_PAW_joint 0.5\n",
      "['1020', 0.375, 0.375, 1.0, 0.5, 0.5, 1.0]\n",
      "19\n",
      "Precision_Pain_joint 0.25\n",
      "Precision_Fatigue_joint 0.2222222222222222\n",
      "Precision_PAW_joint 0.2222222222222222\n",
      "recall_Pain_joint 0.5\n",
      "recall_Fatigue_joint 0.2222222222222222\n",
      "recall_PAW_joint 0.2222222222222222\n",
      "['1022', 0.25, 0.2222222222222222, 0.0, 0.5, 0.2222222222222222, 0.0]\n",
      "20\n",
      "Precision_Pain_joint 1.0\n",
      "Precision_Fatigue_joint 0.5555555555555555\n",
      "Precision_PAW_joint 0.5555555555555555\n",
      "recall_Pain_joint 1.0\n",
      "recall_Fatigue_joint 0.6666666666666666\n",
      "recall_PAW_joint 0.6666666666666666\n",
      "['1023', 1.0, 0.5555555555555555, 0.0, 1.0, 0.6666666666666666, 0.0]\n",
      "21\n",
      "Precision_Pain_joint 0.6666666666666666\n",
      "Precision_Fatigue_joint 0.375\n",
      "Precision_PAW_joint 0.375\n",
      "recall_Pain_joint 0.6666666666666666\n",
      "recall_Fatigue_joint 0.5\n",
      "recall_PAW_joint 0.5\n",
      "['1024', 0.6666666666666666, 0.375, 1.0, 0.6666666666666666, 0.5, 1.0]\n",
      "22\n",
      "Precision_Pain_joint 1.0\n",
      "Precision_Fatigue_joint 0.3333333333333333\n",
      "Precision_PAW_joint 0.3333333333333333\n",
      "recall_Pain_joint 1.0\n",
      "recall_Fatigue_joint 0.3333333333333333\n",
      "recall_PAW_joint 0.3333333333333333\n",
      "['1025', 1.0, 0.3333333333333333, 1.0, 1.0, 0.3333333333333333, 1.0]\n",
      "23\n",
      "Precision_Pain_joint 0.375\n",
      "Precision_Fatigue_joint 0.6666666666666666\n",
      "Precision_PAW_joint 0.6666666666666666\n",
      "recall_Pain_joint 0.5\n",
      "recall_Fatigue_joint 0.6666666666666666\n",
      "recall_PAW_joint 0.6666666666666666\n",
      "['1026', 0.375, 0.6666666666666666, 1.0, 0.5, 0.6666666666666666, 1.0]\n",
      "24\n",
      "Precision_Pain_joint 1.0\n",
      "Precision_Fatigue_joint 0.3333333333333333\n",
      "Precision_PAW_joint 0.3333333333333333\n",
      "recall_Pain_joint 1.0\n",
      "recall_Fatigue_joint 0.3333333333333333\n",
      "recall_PAW_joint 0.3333333333333333\n",
      "['1027', 1.0, 0.3333333333333333, 0.0, 1.0, 0.3333333333333333, 0.0]\n",
      "25\n",
      "Precision_Pain_joint 0.375\n",
      "Precision_Fatigue_joint 0.5\n",
      "Precision_PAW_joint 0.5\n",
      "recall_Pain_joint 0.375\n",
      "recall_Fatigue_joint 0.375\n",
      "recall_PAW_joint 0.375\n",
      "['1028', 0.375, 0.5, 1.0, 0.375, 0.375, 1.0]\n",
      "26\n",
      "Precision_Pain_joint 1.0\n",
      "Precision_Fatigue_joint 1.0\n",
      "Precision_PAW_joint 1.0\n",
      "recall_Pain_joint 1.0\n",
      "recall_Fatigue_joint 1.0\n",
      "recall_PAW_joint 1.0\n",
      "['1029', 1.0, 1.0, 0.0, 1.0, 1.0, 0.0]\n",
      "27\n",
      "Precision_Pain_joint 1.0\n",
      "Precision_Fatigue_joint 0.3333333333333333\n",
      "Precision_PAW_joint 0.3333333333333333\n",
      "recall_Pain_joint 1.0\n",
      "recall_Fatigue_joint 0.3333333333333333\n",
      "recall_PAW_joint 0.3333333333333333\n",
      "['1030', 1.0, 0.3333333333333333, 1.0, 1.0, 0.3333333333333333, 1.0]\n",
      "28\n",
      "Precision_Pain_joint 1.0\n",
      "Precision_Fatigue_joint 0.0\n",
      "Precision_PAW_joint 0.0\n",
      "recall_Pain_joint 1.0\n",
      "recall_Fatigue_joint 0.0\n",
      "recall_PAW_joint 0.0\n",
      "['1031', 1.0, 0.0, 1.0, 1.0, 0.0, 1.0]\n",
      "29\n",
      "Precision_Pain_joint 0.5\n",
      "Precision_Fatigue_joint 0.5\n",
      "Precision_PAW_joint 0.5\n",
      "recall_Pain_joint 0.5\n",
      "recall_Fatigue_joint 0.5\n",
      "recall_PAW_joint 0.5\n",
      "['1032', 0.5, 0.5, 1.0, 0.5, 0.5, 1.0]\n",
      "30\n",
      "Precision_Pain_joint 1.0\n",
      "Precision_Fatigue_joint 0.5\n",
      "Precision_PAW_joint 0.5\n",
      "recall_Pain_joint 1.0\n",
      "recall_Fatigue_joint 0.375\n",
      "recall_PAW_joint 0.375\n",
      "['1033', 1.0, 0.5, 0.0, 1.0, 0.375, 0.0]\n",
      "31\n",
      "Precision_Pain_joint 0.5\n",
      "Precision_Fatigue_joint 0.0\n",
      "Precision_PAW_joint 0.0\n",
      "recall_Pain_joint 0.25\n",
      "recall_Fatigue_joint 0.0\n",
      "recall_PAW_joint 0.0\n",
      "['1034', 0.5, 0.0, 1.0, 0.25, 0.0, 1.0]\n",
      "32\n",
      "Precision_Pain_joint 1.0\n",
      "Precision_Fatigue_joint 0.2222222222222222\n",
      "Precision_PAW_joint 0.2222222222222222\n",
      "recall_Pain_joint 1.0\n",
      "recall_Fatigue_joint 0.2222222222222222\n",
      "recall_PAW_joint 0.2222222222222222\n",
      "['1035', 1.0, 0.2222222222222222, 0.0, 1.0, 0.2222222222222222, 0.0]\n",
      "33\n",
      "Precision_Pain_joint 0.3333333333333333\n",
      "Precision_Fatigue_joint 0.1111111111111111\n",
      "Precision_PAW_joint 0.1111111111111111\n",
      "recall_Pain_joint 0.3333333333333333\n",
      "recall_Fatigue_joint 0.16666666666666666\n",
      "recall_PAW_joint 0.16666666666666666\n",
      "['1036', 0.3333333333333333, 0.1111111111111111, 0.0, 0.3333333333333333, 0.16666666666666666, 0.0]\n",
      "34\n",
      "Precision_Pain_joint 0.8333333333333333\n",
      "Precision_Fatigue_joint 1.0\n",
      "Precision_PAW_joint 1.0\n",
      "recall_Pain_joint 0.75\n",
      "recall_Fatigue_joint 1.0\n",
      "recall_PAW_joint 1.0\n",
      "['1037', 0.8333333333333333, 1.0, 1.0, 0.75, 1.0, 1.0]\n",
      "35\n",
      "Precision_Pain_joint 0.4444444444444444\n",
      "Precision_Fatigue_joint 0.6666666666666666\n",
      "Precision_PAW_joint 0.6666666666666666\n",
      "recall_Pain_joint 0.6666666666666666\n",
      "recall_Fatigue_joint 0.5555555555555555\n",
      "recall_PAW_joint 0.5555555555555555\n",
      "['1038', 0.4444444444444444, 0.6666666666666666, 1.0, 0.6666666666666666, 0.5555555555555555, 1.0]\n",
      "36\n",
      "Precision_Pain_joint 0.3333333333333333\n",
      "Precision_Fatigue_joint 1.0\n",
      "Precision_PAW_joint 1.0\n",
      "recall_Pain_joint 0.5\n",
      "recall_Fatigue_joint 1.0\n",
      "recall_PAW_joint 1.0\n",
      "['1039', 0.3333333333333333, 1.0, 1.0, 0.5, 1.0, 1.0]\n",
      "37\n",
      "Precision_Pain_joint 1.0\n",
      "Precision_Fatigue_joint 0.3333333333333333\n",
      "Precision_PAW_joint 0.3333333333333333\n",
      "recall_Pain_joint 1.0\n",
      "recall_Fatigue_joint 0.3333333333333333\n",
      "recall_PAW_joint 0.3333333333333333\n",
      "['1040', 1.0, 0.3333333333333333, 0.0, 1.0, 0.3333333333333333, 0.0]\n",
      "38\n",
      "Precision_Pain_joint 1.0\n",
      "Precision_Fatigue_joint 1.0\n",
      "Precision_PAW_joint 1.0\n",
      "recall_Pain_joint 1.0\n",
      "recall_Fatigue_joint 1.0\n",
      "recall_PAW_joint 1.0\n",
      "['1041', 1.0, 1.0, 1.0, 1.0, 1.0, 1.0]\n",
      "39\n",
      "Precision_Pain_joint 0.8333333333333334\n",
      "Precision_Fatigue_joint 0.5555555555555555\n",
      "Precision_PAW_joint 0.5555555555555555\n",
      "recall_Pain_joint 0.8333333333333334\n",
      "recall_Fatigue_joint 0.6666666666666666\n",
      "recall_PAW_joint 0.6666666666666666\n",
      "['1042', 0.8333333333333334, 0.5555555555555555, 1.0, 0.8333333333333334, 0.6666666666666666, 1.0]\n",
      "40\n",
      "Precision_Pain_joint 0.375\n",
      "Precision_Fatigue_joint 0.0\n",
      "Precision_PAW_joint 0.0\n",
      "recall_Pain_joint 0.5\n",
      "recall_Fatigue_joint 0.0\n",
      "recall_PAW_joint 0.0\n",
      "['1043', 0.375, 0.0, 0.0, 0.5, 0.0, 0.0]\n",
      "41\n",
      "Precision_Pain_joint 1.0\n",
      "Precision_Fatigue_joint 1.0\n",
      "Precision_PAW_joint 1.0\n",
      "recall_Pain_joint 1.0\n",
      "recall_Fatigue_joint 1.0\n",
      "recall_PAW_joint 1.0\n",
      "['1044', 1.0, 1.0, 1.0, 1.0, 1.0, 1.0]\n",
      "42\n",
      "Precision_Pain_joint 1.0\n"
     ]
    },
    {
     "name": "stdout",
     "output_type": "stream",
     "text": [
      "Precision_Fatigue_joint 1.0\n",
      "Precision_PAW_joint 1.0\n",
      "recall_Pain_joint 1.0\n",
      "recall_Fatigue_joint 1.0\n",
      "recall_PAW_joint 1.0\n",
      "['1045', 1.0, 1.0, 1.0, 1.0, 1.0, 1.0]\n",
      "43\n",
      "Precision_Pain_joint 0.3333333333333333\n",
      "Precision_Fatigue_joint 0.5\n",
      "Precision_PAW_joint 0.5\n",
      "recall_Pain_joint 0.3333333333333333\n",
      "recall_Fatigue_joint 0.5\n",
      "recall_PAW_joint 0.5\n",
      "['1046', 0.3333333333333333, 0.5, 0.0, 0.3333333333333333, 0.5, 0.0]\n",
      "44\n",
      "Precision_Pain_joint 0.75\n",
      "Precision_Fatigue_joint 0.1111111111111111\n",
      "Precision_PAW_joint 0.1111111111111111\n",
      "recall_Pain_joint 0.8333333333333333\n",
      "recall_Fatigue_joint 0.3333333333333333\n",
      "recall_PAW_joint 0.3333333333333333\n",
      "['1047', 0.75, 0.1111111111111111, 0.0, 0.8333333333333333, 0.3333333333333333, 0.0]\n",
      "45\n",
      "Precision_Pain_joint 0.5555555555555555\n",
      "Precision_Fatigue_joint 0.6666666666666666\n",
      "Precision_PAW_joint 0.6666666666666666\n",
      "recall_Pain_joint 0.6666666666666666\n",
      "recall_Fatigue_joint 0.5555555555555555\n",
      "recall_PAW_joint 0.5555555555555555\n",
      "['1048', 0.5555555555555555, 0.6666666666666666, 1.0, 0.6666666666666666, 0.5555555555555555, 1.0]\n",
      "46\n",
      "Precision_Pain_joint 1.0\n",
      "Precision_Fatigue_joint 0.5\n",
      "Precision_PAW_joint 0.5\n",
      "recall_Pain_joint 1.0\n",
      "recall_Fatigue_joint 0.5\n",
      "recall_PAW_joint 0.5\n",
      "['1049', 1.0, 0.5, 1.0, 1.0, 0.5, 1.0]\n",
      "47\n",
      "Precision_Pain_joint 1.0\n",
      "Precision_Fatigue_joint 0.16666666666666666\n",
      "Precision_PAW_joint 0.16666666666666666\n",
      "recall_Pain_joint 1.0\n",
      "recall_Fatigue_joint 0.3333333333333333\n",
      "recall_PAW_joint 0.3333333333333333\n",
      "['1050', 1.0, 0.16666666666666666, 0.0, 1.0, 0.3333333333333333, 0.0]\n",
      "48\n",
      "Precision_Pain_joint 0.25\n",
      "Precision_Fatigue_joint 0.75\n",
      "Precision_PAW_joint 0.75\n",
      "recall_Pain_joint 0.5\n",
      "recall_Fatigue_joint 0.8333333333333333\n",
      "recall_PAW_joint 0.8333333333333333\n",
      "['1052', 0.25, 0.75, 1.0, 0.5, 0.8333333333333333, 1.0]\n",
      "49\n",
      "Precision_Pain_joint 1.0\n",
      "Precision_Fatigue_joint 0.8333333333333334\n",
      "Precision_PAW_joint 0.8333333333333334\n",
      "recall_Pain_joint 1.0\n",
      "recall_Fatigue_joint 0.8333333333333334\n",
      "recall_PAW_joint 0.8333333333333334\n",
      "['1053', 1.0, 0.8333333333333334, 1.0, 1.0, 0.8333333333333334, 1.0]\n",
      "50\n",
      "Precision_Pain_joint 0.375\n",
      "Precision_Fatigue_joint 0.375\n",
      "Precision_PAW_joint 0.375\n",
      "recall_Pain_joint 0.375\n",
      "recall_Fatigue_joint 0.5\n",
      "recall_PAW_joint 0.5\n",
      "['1054', 0.375, 0.375, 1.0, 0.375, 0.5, 1.0]\n",
      "51\n",
      "Precision_Pain_joint 0.5\n",
      "Precision_Fatigue_joint 0.2222222222222222\n",
      "Precision_PAW_joint 0.2222222222222222\n",
      "recall_Pain_joint 0.375\n",
      "recall_Fatigue_joint 0.2222222222222222\n",
      "recall_PAW_joint 0.2222222222222222\n",
      "['1055', 0.5, 0.2222222222222222, 1.0, 0.375, 0.2222222222222222, 1.0]\n",
      "52\n",
      "Precision_Pain_joint 0.125\n",
      "Precision_Fatigue_joint 0.8333333333333333\n",
      "Precision_PAW_joint 0.8333333333333333\n",
      "recall_Pain_joint 0.5\n",
      "recall_Fatigue_joint 0.75\n",
      "recall_PAW_joint 0.75\n",
      "['1056', 0.125, 0.8333333333333333, 1.0, 0.5, 0.75, 1.0]\n",
      "53\n",
      "Precision_Pain_joint 1.0\n",
      "Precision_Fatigue_joint 1.0\n",
      "Precision_PAW_joint 1.0\n",
      "recall_Pain_joint 1.0\n",
      "recall_Fatigue_joint 1.0\n",
      "recall_PAW_joint 1.0\n",
      "['1057', 1.0, 1.0, 1.0, 1.0, 1.0, 1.0]\n",
      "54\n",
      "Precision_Pain_joint 0.16666666666666666\n",
      "Precision_Fatigue_joint 0.5\n",
      "Precision_PAW_joint 0.5\n",
      "recall_Pain_joint 0.25\n",
      "recall_Fatigue_joint 0.375\n",
      "recall_PAW_joint 0.375\n",
      "['1058', 0.16666666666666666, 0.5, 0.0, 0.25, 0.375, 0.0]\n",
      "55\n",
      "Precision_Pain_joint 0.3333333333333333\n",
      "Precision_Fatigue_joint 0.3333333333333333\n",
      "Precision_PAW_joint 0.3333333333333333\n",
      "recall_Pain_joint 0.16666666666666666\n",
      "recall_Fatigue_joint 0.3333333333333333\n",
      "recall_PAW_joint 0.3333333333333333\n",
      "['1059', 0.3333333333333333, 0.3333333333333333, 0.0, 0.16666666666666666, 0.3333333333333333, 0.0]\n",
      "56\n",
      "Precision_Pain_joint 0.375\n",
      "Precision_Fatigue_joint 0.375\n",
      "Precision_PAW_joint 0.375\n",
      "recall_Pain_joint 0.5\n",
      "recall_Fatigue_joint 0.5\n",
      "recall_PAW_joint 0.5\n",
      "['1060', 0.375, 0.375, 1.0, 0.5, 0.5, 1.0]\n",
      "57\n",
      "Precision_Pain_joint 1.0\n",
      "Precision_Fatigue_joint 0.5\n",
      "Precision_PAW_joint 0.5\n",
      "recall_Pain_joint 1.0\n",
      "recall_Fatigue_joint 0.6666666666666666\n",
      "recall_PAW_joint 0.6666666666666666\n",
      "['1061', 1.0, 0.5, 1.0, 1.0, 0.6666666666666666, 1.0]\n",
      "58\n",
      "Precision_Pain_joint 0.0\n",
      "Precision_Fatigue_joint 0.5\n",
      "Precision_PAW_joint 0.5\n",
      "recall_Pain_joint 0.0\n",
      "recall_Fatigue_joint 0.6666666666666666\n",
      "recall_PAW_joint 0.6666666666666666\n",
      "['1062', 0.0, 0.5, 1.0, 0.0, 0.6666666666666666, 1.0]\n",
      "59\n",
      "Precision_Pain_joint 0.6666666666666666\n",
      "Precision_Fatigue_joint 0.4444444444444444\n",
      "Precision_PAW_joint 0.4444444444444444\n",
      "recall_Pain_joint 0.4444444444444444\n",
      "recall_Fatigue_joint 0.6666666666666666\n",
      "recall_PAW_joint 0.6666666666666666\n",
      "['1063', 0.6666666666666666, 0.4444444444444444, 0.0, 0.4444444444444444, 0.6666666666666666, 0.0]\n",
      "60\n",
      "Precision_Pain_joint 0.5\n",
      "Precision_Fatigue_joint 1.0\n",
      "Precision_PAW_joint 1.0\n",
      "recall_Pain_joint 0.25\n",
      "recall_Fatigue_joint 1.0\n",
      "recall_PAW_joint 1.0\n",
      "['1064', 0.5, 1.0, 1.0, 0.25, 1.0, 1.0]\n",
      "61\n",
      "Precision_Pain_joint 0.25\n",
      "Precision_Fatigue_joint 0.25\n",
      "Precision_PAW_joint 0.25\n",
      "recall_Pain_joint 0.25\n",
      "recall_Fatigue_joint 0.25\n",
      "recall_PAW_joint 0.25\n",
      "['1065', 0.25, 0.25, 0.0, 0.25, 0.25, 0.0]\n",
      "62\n",
      "Precision_Pain_joint 1.0\n",
      "Precision_Fatigue_joint 1.0\n",
      "Precision_PAW_joint 1.0\n",
      "recall_Pain_joint 1.0\n",
      "recall_Fatigue_joint 1.0\n",
      "recall_PAW_joint 1.0\n",
      "['1066', 1.0, 1.0, 1.0, 1.0, 1.0, 1.0]\n",
      "63\n",
      "Precision_Pain_joint 0.25\n",
      "Precision_Fatigue_joint 0.5\n",
      "Precision_PAW_joint 0.5\n",
      "recall_Pain_joint 0.25\n",
      "recall_Fatigue_joint 0.5\n",
      "recall_PAW_joint 0.5\n",
      "['1067', 0.25, 0.5, 1.0, 0.25, 0.5, 1.0]\n",
      "64\n",
      "Precision_Pain_joint 0.3333333333333333\n",
      "Precision_Fatigue_joint 0.1111111111111111\n",
      "Precision_PAW_joint 0.1111111111111111\n",
      "recall_Pain_joint 0.3333333333333333\n",
      "recall_Fatigue_joint 0.16666666666666666\n",
      "recall_PAW_joint 0.16666666666666666\n",
      "['1068', 0.3333333333333333, 0.1111111111111111, 0.0, 0.3333333333333333, 0.16666666666666666, 0.0]\n",
      "65\n",
      "Precision_Pain_joint 1.0\n",
      "Precision_Fatigue_joint 0.3333333333333333\n",
      "Precision_PAW_joint 0.3333333333333333\n",
      "recall_Pain_joint 1.0\n",
      "recall_Fatigue_joint 0.3333333333333333\n",
      "recall_PAW_joint 0.3333333333333333\n",
      "['1069', 1.0, 0.3333333333333333, 0.0, 1.0, 0.3333333333333333, 0.0]\n",
      "66\n",
      "Precision_Pain_joint 1.0\n",
      "Precision_Fatigue_joint 0.75\n",
      "Precision_PAW_joint 0.75\n",
      "recall_Pain_joint 1.0\n",
      "recall_Fatigue_joint 0.625\n",
      "recall_PAW_joint 0.625\n",
      "['1070', 1.0, 0.75, 1.0, 1.0, 0.625, 1.0]\n",
      "67\n",
      "Precision_Pain_joint 0.25\n",
      "Precision_Fatigue_joint 0.375\n",
      "Precision_PAW_joint 0.375\n",
      "recall_Pain_joint 0.5\n",
      "recall_Fatigue_joint 0.5\n",
      "recall_PAW_joint 0.5\n",
      "['1071', 0.25, 0.375, 0.0, 0.5, 0.5, 0.0]\n",
      "68\n",
      "Precision_Pain_joint 0.1111111111111111\n",
      "Precision_Fatigue_joint 0.1111111111111111\n",
      "Precision_PAW_joint 0.1111111111111111\n",
      "recall_Pain_joint 0.3333333333333333\n",
      "recall_Fatigue_joint 0.3333333333333333\n",
      "recall_PAW_joint 0.3333333333333333\n",
      "['1072', 0.1111111111111111, 0.1111111111111111, 1.0, 0.3333333333333333, 0.3333333333333333, 1.0]\n",
      "69\n",
      "Precision_Pain_joint 0.6666666666666666\n",
      "Precision_Fatigue_joint 0.3333333333333333\n",
      "Precision_PAW_joint 0.3333333333333333\n",
      "recall_Pain_joint 0.6666666666666666\n",
      "recall_Fatigue_joint 0.16666666666666666\n",
      "recall_PAW_joint 0.16666666666666666\n",
      "['1073', 0.6666666666666666, 0.3333333333333333, 0.0, 0.6666666666666666, 0.16666666666666666, 0.0]\n",
      "70\n",
      "Precision_Pain_joint 0.375\n",
      "Precision_Fatigue_joint 0.5\n",
      "Precision_PAW_joint 0.5\n",
      "recall_Pain_joint 0.5\n",
      "recall_Fatigue_joint 0.3333333333333333\n",
      "recall_PAW_joint 0.3333333333333333\n",
      "['1074', 0.375, 0.5, 1.0, 0.5, 0.3333333333333333, 1.0]\n",
      "71\n",
      "Precision_Pain_joint 1.0\n",
      "Precision_Fatigue_joint 0.5\n",
      "Precision_PAW_joint 0.5\n",
      "recall_Pain_joint 1.0\n",
      "recall_Fatigue_joint 0.5\n",
      "recall_PAW_joint 0.5\n",
      "['1075', 1.0, 0.5, 0.0, 1.0, 0.5, 0.0]\n",
      "72\n",
      "Precision_Pain_joint 0.16666666666666666\n",
      "Precision_Fatigue_joint 0.16666666666666666\n",
      "Precision_PAW_joint 0.16666666666666666\n",
      "recall_Pain_joint 0.25\n",
      "recall_Fatigue_joint 0.3333333333333333\n",
      "recall_PAW_joint 0.3333333333333333\n",
      "['1076', 0.16666666666666666, 0.16666666666666666, 0.0, 0.25, 0.3333333333333333, 0.0]\n",
      "73\n",
      "Precision_Pain_joint 1.0\n",
      "Precision_Fatigue_joint 1.0\n",
      "Precision_PAW_joint 1.0\n",
      "recall_Pain_joint 1.0\n",
      "recall_Fatigue_joint 1.0\n",
      "recall_PAW_joint 1.0\n",
      "['1077', 1.0, 1.0, 1.0, 1.0, 1.0, 1.0]\n",
      "74\n",
      "Precision_Pain_joint 0.3333333333333333\n",
      "Precision_Fatigue_joint 1.0\n",
      "Precision_PAW_joint 1.0\n",
      "recall_Pain_joint 0.3333333333333333\n",
      "recall_Fatigue_joint 1.0\n",
      "recall_PAW_joint 1.0\n",
      "['1078', 0.3333333333333333, 1.0, 1.0, 0.3333333333333333, 1.0, 1.0]\n",
      "75\n",
      "Precision_Pain_joint 1.0\n",
      "Precision_Fatigue_joint 0.5555555555555555\n",
      "Precision_PAW_joint 0.5555555555555555\n",
      "recall_Pain_joint 1.0\n",
      "recall_Fatigue_joint 0.6666666666666666\n",
      "recall_PAW_joint 0.6666666666666666\n",
      "['1079', 1.0, 0.5555555555555555, 0.0, 1.0, 0.6666666666666666, 0.0]\n",
      "76\n",
      "Precision_Pain_joint 1.0\n",
      "Precision_Fatigue_joint 1.0\n",
      "Precision_PAW_joint 1.0\n",
      "recall_Pain_joint 1.0\n",
      "recall_Fatigue_joint 1.0\n",
      "recall_PAW_joint 1.0\n",
      "['1080', 1.0, 1.0, 1.0, 1.0, 1.0, 1.0]\n",
      "77\n",
      "Precision_Pain_joint 0.375\n",
      "Precision_Fatigue_joint 0.2222222222222222\n",
      "Precision_PAW_joint 0.2222222222222222\n",
      "recall_Pain_joint 0.5\n",
      "recall_Fatigue_joint 0.3333333333333333\n",
      "recall_PAW_joint 0.3333333333333333\n",
      "['1081', 0.375, 0.2222222222222222, 1.0, 0.5, 0.3333333333333333, 1.0]\n",
      "78\n",
      "Precision_Pain_joint 1.0\n",
      "Precision_Fatigue_joint 0.5\n",
      "Precision_PAW_joint 0.5\n",
      "recall_Pain_joint 1.0\n",
      "recall_Fatigue_joint 0.5\n",
      "recall_PAW_joint 0.5\n",
      "['1082', 1.0, 0.5, 0.0, 1.0, 0.5, 0.0]\n",
      "79\n",
      "Precision_Pain_joint 0.4444444444444444\n",
      "Precision_Fatigue_joint 0.5555555555555555\n",
      "Precision_PAW_joint 0.5555555555555555\n",
      "recall_Pain_joint 0.6666666666666666\n",
      "recall_Fatigue_joint 0.6666666666666666\n",
      "recall_PAW_joint 0.6666666666666666\n",
      "['1083', 0.4444444444444444, 0.5555555555555555, 0.0, 0.6666666666666666, 0.6666666666666666, 0.0]\n",
      "80\n",
      "Precision_Pain_joint 0.25\n",
      "Precision_Fatigue_joint 0.25\n",
      "Precision_PAW_joint 0.25\n",
      "recall_Pain_joint 0.25\n",
      "recall_Fatigue_joint 0.25\n",
      "recall_PAW_joint 0.25\n",
      "['1084', 0.25, 0.25, 0.0, 0.25, 0.25, 0.0]\n",
      "81\n",
      "Precision_Pain_joint 1.0\n",
      "Precision_Fatigue_joint 0.5\n",
      "Precision_PAW_joint 0.5\n",
      "recall_Pain_joint 1.0\n",
      "recall_Fatigue_joint 0.5\n",
      "recall_PAW_joint 0.5\n",
      "['1085', 1.0, 0.5, 1.0, 1.0, 0.5, 1.0]\n",
      "82\n",
      "Precision_Pain_joint 0.0\n",
      "Precision_Fatigue_joint 0.6666666666666666\n",
      "Precision_PAW_joint 0.6666666666666666\n",
      "recall_Pain_joint 0.0\n",
      "recall_Fatigue_joint 0.6666666666666666\n",
      "recall_PAW_joint 0.6666666666666666\n",
      "['1086', 0.0, 0.6666666666666666, 1.0, 0.0, 0.6666666666666666, 1.0]\n",
      "83\n",
      "Precision_Pain_joint 0.25\n",
      "Precision_Fatigue_joint 0.16666666666666666\n",
      "Precision_PAW_joint 0.16666666666666666\n",
      "recall_Pain_joint 0.5\n",
      "recall_Fatigue_joint 0.3333333333333333\n",
      "recall_PAW_joint 0.3333333333333333\n",
      "['1087', 0.25, 0.16666666666666666, 1.0, 0.5, 0.3333333333333333, 1.0]\n",
      "84\n"
     ]
    },
    {
     "name": "stdout",
     "output_type": "stream",
     "text": [
      "Precision_Pain_joint 1.0\n",
      "Precision_Fatigue_joint 0.6666666666666666\n",
      "Precision_PAW_joint 0.6666666666666666\n",
      "recall_Pain_joint 1.0\n",
      "recall_Fatigue_joint 0.5\n",
      "recall_PAW_joint 0.5\n",
      "['1088', 1.0, 0.6666666666666666, 1.0, 1.0, 0.5, 1.0]\n",
      "85\n",
      "Precision_Pain_joint 1.0\n",
      "Precision_Fatigue_joint 1.0\n",
      "Precision_PAW_joint 1.0\n",
      "recall_Pain_joint 1.0\n",
      "recall_Fatigue_joint 1.0\n",
      "recall_PAW_joint 1.0\n",
      "['1089', 1.0, 1.0, 1.0, 1.0, 1.0, 1.0]\n",
      "86\n",
      "Precision_Pain_joint 1.0\n",
      "Precision_Fatigue_joint 0.4444444444444444\n",
      "Precision_PAW_joint 0.4444444444444444\n",
      "recall_Pain_joint 1.0\n",
      "recall_Fatigue_joint 0.5\n",
      "recall_PAW_joint 0.5\n",
      "['1090', 1.0, 0.4444444444444444, 0.0, 1.0, 0.5, 0.0]\n",
      "87\n",
      "Precision_Pain_joint 0.5555555555555555\n",
      "Precision_Fatigue_joint 0.25\n",
      "Precision_PAW_joint 0.25\n",
      "recall_Pain_joint 0.6666666666666666\n",
      "recall_Fatigue_joint 0.25\n",
      "recall_PAW_joint 0.25\n",
      "['1091', 0.5555555555555555, 0.25, 1.0, 0.6666666666666666, 0.25, 1.0]\n",
      "88\n",
      "Precision_Pain_joint 0.25\n",
      "Precision_Fatigue_joint 0.16666666666666666\n",
      "Precision_PAW_joint 0.16666666666666666\n",
      "recall_Pain_joint 0.16666666666666666\n",
      "recall_Fatigue_joint 0.25\n",
      "recall_PAW_joint 0.25\n",
      "['1092', 0.25, 0.16666666666666666, 0.0, 0.16666666666666666, 0.25, 0.0]\n",
      "89\n",
      "Precision_Pain_joint 1.0\n",
      "Precision_Fatigue_joint 0.5555555555555555\n",
      "Precision_PAW_joint 0.5555555555555555\n",
      "recall_Pain_joint 1.0\n",
      "recall_Fatigue_joint 0.6666666666666666\n",
      "recall_PAW_joint 0.6666666666666666\n",
      "['1093', 1.0, 0.5555555555555555, 1.0, 1.0, 0.6666666666666666, 1.0]\n",
      "90\n",
      "Precision_Pain_joint 1.0\n",
      "Precision_Fatigue_joint 0.8333333333333333\n",
      "Precision_PAW_joint 0.8333333333333333\n",
      "recall_Pain_joint 1.0\n",
      "recall_Fatigue_joint 0.75\n",
      "recall_PAW_joint 0.75\n",
      "['1094', 1.0, 0.8333333333333333, 0.0, 1.0, 0.75, 0.0]\n",
      "91\n",
      "Precision_Pain_joint 0.375\n",
      "Precision_Fatigue_joint 0.8333333333333333\n",
      "Precision_PAW_joint 0.8333333333333333\n",
      "recall_Pain_joint 0.5\n",
      "recall_Fatigue_joint 0.75\n",
      "recall_PAW_joint 0.75\n",
      "['1095', 0.375, 0.8333333333333333, 0.0, 0.5, 0.75, 0.0]\n",
      "92\n",
      "Precision_Pain_joint 0.375\n",
      "Precision_Fatigue_joint 0.4444444444444444\n",
      "Precision_PAW_joint 0.4444444444444444\n",
      "recall_Pain_joint 0.5\n",
      "recall_Fatigue_joint 0.5\n",
      "recall_PAW_joint 0.5\n",
      "['1096', 0.375, 0.4444444444444444, 1.0, 0.5, 0.5, 1.0]\n",
      "93\n",
      "Precision_Pain_joint 0.125\n",
      "Precision_Fatigue_joint 0.16666666666666666\n",
      "Precision_PAW_joint 0.16666666666666666\n",
      "recall_Pain_joint 0.5\n",
      "recall_Fatigue_joint 0.25\n",
      "recall_PAW_joint 0.25\n",
      "['1097', 0.125, 0.16666666666666666, 0.0, 0.5, 0.25, 0.0]\n",
      "94\n",
      "Precision_Pain_joint 0.3333333333333333\n",
      "Precision_Fatigue_joint 0.0\n",
      "Precision_PAW_joint 0.0\n",
      "recall_Pain_joint 0.3333333333333333\n",
      "recall_Fatigue_joint 0.0\n",
      "recall_PAW_joint 0.0\n",
      "['1098', 0.3333333333333333, 0.0, 0.0, 0.3333333333333333, 0.0, 0.0]\n",
      "95\n",
      "Precision_Pain_joint 0.5\n",
      "Precision_Fatigue_joint 0.3333333333333333\n",
      "Precision_PAW_joint 0.3333333333333333\n",
      "recall_Pain_joint 0.375\n",
      "recall_Fatigue_joint 0.2222222222222222\n",
      "recall_PAW_joint 0.2222222222222222\n",
      "['1099', 0.5, 0.3333333333333333, 1.0, 0.375, 0.2222222222222222, 1.0]\n",
      "96\n",
      "Precision_Pain_joint 0.5555555555555555\n",
      "Precision_Fatigue_joint 0.5\n",
      "Precision_PAW_joint 0.5\n",
      "recall_Pain_joint 0.6666666666666666\n",
      "recall_Fatigue_joint 0.5\n",
      "recall_PAW_joint 0.5\n",
      "['1100', 0.5555555555555555, 0.5, 0.0, 0.6666666666666666, 0.5, 0.0]\n",
      "97\n",
      "Precision_Pain_joint 0.5\n",
      "Precision_Fatigue_joint 0.25\n",
      "Precision_PAW_joint 0.25\n",
      "recall_Pain_joint 0.5\n",
      "recall_Fatigue_joint 0.25\n",
      "recall_PAW_joint 0.25\n",
      "['1101', 0.5, 0.25, 1.0, 0.5, 0.25, 1.0]\n",
      "98\n",
      "Precision_Pain_joint 0.3333333333333333\n",
      "Precision_Fatigue_joint 0.3333333333333333\n",
      "Precision_PAW_joint 0.3333333333333333\n",
      "recall_Pain_joint 0.3333333333333333\n",
      "recall_Fatigue_joint 0.3333333333333333\n",
      "recall_PAW_joint 0.3333333333333333\n",
      "['1102', 0.3333333333333333, 0.3333333333333333, 1.0, 0.3333333333333333, 0.3333333333333333, 1.0]\n",
      "99\n",
      "Precision_Pain_joint 0.4444444444444444\n",
      "Precision_Fatigue_joint 0.75\n",
      "Precision_PAW_joint 0.75\n",
      "recall_Pain_joint 0.6666666666666666\n",
      "recall_Fatigue_joint 0.625\n",
      "recall_PAW_joint 0.625\n",
      "['1103', 0.4444444444444444, 0.75, 1.0, 0.6666666666666666, 0.625, 1.0]\n",
      "100\n",
      "Precision_Pain_joint 0.0\n",
      "Precision_Fatigue_joint 0.5\n",
      "Precision_PAW_joint 0.5\n",
      "recall_Pain_joint 0.0\n",
      "recall_Fatigue_joint 0.375\n",
      "recall_PAW_joint 0.375\n",
      "['1104', 0.0, 0.5, 1.0, 0.0, 0.375, 1.0]\n",
      "101\n",
      "Precision_Pain_joint 0.4444444444444444\n",
      "Precision_Fatigue_joint 0.6666666666666666\n",
      "Precision_PAW_joint 0.6666666666666666\n",
      "recall_Pain_joint 0.6666666666666666\n",
      "recall_Fatigue_joint 0.4444444444444444\n",
      "recall_PAW_joint 0.4444444444444444\n",
      "['1105', 0.4444444444444444, 0.6666666666666666, 1.0, 0.6666666666666666, 0.4444444444444444, 1.0]\n",
      "102\n",
      "Precision_Pain_joint 0.375\n",
      "Precision_Fatigue_joint 1.0\n",
      "Precision_PAW_joint 1.0\n",
      "recall_Pain_joint 0.5\n",
      "recall_Fatigue_joint 1.0\n",
      "recall_PAW_joint 1.0\n",
      "['1106', 0.375, 1.0, 1.0, 0.5, 1.0, 1.0]\n",
      "103\n",
      "Precision_Pain_joint 0.25\n",
      "Precision_Fatigue_joint 0.3333333333333333\n",
      "Precision_PAW_joint 0.3333333333333333\n",
      "recall_Pain_joint 0.5\n",
      "recall_Fatigue_joint 0.3333333333333333\n",
      "recall_PAW_joint 0.3333333333333333\n",
      "['1107', 0.25, 0.3333333333333333, 0.0, 0.5, 0.3333333333333333, 0.0]\n",
      "104\n",
      "Precision_Pain_joint 0.375\n",
      "Precision_Fatigue_joint 0.375\n",
      "Precision_PAW_joint 0.375\n",
      "recall_Pain_joint 0.5\n",
      "recall_Fatigue_joint 0.5\n",
      "recall_PAW_joint 0.5\n",
      "['1108', 0.375, 0.375, 1.0, 0.5, 0.5, 1.0]\n",
      "105\n",
      "Precision_Pain_joint 0.3333333333333333\n",
      "Precision_Fatigue_joint 0.5555555555555555\n",
      "Precision_PAW_joint 0.5555555555555555\n",
      "recall_Pain_joint 0.3333333333333333\n",
      "recall_Fatigue_joint 0.6666666666666666\n",
      "recall_PAW_joint 0.6666666666666666\n",
      "['1109', 0.3333333333333333, 0.5555555555555555, 1.0, 0.3333333333333333, 0.6666666666666666, 1.0]\n",
      "106\n",
      "Precision_Pain_joint 0.25\n",
      "Precision_Fatigue_joint 0.3333333333333333\n",
      "Precision_PAW_joint 0.3333333333333333\n",
      "recall_Pain_joint 0.25\n",
      "recall_Fatigue_joint 0.3333333333333333\n",
      "recall_PAW_joint 0.3333333333333333\n",
      "['1110', 0.25, 0.3333333333333333, 1.0, 0.25, 0.3333333333333333, 1.0]\n"
     ]
    }
   ],
   "source": [
    "index = 0\n",
    "col_list_1 = [\"Patient_ID\", \"Precision_Pain\", \"Precision_Fatigue\", \"Precision_PAW\", \"Recall_Pain\", \"Recall_Fatigue\", \"Recall_PAW\"]\n",
    "\n",
    "for person in Person_list:\n",
    "    print(index)\n",
    "    precision_Pain, precision_Fatigue, precision_PAW, recall_Pain, recall_Fatigue, recall_PAW = pre_recall(person, prediction_df, prediction_df_dummy)\n",
    "    col_list_2 = [person, precision_Pain, precision_Fatigue, precision_PAW, recall_Pain, recall_Fatigue, recall_PAW]\n",
    "    for i in range(len(col_list_1)):\n",
    "        prediction_personwise_df.loc[index, col_list_1[i]] = col_list_2[i]\n",
    "    index+=1\n",
    "    print(col_list_2)\n",
    "    \n",
    "    "
   ]
  },
  {
   "cell_type": "code",
   "execution_count": 482,
   "metadata": {
    "ExecuteTime": {
     "end_time": "2020-04-05T02:14:36.565617Z",
     "start_time": "2020-04-05T02:14:36.554830Z"
    }
   },
   "outputs": [
    {
     "data": {
      "text/plain": [
       "['Patient_ID',\n",
       " 'Precision_Pain',\n",
       " 'Precision_Fatigue',\n",
       " 'Precision_PAW',\n",
       " 'Recall_Pain',\n",
       " 'Recall_Fatigue',\n",
       " 'Recall_PAW']"
      ]
     },
     "execution_count": 482,
     "metadata": {},
     "output_type": "execute_result"
    }
   ],
   "source": [
    "prediction_personwise_df.columns.to_list()"
   ]
  },
  {
   "cell_type": "markdown",
   "metadata": {},
   "source": [
    "### Check group similarity"
   ]
  },
  {
   "cell_type": "code",
   "execution_count": 494,
   "metadata": {
    "ExecuteTime": {
     "end_time": "2020-04-06T17:57:36.639633Z",
     "start_time": "2020-04-06T17:57:36.585864Z"
    }
   },
   "outputs": [
    {
     "data": {
      "text/html": [
       "<div>\n",
       "<style scoped>\n",
       "    .dataframe tbody tr th:only-of-type {\n",
       "        vertical-align: middle;\n",
       "    }\n",
       "\n",
       "    .dataframe tbody tr th {\n",
       "        vertical-align: top;\n",
       "    }\n",
       "\n",
       "    .dataframe thead th {\n",
       "        text-align: right;\n",
       "    }\n",
       "</style>\n",
       "<table border=\"1\" class=\"dataframe\">\n",
       "  <thead>\n",
       "    <tr style=\"text-align: right;\">\n",
       "      <th></th>\n",
       "      <th>Next_Pain_Pred</th>\n",
       "      <th>Next_Fatigue_Pred</th>\n",
       "      <th>Next_PAW_Pred</th>\n",
       "      <th>Next_Pain_True</th>\n",
       "      <th>Next_Fatigue_True</th>\n",
       "      <th>Next_PAW_True</th>\n",
       "      <th>Patient_ID</th>\n",
       "      <th>Seventh_Day</th>\n",
       "      <th>MS_Subtype</th>\n",
       "      <th>How_long</th>\n",
       "      <th>...</th>\n",
       "      <th>Gender</th>\n",
       "      <th>Age</th>\n",
       "      <th>Current_Daytime_Interval</th>\n",
       "      <th>Current_Pain</th>\n",
       "      <th>Record_Next_Pain</th>\n",
       "      <th>Current_Fatigue</th>\n",
       "      <th>Record_Next_Fatigue</th>\n",
       "      <th>Last_Acbout</th>\n",
       "      <th>Current_Acbout</th>\n",
       "      <th>Record_Next_PAW</th>\n",
       "    </tr>\n",
       "  </thead>\n",
       "  <tbody>\n",
       "    <tr>\n",
       "      <th>0</th>\n",
       "      <td>Not Recorded</td>\n",
       "      <td>Not Recorded</td>\n",
       "      <td>None</td>\n",
       "      <td>Not Recorded</td>\n",
       "      <td>Not Recorded</td>\n",
       "      <td>None</td>\n",
       "      <td>1001</td>\n",
       "      <td>Tue</td>\n",
       "      <td>Relapsing Remitting</td>\n",
       "      <td>Less than 5 Years</td>\n",
       "      <td>...</td>\n",
       "      <td>Female</td>\n",
       "      <td>Between 30 to 60</td>\n",
       "      <td>Wake</td>\n",
       "      <td>Not Recorded</td>\n",
       "      <td>Not Recorded</td>\n",
       "      <td>Not Recorded</td>\n",
       "      <td>Not Recorded</td>\n",
       "      <td>Lower</td>\n",
       "      <td>Lower</td>\n",
       "      <td>None</td>\n",
       "    </tr>\n",
       "    <tr>\n",
       "      <th>1</th>\n",
       "      <td>Normal</td>\n",
       "      <td>Normal</td>\n",
       "      <td>None</td>\n",
       "      <td>Higher</td>\n",
       "      <td>Normal</td>\n",
       "      <td>None</td>\n",
       "      <td>1001</td>\n",
       "      <td>Tue</td>\n",
       "      <td>Relapsing Remitting</td>\n",
       "      <td>Less than 5 Years</td>\n",
       "      <td>...</td>\n",
       "      <td>Female</td>\n",
       "      <td>Between 30 to 60</td>\n",
       "      <td>Morning</td>\n",
       "      <td>Not Recorded</td>\n",
       "      <td>Recorded</td>\n",
       "      <td>Not Recorded</td>\n",
       "      <td>Recorded</td>\n",
       "      <td>Lower</td>\n",
       "      <td>Lower</td>\n",
       "      <td>None</td>\n",
       "    </tr>\n",
       "    <tr>\n",
       "      <th>2</th>\n",
       "      <td>Normal</td>\n",
       "      <td>Normal</td>\n",
       "      <td>None</td>\n",
       "      <td>Normal</td>\n",
       "      <td>Normal</td>\n",
       "      <td>None</td>\n",
       "      <td>1001</td>\n",
       "      <td>Tue</td>\n",
       "      <td>Relapsing Remitting</td>\n",
       "      <td>Less than 5 Years</td>\n",
       "      <td>...</td>\n",
       "      <td>Female</td>\n",
       "      <td>Between 30 to 60</td>\n",
       "      <td>Afternoon</td>\n",
       "      <td>Higher</td>\n",
       "      <td>Recorded</td>\n",
       "      <td>Normal</td>\n",
       "      <td>Recorded</td>\n",
       "      <td>Lower</td>\n",
       "      <td>Lower</td>\n",
       "      <td>None</td>\n",
       "    </tr>\n",
       "    <tr>\n",
       "      <th>3</th>\n",
       "      <td>Normal</td>\n",
       "      <td>Higher</td>\n",
       "      <td>Normal</td>\n",
       "      <td>Normal</td>\n",
       "      <td>Normal</td>\n",
       "      <td>Normal</td>\n",
       "      <td>1001</td>\n",
       "      <td>Tue</td>\n",
       "      <td>Relapsing Remitting</td>\n",
       "      <td>Less than 5 Years</td>\n",
       "      <td>...</td>\n",
       "      <td>Female</td>\n",
       "      <td>Between 30 to 60</td>\n",
       "      <td>Evening</td>\n",
       "      <td>Normal</td>\n",
       "      <td>Recorded</td>\n",
       "      <td>Normal</td>\n",
       "      <td>Recorded</td>\n",
       "      <td>Lower</td>\n",
       "      <td>Normal</td>\n",
       "      <td>Recorded</td>\n",
       "    </tr>\n",
       "    <tr>\n",
       "      <th>4</th>\n",
       "      <td>Normal</td>\n",
       "      <td>Normal</td>\n",
       "      <td>None</td>\n",
       "      <td>Normal</td>\n",
       "      <td>Normal</td>\n",
       "      <td>None</td>\n",
       "      <td>1002</td>\n",
       "      <td>Tue</td>\n",
       "      <td>Relapsing Remitting</td>\n",
       "      <td>Between 5 to 9 Years</td>\n",
       "      <td>...</td>\n",
       "      <td>Female</td>\n",
       "      <td>Between 30 to 60</td>\n",
       "      <td>Wake</td>\n",
       "      <td>Normal</td>\n",
       "      <td>Recorded</td>\n",
       "      <td>Normal</td>\n",
       "      <td>Recorded</td>\n",
       "      <td>Lower</td>\n",
       "      <td>Normal</td>\n",
       "      <td>None</td>\n",
       "    </tr>\n",
       "    <tr>\n",
       "      <th>...</th>\n",
       "      <td>...</td>\n",
       "      <td>...</td>\n",
       "      <td>...</td>\n",
       "      <td>...</td>\n",
       "      <td>...</td>\n",
       "      <td>...</td>\n",
       "      <td>...</td>\n",
       "      <td>...</td>\n",
       "      <td>...</td>\n",
       "      <td>...</td>\n",
       "      <td>...</td>\n",
       "      <td>...</td>\n",
       "      <td>...</td>\n",
       "      <td>...</td>\n",
       "      <td>...</td>\n",
       "      <td>...</td>\n",
       "      <td>...</td>\n",
       "      <td>...</td>\n",
       "      <td>...</td>\n",
       "      <td>...</td>\n",
       "      <td>...</td>\n",
       "    </tr>\n",
       "    <tr>\n",
       "      <th>423</th>\n",
       "      <td>Higher</td>\n",
       "      <td>Higher</td>\n",
       "      <td>Not Recorded</td>\n",
       "      <td>Normal</td>\n",
       "      <td>Higher</td>\n",
       "      <td>Not Recorded</td>\n",
       "      <td>1109</td>\n",
       "      <td>Wed</td>\n",
       "      <td>Relapsing Remitting</td>\n",
       "      <td>More than 9 Years</td>\n",
       "      <td>...</td>\n",
       "      <td>Female</td>\n",
       "      <td>Between 30 to 60</td>\n",
       "      <td>Evening</td>\n",
       "      <td>Higher</td>\n",
       "      <td>Recorded</td>\n",
       "      <td>Lower</td>\n",
       "      <td>Recorded</td>\n",
       "      <td>Normal</td>\n",
       "      <td>Higher</td>\n",
       "      <td>Not Recorded</td>\n",
       "    </tr>\n",
       "    <tr>\n",
       "      <th>424</th>\n",
       "      <td>Normal</td>\n",
       "      <td>Normal</td>\n",
       "      <td>None</td>\n",
       "      <td>Lower</td>\n",
       "      <td>Higher</td>\n",
       "      <td>None</td>\n",
       "      <td>1110</td>\n",
       "      <td>Thu</td>\n",
       "      <td>Relapsing Remitting</td>\n",
       "      <td>More than 9 Years</td>\n",
       "      <td>...</td>\n",
       "      <td>Female</td>\n",
       "      <td>Between 30 to 60</td>\n",
       "      <td>Wake</td>\n",
       "      <td>Not Recorded</td>\n",
       "      <td>Recorded</td>\n",
       "      <td>Not Recorded</td>\n",
       "      <td>Recorded</td>\n",
       "      <td>Higher</td>\n",
       "      <td>Lower</td>\n",
       "      <td>None</td>\n",
       "    </tr>\n",
       "    <tr>\n",
       "      <th>425</th>\n",
       "      <td>Normal</td>\n",
       "      <td>Higher</td>\n",
       "      <td>None</td>\n",
       "      <td>Higher</td>\n",
       "      <td>Normal</td>\n",
       "      <td>None</td>\n",
       "      <td>1110</td>\n",
       "      <td>Thu</td>\n",
       "      <td>Relapsing Remitting</td>\n",
       "      <td>More than 9 Years</td>\n",
       "      <td>...</td>\n",
       "      <td>Female</td>\n",
       "      <td>Between 30 to 60</td>\n",
       "      <td>Morning</td>\n",
       "      <td>Lower</td>\n",
       "      <td>Recorded</td>\n",
       "      <td>Higher</td>\n",
       "      <td>Recorded</td>\n",
       "      <td>Lower</td>\n",
       "      <td>Lower</td>\n",
       "      <td>None</td>\n",
       "    </tr>\n",
       "    <tr>\n",
       "      <th>426</th>\n",
       "      <td>Not Recorded</td>\n",
       "      <td>Not Recorded</td>\n",
       "      <td>None</td>\n",
       "      <td>Not Recorded</td>\n",
       "      <td>Not Recorded</td>\n",
       "      <td>None</td>\n",
       "      <td>1110</td>\n",
       "      <td>Thu</td>\n",
       "      <td>Relapsing Remitting</td>\n",
       "      <td>More than 9 Years</td>\n",
       "      <td>...</td>\n",
       "      <td>Female</td>\n",
       "      <td>Between 30 to 60</td>\n",
       "      <td>Afternoon</td>\n",
       "      <td>Higher</td>\n",
       "      <td>Not Recorded</td>\n",
       "      <td>Normal</td>\n",
       "      <td>Not Recorded</td>\n",
       "      <td>Lower</td>\n",
       "      <td>Higher</td>\n",
       "      <td>None</td>\n",
       "    </tr>\n",
       "    <tr>\n",
       "      <th>427</th>\n",
       "      <td>Not Recorded</td>\n",
       "      <td>Not Recorded</td>\n",
       "      <td>Not Recorded</td>\n",
       "      <td>Not Recorded</td>\n",
       "      <td>Not Recorded</td>\n",
       "      <td>Not Recorded</td>\n",
       "      <td>1110</td>\n",
       "      <td>Thu</td>\n",
       "      <td>Relapsing Remitting</td>\n",
       "      <td>More than 9 Years</td>\n",
       "      <td>...</td>\n",
       "      <td>Female</td>\n",
       "      <td>Between 30 to 60</td>\n",
       "      <td>Evening</td>\n",
       "      <td>Not Recorded</td>\n",
       "      <td>Not Recorded</td>\n",
       "      <td>Not Recorded</td>\n",
       "      <td>Not Recorded</td>\n",
       "      <td>Higher</td>\n",
       "      <td>Lower</td>\n",
       "      <td>Not Recorded</td>\n",
       "    </tr>\n",
       "  </tbody>\n",
       "</table>\n",
       "<p>428 rows × 26 columns</p>\n",
       "</div>"
      ],
      "text/plain": [
       "    Next_Pain_Pred Next_Fatigue_Pred Next_PAW_Pred Next_Pain_True  \\\n",
       "0     Not Recorded      Not Recorded          None   Not Recorded   \n",
       "1           Normal            Normal          None         Higher   \n",
       "2           Normal            Normal          None         Normal   \n",
       "3           Normal            Higher        Normal         Normal   \n",
       "4           Normal            Normal          None         Normal   \n",
       "..             ...               ...           ...            ...   \n",
       "423         Higher            Higher  Not Recorded         Normal   \n",
       "424         Normal            Normal          None          Lower   \n",
       "425         Normal            Higher          None         Higher   \n",
       "426   Not Recorded      Not Recorded          None   Not Recorded   \n",
       "427   Not Recorded      Not Recorded  Not Recorded   Not Recorded   \n",
       "\n",
       "    Next_Fatigue_True Next_PAW_True Patient_ID Seventh_Day  \\\n",
       "0        Not Recorded          None       1001         Tue   \n",
       "1              Normal          None       1001         Tue   \n",
       "2              Normal          None       1001         Tue   \n",
       "3              Normal        Normal       1001         Tue   \n",
       "4              Normal          None       1002         Tue   \n",
       "..                ...           ...        ...         ...   \n",
       "423            Higher  Not Recorded       1109         Wed   \n",
       "424            Higher          None       1110         Thu   \n",
       "425            Normal          None       1110         Thu   \n",
       "426      Not Recorded          None       1110         Thu   \n",
       "427      Not Recorded  Not Recorded       1110         Thu   \n",
       "\n",
       "              MS_Subtype              How_long  ...  Gender               Age  \\\n",
       "0    Relapsing Remitting     Less than 5 Years  ...  Female  Between 30 to 60   \n",
       "1    Relapsing Remitting     Less than 5 Years  ...  Female  Between 30 to 60   \n",
       "2    Relapsing Remitting     Less than 5 Years  ...  Female  Between 30 to 60   \n",
       "3    Relapsing Remitting     Less than 5 Years  ...  Female  Between 30 to 60   \n",
       "4    Relapsing Remitting  Between 5 to 9 Years  ...  Female  Between 30 to 60   \n",
       "..                   ...                   ...  ...     ...               ...   \n",
       "423  Relapsing Remitting     More than 9 Years  ...  Female  Between 30 to 60   \n",
       "424  Relapsing Remitting     More than 9 Years  ...  Female  Between 30 to 60   \n",
       "425  Relapsing Remitting     More than 9 Years  ...  Female  Between 30 to 60   \n",
       "426  Relapsing Remitting     More than 9 Years  ...  Female  Between 30 to 60   \n",
       "427  Relapsing Remitting     More than 9 Years  ...  Female  Between 30 to 60   \n",
       "\n",
       "    Current_Daytime_Interval  Current_Pain Record_Next_Pain Current_Fatigue  \\\n",
       "0                       Wake  Not Recorded     Not Recorded    Not Recorded   \n",
       "1                    Morning  Not Recorded         Recorded    Not Recorded   \n",
       "2                  Afternoon        Higher         Recorded          Normal   \n",
       "3                    Evening        Normal         Recorded          Normal   \n",
       "4                       Wake        Normal         Recorded          Normal   \n",
       "..                       ...           ...              ...             ...   \n",
       "423                  Evening        Higher         Recorded           Lower   \n",
       "424                     Wake  Not Recorded         Recorded    Not Recorded   \n",
       "425                  Morning         Lower         Recorded          Higher   \n",
       "426                Afternoon        Higher     Not Recorded          Normal   \n",
       "427                  Evening  Not Recorded     Not Recorded    Not Recorded   \n",
       "\n",
       "    Record_Next_Fatigue Last_Acbout Current_Acbout Record_Next_PAW  \n",
       "0          Not Recorded       Lower          Lower            None  \n",
       "1              Recorded       Lower          Lower            None  \n",
       "2              Recorded       Lower          Lower            None  \n",
       "3              Recorded       Lower         Normal        Recorded  \n",
       "4              Recorded       Lower         Normal            None  \n",
       "..                  ...         ...            ...             ...  \n",
       "423            Recorded      Normal         Higher    Not Recorded  \n",
       "424            Recorded      Higher          Lower            None  \n",
       "425            Recorded       Lower          Lower            None  \n",
       "426        Not Recorded       Lower         Higher            None  \n",
       "427        Not Recorded      Higher          Lower    Not Recorded  \n",
       "\n",
       "[428 rows x 26 columns]"
      ]
     },
     "execution_count": 494,
     "metadata": {},
     "output_type": "execute_result"
    }
   ],
   "source": [
    "prediction_df"
   ]
  },
  {
   "cell_type": "code",
   "execution_count": 485,
   "metadata": {
    "ExecuteTime": {
     "end_time": "2020-04-05T02:15:56.947287Z",
     "start_time": "2020-04-05T02:15:56.930841Z"
    }
   },
   "outputs": [],
   "source": [
    "prediction_df_precision = pd.merge(prediction_df, prediction_personwise_df, on=\"Patient_ID\", how = \"left\")"
   ]
  },
  {
   "cell_type": "code",
   "execution_count": 486,
   "metadata": {
    "ExecuteTime": {
     "end_time": "2020-04-05T02:16:03.612323Z",
     "start_time": "2020-04-05T02:16:03.570111Z"
    }
   },
   "outputs": [
    {
     "data": {
      "text/html": [
       "<div>\n",
       "<style scoped>\n",
       "    .dataframe tbody tr th:only-of-type {\n",
       "        vertical-align: middle;\n",
       "    }\n",
       "\n",
       "    .dataframe tbody tr th {\n",
       "        vertical-align: top;\n",
       "    }\n",
       "\n",
       "    .dataframe thead th {\n",
       "        text-align: right;\n",
       "    }\n",
       "</style>\n",
       "<table border=\"1\" class=\"dataframe\">\n",
       "  <thead>\n",
       "    <tr style=\"text-align: right;\">\n",
       "      <th></th>\n",
       "      <th>Next_Pain_Pred</th>\n",
       "      <th>Next_Fatigue_Pred</th>\n",
       "      <th>Next_PAW_Pred</th>\n",
       "      <th>Next_Pain_True</th>\n",
       "      <th>Next_Fatigue_True</th>\n",
       "      <th>Next_PAW_True</th>\n",
       "      <th>Patient_ID</th>\n",
       "      <th>Seventh_Day</th>\n",
       "      <th>MS_Subtype</th>\n",
       "      <th>How_long</th>\n",
       "      <th>...</th>\n",
       "      <th>Record_Next_Fatigue</th>\n",
       "      <th>Last_Acbout</th>\n",
       "      <th>Current_Acbout</th>\n",
       "      <th>Record_Next_PAW</th>\n",
       "      <th>Precision_Pain</th>\n",
       "      <th>Precision_Fatigue</th>\n",
       "      <th>Precision_PAW</th>\n",
       "      <th>Recall_Pain</th>\n",
       "      <th>Recall_Fatigue</th>\n",
       "      <th>Recall_PAW</th>\n",
       "    </tr>\n",
       "  </thead>\n",
       "  <tbody>\n",
       "    <tr>\n",
       "      <th>0</th>\n",
       "      <td>Not Recorded</td>\n",
       "      <td>Not Recorded</td>\n",
       "      <td>None</td>\n",
       "      <td>Not Recorded</td>\n",
       "      <td>Not Recorded</td>\n",
       "      <td>None</td>\n",
       "      <td>1001</td>\n",
       "      <td>Tue</td>\n",
       "      <td>Relapsing Remitting</td>\n",
       "      <td>Less than 5 Years</td>\n",
       "      <td>...</td>\n",
       "      <td>Not Recorded</td>\n",
       "      <td>Lower</td>\n",
       "      <td>Lower</td>\n",
       "      <td>None</td>\n",
       "      <td>0.555556</td>\n",
       "      <td>0.666667</td>\n",
       "      <td>1</td>\n",
       "      <td>0.666667</td>\n",
       "      <td>0.555556</td>\n",
       "      <td>1</td>\n",
       "    </tr>\n",
       "    <tr>\n",
       "      <th>1</th>\n",
       "      <td>Normal</td>\n",
       "      <td>Normal</td>\n",
       "      <td>None</td>\n",
       "      <td>Higher</td>\n",
       "      <td>Normal</td>\n",
       "      <td>None</td>\n",
       "      <td>1001</td>\n",
       "      <td>Tue</td>\n",
       "      <td>Relapsing Remitting</td>\n",
       "      <td>Less than 5 Years</td>\n",
       "      <td>...</td>\n",
       "      <td>Recorded</td>\n",
       "      <td>Lower</td>\n",
       "      <td>Lower</td>\n",
       "      <td>None</td>\n",
       "      <td>0.555556</td>\n",
       "      <td>0.666667</td>\n",
       "      <td>1</td>\n",
       "      <td>0.666667</td>\n",
       "      <td>0.555556</td>\n",
       "      <td>1</td>\n",
       "    </tr>\n",
       "    <tr>\n",
       "      <th>2</th>\n",
       "      <td>Normal</td>\n",
       "      <td>Normal</td>\n",
       "      <td>None</td>\n",
       "      <td>Normal</td>\n",
       "      <td>Normal</td>\n",
       "      <td>None</td>\n",
       "      <td>1001</td>\n",
       "      <td>Tue</td>\n",
       "      <td>Relapsing Remitting</td>\n",
       "      <td>Less than 5 Years</td>\n",
       "      <td>...</td>\n",
       "      <td>Recorded</td>\n",
       "      <td>Lower</td>\n",
       "      <td>Lower</td>\n",
       "      <td>None</td>\n",
       "      <td>0.555556</td>\n",
       "      <td>0.666667</td>\n",
       "      <td>1</td>\n",
       "      <td>0.666667</td>\n",
       "      <td>0.555556</td>\n",
       "      <td>1</td>\n",
       "    </tr>\n",
       "    <tr>\n",
       "      <th>3</th>\n",
       "      <td>Normal</td>\n",
       "      <td>Higher</td>\n",
       "      <td>Normal</td>\n",
       "      <td>Normal</td>\n",
       "      <td>Normal</td>\n",
       "      <td>Normal</td>\n",
       "      <td>1001</td>\n",
       "      <td>Tue</td>\n",
       "      <td>Relapsing Remitting</td>\n",
       "      <td>Less than 5 Years</td>\n",
       "      <td>...</td>\n",
       "      <td>Recorded</td>\n",
       "      <td>Lower</td>\n",
       "      <td>Normal</td>\n",
       "      <td>Recorded</td>\n",
       "      <td>0.555556</td>\n",
       "      <td>0.666667</td>\n",
       "      <td>1</td>\n",
       "      <td>0.666667</td>\n",
       "      <td>0.555556</td>\n",
       "      <td>1</td>\n",
       "    </tr>\n",
       "    <tr>\n",
       "      <th>4</th>\n",
       "      <td>Normal</td>\n",
       "      <td>Normal</td>\n",
       "      <td>None</td>\n",
       "      <td>Normal</td>\n",
       "      <td>Normal</td>\n",
       "      <td>None</td>\n",
       "      <td>1002</td>\n",
       "      <td>Tue</td>\n",
       "      <td>Relapsing Remitting</td>\n",
       "      <td>Between 5 to 9 Years</td>\n",
       "      <td>...</td>\n",
       "      <td>Recorded</td>\n",
       "      <td>Lower</td>\n",
       "      <td>Normal</td>\n",
       "      <td>None</td>\n",
       "      <td>1</td>\n",
       "      <td>0.5</td>\n",
       "      <td>0</td>\n",
       "      <td>1</td>\n",
       "      <td>0.375</td>\n",
       "      <td>0</td>\n",
       "    </tr>\n",
       "    <tr>\n",
       "      <th>...</th>\n",
       "      <td>...</td>\n",
       "      <td>...</td>\n",
       "      <td>...</td>\n",
       "      <td>...</td>\n",
       "      <td>...</td>\n",
       "      <td>...</td>\n",
       "      <td>...</td>\n",
       "      <td>...</td>\n",
       "      <td>...</td>\n",
       "      <td>...</td>\n",
       "      <td>...</td>\n",
       "      <td>...</td>\n",
       "      <td>...</td>\n",
       "      <td>...</td>\n",
       "      <td>...</td>\n",
       "      <td>...</td>\n",
       "      <td>...</td>\n",
       "      <td>...</td>\n",
       "      <td>...</td>\n",
       "      <td>...</td>\n",
       "      <td>...</td>\n",
       "    </tr>\n",
       "    <tr>\n",
       "      <th>423</th>\n",
       "      <td>Higher</td>\n",
       "      <td>Higher</td>\n",
       "      <td>Not Recorded</td>\n",
       "      <td>Normal</td>\n",
       "      <td>Higher</td>\n",
       "      <td>Not Recorded</td>\n",
       "      <td>1109</td>\n",
       "      <td>Wed</td>\n",
       "      <td>Relapsing Remitting</td>\n",
       "      <td>More than 9 Years</td>\n",
       "      <td>...</td>\n",
       "      <td>Recorded</td>\n",
       "      <td>Normal</td>\n",
       "      <td>Higher</td>\n",
       "      <td>Not Recorded</td>\n",
       "      <td>0.333333</td>\n",
       "      <td>0.555556</td>\n",
       "      <td>1</td>\n",
       "      <td>0.333333</td>\n",
       "      <td>0.666667</td>\n",
       "      <td>1</td>\n",
       "    </tr>\n",
       "    <tr>\n",
       "      <th>424</th>\n",
       "      <td>Normal</td>\n",
       "      <td>Normal</td>\n",
       "      <td>None</td>\n",
       "      <td>Lower</td>\n",
       "      <td>Higher</td>\n",
       "      <td>None</td>\n",
       "      <td>1110</td>\n",
       "      <td>Thu</td>\n",
       "      <td>Relapsing Remitting</td>\n",
       "      <td>More than 9 Years</td>\n",
       "      <td>...</td>\n",
       "      <td>Recorded</td>\n",
       "      <td>Higher</td>\n",
       "      <td>Lower</td>\n",
       "      <td>None</td>\n",
       "      <td>0.25</td>\n",
       "      <td>0.333333</td>\n",
       "      <td>1</td>\n",
       "      <td>0.25</td>\n",
       "      <td>0.333333</td>\n",
       "      <td>1</td>\n",
       "    </tr>\n",
       "    <tr>\n",
       "      <th>425</th>\n",
       "      <td>Normal</td>\n",
       "      <td>Higher</td>\n",
       "      <td>None</td>\n",
       "      <td>Higher</td>\n",
       "      <td>Normal</td>\n",
       "      <td>None</td>\n",
       "      <td>1110</td>\n",
       "      <td>Thu</td>\n",
       "      <td>Relapsing Remitting</td>\n",
       "      <td>More than 9 Years</td>\n",
       "      <td>...</td>\n",
       "      <td>Recorded</td>\n",
       "      <td>Lower</td>\n",
       "      <td>Lower</td>\n",
       "      <td>None</td>\n",
       "      <td>0.25</td>\n",
       "      <td>0.333333</td>\n",
       "      <td>1</td>\n",
       "      <td>0.25</td>\n",
       "      <td>0.333333</td>\n",
       "      <td>1</td>\n",
       "    </tr>\n",
       "    <tr>\n",
       "      <th>426</th>\n",
       "      <td>Not Recorded</td>\n",
       "      <td>Not Recorded</td>\n",
       "      <td>None</td>\n",
       "      <td>Not Recorded</td>\n",
       "      <td>Not Recorded</td>\n",
       "      <td>None</td>\n",
       "      <td>1110</td>\n",
       "      <td>Thu</td>\n",
       "      <td>Relapsing Remitting</td>\n",
       "      <td>More than 9 Years</td>\n",
       "      <td>...</td>\n",
       "      <td>Not Recorded</td>\n",
       "      <td>Lower</td>\n",
       "      <td>Higher</td>\n",
       "      <td>None</td>\n",
       "      <td>0.25</td>\n",
       "      <td>0.333333</td>\n",
       "      <td>1</td>\n",
       "      <td>0.25</td>\n",
       "      <td>0.333333</td>\n",
       "      <td>1</td>\n",
       "    </tr>\n",
       "    <tr>\n",
       "      <th>427</th>\n",
       "      <td>Not Recorded</td>\n",
       "      <td>Not Recorded</td>\n",
       "      <td>Not Recorded</td>\n",
       "      <td>Not Recorded</td>\n",
       "      <td>Not Recorded</td>\n",
       "      <td>Not Recorded</td>\n",
       "      <td>1110</td>\n",
       "      <td>Thu</td>\n",
       "      <td>Relapsing Remitting</td>\n",
       "      <td>More than 9 Years</td>\n",
       "      <td>...</td>\n",
       "      <td>Not Recorded</td>\n",
       "      <td>Higher</td>\n",
       "      <td>Lower</td>\n",
       "      <td>Not Recorded</td>\n",
       "      <td>0.25</td>\n",
       "      <td>0.333333</td>\n",
       "      <td>1</td>\n",
       "      <td>0.25</td>\n",
       "      <td>0.333333</td>\n",
       "      <td>1</td>\n",
       "    </tr>\n",
       "  </tbody>\n",
       "</table>\n",
       "<p>428 rows × 32 columns</p>\n",
       "</div>"
      ],
      "text/plain": [
       "    Next_Pain_Pred Next_Fatigue_Pred Next_PAW_Pred Next_Pain_True  \\\n",
       "0     Not Recorded      Not Recorded          None   Not Recorded   \n",
       "1           Normal            Normal          None         Higher   \n",
       "2           Normal            Normal          None         Normal   \n",
       "3           Normal            Higher        Normal         Normal   \n",
       "4           Normal            Normal          None         Normal   \n",
       "..             ...               ...           ...            ...   \n",
       "423         Higher            Higher  Not Recorded         Normal   \n",
       "424         Normal            Normal          None          Lower   \n",
       "425         Normal            Higher          None         Higher   \n",
       "426   Not Recorded      Not Recorded          None   Not Recorded   \n",
       "427   Not Recorded      Not Recorded  Not Recorded   Not Recorded   \n",
       "\n",
       "    Next_Fatigue_True Next_PAW_True Patient_ID Seventh_Day  \\\n",
       "0        Not Recorded          None       1001         Tue   \n",
       "1              Normal          None       1001         Tue   \n",
       "2              Normal          None       1001         Tue   \n",
       "3              Normal        Normal       1001         Tue   \n",
       "4              Normal          None       1002         Tue   \n",
       "..                ...           ...        ...         ...   \n",
       "423            Higher  Not Recorded       1109         Wed   \n",
       "424            Higher          None       1110         Thu   \n",
       "425            Normal          None       1110         Thu   \n",
       "426      Not Recorded          None       1110         Thu   \n",
       "427      Not Recorded  Not Recorded       1110         Thu   \n",
       "\n",
       "              MS_Subtype              How_long  ... Record_Next_Fatigue  \\\n",
       "0    Relapsing Remitting     Less than 5 Years  ...        Not Recorded   \n",
       "1    Relapsing Remitting     Less than 5 Years  ...            Recorded   \n",
       "2    Relapsing Remitting     Less than 5 Years  ...            Recorded   \n",
       "3    Relapsing Remitting     Less than 5 Years  ...            Recorded   \n",
       "4    Relapsing Remitting  Between 5 to 9 Years  ...            Recorded   \n",
       "..                   ...                   ...  ...                 ...   \n",
       "423  Relapsing Remitting     More than 9 Years  ...            Recorded   \n",
       "424  Relapsing Remitting     More than 9 Years  ...            Recorded   \n",
       "425  Relapsing Remitting     More than 9 Years  ...            Recorded   \n",
       "426  Relapsing Remitting     More than 9 Years  ...        Not Recorded   \n",
       "427  Relapsing Remitting     More than 9 Years  ...        Not Recorded   \n",
       "\n",
       "    Last_Acbout Current_Acbout Record_Next_PAW Precision_Pain  \\\n",
       "0         Lower          Lower            None       0.555556   \n",
       "1         Lower          Lower            None       0.555556   \n",
       "2         Lower          Lower            None       0.555556   \n",
       "3         Lower         Normal        Recorded       0.555556   \n",
       "4         Lower         Normal            None              1   \n",
       "..          ...            ...             ...            ...   \n",
       "423      Normal         Higher    Not Recorded       0.333333   \n",
       "424      Higher          Lower            None           0.25   \n",
       "425       Lower          Lower            None           0.25   \n",
       "426       Lower         Higher            None           0.25   \n",
       "427      Higher          Lower    Not Recorded           0.25   \n",
       "\n",
       "    Precision_Fatigue Precision_PAW Recall_Pain Recall_Fatigue Recall_PAW  \n",
       "0            0.666667             1    0.666667       0.555556          1  \n",
       "1            0.666667             1    0.666667       0.555556          1  \n",
       "2            0.666667             1    0.666667       0.555556          1  \n",
       "3            0.666667             1    0.666667       0.555556          1  \n",
       "4                 0.5             0           1          0.375          0  \n",
       "..                ...           ...         ...            ...        ...  \n",
       "423          0.555556             1    0.333333       0.666667          1  \n",
       "424          0.333333             1        0.25       0.333333          1  \n",
       "425          0.333333             1        0.25       0.333333          1  \n",
       "426          0.333333             1        0.25       0.333333          1  \n",
       "427          0.333333             1        0.25       0.333333          1  \n",
       "\n",
       "[428 rows x 32 columns]"
      ]
     },
     "execution_count": 486,
     "metadata": {},
     "output_type": "execute_result"
    }
   ],
   "source": [
    "prediction_df_precision"
   ]
  },
  {
   "cell_type": "code",
   "execution_count": 487,
   "metadata": {
    "ExecuteTime": {
     "end_time": "2020-04-05T02:17:22.322694Z",
     "start_time": "2020-04-05T02:17:22.311182Z"
    }
   },
   "outputs": [],
   "source": [
    "evidence_variable_list = ['Gender', 'Age', 'Current_Daytime_Interval', 'Current_Pain', 'Record_Next_Pain', 'Current_Fatigue', 'Record_Next_Fatigue', 'Last_Acbout', 'Current_Acbout', 'Record_Next_PAW']"
   ]
  },
  {
   "cell_type": "code",
   "execution_count": 431,
   "metadata": {
    "ExecuteTime": {
     "end_time": "2020-04-02T21:47:58.396188Z",
     "start_time": "2020-04-02T21:47:58.386731Z"
    }
   },
   "outputs": [],
   "source": [
    "#duplicateRowsDF = prediction_df[prediction_df.duplicated(subset = ['Gender', 'Age', 'Current_Daytime_Interval'])]"
   ]
  },
  {
   "cell_type": "code",
   "execution_count": 432,
   "metadata": {
    "ExecuteTime": {
     "end_time": "2020-04-02T21:47:58.729649Z",
     "start_time": "2020-04-02T21:47:58.726454Z"
    }
   },
   "outputs": [],
   "source": [
    "#duplicateRowsDF#.reset_index#(drop= True)"
   ]
  },
  {
   "cell_type": "code",
   "execution_count": 490,
   "metadata": {
    "ExecuteTime": {
     "end_time": "2020-04-05T02:19:58.753524Z",
     "start_time": "2020-04-05T02:19:57.977934Z"
    }
   },
   "outputs": [],
   "source": [
    "#grp_df = prediction_df.groupby(evidence_variable_list).sum().reset_index() \n",
    "#.agg({'Patient_ID':sum})\n",
    "#g_df = prediction_df.groupby(evidence_variable_list)[\"Patient_ID\", \"Next_Pain_Pred\"].describe().reset_index()\n",
    "#g_df = prediction_df.groupby(evidence_variable_list)['Patient_ID'].apply(lambda x: \"{%s}\" % ', '.join(x)).reset_index()\n",
    "#g_df = prediction_df.groupby(evidence_variable_list)['Patient_ID'].apply(list).['Pain_True'].apply(list).reset_index()\n",
    "\n",
    "g_df = prediction_df_precision.groupby(evidence_variable_list).agg(Patient_ID_list =('Patient_ID', list), Next_Pain_True_list =('Next_Pain_True', list), \n",
    "                                                 Next_Pain_Pred_list =('Next_Pain_Pred', list), Next_Fatigue_True_list =('Next_Fatigue_True', list), \n",
    "                                                 Next_Fatigue_Pred_list =('Next_Fatigue_Pred', list), \n",
    "                                                 Next_PAW_True_list =('Next_PAW_True', list), \n",
    "                                                 Next_PAW_Pred_list =('Next_PAW_Pred', list),\n",
    "                                                Seventh_Day_list =('Seventh_Day', list), \n",
    "                                                MS_Subtype =('MS_Subtype', list),\n",
    "                                                How_long =('How_long', list),\n",
    "                                                Education =('Education', list),\n",
    "                                                Work =('Work', list),\n",
    "                                                Living_Alone =('Living_Alone', list),\n",
    "                                                Use_Mobility_Aids =('Use_Mobility_Aids', list),\n",
    "                                                Raw_Cognition_Score =('Raw_Cognition_Score', list),\n",
    "                                                Raw_Depression_Score =('Raw_Depression_Score', list),\n",
    "                                                Personwise_Precision_Pain =('Precision_Pain', list),\n",
    "                                                Personwise_Precision_Fatigue =('Precision_Fatigue', list),\n",
    "                                                Personwise_Precision_PAW =('Precision_PAW', list),\n",
    "                                                Personwise_Recall_Pain =('Recall_Pain', list),\n",
    "                                                Personwise_Recall_Fatigue =('Recall_Fatigue', list),\n",
    "                                                Personwise_Recall_PAW =('Recall_PAW', list)).reset_index()\n",
    "\n",
    "\n",
    "\n"
   ]
  },
  {
   "cell_type": "code",
   "execution_count": 495,
   "metadata": {
    "ExecuteTime": {
     "end_time": "2020-04-06T17:57:45.073444Z",
     "start_time": "2020-04-06T17:57:45.004714Z"
    }
   },
   "outputs": [
    {
     "data": {
      "text/html": [
       "<div>\n",
       "<style scoped>\n",
       "    .dataframe tbody tr th:only-of-type {\n",
       "        vertical-align: middle;\n",
       "    }\n",
       "\n",
       "    .dataframe tbody tr th {\n",
       "        vertical-align: top;\n",
       "    }\n",
       "\n",
       "    .dataframe thead th {\n",
       "        text-align: right;\n",
       "    }\n",
       "</style>\n",
       "<table border=\"1\" class=\"dataframe\">\n",
       "  <thead>\n",
       "    <tr style=\"text-align: right;\">\n",
       "      <th></th>\n",
       "      <th>Gender</th>\n",
       "      <th>Age</th>\n",
       "      <th>Current_Daytime_Interval</th>\n",
       "      <th>Current_Pain</th>\n",
       "      <th>Record_Next_Pain</th>\n",
       "      <th>Current_Fatigue</th>\n",
       "      <th>Record_Next_Fatigue</th>\n",
       "      <th>Last_Acbout</th>\n",
       "      <th>Current_Acbout</th>\n",
       "      <th>Record_Next_PAW</th>\n",
       "      <th>...</th>\n",
       "      <th>Living_Alone</th>\n",
       "      <th>Use_Mobility_Aids</th>\n",
       "      <th>Raw_Cognition_Score</th>\n",
       "      <th>Raw_Depression_Score</th>\n",
       "      <th>Personwise_Precision_Pain</th>\n",
       "      <th>Personwise_Precision_Fatigue</th>\n",
       "      <th>Personwise_Precision_PAW</th>\n",
       "      <th>Personwise_Recall_Pain</th>\n",
       "      <th>Personwise_Recall_Fatigue</th>\n",
       "      <th>Personwise_Recall_PAW</th>\n",
       "    </tr>\n",
       "  </thead>\n",
       "  <tbody>\n",
       "    <tr>\n",
       "      <th>0</th>\n",
       "      <td>Female</td>\n",
       "      <td>60 and Older</td>\n",
       "      <td>Afternoon</td>\n",
       "      <td>Higher</td>\n",
       "      <td>Recorded</td>\n",
       "      <td>Normal</td>\n",
       "      <td>Recorded</td>\n",
       "      <td>Higher</td>\n",
       "      <td>Higher</td>\n",
       "      <td>None</td>\n",
       "      <td>...</td>\n",
       "      <td>[No]</td>\n",
       "      <td>[No]</td>\n",
       "      <td>[No Problems]</td>\n",
       "      <td>[No Depression]</td>\n",
       "      <td>[0.0]</td>\n",
       "      <td>[0.5]</td>\n",
       "      <td>[1.0]</td>\n",
       "      <td>[0.0]</td>\n",
       "      <td>[0.375]</td>\n",
       "      <td>[1.0]</td>\n",
       "    </tr>\n",
       "    <tr>\n",
       "      <th>1</th>\n",
       "      <td>Female</td>\n",
       "      <td>60 and Older</td>\n",
       "      <td>Afternoon</td>\n",
       "      <td>Lower</td>\n",
       "      <td>Recorded</td>\n",
       "      <td>Normal</td>\n",
       "      <td>Recorded</td>\n",
       "      <td>Normal</td>\n",
       "      <td>Normal</td>\n",
       "      <td>None</td>\n",
       "      <td>...</td>\n",
       "      <td>[No]</td>\n",
       "      <td>[No]</td>\n",
       "      <td>[Low]</td>\n",
       "      <td>[Low]</td>\n",
       "      <td>[0.5555555555555555]</td>\n",
       "      <td>[0.6666666666666666]</td>\n",
       "      <td>[1.0]</td>\n",
       "      <td>[0.6666666666666666]</td>\n",
       "      <td>[0.5555555555555555]</td>\n",
       "      <td>[1.0]</td>\n",
       "    </tr>\n",
       "    <tr>\n",
       "      <th>2</th>\n",
       "      <td>Female</td>\n",
       "      <td>60 and Older</td>\n",
       "      <td>Afternoon</td>\n",
       "      <td>Normal</td>\n",
       "      <td>Recorded</td>\n",
       "      <td>Higher</td>\n",
       "      <td>Recorded</td>\n",
       "      <td>Higher</td>\n",
       "      <td>Normal</td>\n",
       "      <td>None</td>\n",
       "      <td>...</td>\n",
       "      <td>[Yes]</td>\n",
       "      <td>[Yes]</td>\n",
       "      <td>[No Problems]</td>\n",
       "      <td>[No Depression]</td>\n",
       "      <td>[1.0]</td>\n",
       "      <td>[0.3333333333333333]</td>\n",
       "      <td>[1.0]</td>\n",
       "      <td>[1.0]</td>\n",
       "      <td>[0.3333333333333333]</td>\n",
       "      <td>[1.0]</td>\n",
       "    </tr>\n",
       "    <tr>\n",
       "      <th>3</th>\n",
       "      <td>Female</td>\n",
       "      <td>60 and Older</td>\n",
       "      <td>Afternoon</td>\n",
       "      <td>Normal</td>\n",
       "      <td>Recorded</td>\n",
       "      <td>Normal</td>\n",
       "      <td>Recorded</td>\n",
       "      <td>Lower</td>\n",
       "      <td>Higher</td>\n",
       "      <td>None</td>\n",
       "      <td>...</td>\n",
       "      <td>[No]</td>\n",
       "      <td>[Yes]</td>\n",
       "      <td>[Low]</td>\n",
       "      <td>[No Depression]</td>\n",
       "      <td>[1.0]</td>\n",
       "      <td>[0.5555555555555555]</td>\n",
       "      <td>[1.0]</td>\n",
       "      <td>[1.0]</td>\n",
       "      <td>[0.6666666666666666]</td>\n",
       "      <td>[1.0]</td>\n",
       "    </tr>\n",
       "    <tr>\n",
       "      <th>4</th>\n",
       "      <td>Female</td>\n",
       "      <td>60 and Older</td>\n",
       "      <td>Afternoon</td>\n",
       "      <td>Normal</td>\n",
       "      <td>Recorded</td>\n",
       "      <td>Normal</td>\n",
       "      <td>Recorded</td>\n",
       "      <td>Normal</td>\n",
       "      <td>Higher</td>\n",
       "      <td>None</td>\n",
       "      <td>...</td>\n",
       "      <td>[No]</td>\n",
       "      <td>[No]</td>\n",
       "      <td>[No Problems]</td>\n",
       "      <td>[Low]</td>\n",
       "      <td>[0.3333333333333333]</td>\n",
       "      <td>[0.1111111111111111]</td>\n",
       "      <td>[0.0]</td>\n",
       "      <td>[0.3333333333333333]</td>\n",
       "      <td>[0.16666666666666666]</td>\n",
       "      <td>[0.0]</td>\n",
       "    </tr>\n",
       "    <tr>\n",
       "      <th>...</th>\n",
       "      <td>...</td>\n",
       "      <td>...</td>\n",
       "      <td>...</td>\n",
       "      <td>...</td>\n",
       "      <td>...</td>\n",
       "      <td>...</td>\n",
       "      <td>...</td>\n",
       "      <td>...</td>\n",
       "      <td>...</td>\n",
       "      <td>...</td>\n",
       "      <td>...</td>\n",
       "      <td>...</td>\n",
       "      <td>...</td>\n",
       "      <td>...</td>\n",
       "      <td>...</td>\n",
       "      <td>...</td>\n",
       "      <td>...</td>\n",
       "      <td>...</td>\n",
       "      <td>...</td>\n",
       "      <td>...</td>\n",
       "      <td>...</td>\n",
       "    </tr>\n",
       "    <tr>\n",
       "      <th>336</th>\n",
       "      <td>Male</td>\n",
       "      <td>Younger than 30</td>\n",
       "      <td>Morning</td>\n",
       "      <td>Not Recorded</td>\n",
       "      <td>Not Recorded</td>\n",
       "      <td>Not Recorded</td>\n",
       "      <td>Not Recorded</td>\n",
       "      <td>Lower</td>\n",
       "      <td>Normal</td>\n",
       "      <td>None</td>\n",
       "      <td>...</td>\n",
       "      <td>[Yes]</td>\n",
       "      <td>[No]</td>\n",
       "      <td>[Not Recorded]</td>\n",
       "      <td>[Not Recorded]</td>\n",
       "      <td>[1.0]</td>\n",
       "      <td>[0.5]</td>\n",
       "      <td>[1.0]</td>\n",
       "      <td>[1.0]</td>\n",
       "      <td>[0.6666666666666666]</td>\n",
       "      <td>[1.0]</td>\n",
       "    </tr>\n",
       "    <tr>\n",
       "      <th>337</th>\n",
       "      <td>Male</td>\n",
       "      <td>Younger than 30</td>\n",
       "      <td>Morning</td>\n",
       "      <td>Not Recorded</td>\n",
       "      <td>Not Recorded</td>\n",
       "      <td>Not Recorded</td>\n",
       "      <td>Not Recorded</td>\n",
       "      <td>Normal</td>\n",
       "      <td>Higher</td>\n",
       "      <td>None</td>\n",
       "      <td>...</td>\n",
       "      <td>[No]</td>\n",
       "      <td>[No]</td>\n",
       "      <td>[Not Recorded]</td>\n",
       "      <td>[Not Recorded]</td>\n",
       "      <td>[0.3333333333333333]</td>\n",
       "      <td>[1.0]</td>\n",
       "      <td>[1.0]</td>\n",
       "      <td>[0.3333333333333333]</td>\n",
       "      <td>[1.0]</td>\n",
       "      <td>[1.0]</td>\n",
       "    </tr>\n",
       "    <tr>\n",
       "      <th>338</th>\n",
       "      <td>Male</td>\n",
       "      <td>Younger than 30</td>\n",
       "      <td>Wake</td>\n",
       "      <td>Lower</td>\n",
       "      <td>Recorded</td>\n",
       "      <td>Normal</td>\n",
       "      <td>Recorded</td>\n",
       "      <td>Higher</td>\n",
       "      <td>Normal</td>\n",
       "      <td>None</td>\n",
       "      <td>...</td>\n",
       "      <td>[Yes]</td>\n",
       "      <td>[No]</td>\n",
       "      <td>[Low]</td>\n",
       "      <td>[High]</td>\n",
       "      <td>[0.25]</td>\n",
       "      <td>[0.25]</td>\n",
       "      <td>[0.0]</td>\n",
       "      <td>[0.25]</td>\n",
       "      <td>[0.25]</td>\n",
       "      <td>[0.0]</td>\n",
       "    </tr>\n",
       "    <tr>\n",
       "      <th>339</th>\n",
       "      <td>Male</td>\n",
       "      <td>Younger than 30</td>\n",
       "      <td>Wake</td>\n",
       "      <td>Normal</td>\n",
       "      <td>Not Recorded</td>\n",
       "      <td>Normal</td>\n",
       "      <td>Not Recorded</td>\n",
       "      <td>Lower</td>\n",
       "      <td>Normal</td>\n",
       "      <td>None</td>\n",
       "      <td>...</td>\n",
       "      <td>[No]</td>\n",
       "      <td>[No]</td>\n",
       "      <td>[No Problems]</td>\n",
       "      <td>[No Depression]</td>\n",
       "      <td>[0.3333333333333333]</td>\n",
       "      <td>[1.0]</td>\n",
       "      <td>[1.0]</td>\n",
       "      <td>[0.3333333333333333]</td>\n",
       "      <td>[1.0]</td>\n",
       "      <td>[1.0]</td>\n",
       "    </tr>\n",
       "    <tr>\n",
       "      <th>340</th>\n",
       "      <td>Male</td>\n",
       "      <td>Younger than 30</td>\n",
       "      <td>Wake</td>\n",
       "      <td>Normal</td>\n",
       "      <td>Not Recorded</td>\n",
       "      <td>Normal</td>\n",
       "      <td>Not Recorded</td>\n",
       "      <td>Normal</td>\n",
       "      <td>Lower</td>\n",
       "      <td>None</td>\n",
       "      <td>...</td>\n",
       "      <td>[Yes]</td>\n",
       "      <td>[No]</td>\n",
       "      <td>[No Problems]</td>\n",
       "      <td>[Low]</td>\n",
       "      <td>[1.0]</td>\n",
       "      <td>[0.5]</td>\n",
       "      <td>[1.0]</td>\n",
       "      <td>[1.0]</td>\n",
       "      <td>[0.6666666666666666]</td>\n",
       "      <td>[1.0]</td>\n",
       "    </tr>\n",
       "  </tbody>\n",
       "</table>\n",
       "<p>341 rows × 32 columns</p>\n",
       "</div>"
      ],
      "text/plain": [
       "     Gender              Age Current_Daytime_Interval  Current_Pain  \\\n",
       "0    Female     60 and Older                Afternoon        Higher   \n",
       "1    Female     60 and Older                Afternoon         Lower   \n",
       "2    Female     60 and Older                Afternoon        Normal   \n",
       "3    Female     60 and Older                Afternoon        Normal   \n",
       "4    Female     60 and Older                Afternoon        Normal   \n",
       "..      ...              ...                      ...           ...   \n",
       "336    Male  Younger than 30                  Morning  Not Recorded   \n",
       "337    Male  Younger than 30                  Morning  Not Recorded   \n",
       "338    Male  Younger than 30                     Wake         Lower   \n",
       "339    Male  Younger than 30                     Wake        Normal   \n",
       "340    Male  Younger than 30                     Wake        Normal   \n",
       "\n",
       "    Record_Next_Pain Current_Fatigue Record_Next_Fatigue Last_Acbout  \\\n",
       "0           Recorded          Normal            Recorded      Higher   \n",
       "1           Recorded          Normal            Recorded      Normal   \n",
       "2           Recorded          Higher            Recorded      Higher   \n",
       "3           Recorded          Normal            Recorded       Lower   \n",
       "4           Recorded          Normal            Recorded      Normal   \n",
       "..               ...             ...                 ...         ...   \n",
       "336     Not Recorded    Not Recorded        Not Recorded       Lower   \n",
       "337     Not Recorded    Not Recorded        Not Recorded      Normal   \n",
       "338         Recorded          Normal            Recorded      Higher   \n",
       "339     Not Recorded          Normal        Not Recorded       Lower   \n",
       "340     Not Recorded          Normal        Not Recorded      Normal   \n",
       "\n",
       "    Current_Acbout Record_Next_PAW  ... Living_Alone Use_Mobility_Aids  \\\n",
       "0           Higher            None  ...         [No]              [No]   \n",
       "1           Normal            None  ...         [No]              [No]   \n",
       "2           Normal            None  ...        [Yes]             [Yes]   \n",
       "3           Higher            None  ...         [No]             [Yes]   \n",
       "4           Higher            None  ...         [No]              [No]   \n",
       "..             ...             ...  ...          ...               ...   \n",
       "336         Normal            None  ...        [Yes]              [No]   \n",
       "337         Higher            None  ...         [No]              [No]   \n",
       "338         Normal            None  ...        [Yes]              [No]   \n",
       "339         Normal            None  ...         [No]              [No]   \n",
       "340          Lower            None  ...        [Yes]              [No]   \n",
       "\n",
       "    Raw_Cognition_Score Raw_Depression_Score Personwise_Precision_Pain  \\\n",
       "0         [No Problems]      [No Depression]                     [0.0]   \n",
       "1                 [Low]                [Low]      [0.5555555555555555]   \n",
       "2         [No Problems]      [No Depression]                     [1.0]   \n",
       "3                 [Low]      [No Depression]                     [1.0]   \n",
       "4         [No Problems]                [Low]      [0.3333333333333333]   \n",
       "..                  ...                  ...                       ...   \n",
       "336      [Not Recorded]       [Not Recorded]                     [1.0]   \n",
       "337      [Not Recorded]       [Not Recorded]      [0.3333333333333333]   \n",
       "338               [Low]               [High]                    [0.25]   \n",
       "339       [No Problems]      [No Depression]      [0.3333333333333333]   \n",
       "340       [No Problems]                [Low]                     [1.0]   \n",
       "\n",
       "    Personwise_Precision_Fatigue Personwise_Precision_PAW  \\\n",
       "0                          [0.5]                    [1.0]   \n",
       "1           [0.6666666666666666]                    [1.0]   \n",
       "2           [0.3333333333333333]                    [1.0]   \n",
       "3           [0.5555555555555555]                    [1.0]   \n",
       "4           [0.1111111111111111]                    [0.0]   \n",
       "..                           ...                      ...   \n",
       "336                        [0.5]                    [1.0]   \n",
       "337                        [1.0]                    [1.0]   \n",
       "338                       [0.25]                    [0.0]   \n",
       "339                        [1.0]                    [1.0]   \n",
       "340                        [0.5]                    [1.0]   \n",
       "\n",
       "    Personwise_Recall_Pain Personwise_Recall_Fatigue Personwise_Recall_PAW  \n",
       "0                    [0.0]                   [0.375]                 [1.0]  \n",
       "1     [0.6666666666666666]      [0.5555555555555555]                 [1.0]  \n",
       "2                    [1.0]      [0.3333333333333333]                 [1.0]  \n",
       "3                    [1.0]      [0.6666666666666666]                 [1.0]  \n",
       "4     [0.3333333333333333]     [0.16666666666666666]                 [0.0]  \n",
       "..                     ...                       ...                   ...  \n",
       "336                  [1.0]      [0.6666666666666666]                 [1.0]  \n",
       "337   [0.3333333333333333]                     [1.0]                 [1.0]  \n",
       "338                 [0.25]                    [0.25]                 [0.0]  \n",
       "339   [0.3333333333333333]                     [1.0]                 [1.0]  \n",
       "340                  [1.0]      [0.6666666666666666]                 [1.0]  \n",
       "\n",
       "[341 rows x 32 columns]"
      ]
     },
     "execution_count": 495,
     "metadata": {},
     "output_type": "execute_result"
    }
   ],
   "source": [
    "g_df"
   ]
  },
  {
   "cell_type": "code",
   "execution_count": null,
   "metadata": {},
   "outputs": [],
   "source": []
  },
  {
   "cell_type": "code",
   "execution_count": 492,
   "metadata": {
    "ExecuteTime": {
     "end_time": "2020-04-05T02:20:05.803271Z",
     "start_time": "2020-04-05T02:20:05.720074Z"
    }
   },
   "outputs": [
    {
     "name": "stdout",
     "output_type": "stream",
     "text": [
      "['1104']\n",
      "['Relapsing Remitting']\n",
      "['1048']\n",
      "['Primary Progressive']\n",
      "['1025']\n",
      "['Secondary Progressive']\n",
      "['1093']\n",
      "['Secondary Progressive']\n",
      "['1036']\n",
      "['Relapsing Remitting']\n",
      "['1041']\n",
      "['Primary Progressive']\n",
      "['1036']\n",
      "['Relapsing Remitting']\n",
      "['1104']\n",
      "['Relapsing Remitting']\n",
      "['1093']\n",
      "['Secondary Progressive']\n",
      "['1048']\n",
      "['Primary Progressive']\n",
      "['1025']\n",
      "['Secondary Progressive']\n",
      "['1041']\n",
      "['Primary Progressive']\n",
      "['1036']\n",
      "['Relapsing Remitting']\n",
      "['1025']\n",
      "['Secondary Progressive']\n",
      "['1093']\n",
      "['Secondary Progressive']\n",
      "['1104']\n",
      "['Relapsing Remitting']\n",
      "['1048']\n",
      "['Primary Progressive']\n",
      "['1041']\n",
      "['Primary Progressive']\n",
      "['1104']\n",
      "['Relapsing Remitting']\n",
      "['1036']\n",
      "['Relapsing Remitting']\n",
      "['1093']\n",
      "['Secondary Progressive']\n",
      "['1025']\n",
      "['Secondary Progressive']\n",
      "['1048']\n",
      "['Primary Progressive']\n",
      "['1041']\n",
      "['Primary Progressive']\n",
      "['1038']\n",
      "['Relapsing Remitting']\n",
      "['1110']\n",
      "['Relapsing Remitting']\n",
      "['1063']\n",
      "['Relapsing Remitting']\n",
      "['1046']\n",
      "['Relapsing Remitting']\n",
      "['1092']\n",
      "['Relapsing Remitting']\n",
      "['1073']\n",
      "['Relapsing Remitting']\n",
      "['1059']\n",
      "['Relapsing Remitting']\n",
      "['1064']\n",
      "['Relapsing Remitting']\n",
      "['1011']\n",
      "['Secondary Progressive']\n",
      "['1042']\n",
      "['Relapsing Remitting']\n",
      "['1001']\n",
      "['Relapsing Remitting']\n",
      "['1024']\n",
      "['Relapsing Remitting']\n",
      "['1056']\n",
      "['Relapsing Remitting']\n",
      "['1100']\n",
      "['Relapsing Remitting']\n",
      "['1067']\n",
      "['Primary Progressive']\n",
      "['1012']\n",
      "['Relapsing Remitting']\n",
      "['1018']\n",
      "['Relapsing Remitting']\n",
      "['1034']\n",
      "['Relapsing Remitting']\n",
      "['1004']\n",
      "['Not Available']\n",
      "['1088']\n",
      "['Relapsing Remitting']\n",
      "['1052']\n",
      "['Relapsing Remitting']\n",
      "['1075', '1096']\n",
      "['Not Available', 'Relapsing Remitting']\n",
      "['1030']\n",
      "['Secondary Progressive']\n",
      "['1082']\n",
      "['Relapsing Remitting']\n",
      "['1085']\n",
      "['Relapsing Remitting']\n",
      "['1026']\n",
      "['Relapsing Remitting']\n",
      "['1087']\n",
      "['Relapsing Remitting']\n",
      "['1031', '1069']\n",
      "['Relapsing Remitting', 'Relapsing Remitting']\n",
      "['1006']\n",
      "['Not Available']\n",
      "['1105']\n",
      "['Relapsing Remitting']\n",
      "['1049']\n",
      "['Secondary Progressive']\n",
      "['1005', '1023', '1033', '1095', '1107']\n",
      "['Relapsing Remitting', 'Secondary Progressive', 'Relapsing Remitting', 'Relapsing Remitting', 'Not Available']\n",
      "['1002', '1053']\n",
      "['Relapsing Remitting', 'Primary Progressive']\n",
      "['1022']\n",
      "['Relapsing Remitting']\n",
      "['1020', '1106']\n",
      "['Primary Progressive', 'Relapsing Remitting']\n",
      "['1035']\n",
      "['Primary Progressive']\n",
      "['1094']\n",
      "['Relapsing Remitting']\n",
      "['1045', '1050']\n",
      "['Not Available', 'Secondary Progressive']\n",
      "['1010', '1016', '1043', '1060']\n",
      "['Relapsing Remitting', 'Relapsing Remitting', 'Relapsing Remitting', 'Relapsing Remitting']\n",
      "['1007', '1074', '1076', '1109']\n",
      "['Relapsing Remitting', 'Not Available', 'Relapsing Remitting', 'Relapsing Remitting']\n",
      "['1009']\n",
      "['Relapsing Remitting']\n",
      "['1066']\n",
      "['Relapsing Remitting']\n",
      "['1044']\n",
      "['Relapsing Remitting']\n",
      "['1063']\n",
      "['Relapsing Remitting']\n",
      "['1049']\n",
      "['Secondary Progressive']\n",
      "['1018']\n",
      "['Relapsing Remitting']\n",
      "['1067']\n",
      "['Primary Progressive']\n",
      "['1042']\n",
      "['Relapsing Remitting']\n",
      "['1107']\n",
      "['Not Available']\n",
      "['1052']\n",
      "['Relapsing Remitting']\n",
      "['1043']\n",
      "['Relapsing Remitting']\n",
      "['1056']\n",
      "['Relapsing Remitting']\n",
      "['1073']\n",
      "['Relapsing Remitting']\n",
      "['1109']\n",
      "['Relapsing Remitting']\n",
      "['1076']\n",
      "['Relapsing Remitting']\n",
      "['1005', '1087']\n",
      "['Relapsing Remitting', 'Relapsing Remitting']\n",
      "['1064']\n",
      "['Relapsing Remitting']\n",
      "['1006']\n",
      "['Not Available']\n",
      "['1011']\n",
      "['Secondary Progressive']\n",
      "['1016']\n",
      "['Relapsing Remitting']\n",
      "['1024']\n",
      "['Relapsing Remitting']\n",
      "['1022']\n",
      "['Relapsing Remitting']\n",
      "['1092']\n",
      "['Relapsing Remitting']\n",
      "['1059']\n",
      "['Relapsing Remitting']\n",
      "['1105']\n",
      "['Relapsing Remitting']\n",
      "['1034']\n",
      "['Relapsing Remitting']\n",
      "['1045']\n",
      "['Not Available']\n",
      "['1023']\n",
      "['Secondary Progressive']\n",
      "['1030']\n",
      "['Secondary Progressive']\n",
      "['1046']\n",
      "['Relapsing Remitting']\n",
      "['1095']\n",
      "['Relapsing Remitting']\n",
      "['1053', '1085']\n",
      "['Primary Progressive', 'Relapsing Remitting']\n",
      "['1074']\n",
      "['Not Available']\n",
      "['1026', '1094']\n",
      "['Relapsing Remitting', 'Relapsing Remitting']\n",
      "['1069']\n",
      "['Relapsing Remitting']\n",
      "['1031']\n",
      "['Relapsing Remitting']\n",
      "['1020', '1106']\n",
      "['Primary Progressive', 'Relapsing Remitting']\n",
      "['1050']\n",
      "['Secondary Progressive']\n",
      "['1033']\n",
      "['Relapsing Remitting']\n",
      "['1010', '1060']\n",
      "['Relapsing Remitting', 'Relapsing Remitting']\n",
      "['1012']\n",
      "['Relapsing Remitting']\n",
      "['1035', '1082']\n",
      "['Primary Progressive', 'Relapsing Remitting']\n",
      "['1001', '1002']\n",
      "['Relapsing Remitting', 'Relapsing Remitting']\n",
      "['1007']\n",
      "['Relapsing Remitting']\n",
      "['1075', '1096']\n",
      "['Not Available', 'Relapsing Remitting']\n",
      "['1110']\n",
      "['Relapsing Remitting']\n",
      "['1004']\n",
      "['Not Available']\n",
      "['1044']\n",
      "['Relapsing Remitting']\n",
      "['1100']\n",
      "['Relapsing Remitting']\n",
      "['1038']\n",
      "['Relapsing Remitting']\n",
      "['1009']\n",
      "['Relapsing Remitting']\n",
      "['1066']\n",
      "['Relapsing Remitting']\n",
      "['1088']\n",
      "['Relapsing Remitting']\n",
      "['1092']\n",
      "['Relapsing Remitting']\n",
      "['1059']\n",
      "['Relapsing Remitting']\n",
      "['1063']\n",
      "['Relapsing Remitting']\n",
      "['1020']\n",
      "['Primary Progressive']\n",
      "['1087']\n",
      "['Relapsing Remitting']\n",
      "['1046', '1064']\n",
      "['Relapsing Remitting', 'Relapsing Remitting']\n",
      "['1106']\n",
      "['Relapsing Remitting']\n",
      "['1056', '1076']\n",
      "['Relapsing Remitting', 'Relapsing Remitting']\n",
      "['1110']\n",
      "['Relapsing Remitting']\n",
      "['1034']\n",
      "['Relapsing Remitting']\n",
      "['1105']\n",
      "['Relapsing Remitting']\n",
      "['1067']\n",
      "['Primary Progressive']\n",
      "['1006']\n",
      "['Not Available']\n",
      "['1043']\n",
      "['Relapsing Remitting']\n",
      "['1082']\n",
      "['Relapsing Remitting']\n",
      "['1073']\n",
      "['Relapsing Remitting']\n",
      "['1049']\n",
      "['Secondary Progressive']\n",
      "['1005', '1031']\n",
      "['Relapsing Remitting', 'Relapsing Remitting']\n",
      "['1050']\n",
      "['Secondary Progressive']\n",
      "['1042', '1096', '1100']\n",
      "['Relapsing Remitting', 'Relapsing Remitting', 'Relapsing Remitting']\n",
      "['1012']\n",
      "['Relapsing Remitting']\n",
      "['1023', '1053', '1069', '1075']\n",
      "['Secondary Progressive', 'Primary Progressive', 'Relapsing Remitting', 'Not Available']\n",
      "['1011', '1033', '1038', '1107']\n",
      "['Secondary Progressive', 'Relapsing Remitting', 'Relapsing Remitting', 'Not Available']\n",
      "['1024']\n",
      "['Relapsing Remitting']\n",
      "['1010', '1026']\n",
      "['Relapsing Remitting', 'Relapsing Remitting']\n",
      "['1094']\n",
      "['Relapsing Remitting']\n",
      "['1002', '1004', '1022', '1052', '1095']\n",
      "['Relapsing Remitting', 'Not Available', 'Relapsing Remitting', 'Relapsing Remitting', 'Relapsing Remitting']\n",
      "['1035']\n",
      "['Primary Progressive']\n",
      "['1007', '1016', '1045', '1060', '1074', '1085', '1109']\n",
      "['Relapsing Remitting', 'Relapsing Remitting', 'Not Available', 'Relapsing Remitting', 'Not Available', 'Relapsing Remitting', 'Relapsing Remitting']\n",
      "['1030']\n",
      "['Secondary Progressive']\n",
      "['1009', '1066']\n",
      "['Relapsing Remitting', 'Relapsing Remitting']\n",
      "['1044']\n",
      "['Relapsing Remitting']\n",
      "['1001', '1088']\n",
      "['Relapsing Remitting', 'Relapsing Remitting']\n",
      "['1018']\n",
      "['Relapsing Remitting']\n",
      "['1018']\n",
      "['Relapsing Remitting']\n",
      "['1046']\n",
      "['Relapsing Remitting']\n",
      "['1020']\n",
      "['Primary Progressive']\n",
      "['1063']\n",
      "['Relapsing Remitting']\n",
      "['1042']\n",
      "['Relapsing Remitting']\n",
      "['1005', '1011', '1031']\n",
      "['Relapsing Remitting', 'Secondary Progressive', 'Relapsing Remitting']\n",
      "['1109']\n",
      "['Relapsing Remitting']\n",
      "['1087']\n",
      "['Relapsing Remitting']\n",
      "['1076']\n",
      "['Relapsing Remitting']\n",
      "['1066']\n",
      "['Relapsing Remitting']\n",
      "['1009']\n",
      "['Relapsing Remitting']\n",
      "['1026']\n",
      "['Relapsing Remitting']\n",
      "['1105']\n",
      "['Relapsing Remitting']\n",
      "['1024']\n",
      "['Relapsing Remitting']\n",
      "['1035']\n",
      "['Primary Progressive']\n",
      "['1034']\n",
      "['Relapsing Remitting']\n",
      "['1059']\n",
      "['Relapsing Remitting']\n",
      "['1088']\n",
      "['Relapsing Remitting']\n",
      "['1095']\n",
      "['Relapsing Remitting']\n",
      "['1082']\n",
      "['Relapsing Remitting']\n",
      "['1043']\n",
      "['Relapsing Remitting']\n",
      "['1006', '1016', '1022', '1053', '1074', '1075']\n",
      "['Not Available', 'Relapsing Remitting', 'Relapsing Remitting', 'Primary Progressive', 'Not Available', 'Not Available']\n",
      "['1038', '1050']\n",
      "['Relapsing Remitting', 'Secondary Progressive']\n",
      "['1012']\n",
      "['Relapsing Remitting']\n",
      "['1004', '1060', '1085']\n",
      "['Not Available', 'Relapsing Remitting', 'Relapsing Remitting']\n",
      "['1092', '1107']\n",
      "['Relapsing Remitting', 'Not Available']\n",
      "['1094', '1096']\n",
      "['Relapsing Remitting', 'Relapsing Remitting']\n",
      "['1002', '1045', '1052', '1056', '1069', '1073']\n",
      "['Relapsing Remitting', 'Not Available', 'Relapsing Remitting', 'Relapsing Remitting', 'Relapsing Remitting', 'Relapsing Remitting']\n",
      "['1010', '1033']\n",
      "['Relapsing Remitting', 'Relapsing Remitting']\n",
      "['1100']\n",
      "['Relapsing Remitting']\n",
      "['1001']\n",
      "['Relapsing Remitting']\n",
      "['1044']\n",
      "['Relapsing Remitting']\n",
      "['1067', '1110']\n",
      "['Primary Progressive', 'Relapsing Remitting']\n",
      "['1007', '1064']\n",
      "['Relapsing Remitting', 'Relapsing Remitting']\n",
      "['1106']\n",
      "['Relapsing Remitting']\n",
      "['1030']\n",
      "['Secondary Progressive']\n",
      "['1023']\n",
      "['Secondary Progressive']\n",
      "['1049']\n",
      "['Secondary Progressive']\n",
      "['1083']\n",
      "['Relapsing Remitting']\n",
      "['1101']\n",
      "['Relapsing Remitting']\n",
      "['1028']\n",
      "['Primary Progressive']\n",
      "['1062']\n",
      "['Relapsing Remitting']\n",
      "['1027']\n",
      "['Relapsing Remitting']\n",
      "['1047']\n",
      "['Relapsing Remitting']\n",
      "['1054', '1070']\n",
      "['Secondary Progressive', 'Relapsing Remitting']\n",
      "['1055']\n",
      "['Relapsing Remitting']\n",
      "['1090']\n",
      "['Relapsing Remitting']\n",
      "['1054']\n",
      "['Secondary Progressive']\n",
      "['1083']\n",
      "['Relapsing Remitting']\n",
      "['1062']\n",
      "['Relapsing Remitting']\n",
      "['1027']\n",
      "['Relapsing Remitting']\n",
      "['1101']\n",
      "['Relapsing Remitting']\n",
      "['1028']\n",
      "['Primary Progressive']\n",
      "['1090']\n",
      "['Relapsing Remitting']\n",
      "['1047']\n",
      "['Relapsing Remitting']\n",
      "['1070']\n",
      "['Relapsing Remitting']\n",
      "['1055']\n",
      "['Relapsing Remitting']\n",
      "['1047']\n",
      "['Relapsing Remitting']\n",
      "['1062']\n",
      "['Relapsing Remitting']\n",
      "['1028', '1054']\n",
      "['Primary Progressive', 'Secondary Progressive']\n",
      "['1090']\n",
      "['Relapsing Remitting']\n",
      "['1101']\n",
      "['Relapsing Remitting']\n",
      "['1083']\n",
      "['Relapsing Remitting']\n",
      "['1055']\n",
      "['Relapsing Remitting']\n",
      "['1070']\n",
      "['Relapsing Remitting']\n",
      "['1027']\n",
      "['Relapsing Remitting']\n",
      "['1028']\n",
      "['Primary Progressive']\n",
      "['1027']\n",
      "['Relapsing Remitting']\n",
      "['1054']\n",
      "['Secondary Progressive']\n",
      "['1062']\n",
      "['Relapsing Remitting']\n",
      "['1047']\n",
      "['Relapsing Remitting']\n",
      "['1090']\n",
      "['Relapsing Remitting']\n",
      "['1055']\n",
      "['Relapsing Remitting']\n",
      "['1070']\n",
      "['Relapsing Remitting']\n",
      "['1083']\n",
      "['Relapsing Remitting']\n",
      "['1101']\n",
      "['Relapsing Remitting']\n",
      "['1071']\n",
      "['Primary Progressive']\n",
      "['1032']\n",
      "['Primary Progressive']\n",
      "['1077']\n",
      "['Progressive Relapsing']\n",
      "['1081']\n",
      "['Relapsing Remitting']\n",
      "['1099']\n",
      "['Secondary Progressive']\n",
      "['1032']\n",
      "['Primary Progressive']\n",
      "['1081']\n",
      "['Relapsing Remitting']\n",
      "['1099']\n",
      "['Secondary Progressive']\n",
      "['1071']\n",
      "['Primary Progressive']\n",
      "['1077']\n",
      "['Progressive Relapsing']\n",
      "['1032']\n",
      "['Primary Progressive']\n",
      "['1071']\n",
      "['Primary Progressive']\n",
      "['1081']\n",
      "['Relapsing Remitting']\n",
      "['1099']\n",
      "['Secondary Progressive']\n",
      "['1077']\n",
      "['Progressive Relapsing']\n",
      "['1099']\n",
      "['Secondary Progressive']\n",
      "['1071', '1081']\n",
      "['Primary Progressive', 'Relapsing Remitting']\n",
      "['1032', '1077']\n",
      "['Primary Progressive', 'Progressive Relapsing']\n",
      "['1065']\n",
      "['Not Available']\n",
      "['1086']\n",
      "['Relapsing Remitting']\n",
      "['1098']\n",
      "['Relapsing Remitting']\n",
      "['1014']\n",
      "['Relapsing Remitting']\n",
      "['1102']\n",
      "['Relapsing Remitting']\n",
      "['1058']\n",
      "['Relapsing Remitting']\n",
      "['1037']\n",
      "['Primary Progressive']\n",
      "['1008']\n",
      "['Relapsing Remitting']\n",
      "['1072']\n",
      "['Not Available']\n",
      "['1097']\n",
      "['Primary Progressive']\n",
      "['1015']\n",
      "['Relapsing Remitting']\n",
      "['1040']\n",
      "['Relapsing Remitting']\n",
      "['1091']\n",
      "['Secondary Progressive']\n",
      "['1039', '1079', '1108']\n",
      "['Secondary Progressive', 'Primary Progressive', 'Secondary Progressive']\n",
      "['1019']\n",
      "['Relapsing Remitting']\n",
      "['1003', '1068']\n",
      "['Primary Progressive', 'Relapsing Remitting']\n",
      "['1078']\n",
      "['Secondary Progressive']\n",
      "['1029']\n",
      "['Primary Progressive']\n",
      "['1057', '1080', '1089']\n",
      "['Progressive Relapsing', 'Relapsing Remitting', 'Relapsing Remitting']\n",
      "['1103']\n",
      "['Relapsing Remitting']\n",
      "['1072']\n",
      "['Not Available']\n",
      "['1086']\n",
      "['Relapsing Remitting']\n",
      "['1037']\n",
      "['Primary Progressive']\n",
      "['1097']\n",
      "['Primary Progressive']\n",
      "['1103']\n",
      "['Relapsing Remitting']\n",
      "['1008']\n",
      "['Relapsing Remitting']\n",
      "['1091']\n",
      "['Secondary Progressive']\n",
      "['1039']\n",
      "['Secondary Progressive']\n",
      "['1079']\n",
      "['Primary Progressive']\n",
      "['1014']\n",
      "['Relapsing Remitting']\n",
      "['1019']\n",
      "['Relapsing Remitting']\n",
      "['1098']\n",
      "['Relapsing Remitting']\n",
      "['1108']\n",
      "['Secondary Progressive']\n",
      "['1058']\n",
      "['Relapsing Remitting']\n",
      "['1102']\n",
      "['Relapsing Remitting']\n",
      "['1040']\n",
      "['Relapsing Remitting']\n",
      "['1015']\n",
      "['Relapsing Remitting']\n",
      "['1003', '1068']\n",
      "['Primary Progressive', 'Relapsing Remitting']\n",
      "['1029']\n",
      "['Primary Progressive']\n",
      "['1057', '1080', '1089']\n",
      "['Progressive Relapsing', 'Relapsing Remitting', 'Relapsing Remitting']\n",
      "['1078']\n",
      "['Secondary Progressive']\n",
      "['1065']\n",
      "['Not Available']\n",
      "['1068']\n",
      "['Relapsing Remitting']\n",
      "['1086']\n",
      "['Relapsing Remitting']\n",
      "['1039', '1097']\n",
      "['Secondary Progressive', 'Primary Progressive']\n",
      "['1058']\n",
      "['Relapsing Remitting']\n",
      "['1008']\n",
      "['Relapsing Remitting']\n",
      "['1108']\n",
      "['Secondary Progressive']\n",
      "['1103']\n",
      "['Relapsing Remitting']\n",
      "['1072']\n",
      "['Not Available']\n",
      "['1014']\n",
      "['Relapsing Remitting']\n",
      "['1098']\n",
      "['Relapsing Remitting']\n",
      "['1003']\n",
      "['Primary Progressive']\n",
      "['1102']\n",
      "['Relapsing Remitting']\n",
      "['1019']\n",
      "['Relapsing Remitting']\n",
      "['1037']\n",
      "['Primary Progressive']\n",
      "['1079']\n",
      "['Primary Progressive']\n",
      "['1091']\n",
      "['Secondary Progressive']\n",
      "['1029']\n",
      "['Primary Progressive']\n",
      "['1078']\n",
      "['Secondary Progressive']\n",
      "['1057', '1080', '1089']\n",
      "['Progressive Relapsing', 'Relapsing Remitting', 'Relapsing Remitting']\n",
      "['1015']\n",
      "['Relapsing Remitting']\n",
      "['1040']\n",
      "['Relapsing Remitting']\n",
      "['1065']\n",
      "['Not Available']\n",
      "['1015']\n",
      "['Relapsing Remitting']\n",
      "['1103', '1108']\n",
      "['Relapsing Remitting', 'Secondary Progressive']\n",
      "['1058']\n",
      "['Relapsing Remitting']\n",
      "['1102']\n",
      "['Relapsing Remitting']\n",
      "['1019']\n",
      "['Relapsing Remitting']\n",
      "['1008']\n",
      "['Relapsing Remitting']\n",
      "['1037']\n",
      "['Primary Progressive']\n",
      "['1079']\n",
      "['Primary Progressive']\n",
      "['1065']\n",
      "['Not Available']\n",
      "['1029', '1040']\n",
      "['Primary Progressive', 'Relapsing Remitting']\n",
      "['1003']\n",
      "['Primary Progressive']\n",
      "['1097']\n",
      "['Primary Progressive']\n",
      "['1086']\n",
      "['Relapsing Remitting']\n",
      "['1098']\n",
      "['Relapsing Remitting']\n",
      "['1039']\n",
      "['Secondary Progressive']\n",
      "['1078']\n",
      "['Secondary Progressive']\n",
      "['1057', '1080', '1089']\n",
      "['Progressive Relapsing', 'Relapsing Remitting', 'Relapsing Remitting']\n",
      "['1014', '1072']\n",
      "['Relapsing Remitting', 'Not Available']\n",
      "['1068']\n",
      "['Relapsing Remitting']\n",
      "['1091']\n",
      "['Secondary Progressive']\n",
      "['1084']\n",
      "['Relapsing Remitting']\n",
      "['1013']\n",
      "['Relapsing Remitting']\n",
      "['1061']\n",
      "['Relapsing Remitting']\n",
      "['1084']\n",
      "['Relapsing Remitting']\n",
      "['1061']\n",
      "['Relapsing Remitting']\n",
      "['1013']\n",
      "['Relapsing Remitting']\n",
      "['1084']\n",
      "['Relapsing Remitting']\n",
      "['1061']\n",
      "['Relapsing Remitting']\n",
      "['1013']\n",
      "['Relapsing Remitting']\n",
      "['1084']\n",
      "['Relapsing Remitting']\n",
      "['1013']\n",
      "['Relapsing Remitting']\n",
      "['1061']\n",
      "['Relapsing Remitting']\n"
     ]
    }
   ],
   "source": [
    "for i in range(len(g_df)):\n",
    "    print(g_df.loc[i, \"Patient_ID_list\"])\n",
    "    print(g_df.loc[i, 'MS_Subtype'])\n",
    "    "
   ]
  },
  {
   "cell_type": "code",
   "execution_count": 493,
   "metadata": {
    "ExecuteTime": {
     "end_time": "2020-04-05T02:20:09.630267Z",
     "start_time": "2020-04-05T02:20:09.606454Z"
    }
   },
   "outputs": [],
   "source": [
    "g_df.to_csv(\"csv_files_MS/group_prediction_df.csv\", index = False)"
   ]
  },
  {
   "cell_type": "markdown",
   "metadata": {},
   "source": [
    "### precision recall overall"
   ]
  },
  {
   "cell_type": "code",
   "execution_count": 1011,
   "metadata": {
    "ExecuteTime": {
     "end_time": "2020-03-30T10:51:47.029291Z",
     "start_time": "2020-03-30T10:51:47.023689Z"
    }
   },
   "outputs": [],
   "source": [
    "########## Calculate precision, recall, accuracy\n",
    "from sklearn.metrics import precision_score, recall_score, balanced_accuracy_score, accuracy_score"
   ]
  },
  {
   "cell_type": "code",
   "execution_count": 1033,
   "metadata": {
    "ExecuteTime": {
     "end_time": "2020-03-30T11:10:09.842596Z",
     "start_time": "2020-03-30T11:10:09.800462Z"
    }
   },
   "outputs": [
    {
     "name": "stdout",
     "output_type": "stream",
     "text": [
      "Precision_Pain_joint 0.5837662337662337\n",
      "Precision_Fatigue_joint 0.5588109102053326\n",
      "Precision_PAW_joint 0.5588109102053326\n",
      "\n",
      "\n",
      "Precision_Pain_marginal 0.5668768770138348\n",
      "Precision_Fatigue_marginal 0.5904930560401982\n",
      "Precision_PAW_joint 0.5904930560401982\n"
     ]
    }
   ],
   "source": [
    "## Precision\n",
    "\n",
    "#### For joint proba distribution \n",
    "avg_type = 'macro'\n",
    "\n",
    "Precision_Pain = precision_score(predict_data[\"Next_Pain\"], prediction_df[\"Next_Pain_Pred\"], average = avg_type)\n",
    "print(\"Precision_Pain_joint\", Precision_Pain)\n",
    "Precision_Fatigue = precision_score(predict_data[\"Next_Fatigue\"], prediction_df[\"Next_Fatigue_Pred\"], average = avg_type)\n",
    "print(\"Precision_Fatigue_joint\", Precision_Fatigue)\n",
    "Precision_PAW = precision_score(prediction_df_dummy[\"Next_PAW\"], prediction_df_dummy[\"Next_PAW_Pred\"], average = avg_type)\n",
    "print(\"Precision_PAW_joint\", Precision_Fatigue)\n",
    "print(\"\\n\")\n",
    "\n",
    "\n",
    "#### For marginal proba distribution\n",
    "Precision_Pain = precision_score(predict_data[\"Next_Pain\"], prediction_marginal_df[\"Next_Pain_Pred\"], average = avg_type)\n",
    "print(\"Precision_Pain_marginal\", Precision_Pain)\n",
    "Precision_Fatigue = precision_score(predict_data[\"Next_Fatigue\"], prediction_marginal_df[\"Next_Fatigue_Pred\"], average = avg_type)\n",
    "print(\"Precision_Fatigue_marginal\", Precision_Fatigue)\n",
    "Precision_PAW = precision_score(prediction_marginal_df_dummy[\"Next_PAW\"], prediction_marginal_df_dummy[\"Next_PAW_Pred\"], average = avg_type)\n",
    "print(\"Precision_PAW_joint\", Precision_Fatigue)"
   ]
  },
  {
   "cell_type": "code",
   "execution_count": 1034,
   "metadata": {
    "ExecuteTime": {
     "end_time": "2020-03-30T11:10:42.080494Z",
     "start_time": "2020-03-30T11:10:42.038373Z"
    }
   },
   "outputs": [
    {
     "name": "stdout",
     "output_type": "stream",
     "text": [
      "recall_Pain_joint 0.5250121540791358\n",
      "recall_Fatigue_joint 0.5277075754235108\n",
      "recall_PAW_joint 0.5277075754235108\n",
      "\n",
      "\n",
      "recall_Pain_marginal 0.5426171336406371\n",
      "recall_Fatigue_marginal 0.5617155250554269\n",
      "recall_PAW_joint 0.5617155250554269\n"
     ]
    }
   ],
   "source": [
    "#Recall\n",
    "#### For joint proba distribution \n",
    "avg_type = 'macro'\n",
    "\n",
    "recall_Pain = recall_score(predict_data[\"Next_Pain\"], prediction_df[\"Next_Pain_Pred\"], average = avg_type)\n",
    "print(\"recall_Pain_joint\", recall_Pain)\n",
    "recall_Fatigue = recall_score(predict_data[\"Next_Fatigue\"], prediction_df[\"Next_Fatigue_Pred\"], average = avg_type)\n",
    "print(\"recall_Fatigue_joint\", recall_Fatigue)\n",
    "recall_PAW = recall_score(prediction_df_dummy[\"Next_PAW\"], prediction_df_dummy[\"Next_PAW_Pred\"], average = avg_type)\n",
    "print(\"recall_PAW_joint\", recall_Fatigue)\n",
    "print(\"\\n\")\n",
    "\n",
    "\n",
    "#### For marginal proba distribution\n",
    "recall_Pain = recall_score(predict_data[\"Next_Pain\"], prediction_marginal_df[\"Next_Pain_Pred\"], average = avg_type)\n",
    "print(\"recall_Pain_marginal\", recall_Pain)\n",
    "recall_Fatigue = recall_score(predict_data[\"Next_Fatigue\"], prediction_marginal_df[\"Next_Fatigue_Pred\"], average = avg_type)\n",
    "print(\"recall_Fatigue_marginal\", recall_Fatigue)\n",
    "recall_PAW = recall_score(prediction_marginal_df_dummy[\"Next_PAW\"], prediction_marginal_df_dummy[\"Next_PAW_Pred\"], average = avg_type)\n",
    "print(\"recall_PAW_joint\", recall_Fatigue)"
   ]
  },
  {
   "cell_type": "code",
   "execution_count": 1038,
   "metadata": {
    "ExecuteTime": {
     "end_time": "2020-03-30T11:13:25.257034Z",
     "start_time": "2020-03-30T11:13:25.227374Z"
    }
   },
   "outputs": [
    {
     "name": "stdout",
     "output_type": "stream",
     "text": [
      "accuracy_Pain_joint 0.6869158878504673\n",
      "accuracy_Fatigue_joint 0.6051401869158879\n",
      "accuracy_PAW_joint 0.6051401869158879\n",
      "\n",
      "\n",
      "accuracy_Pain_marginal 0.6752336448598131\n",
      "accuracy_Fatigue_marginal 0.6191588785046729\n",
      "accuracy_PAW_joint 0.6191588785046729\n"
     ]
    }
   ],
   "source": [
    "#Accuracy Score\n",
    "#### For joint proba distribution \n",
    "\n",
    "accuracy_Pain = accuracy_score(predict_data[\"Next_Pain\"], prediction_df[\"Next_Pain_Pred\"])\n",
    "print(\"accuracy_Pain_joint\", accuracy_Pain)\n",
    "accuracy_Fatigue = accuracy_score(predict_data[\"Next_Fatigue\"], prediction_df[\"Next_Fatigue_Pred\"])\n",
    "print(\"accuracy_Fatigue_joint\", accuracy_Fatigue)\n",
    "accuracy_PAW = accuracy_score(prediction_df_dummy[\"Next_PAW\"], prediction_df_dummy[\"Next_PAW_Pred\"])\n",
    "print(\"accuracy_PAW_joint\", accuracy_Fatigue)\n",
    "print(\"\\n\")\n",
    "\n",
    "\n",
    "#### For marginal proba distribution\n",
    "accuracy_Pain = accuracy_score(predict_data[\"Next_Pain\"], prediction_marginal_df[\"Next_Pain_Pred\"])\n",
    "print(\"accuracy_Pain_marginal\", accuracy_Pain)\n",
    "accuracy_Fatigue = accuracy_score(predict_data[\"Next_Fatigue\"], prediction_marginal_df[\"Next_Fatigue_Pred\"])\n",
    "print(\"accuracy_Fatigue_marginal\", accuracy_Fatigue)\n",
    "accuracy_PAW = accuracy_score(prediction_marginal_df_dummy[\"Next_PAW\"], prediction_marginal_df_dummy[\"Next_PAW_Pred\"])\n",
    "print(\"accuracy_PAW_joint\", accuracy_Fatigue)"
   ]
  },
  {
   "cell_type": "code",
   "execution_count": 1037,
   "metadata": {
    "ExecuteTime": {
     "end_time": "2020-03-30T11:13:24.524612Z",
     "start_time": "2020-03-30T11:13:24.491811Z"
    }
   },
   "outputs": [
    {
     "name": "stdout",
     "output_type": "stream",
     "text": [
      "balanced_accuracy_Pain_joint 0.5250121540791358\n",
      "balanced_accuracy_Fatigue_joint 0.5277075754235108\n",
      "balanced_accuracy_PAW_joint 0.5277075754235108\n",
      "\n",
      "\n",
      "balanced_accuracy_Pain_marginal 0.5426171336406371\n",
      "balanced_accuracy_Fatigue_marginal 0.5617155250554269\n",
      "balanced_accuracy_PAW_joint 0.5617155250554269\n"
     ]
    }
   ],
   "source": [
    "#Balanced Accuracy Score\n",
    "#### For joint proba distribution \n",
    "\n",
    "balanced_accuracy_Pain = balanced_accuracy_score(predict_data[\"Next_Pain\"], prediction_df[\"Next_Pain_Pred\"])\n",
    "print(\"balanced_accuracy_Pain_joint\", balanced_accuracy_Pain)\n",
    "balanced_accuracy_Fatigue = balanced_accuracy_score(predict_data[\"Next_Fatigue\"], prediction_df[\"Next_Fatigue_Pred\"])\n",
    "print(\"balanced_accuracy_Fatigue_joint\", balanced_accuracy_Fatigue)\n",
    "balanced_accuracy_PAW = balanced_accuracy_score(prediction_df_dummy[\"Next_PAW\"], prediction_df_dummy[\"Next_PAW_Pred\"])\n",
    "print(\"balanced_accuracy_PAW_joint\", balanced_accuracy_Fatigue)\n",
    "print(\"\\n\")\n",
    "\n",
    "\n",
    "#### For marginal proba distribution\n",
    "balanced_accuracy_Pain = balanced_accuracy_score(predict_data[\"Next_Pain\"], prediction_marginal_df[\"Next_Pain_Pred\"])\n",
    "print(\"balanced_accuracy_Pain_marginal\", balanced_accuracy_Pain)\n",
    "balanced_accuracy_Fatigue = balanced_accuracy_score(predict_data[\"Next_Fatigue\"], prediction_marginal_df[\"Next_Fatigue_Pred\"])\n",
    "print(\"balanced_accuracy_Fatigue_marginal\", balanced_accuracy_Fatigue)\n",
    "balanced_accuracy_PAW = balanced_accuracy_score(prediction_marginal_df_dummy[\"Next_PAW\"], prediction_marginal_df_dummy[\"Next_PAW_Pred\"])\n",
    "print(\"balanced_accuracy_PAW_joint\", balanced_accuracy_Fatigue)"
   ]
  },
  {
   "cell_type": "code",
   "execution_count": 769,
   "metadata": {
    "ExecuteTime": {
     "end_time": "2020-03-27T04:11:11.448051Z",
     "start_time": "2020-03-27T04:11:11.289322Z"
    }
   },
   "outputs": [],
   "source": [
    "#joint_proba_df, max_joint_proba, prediction = joint_proba_table(query)"
   ]
  },
  {
   "cell_type": "code",
   "execution_count": 772,
   "metadata": {
    "ExecuteTime": {
     "end_time": "2020-03-27T04:11:30.072708Z",
     "start_time": "2020-03-27T04:11:30.064795Z"
    }
   },
   "outputs": [
    {
     "data": {
      "text/plain": [
       "0.9978075729716751"
      ]
     },
     "execution_count": 772,
     "metadata": {},
     "output_type": "execute_result"
    }
   ],
   "source": [
    "#max_joint_proba"
   ]
  },
  {
   "cell_type": "code",
   "execution_count": 773,
   "metadata": {
    "ExecuteTime": {
     "end_time": "2020-03-27T04:12:28.587946Z",
     "start_time": "2020-03-27T04:12:28.580610Z"
    }
   },
   "outputs": [
    {
     "data": {
      "text/plain": [
       "{'pain': 'Not Recorded', 'fatigue': 'Not Recorded', 'paw': 'None'}"
      ]
     },
     "execution_count": 773,
     "metadata": {},
     "output_type": "execute_result"
    }
   ],
   "source": [
    "#prediction"
   ]
  },
  {
   "cell_type": "code",
   "execution_count": 690,
   "metadata": {
    "ExecuteTime": {
     "end_time": "2020-03-27T03:11:46.359019Z",
     "start_time": "2020-03-27T03:11:46.351014Z"
    }
   },
   "outputs": [
    {
     "data": {
      "text/plain": [
       "0.023083482010386944"
      ]
     },
     "execution_count": 690,
     "metadata": {},
     "output_type": "execute_result"
    }
   ],
   "source": [
    "#query.values[0, 1, 3]"
   ]
  },
  {
   "cell_type": "code",
   "execution_count": 633,
   "metadata": {
    "ExecuteTime": {
     "end_time": "2020-03-26T23:54:50.158354Z",
     "start_time": "2020-03-26T23:54:50.148890Z"
    }
   },
   "outputs": [],
   "source": [
    "#predict_data = data_new[3000:].copy()\n",
    "#predict_data.drop(['Next_Pain', 'Next_Fatigue', 'Next_PAW'], axis=1, inplace=True)"
   ]
  },
  {
   "cell_type": "code",
   "execution_count": 1006,
   "metadata": {
    "ExecuteTime": {
     "end_time": "2020-03-30T10:50:34.032622Z",
     "start_time": "2020-03-30T10:50:34.027934Z"
    }
   },
   "outputs": [],
   "source": [
    "#predict_data[:2].to_dict('index')"
   ]
  },
  {
   "cell_type": "code",
   "execution_count": 1007,
   "metadata": {
    "ExecuteTime": {
     "end_time": "2020-03-30T10:50:37.393304Z",
     "start_time": "2020-03-30T10:50:37.389295Z"
    }
   },
   "outputs": [],
   "source": [
    "#data_new.shape\n",
    "#predict_data[1:2].shape"
   ]
  },
  {
   "cell_type": "code",
   "execution_count": 1008,
   "metadata": {
    "ExecuteTime": {
     "end_time": "2020-03-30T10:50:40.118509Z",
     "start_time": "2020-03-30T10:50:40.114242Z"
    }
   },
   "outputs": [],
   "source": [
    "#y_pred = model.predict(predict_data)"
   ]
  },
  {
   "cell_type": "code",
   "execution_count": 1009,
   "metadata": {
    "ExecuteTime": {
     "end_time": "2020-03-30T10:50:42.565707Z",
     "start_time": "2020-03-30T10:50:42.561531Z"
    }
   },
   "outputs": [],
   "source": [
    "#y_pred"
   ]
  },
  {
   "cell_type": "code",
   "execution_count": 638,
   "metadata": {
    "ExecuteTime": {
     "end_time": "2020-03-27T00:16:18.753740Z",
     "start_time": "2020-03-26T23:56:42.512478Z"
    }
   },
   "outputs": [],
   "source": [
    "#y_prob = model.predict_probability(predict_data)"
   ]
  },
  {
   "cell_type": "code",
   "execution_count": 1010,
   "metadata": {
    "ExecuteTime": {
     "end_time": "2020-03-30T10:50:47.551564Z",
     "start_time": "2020-03-30T10:50:47.547284Z"
    }
   },
   "outputs": [],
   "source": [
    "#y_prob"
   ]
  }
 ],
 "metadata": {
  "hide_input": false,
  "kernelspec": {
   "display_name": "Python 3",
   "language": "python",
   "name": "python3"
  },
  "language_info": {
   "codemirror_mode": {
    "name": "ipython",
    "version": 3
   },
   "file_extension": ".py",
   "mimetype": "text/x-python",
   "name": "python",
   "nbconvert_exporter": "python",
   "pygments_lexer": "ipython3",
   "version": "3.7.6"
  }
 },
 "nbformat": 4,
 "nbformat_minor": 2
}
